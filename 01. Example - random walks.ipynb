{
 "cells": [
  {
   "cell_type": "markdown",
   "metadata": {},
   "source": [
    "# Features of Julia: Random walk"
   ]
  },
  {
   "cell_type": "markdown",
   "metadata": {},
   "source": [
    "An important model in science (biology, chemistry, physics, etc.) is Brownian motion, or random walk, a model of a molecule moving in a medium.\n",
    "\n",
    "As a first way to explore Julia and some of its features, we'll code the simplest version: a particle jumping in 1D on the integers. "
   ]
  },
  {
   "cell_type": "markdown",
   "metadata": {},
   "source": [
    "**Exercises**:\n",
    "\n",
    "**[1]** How does the `rand` function work? What options does it have?"
   ]
  },
  {
   "cell_type": "code",
   "execution_count": null,
   "metadata": {},
   "outputs": [],
   "source": [
    "rand"
   ]
  },
  {
   "cell_type": "markdown",
   "metadata": {},
   "source": [
    "**[2]** (i) Write a simple 1D random walk for a particle that starts at the origin and only visits the integers, jumping with probability $\\frac{1}{2}$ one step to the left and $\\frac{1}{2}$ one step to the right, in \"global scope\" (as you would in Matlab or Python).\n",
    "\n",
    "(ii) Time it for 10^7 steps with\n",
    "\n",
    "```@time begin \n",
    "    ... \n",
    "    end\n",
    "```"
   ]
  },
  {
   "cell_type": "code",
   "execution_count": null,
   "metadata": {},
   "outputs": [],
   "source": []
  },
  {
   "cell_type": "markdown",
   "metadata": {},
   "source": [
    "**[3]** (i) Wrap the code in a function `walk`; it is easy now to give the function an argument which is the final time (to allow for code re-use). The function should return the final position.\n",
    "\n",
    "(ii) But this is not the only reason for using functions in Julia: now time running the function, and time it again. What do you notice?\n",
    "\n",
    "(iii) Give the function a **docstring**, i.e. a string written just *before* the function definition that describes what the function does. You can use multi-line strings using `\"\"\"`."
   ]
  },
  {
   "cell_type": "code",
   "execution_count": null,
   "metadata": {},
   "outputs": [],
   "source": []
  },
  {
   "cell_type": "markdown",
   "metadata": {},
   "source": [
    "**[4]** Make a version of the function that stores the trajectory in a vector. In fact, there are (at least) two ways we could do so: pre-allocating the vector, or allowing it to grow. How do these compare in time?"
   ]
  },
  {
   "cell_type": "code",
   "execution_count": null,
   "metadata": {},
   "outputs": [],
   "source": []
  },
  {
   "cell_type": "markdown",
   "metadata": {},
   "source": [
    "**[5]** We could make a version that takes as second argument a flag, which tells us whether to calculate the trajectory or not. Does this affect the time?"
   ]
  },
  {
   "cell_type": "code",
   "execution_count": null,
   "metadata": {},
   "outputs": [],
   "source": []
  },
  {
   "cell_type": "markdown",
   "metadata": {},
   "source": [
    "## Visualization"
   ]
  },
  {
   "cell_type": "markdown",
   "metadata": {},
   "source": [
    "We would like to plot the trajectory $x(n)$ as a function of the time step $n$. \n",
    "\n",
    "The `Plots.jl` meta-package provides a common syntax to several different plotting package \"backends\"."
   ]
  },
  {
   "cell_type": "code",
   "execution_count": null,
   "metadata": {},
   "outputs": [],
   "source": [
    "# Pkg.add(\"Plots\")    # install the Plots.jl package if you don't already have it -- do once in your installation\n",
    "\n",
    "using Plots           # load the package in each session\n",
    "gr()   # choose the GR backend"
   ]
  },
  {
   "cell_type": "markdown",
   "metadata": {},
   "source": [
    "**[1]** Plot a single trajectory of the walker $x(n)$ as a function of $n$ using lines and squares. [The `plot` function takes a collection of $x$ coordinates and a collection of $y$ coordinates.] Add a horizontal dashed line at $x=0$."
   ]
  },
  {
   "cell_type": "code",
   "execution_count": null,
   "metadata": {},
   "outputs": [],
   "source": []
  },
  {
   "cell_type": "markdown",
   "metadata": {},
   "source": [
    "**[2]** Switch to the PlotlyJS backend using `plotlyjs()` and plot it again. What advantage does this backend have?"
   ]
  },
  {
   "cell_type": "code",
   "execution_count": null,
   "metadata": {},
   "outputs": [],
   "source": []
  },
  {
   "cell_type": "markdown",
   "metadata": {},
   "source": [
    "**[3]** Draw a few walks using a loop."
   ]
  },
  {
   "cell_type": "markdown",
   "metadata": {},
   "source": [
    "### Interactive manipulation"
   ]
  },
  {
   "cell_type": "markdown",
   "metadata": {},
   "source": [
    "If we want to explore the space of parameters `T` (maximum time of the walk) and `N` (number of walks), it would be nice to be able to manipulate them interactively.\n",
    "\n",
    "This may be done using `Interact.jl`."
   ]
  },
  {
   "cell_type": "code",
   "execution_count": null,
   "metadata": {},
   "outputs": [],
   "source": [
    "# Pkg.add(\"Interact\")\n",
    "\n",
    "using Interact"
   ]
  },
  {
   "cell_type": "markdown",
   "metadata": {},
   "source": [
    "**[4]** (i) `Interact.jl` provides a macro `@manipulate` that is written directly before a `for` loop.\n",
    "Experiment with it:"
   ]
  },
  {
   "cell_type": "code",
   "execution_count": null,
   "metadata": {},
   "outputs": [],
   "source": [
    "@manipulate for i in 1:10\n",
    "    i\n",
    "end"
   ]
  },
  {
   "cell_type": "markdown",
   "metadata": {},
   "source": [
    "Use it to manipulate the number of walks.\n",
    "The `for` loop should return the object that will be displayed, in this case the result of the `plot`.\n",
    "\n",
    "(ii) Now use it to manipulate a double `for` loop, with the syntax\n",
    "\n",
    "```\n",
    "@manipulate for x in 1:X, y in 1:Y\n",
    "  ...\n",
    "end\n",
    "```\n",
    "\n",
    "You will want to remove the plot legend/key with `leg=false`, and to fix the limits of the plot with keywords `xlim` and `ylim` or commands `xlims!` and `ylims!`."
   ]
  },
  {
   "cell_type": "markdown",
   "metadata": {},
   "source": [
    "## Collecting data"
   ]
  },
  {
   "cell_type": "markdown",
   "metadata": {},
   "source": [
    "Now that we have a feel for the behaviour of the system, let's collect some data in a few different ways, in order to calculate the variance of the positions of `N` walks after time `T`."
   ]
  },
  {
   "cell_type": "markdown",
   "metadata": {},
   "source": [
    "**[1]** (i) Write a function `walks` that calculates the variance of the final positions of `N` walks of length `T` each.\n",
    "\n",
    "(ii) Use `@time` to time the function for small `N` and `T`. Note that it is not very useful."
   ]
  },
  {
   "cell_type": "markdown",
   "metadata": {},
   "source": [
    "#### BenchmarkTools.jl"
   ]
  },
  {
   "cell_type": "markdown",
   "metadata": {},
   "source": [
    "**[2]** Instead, use the `BenchmarkTools.jl` package and the `@benchmark` or `@btime` macros."
   ]
  },
  {
   "cell_type": "markdown",
   "metadata": {
    "slideshow": {
     "slide_type": "subslide"
    }
   },
   "source": [
    "### Investigating different coding styles"
   ]
  },
  {
   "cell_type": "markdown",
   "metadata": {},
   "source": [
    "**[3]** First write a **generic** `walks` function that **takes a function as one of its arguments**."
   ]
  },
  {
   "cell_type": "code",
   "execution_count": null,
   "metadata": {},
   "outputs": [],
   "source": []
  },
  {
   "cell_type": "markdown",
   "metadata": {},
   "source": [
    "**[4]** Let's use the `walks` function to compare the efficiency of different coding styles for our `walk` function:\n",
    "\n",
    "(i) One that uses `rand(Bool)`.\n",
    "    \n",
    "(ii) One that uses Matlab(ish) vectorised syntax, using a vector of random numbers.\n",
    "\n",
    "(iii) One using **array comprehensions**, i.e. expressions of the form\n",
    "\n",
    "```\n",
    "[x for i in 1:10]\n",
    "```\n",
    "\n",
    "(iv) One using **generator expressions**, i.e. expressions of the form\n",
    "    \n",
    "```\n",
    "(x for i in 1:10)\n",
    "``` \n",
    "    \n",
    "What is the difference?"
   ]
  },
  {
   "cell_type": "markdown",
   "metadata": {},
   "source": [
    "**[5]** How could you generate the random $-1$ and $+1$ directly, using a range? Is it a good idea?"
   ]
  },
  {
   "cell_type": "markdown",
   "metadata": {},
   "source": [
    "**[6]** Use the function `bitrand`. How does it compare?"
   ]
  },
  {
   "cell_type": "markdown",
   "metadata": {},
   "source": [
    "Of course, it's (presumably) *possible* to do the above in C++, but it's certainly much *harder*. And in Python it will be much *slower*."
   ]
  },
  {
   "cell_type": "markdown",
   "metadata": {},
   "source": [
    "**[7]** **Bonus question** Compare the above timings to your (former) favourite programming language. There are C and Python versions in the `random_walk_in_other_languages` directory. I will add any implementations you send me there!"
   ]
  },
  {
   "cell_type": "markdown",
   "metadata": {
    "slideshow": {
     "slide_type": "subslide"
    }
   },
   "source": [
    "## Data analysis"
   ]
  },
  {
   "cell_type": "markdown",
   "metadata": {},
   "source": [
    "**[1]** Write a function to collect the final positions of `N` walks after time `T` in an array.\n",
    "\n",
    "**[2]** Make an interactive visualization of a normalised histogram using the `histogram` function in `Plots.jl`. "
   ]
  },
  {
   "cell_type": "markdown",
   "metadata": {},
   "source": [
    "[3] Let's compare this to the known analytical result: a normal distribution with variance equal to the number of steps.\n",
    "\n",
    "(i) Define the mean $\\mu$ and standard deviation $\\sigma$ using Unicode symbols, as `\\mu<TAB>` and `\\sigma<TAB>`.\n",
    "\n",
    "(ii) Load the `Distributions.jl` package.\n",
    "\n",
    "(iii) Compare the histogram with a transparent, filled PDF. Use the `pdf` function from `Distributions.jl`, and the `Normal` normal distribution object.\n",
    "\n",
    "(iv) Save the figure to a PDF using `savefig`."
   ]
  },
  {
   "cell_type": "markdown",
   "metadata": {},
   "source": [
    "## Write and read data to and from disk"
   ]
  },
  {
   "cell_type": "markdown",
   "metadata": {},
   "source": [
    "We wish to save the data we have calculated to a file on disk. The simplest solution is as follows.\n",
    "\n",
    "**[1]** (i) Use `writedlm` (\"write delimited\") to save the data.\n",
    "\n",
    "(ii) Use `readdlm` to load it back in."
   ]
  },
  {
   "cell_type": "markdown",
   "metadata": {},
   "source": [
    "Note that the format has changed. Although there are some options to `readdlm`, this is not a good solution to the problem."
   ]
  },
  {
   "cell_type": "markdown",
   "metadata": {},
   "source": [
    "The good solution is to use the `JLD2.jl` (\"JuLia Data\") package, which uses the standard HDF5 file format underneath. We will also save another variable for illustrative purposes."
   ]
  },
  {
   "cell_type": "code",
   "execution_count": null,
   "metadata": {},
   "outputs": [],
   "source": [
    "# Pkg.add(\"JLD2\")\n",
    "\n",
    "# install \n",
    "using JLD2"
   ]
  },
  {
   "cell_type": "code",
   "execution_count": null,
   "metadata": {},
   "outputs": [],
   "source": [
    "i = 17"
   ]
  },
  {
   "cell_type": "code",
   "execution_count": null,
   "metadata": {},
   "outputs": [],
   "source": [
    "@save \"random_walk.jld\" i"
   ]
  },
  {
   "cell_type": "code",
   "execution_count": null,
   "metadata": {},
   "outputs": [],
   "source": [
    "@load \"random_walk.jld\""
   ]
  },
  {
   "cell_type": "code",
   "execution_count": null,
   "metadata": {},
   "outputs": [],
   "source": [
    "# save(\"random_walk.jld\", \"final_pos\", data, \"arbitrary\", i)   # alternative"
   ]
  },
  {
   "cell_type": "code",
   "execution_count": null,
   "metadata": {},
   "outputs": [],
   "source": [
    "# all = load(\"random_walk.jld\")"
   ]
  },
  {
   "cell_type": "markdown",
   "metadata": {},
   "source": [
    "The data is read in as a **dictionary**, associating to each variable name its value. We can extract these as"
   ]
  },
  {
   "cell_type": "code",
   "execution_count": null,
   "metadata": {},
   "outputs": [],
   "source": [
    "j = all[\"arbitrary\"]"
   ]
  },
  {
   "cell_type": "markdown",
   "metadata": {},
   "source": [
    "Alternatively, we can *read only part of the data file*:"
   ]
  },
  {
   "cell_type": "code",
   "execution_count": null,
   "metadata": {},
   "outputs": [],
   "source": [
    "final_pos = load(\"random_walk.jld\", \"final_pos\");"
   ]
  },
  {
   "cell_type": "markdown",
   "metadata": {},
   "source": [
    "Note that the type of the data has now been correctly preserved. This is the point of using `JLD`. "
   ]
  },
  {
   "cell_type": "markdown",
   "metadata": {},
   "source": [
    "# Workflow: Extract code into a Julia script"
   ]
  },
  {
   "cell_type": "markdown",
   "metadata": {},
   "source": [
    "Since we have developed a quantity of code in this notebook, it is a good moment to extract the code into a Julia script file, with termination `.jl`, that we edit, e.g. with Juno.\n",
    "\n",
    "We can then read in the file as if we typed it with"
   ]
  },
  {
   "cell_type": "code",
   "execution_count": null,
   "metadata": {},
   "outputs": [],
   "source": [
    "include(\"walk.jl\")"
   ]
  },
  {
   "cell_type": "markdown",
   "metadata": {},
   "source": [
    "Note that Julia provides various commands for manipulating the filesystem:"
   ]
  },
  {
   "cell_type": "code",
   "execution_count": null,
   "metadata": {},
   "outputs": [],
   "source": [
    "pwd()"
   ]
  },
  {
   "cell_type": "code",
   "execution_count": null,
   "metadata": {},
   "outputs": [],
   "source": [
    "readdir()"
   ]
  },
  {
   "cell_type": "markdown",
   "metadata": {},
   "source": [
    "Later on, we would make it into a `module` (separate namespace) and then into a Julia pacakge."
   ]
  },
  {
   "cell_type": "markdown",
   "metadata": {
    "slideshow": {
     "slide_type": "subslide"
    }
   },
   "source": [
    "## Summary:\n",
    "\n",
    "- Julia allows us to calculate **fast**\n",
    "\n",
    "\n",
    "- **And** visualize, interactively, our data\n",
    "\n",
    "\n",
    "- All in one place"
   ]
  }
 ],
 "metadata": {
  "kernelspec": {
   "display_name": "Julia 0.6.2",
   "language": "julia",
   "name": "julia-0.6"
  },
  "language_info": {
   "file_extension": ".jl",
   "mimetype": "application/julia",
   "name": "julia",
   "version": "0.6.2"
  },
  "toc": {
   "colors": {
    "hover_highlight": "#DAA520",
    "running_highlight": "#FF0000",
    "selected_highlight": "#FFD700"
   },
   "moveMenuLeft": true,
   "nav_menu": {
    "height": "12px",
    "width": "252px"
   },
   "navigate_menu": true,
   "number_sections": true,
   "sideBar": true,
   "threshold": "2",
   "toc_cell": false,
   "toc_section_display": "block",
   "toc_window_display": false
  }
 },
 "nbformat": 4,
 "nbformat_minor": 2
}
