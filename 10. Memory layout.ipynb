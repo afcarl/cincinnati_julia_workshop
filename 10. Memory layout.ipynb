{
 "cells": [
  {
   "cell_type": "markdown",
   "metadata": {},
   "source": [
    "# Use immutables for efficiency"
   ]
  },
  {
   "cell_type": "markdown",
   "metadata": {
    "collapsed": true
   },
   "source": [
    "Memory hierarchy crash course:\n",
    "\n",
    "1. When CPU runs an instruction it operates on things in the registers. There are very few of these in a computer, these are the %1s and %2s when you run @code_llvm. If something is not in the CPU registers, the CPU needs to fetch the data from memory; this is **slow**.\n",
    "\n",
    "2. The CPU first looks at L1 cache, then L2 cache then Main memory and then Swap space - L1, L2 caches are still small (order of megabytes), but hitting them often will give orders of magnitude performance gain as compared to hitting main memory that often\n",
    "\n",
    "3. The computer optimistically brings things from main memory into the caches when you access a chunk of data. Hence if you access data that is contiguous in memory, they all get asynchronously brought into the cache and your program will be really fast."
   ]
  },
  {
   "cell_type": "markdown",
   "metadata": {},
   "source": [
    "## Memory layout of an array of `mutable struct` objects"
   ]
  },
  {
   "cell_type": "code",
   "execution_count": null,
   "metadata": {},
   "outputs": [],
   "source": [
    "abstract type TestType end"
   ]
  },
  {
   "cell_type": "code",
   "execution_count": null,
   "metadata": {},
   "outputs": [],
   "source": [
    "mutable struct Typ <: TestType\n",
    "    x::Int16\n",
    "    y::Int16\n",
    "end"
   ]
  },
  {
   "cell_type": "code",
   "execution_count": null,
   "metadata": {},
   "outputs": [],
   "source": [
    "Base.:+{T<:TestType}(a::T, b::T) = T(a.x+b.x, a.y+b.y)"
   ]
  },
  {
   "cell_type": "code",
   "execution_count": null,
   "metadata": {},
   "outputs": [],
   "source": [
    "Typ(2,2) + Typ(4,4)"
   ]
  },
  {
   "cell_type": "markdown",
   "metadata": {},
   "source": [
    "The size of `Typ` is 4 bytes:"
   ]
  },
  {
   "cell_type": "code",
   "execution_count": null,
   "metadata": {},
   "outputs": [],
   "source": [
    "sizeof(Typ(2,2))"
   ]
  },
  {
   "cell_type": "code",
   "execution_count": null,
   "metadata": {},
   "outputs": [],
   "source": [
    "@time typ_arr = [Typ(i%127,i%127) for i=1:10^6];"
   ]
  },
  {
   "cell_type": "markdown",
   "metadata": {},
   "source": [
    "Notice the allocation. Also, this array is 2x bigger than it should be:"
   ]
  },
  {
   "cell_type": "code",
   "execution_count": null,
   "metadata": {},
   "outputs": [],
   "source": [
    "sizeof(typ_arr)"
   ]
  },
  {
   "cell_type": "code",
   "execution_count": null,
   "metadata": {},
   "outputs": [],
   "source": [
    "sizeof(typ_arr) / 10^6 # bytes per object"
   ]
  },
  {
   "cell_type": "markdown",
   "metadata": {},
   "source": [
    "This is because mutable objects are **passed by reference**; the objects are being \"boxed\"."
   ]
  },
  {
   "cell_type": "markdown",
   "metadata": {},
   "source": [
    "This is to make the following possible:"
   ]
  },
  {
   "cell_type": "code",
   "execution_count": null,
   "metadata": {},
   "outputs": [],
   "source": [
    "function someone_else_doing_something_else(a::Typ)\n",
    "    a.x = 42\n",
    "end\n",
    "\n",
    "someone_else_doing_something_else(typ_arr[3])\n",
    "typ_arr[3]"
   ]
  },
  {
   "cell_type": "markdown",
   "metadata": {},
   "source": [
    "Sum could also have been much more efficient...."
   ]
  },
  {
   "cell_type": "code",
   "execution_count": null,
   "metadata": {},
   "outputs": [],
   "source": [
    "@time sum(typ_arr)"
   ]
  },
  {
   "cell_type": "markdown",
   "metadata": {},
   "source": [
    "## Memory layout of an array of (immutable) `struct`s"
   ]
  },
  {
   "cell_type": "code",
   "execution_count": null,
   "metadata": {},
   "outputs": [],
   "source": [
    "struct Imm <: TestType\n",
    "    x::Int16\n",
    "    y::Int16\n",
    "end"
   ]
  },
  {
   "cell_type": "code",
   "execution_count": null,
   "metadata": {},
   "outputs": [],
   "source": [
    "sizeof(Imm(2,2))"
   ]
  },
  {
   "cell_type": "code",
   "execution_count": null,
   "metadata": {},
   "outputs": [],
   "source": [
    "@time imm_arr = [Imm(i%127, i%127) for i=1:10^6];"
   ]
  },
  {
   "cell_type": "code",
   "execution_count": null,
   "metadata": {},
   "outputs": [],
   "source": [
    "sizeof(imm_arr)"
   ]
  },
  {
   "cell_type": "markdown",
   "metadata": {},
   "source": [
    "This seems correct! Since immutables can never be changed, their value _is_ their identity, and the compiler can **pass them by value**. [But it does not necessarily.]"
   ]
  },
  {
   "cell_type": "code",
   "execution_count": null,
   "metadata": {},
   "outputs": [],
   "source": [
    "Base.:+(a::Imm, b::Imm) = Imm(a.x+b.x, a.y+b.y)"
   ]
  },
  {
   "cell_type": "code",
   "execution_count": null,
   "metadata": {},
   "outputs": [],
   "source": [
    "@time sum(typ_arr)"
   ]
  },
  {
   "cell_type": "markdown",
   "metadata": {},
   "source": [
    "The allocation is the same as adding Float *values*"
   ]
  },
  {
   "cell_type": "code",
   "execution_count": null,
   "metadata": {},
   "outputs": [],
   "source": [
    "x = rand(10^6)\n",
    "\n",
    "@time sum(x)"
   ]
  },
  {
   "cell_type": "markdown",
   "metadata": {},
   "source": [
    "The compiler can do this optimization because it knows someone else won't be changing the insides of the `Imm` object:"
   ]
  },
  {
   "cell_type": "code",
   "execution_count": null,
   "metadata": {},
   "outputs": [],
   "source": [
    "function someone_else_doing_something_else(a::Imm)\n",
    "    a.x = 42 # This is not allowed!!\n",
    "end\n",
    "\n",
    "someone_else_doing_something_else(imm_arr[3])"
   ]
  },
  {
   "cell_type": "markdown",
   "metadata": {},
   "source": [
    "If you don't know the type of the insides of an immutable type, you can add a type parameter; e.g."
   ]
  },
  {
   "cell_type": "code",
   "execution_count": null,
   "metadata": {},
   "outputs": [],
   "source": [
    "immutable ImmParam{T} <: TestType\n",
    "    x::T\n",
    "    y::T\n",
    "end"
   ]
  },
  {
   "cell_type": "code",
   "execution_count": null,
   "metadata": {},
   "outputs": [],
   "source": [
    "sizeof(ImmParam{Int128}) # sizeof also works on the "
   ]
  },
  {
   "cell_type": "code",
   "execution_count": null,
   "metadata": {},
   "outputs": [],
   "source": [
    "sizeof(ImmParam{Int8})"
   ]
  },
  {
   "cell_type": "code",
   "execution_count": null,
   "metadata": {},
   "outputs": [],
   "source": [
    "ImmParam{Int8} == ImmParam{Int64}"
   ]
  },
  {
   "cell_type": "code",
   "execution_count": null,
   "metadata": {},
   "outputs": [],
   "source": [
    "ImmParam(1.0, 2.0) # Julia automatically infers this"
   ]
  },
  {
   "cell_type": "code",
   "execution_count": null,
   "metadata": {},
   "outputs": [],
   "source": [
    "ImmParam(1,2)"
   ]
  },
  {
   "cell_type": "code",
   "execution_count": null,
   "metadata": {},
   "outputs": [],
   "source": [
    "ImmParam(1.0,2)"
   ]
  },
  {
   "cell_type": "markdown",
   "metadata": {},
   "source": [
    "### And it is aligned tightly!"
   ]
  },
  {
   "cell_type": "code",
   "execution_count": null,
   "metadata": {},
   "outputs": [],
   "source": [
    "@time imm_par_array_int16 = [ImmParam{Int16}(2,3) for i = 1:10^6];"
   ]
  },
  {
   "cell_type": "code",
   "execution_count": null,
   "metadata": {},
   "outputs": [],
   "source": [
    "sizeof(imm_par_array_int16)"
   ]
  },
  {
   "cell_type": "code",
   "execution_count": null,
   "metadata": {},
   "outputs": [],
   "source": [
    "@time imm_par_array_int8 = [ImmParam{Int8}(2,3) for i = 1:10^6];"
   ]
  },
  {
   "cell_type": "code",
   "execution_count": null,
   "metadata": {},
   "outputs": [],
   "source": [
    "sizeof(imm_par_array_int8)"
   ]
  },
  {
   "cell_type": "code",
   "execution_count": null,
   "metadata": {},
   "outputs": [],
   "source": [
    "@time imm_par_array_cplx = [ImmParam(2+3im,3+2im) for i = 1:10^6];"
   ]
  },
  {
   "cell_type": "code",
   "execution_count": null,
   "metadata": {},
   "outputs": [],
   "source": [
    "sizeof(imm_par_array_cplx)"
   ]
  },
  {
   "cell_type": "code",
   "execution_count": null,
   "metadata": {},
   "outputs": [],
   "source": [
    "Base.:+(a::ImmParam, b::ImmParam) = ImmParam(a.x+b.x, a.y+b.y)"
   ]
  },
  {
   "cell_type": "code",
   "execution_count": null,
   "metadata": {},
   "outputs": [],
   "source": [
    "@time sum(imm_par_array_cplx)"
   ]
  },
  {
   "cell_type": "code",
   "execution_count": null,
   "metadata": {},
   "outputs": [],
   "source": [
    "using Interact"
   ]
  },
  {
   "cell_type": "code",
   "execution_count": null,
   "metadata": {},
   "outputs": [],
   "source": [
    "type TypParam{T} <: TestType\n",
    "    x::T\n",
    "    y::T\n",
    "end"
   ]
  },
  {
   "cell_type": "code",
   "execution_count": null,
   "metadata": {},
   "outputs": [],
   "source": [
    "@manipulate for param = [Int8,Int16,Int32,Int64,Float16,Float32,Float64], complex=true\n",
    "    T = complex ? Complex{param} : param\n",
    "    a = zero(T)\n",
    "    b = one(T)\n",
    "\n",
    "    gc()  \n",
    "    local arr,t_create,arr_t,t_create_t,t_sum,t_sum_t\n",
    "\n",
    "    alloc_create = @allocated begin\n",
    "        t_create = @elapsed begin\n",
    "            arr = [ImmParam(a,b) for i=1:10^6]\n",
    "        end\n",
    "    end\n",
    "\n",
    "    alloc_create_t = @allocated begin\n",
    "        t_create_t = @elapsed begin\n",
    "            arr_t = [TypParam(a,b) for i=1:10^6]\n",
    "        end\n",
    "    end\n",
    "\n",
    "    gc()\n",
    "    \n",
    "    alloc_sum = @allocated begin\n",
    "        t_sum = @elapsed begin\n",
    "            s = sum(arr)\n",
    "        end\n",
    "    end/10^6\n",
    "\n",
    "    alloc_sum_t = @allocated begin\n",
    "        t_sum_t = @elapsed begin\n",
    "            s_t = sum(arr_t)\n",
    "        end\n",
    "    end/10^6\n",
    "    HTML(\"<table><tbody>\n",
    "        <thead>\n",
    "        <tr>\n",
    "            <th colspan=4>mutable</th> \n",
    "            <th colspan=4>immutable</th>\n",
    "        </tr>\n",
    "        <tr>\n",
    "            <th colspan=2>create</th> \n",
    "            <th colspan=2>sum</th>\n",
    "            <th colspan=2>create</th> \n",
    "            <th colspan=2>sum</th>\n",
    "        </tr>\n",
    "        <tr>\n",
    "            <th>time</th>\n",
    "            <th>memory</th>\n",
    "            <th>time</th>\n",
    "            <th>memory</th>\n",
    "            <th>time</th>\n",
    "            <th>memory</th>\n",
    "            <th>time</th>\n",
    "            <th>memory</th>\n",
    "        </tr>\n",
    "        </thead>\n",
    "        <tr>\n",
    "            <td>$t_create</td>\n",
    "            <td>$alloc_create</td>\n",
    "            <td>$t_sum</td>\n",
    "            <td>$alloc_sum</td>\n",
    "            <td>$t_create_t</td>\n",
    "            <td>$alloc_create_t</td>\n",
    "            <td>$t_sum_t</td>\n",
    "            <td>$alloc_sum_t</td>\n",
    "        </tr>\n",
    "        </tbody></table>\")\n",
    "end"
   ]
  },
  {
   "cell_type": "markdown",
   "metadata": {},
   "source": [
    "## But be careful: vectors of heterogeneous types force boxing!"
   ]
  },
  {
   "cell_type": "code",
   "execution_count": null,
   "metadata": {},
   "outputs": [],
   "source": [
    "[\"xyzabc\", 1+2im, 1, 1.0]"
   ]
  },
  {
   "cell_type": "code",
   "execution_count": null,
   "metadata": {},
   "outputs": [],
   "source": [
    "[ImmParam(UInt8(1),UInt8(1)), ImmParam(1.0,1.0)] |> sizeof"
   ]
  },
  {
   "cell_type": "code",
   "execution_count": null,
   "metadata": {},
   "outputs": [],
   "source": [
    "@time heter_arr = [i%2 == 0 ? ImmParam(UInt8(1),UInt8(1)) : ImmParam(1.0,1.0) for i = 1:10^6]"
   ]
  },
  {
   "cell_type": "code",
   "execution_count": null,
   "metadata": {},
   "outputs": [],
   "source": [
    "@time sum(heter_arr)"
   ]
  },
  {
   "cell_type": "markdown",
   "metadata": {},
   "source": [
    "## Summary\n",
    "\n",
    "- Use immutables wherever you consider something to be a *value*. Use type when something is a *state*.\n",
    "- Never create a large array of mutable objects! Each one is heap-allocated, this kills performance and gives the GC a hard time.\n",
    "- Parameterize if you need to change types\n",
    "- In the wizard's own words: http://julialang.org/blog/2013/03/efficient-aggregates"
   ]
  },
  {
   "cell_type": "markdown",
   "metadata": {},
   "source": [
    "## New packages that eliminate some of the drudgery"
   ]
  },
  {
   "cell_type": "markdown",
   "metadata": {},
   "source": [
    "There are now packages available which allow us to get round some of these problems, e.g. https://github.com/tkoolen/TypeSortedCollections.jl\n",
    "\n",
    "This automatically splits up a heterogeneous collection into a sequence of homogeneous collections, and provides a nice interface so that we do not have to the book-keeping ourselves."
   ]
  }
 ],
 "metadata": {
  "anaconda-cloud": {},
  "kernelspec": {
   "display_name": "Julia 0.6.2",
   "language": "julia",
   "name": "julia-0.6"
  },
  "language_info": {
   "file_extension": ".jl",
   "mimetype": "application/julia",
   "name": "julia",
   "version": "0.6.2"
  },
  "toc": {
   "colors": {
    "hover_highlight": "#DAA520",
    "running_highlight": "#FF0000",
    "selected_highlight": "#FFD700"
   },
   "moveMenuLeft": true,
   "nav_menu": {
    "height": "121px",
    "width": "252px"
   },
   "navigate_menu": true,
   "number_sections": true,
   "sideBar": true,
   "threshold": "2",
   "toc_cell": false,
   "toc_section_display": "block",
   "toc_window_display": false
  }
 },
 "nbformat": 4,
 "nbformat_minor": 2
}
