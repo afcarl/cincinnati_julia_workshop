{
 "cells": [
  {
   "cell_type": "markdown",
   "metadata": {},
   "source": [
    "# Arrays and views"
   ]
  },
  {
   "cell_type": "markdown",
   "metadata": {},
   "source": [
    "Julia has excellent functionality for manipulating $N$-dimensional arrays. We will have a quick look at this subject (which is more complicated than you might suspect). \n",
    "\n",
    "Note that in Julia 0.7 there are significant changes, especially to how transposes work, and how different types of manipulations of arrays look."
   ]
  },
  {
   "cell_type": "markdown",
   "metadata": {},
   "source": [
    "Let's define a $3 \\times 3$ array (matrix):"
   ]
  },
  {
   "cell_type": "code",
   "execution_count": 1,
   "metadata": {},
   "outputs": [
    {
     "data": {
      "text/plain": [
       "3×3 Array{Int64,2}:\n",
       " 1  2  3\n",
       " 4  5  6\n",
       " 7  8  9"
      ]
     },
     "execution_count": 1,
     "metadata": {},
     "output_type": "execute_result"
    }
   ],
   "source": [
    "M = [1 2 3; 4 5 6; 7 8 9]  # a 3x3 matrix"
   ]
  },
  {
   "cell_type": "code",
   "execution_count": 2,
   "metadata": {},
   "outputs": [
    {
     "data": {
      "text/plain": [
       "10×10 Array{Float64,2}:\n",
       " 0.0  0.0  0.0  0.0  0.0  0.0  0.0  0.0  0.0  0.0\n",
       " 0.0  0.0  0.0  0.0  0.0  0.0  0.0  0.0  0.0  0.0\n",
       " 0.0  0.0  0.0  0.0  0.0  0.0  0.0  0.0  0.0  0.0\n",
       " 0.0  0.0  0.0  0.0  0.0  0.0  0.0  0.0  0.0  0.0\n",
       " 0.0  0.0  0.0  0.0  0.0  0.0  0.0  0.0  0.0  0.0\n",
       " 0.0  0.0  0.0  0.0  0.0  0.0  0.0  0.0  0.0  0.0\n",
       " 0.0  0.0  0.0  0.0  0.0  0.0  0.0  0.0  0.0  0.0\n",
       " 0.0  0.0  0.0  0.0  0.0  0.0  0.0  0.0  0.0  0.0\n",
       " 0.0  0.0  0.0  0.0  0.0  0.0  0.0  0.0  0.0  0.0\n",
       " 0.0  0.0  0.0  0.0  0.0  0.0  0.0  0.0  0.0  0.0"
      ]
     },
     "execution_count": 2,
     "metadata": {},
     "output_type": "execute_result"
    }
   ],
   "source": [
    "M2 = zeros(10, 10)"
   ]
  },
  {
   "cell_type": "code",
   "execution_count": null,
   "metadata": {},
   "outputs": [],
   "source": [
    "typeof(M)"
   ]
  },
  {
   "cell_type": "markdown",
   "metadata": {},
   "source": [
    "We can extract part of the matrix using indexing notation:"
   ]
  },
  {
   "cell_type": "code",
   "execution_count": 3,
   "metadata": {},
   "outputs": [
    {
     "data": {
      "text/plain": [
       "2×2 Array{Int64,2}:\n",
       " 4  5\n",
       " 7  8"
      ]
     },
     "execution_count": 3,
     "metadata": {},
     "output_type": "execute_result"
    }
   ],
   "source": [
    "part = M[2:3, 1:2]"
   ]
  },
  {
   "cell_type": "markdown",
   "metadata": {},
   "source": [
    "What happens if we modify `part`?"
   ]
  },
  {
   "cell_type": "code",
   "execution_count": 4,
   "metadata": {},
   "outputs": [
    {
     "data": {
      "text/plain": [
       "4"
      ]
     },
     "execution_count": 4,
     "metadata": {},
     "output_type": "execute_result"
    }
   ],
   "source": [
    "part[1, 1]"
   ]
  },
  {
   "cell_type": "code",
   "execution_count": 5,
   "metadata": {},
   "outputs": [
    {
     "data": {
      "text/plain": [
       "10"
      ]
     },
     "execution_count": 5,
     "metadata": {},
     "output_type": "execute_result"
    }
   ],
   "source": [
    "part[1, 1] = 10"
   ]
  },
  {
   "cell_type": "code",
   "execution_count": 6,
   "metadata": {},
   "outputs": [
    {
     "data": {
      "text/plain": [
       "2×2 Array{Int64,2}:\n",
       " 10  5\n",
       "  7  8"
      ]
     },
     "execution_count": 6,
     "metadata": {},
     "output_type": "execute_result"
    }
   ],
   "source": [
    "part"
   ]
  },
  {
   "cell_type": "code",
   "execution_count": 7,
   "metadata": {},
   "outputs": [
    {
     "data": {
      "text/plain": [
       "3×3 Array{Int64,2}:\n",
       " 1  2  3\n",
       " 4  5  6\n",
       " 7  8  9"
      ]
     },
     "execution_count": 7,
     "metadata": {},
     "output_type": "execute_result"
    }
   ],
   "source": [
    "M"
   ]
  },
  {
   "cell_type": "markdown",
   "metadata": {},
   "source": [
    "We see that `M` has *not* been modified; that means that `part` was a **copy** of that part of `M`."
   ]
  },
  {
   "cell_type": "markdown",
   "metadata": {},
   "source": [
    "## Views"
   ]
  },
  {
   "cell_type": "markdown",
   "metadata": {},
   "source": [
    "We often do *not* want a copy, but rather just a reference to the same data, which is called a `view`: "
   ]
  },
  {
   "cell_type": "code",
   "execution_count": 8,
   "metadata": {},
   "outputs": [
    {
     "data": {
      "text/plain": [
       "2×2 SubArray{Int64,2,Array{Int64,2},Tuple{UnitRange{Int64},UnitRange{Int64}},false}:\n",
       " 4  5\n",
       " 7  8"
      ]
     },
     "execution_count": 8,
     "metadata": {},
     "output_type": "execute_result"
    }
   ],
   "source": [
    "V = view(M, 2:3, 1:2)"
   ]
  },
  {
   "cell_type": "code",
   "execution_count": null,
   "metadata": {},
   "outputs": [],
   "source": [
    "typeof(V)"
   ]
  },
  {
   "cell_type": "markdown",
   "metadata": {},
   "source": [
    "Although this type looks (and is) somewhat complicated, it just contains the necessary information for the object to manipulate correctly the underlying data. To decompose this type expression, see the array types notebook."
   ]
  },
  {
   "cell_type": "code",
   "execution_count": null,
   "metadata": {},
   "outputs": [],
   "source": [
    "V isa AbstractArray"
   ]
  },
  {
   "cell_type": "code",
   "execution_count": null,
   "metadata": {},
   "outputs": [],
   "source": [
    "subtypes(AbstractArray)  # behave like a generalized Array"
   ]
  },
  {
   "cell_type": "markdown",
   "metadata": {},
   "source": [
    "If we modify `V`, then `M` also gets modified, since it is the same data:"
   ]
  },
  {
   "cell_type": "code",
   "execution_count": null,
   "metadata": {},
   "outputs": [],
   "source": [
    "V"
   ]
  },
  {
   "cell_type": "code",
   "execution_count": null,
   "metadata": {},
   "outputs": [],
   "source": [
    "show(V)"
   ]
  },
  {
   "cell_type": "code",
   "execution_count": 9,
   "metadata": {},
   "outputs": [
    {
     "data": {
      "text/plain": [
       "4"
      ]
     },
     "execution_count": 9,
     "metadata": {},
     "output_type": "execute_result"
    }
   ],
   "source": [
    "V[1, 1]"
   ]
  },
  {
   "cell_type": "code",
   "execution_count": 10,
   "metadata": {},
   "outputs": [
    {
     "data": {
      "text/plain": [
       "2×2 SubArray{Int64,2,Array{Int64,2},Tuple{UnitRange{Int64},UnitRange{Int64}},false}:\n",
       " 4  5\n",
       " 7  8"
      ]
     },
     "execution_count": 10,
     "metadata": {},
     "output_type": "execute_result"
    }
   ],
   "source": [
    "V"
   ]
  },
  {
   "cell_type": "code",
   "execution_count": 11,
   "metadata": {},
   "outputs": [
    {
     "data": {
      "text/plain": [
       "100"
      ]
     },
     "execution_count": 11,
     "metadata": {},
     "output_type": "execute_result"
    }
   ],
   "source": [
    "V[1, 1] = 100"
   ]
  },
  {
   "cell_type": "code",
   "execution_count": 12,
   "metadata": {},
   "outputs": [
    {
     "data": {
      "text/plain": [
       "2×2 SubArray{Int64,2,Array{Int64,2},Tuple{UnitRange{Int64},UnitRange{Int64}},false}:\n",
       " 100  5\n",
       "   7  8"
      ]
     },
     "execution_count": 12,
     "metadata": {},
     "output_type": "execute_result"
    }
   ],
   "source": [
    "V"
   ]
  },
  {
   "cell_type": "code",
   "execution_count": 13,
   "metadata": {},
   "outputs": [
    {
     "data": {
      "text/plain": [
       "3×3 Array{Int64,2}:\n",
       "   1  2  3\n",
       " 100  5  6\n",
       "   7  8  9"
      ]
     },
     "execution_count": 13,
     "metadata": {},
     "output_type": "execute_result"
    }
   ],
   "source": [
    "M"
   ]
  },
  {
   "cell_type": "markdown",
   "metadata": {},
   "source": [
    "If we have a complicated expression, we can use the `@view` macro to make the syntax nicer; this turns an indexing operation into the corresponding `view`:"
   ]
  },
  {
   "cell_type": "code",
   "execution_count": 14,
   "metadata": {},
   "outputs": [
    {
     "data": {
      "text/plain": [
       "2×2 SubArray{Int64,2,Array{Int64,2},Tuple{UnitRange{Int64},UnitRange{Int64}},false}:\n",
       " 100  5\n",
       "   7  8"
      ]
     },
     "execution_count": 14,
     "metadata": {},
     "output_type": "execute_result"
    }
   ],
   "source": [
    "V2 = @view M[2:3, 1:2]"
   ]
  },
  {
   "cell_type": "code",
   "execution_count": 15,
   "metadata": {},
   "outputs": [
    {
     "data": {
      "text/plain": [
       "-1"
      ]
     },
     "execution_count": 15,
     "metadata": {},
     "output_type": "execute_result"
    }
   ],
   "source": [
    "V2[2, 1] = -1"
   ]
  },
  {
   "cell_type": "code",
   "execution_count": 16,
   "metadata": {},
   "outputs": [
    {
     "data": {
      "text/plain": [
       "3×3 Array{Int64,2}:\n",
       "   1  2  3\n",
       " 100  5  6\n",
       "  -1  8  9"
      ]
     },
     "execution_count": 16,
     "metadata": {},
     "output_type": "execute_result"
    }
   ],
   "source": [
    "M"
   ]
  },
  {
   "cell_type": "markdown",
   "metadata": {},
   "source": [
    "To turn every indexing operation in a block of code into a view, use `@views`."
   ]
  },
  {
   "cell_type": "markdown",
   "metadata": {},
   "source": [
    "## In-place and vectorized operations: \"`.`\" (\"pointwise\")"
   ]
  },
  {
   "cell_type": "markdown",
   "metadata": {},
   "source": [
    "Suppose we have two matrices and wish to add one to the other:"
   ]
  },
  {
   "cell_type": "code",
   "execution_count": 17,
   "metadata": {},
   "outputs": [],
   "source": [
    "N = 10\n",
    "A = rand(N, N)\n",
    "B = rand(N, N);"
   ]
  },
  {
   "cell_type": "code",
   "execution_count": 18,
   "metadata": {},
   "outputs": [
    {
     "data": {
      "text/plain": [
       "10×10 Array{Float64,2}:\n",
       " 0.940558   0.511221     0.589263     …  0.733864  0.288038   0.278856\n",
       " 0.71302    0.000712072  0.071074        0.238767  0.1266     0.658453\n",
       " 0.857103   0.582837     0.000572778     0.336562  0.262184   0.487623\n",
       " 0.0999008  0.234913     0.0517096       0.108577  0.358644   0.706009\n",
       " 0.897085   0.830347     0.520947        0.199525  0.261288   0.827817\n",
       " 0.416307   0.149185     0.87108      …  0.806895  0.0271634  0.916133\n",
       " 0.65622    0.541364     0.530482        0.417788  0.211856   0.692344\n",
       " 0.537186   0.794077     0.55571         0.79291   0.881025   0.634474\n",
       " 0.71468    0.291606     0.651847        0.264406  0.288952   0.514322\n",
       " 0.928955   0.434726     0.917389        0.161331  0.603198   0.722057"
      ]
     },
     "execution_count": 18,
     "metadata": {},
     "output_type": "execute_result"
    }
   ],
   "source": [
    "B"
   ]
  },
  {
   "cell_type": "markdown",
   "metadata": {},
   "source": [
    "Coming from other languages, we might expect to be able to write `A += B`, and indeed this works:"
   ]
  },
  {
   "cell_type": "code",
   "execution_count": 19,
   "metadata": {},
   "outputs": [
    {
     "data": {
      "text/plain": [
       "10×10 Array{Float64,2}:\n",
       " 1.93906   0.69086   1.48187   0.892602  …  1.38183   1.16699    0.898903\n",
       " 1.20256   0.704084  0.423812  1.65872      0.849729  1.06365    0.814794\n",
       " 1.38007   0.754468  0.122831  1.23566      0.375462  0.816591   1.04813 \n",
       " 0.730539  0.314742  0.626422  1.27637      0.917084  0.420845   1.55054 \n",
       " 1.31825   1.53193   0.833262  1.25407      1.10284   0.329601   1.29482 \n",
       " 1.30103   1.09783   1.75681   0.404778  …  1.13973   0.0990398  1.47171 \n",
       " 1.36414   1.10006   1.05532   1.50767      1.33133   0.290842   1.32058 \n",
       " 0.594179  1.51431   0.643904  0.827423     1.52021   1.48067    1.44417 \n",
       " 0.871395  0.307144  0.826177  0.928432     1.03496   0.57245    1.43347 \n",
       " 1.8059    0.732801  1.26973   0.879367     0.597694  1.26294    0.910311"
      ]
     },
     "execution_count": 19,
     "metadata": {},
     "output_type": "execute_result"
    }
   ],
   "source": [
    "A += B   # A = A + B"
   ]
  },
  {
   "cell_type": "code",
   "execution_count": 20,
   "metadata": {},
   "outputs": [
    {
     "data": {
      "text/plain": [
       "10×10 Array{Float64,2}:\n",
       " 1.93906   0.69086   1.48187   0.892602  …  1.38183   1.16699    0.898903\n",
       " 1.20256   0.704084  0.423812  1.65872      0.849729  1.06365    0.814794\n",
       " 1.38007   0.754468  0.122831  1.23566      0.375462  0.816591   1.04813 \n",
       " 0.730539  0.314742  0.626422  1.27637      0.917084  0.420845   1.55054 \n",
       " 1.31825   1.53193   0.833262  1.25407      1.10284   0.329601   1.29482 \n",
       " 1.30103   1.09783   1.75681   0.404778  …  1.13973   0.0990398  1.47171 \n",
       " 1.36414   1.10006   1.05532   1.50767      1.33133   0.290842   1.32058 \n",
       " 0.594179  1.51431   0.643904  0.827423     1.52021   1.48067    1.44417 \n",
       " 0.871395  0.307144  0.826177  0.928432     1.03496   0.57245    1.43347 \n",
       " 1.8059    0.732801  1.26973   0.879367     0.597694  1.26294    0.910311"
      ]
     },
     "execution_count": 20,
     "metadata": {},
     "output_type": "execute_result"
    }
   ],
   "source": [
    "A"
   ]
  },
  {
   "cell_type": "code",
   "execution_count": null,
   "metadata": {},
   "outputs": [],
   "source": [
    "expand(:(A += B))"
   ]
  },
  {
   "cell_type": "markdown",
   "metadata": {},
   "source": [
    "We see that this is just \"syntactic sugar\" (i.e. a cute way of writing) `A = A + B`."
   ]
  },
  {
   "cell_type": "markdown",
   "metadata": {},
   "source": [
    "However, it turns out that this does not do what you might think it does, namely \"in-place addition\", in which each element of `A` is updated in place. Rather, it allocates a new temporary object for the result of `A + B`. We can see this:"
   ]
  },
  {
   "cell_type": "code",
   "execution_count": 21,
   "metadata": {},
   "outputs": [
    {
     "name": "stderr",
     "output_type": "stream",
     "text": [
      "\u001b[1m\u001b[36mINFO: \u001b[39m\u001b[22m\u001b[36mRecompiling stale cache file /Users/dpsanders/.julia/lib/v0.6/BenchmarkTools.ji for module BenchmarkTools.\n",
      "\u001b[39m"
     ]
    },
    {
     "name": "stdout",
     "output_type": "stream",
     "text": [
      "  1.748 ms (2 allocations: 7.63 MiB)\n"
     ]
    }
   ],
   "source": [
    "using BenchmarkTools\n",
    "\n",
    "N = 1000\n",
    "A = rand(N, N)\n",
    "B = rand(N, N)\n",
    "\n",
    "@btime $A += $B;"
   ]
  },
  {
   "cell_type": "markdown",
   "metadata": {},
   "source": [
    "Note the large amount of allocation here (1,000,000 $\\times$ 8 bytes)."
   ]
  },
  {
   "cell_type": "markdown",
   "metadata": {},
   "source": [
    "The in-place behaviour can be obtained using **pointwise operators** (with `.`); this is called **broadcasting**:"
   ]
  },
  {
   "cell_type": "code",
   "execution_count": 22,
   "metadata": {},
   "outputs": [
    {
     "data": {
      "text/plain": [
       "1000×1000 Array{Float64,2}:\n",
       " 1.16981   0.936588  1.7159    1.26022   …  0.745496  1.19038   1.2424  \n",
       " 1.63981   1.7334    1.21014   0.813907     1.03248   1.58853   0.363102\n",
       " 0.497984  1.02264   1.08602   1.30959      0.316367  1.09023   1.21523 \n",
       " 0.867906  0.898176  1.44549   1.41544      0.721673  0.624086  0.12361 \n",
       " 0.399844  1.09694   0.972533  1.01094      1.4194    1.14485   1.04909 \n",
       " 0.903221  0.848083  1.08933   1.26613   …  0.414192  0.291594  0.936757\n",
       " 1.20433   1.35424   0.214067  0.758506     1.01577   1.77321   0.287125\n",
       " 1.18217   0.933562  1.06104   1.36909      1.08343   1.25878   0.767985\n",
       " 1.39354   0.924212  1.61625   0.871726     0.659069  0.947622  1.59316 \n",
       " 0.320187  1.69944   1.25073   0.32946      0.65151   0.816842  1.31343 \n",
       " 1.17052   0.983742  0.903218  1.84967   …  0.754539  0.252915  0.247722\n",
       " 0.876398  0.114439  1.1105    0.740464     0.768053  0.730706  0.707669\n",
       " 0.654488  1.40102   0.569995  1.07993      1.24717   0.996053  1.43778 \n",
       " ⋮                                       ⋱                              \n",
       " 1.23309   0.505784  1.48058   1.35129      1.08251   0.355675  1.12116 \n",
       " 0.723185  1.36839   1.3129    1.78282      1.64141   0.615443  1.05967 \n",
       " 0.566991  1.69303   0.617889  1.13014   …  0.597506  0.82092   1.65992 \n",
       " 1.083     1.36224   0.68346   1.4372       0.957869  0.823495  0.769058\n",
       " 1.58441   0.832497  1.04735   1.25168      1.00451   1.1684    1.76634 \n",
       " 1.66007   0.39684   0.634856  0.775928     1.38597   0.599956  0.881848\n",
       " 1.45156   0.794389  1.2638    1.24549      0.965517  0.667042  0.48467 \n",
       " 0.627773  0.720616  1.13931   1.2374    …  1.18125   1.52861   1.50937 \n",
       " 1.20528   0.371871  0.190838  1.96092      1.39434   0.812276  1.63874 \n",
       " 1.07376   0.793959  0.95372   1.26144      1.28258   0.410788  0.529919\n",
       " 0.852334  0.979834  0.462998  0.223365     0.479342  1.17073   0.678798\n",
       " 0.976104  1.02856   0.965337  0.164969     0.823798  0.846493  1.56312 "
      ]
     },
     "execution_count": 22,
     "metadata": {},
     "output_type": "execute_result"
    }
   ],
   "source": [
    "A .= A .+ B"
   ]
  },
  {
   "cell_type": "code",
   "execution_count": 23,
   "metadata": {},
   "outputs": [
    {
     "name": "stdout",
     "output_type": "stream",
     "text": [
      "  714.579 μs (0 allocations: 0 bytes)\n"
     ]
    }
   ],
   "source": [
    "@btime $A .= $A .+ $B;  # no allocations"
   ]
  },
  {
   "cell_type": "markdown",
   "metadata": {},
   "source": [
    "Furthermore, we can chain such operations together with no creation of temporaries:"
   ]
  },
  {
   "cell_type": "code",
   "execution_count": null,
   "metadata": {},
   "outputs": [],
   "source": [
    "C = rand(1000, 1000)\n",
    "\n",
    "@btime A .+= B + C;  # allocates"
   ]
  },
  {
   "cell_type": "code",
   "execution_count": null,
   "metadata": {},
   "outputs": [],
   "source": [
    "@btime $A .+= $B .+ $C  # does not allocate  "
   ]
  },
  {
   "cell_type": "markdown",
   "metadata": {},
   "source": [
    "This is equivalent to"
   ]
  },
  {
   "cell_type": "code",
   "execution_count": null,
   "metadata": {},
   "outputs": [],
   "source": [
    "for i in eachindex(A)\n",
    "    A[i] += B[i] + C[i]\n",
    "end"
   ]
  },
  {
   "cell_type": "markdown",
   "metadata": {},
   "source": [
    "See [this blog post by Steven Johnson](https://julialang.org/blog/2017/01/moredots) for more details."
   ]
  },
  {
   "cell_type": "markdown",
   "metadata": {},
   "source": [
    "There is a `@.` macro for \"pointing\" every operation:"
   ]
  },
  {
   "cell_type": "code",
   "execution_count": 26,
   "metadata": {},
   "outputs": [],
   "source": [
    "C = rand(N, N);"
   ]
  },
  {
   "cell_type": "code",
   "execution_count": 27,
   "metadata": {},
   "outputs": [
    {
     "data": {
      "text/plain": [
       "1000×1000 Array{Float64,2}:\n",
       " 1.12993   0.948976  1.39354   1.56599   …  0.323939  1.22776   1.3624  \n",
       " 1.53569   1.48761   1.69706   0.985504     1.04491   1.45091   0.39966 \n",
       " 0.69185   0.725004  0.880922  0.66143      0.925565  1.25837   0.385692\n",
       " 0.664166  0.606125  1.47966   0.948206     0.706564  0.39955   0.641969\n",
       " 0.245766  0.505511  0.926429  0.857936     1.78711   1.5214    1.34055 \n",
       " 1.20722   1.15743   0.760931  1.48047   …  0.991465  0.83315   0.883675\n",
       " 0.860133  1.1847    0.852797  1.03532      1.08959   1.26387   0.713851\n",
       " 1.13657   0.571965  1.18769   1.03933      1.72771   0.826335  0.929174\n",
       " 1.03179   1.39106   1.68071   1.54826      1.1306    0.316485  1.49711 \n",
       " 1.1897    1.24612   0.961993  0.35677      0.58992   0.779688  1.27124 \n",
       " 1.35833   0.766976  1.45629   1.75238   …  0.131441  0.229206  0.259513\n",
       " 0.969386  0.660069  1.16434   1.49924      1.17088   0.908893  0.848153\n",
       " 0.786586  0.999362  1.02491   0.768294     1.25841   1.09207   1.67478 \n",
       " ⋮                                       ⋱                              \n",
       " 1.78449   0.504124  1.41417   0.741106     1.62748   0.797892  1.45945 \n",
       " 0.430632  0.63575   1.18119   1.64572      0.912981  1.31662   0.733269\n",
       " 0.916447  1.51641   0.292523  1.16265   …  0.794395  0.685469  1.22073 \n",
       " 1.19342   1.59565   0.959122  1.40121      1.39098   1.0426    0.838393\n",
       " 1.25487   1.21784   1.84625   0.493195     0.60649   1.14682   1.31339 \n",
       " 1.50534   0.678354  0.193242  0.755255     1.09684   1.19613   0.855478\n",
       " 0.991143  0.504368  1.209     1.07158      0.863432  0.489945  0.214047\n",
       " 0.876501  1.37555   1.11115   0.583018  …  0.468428  1.04718   0.872915\n",
       " 1.48448   0.618576  0.638496  1.81057      1.01859   0.697106  1.37909 \n",
       " 1.70749   0.395141  0.883034  1.03247      1.33191   0.840453  0.717162\n",
       " 1.36599   0.722078  0.626503  0.724194     0.950211  0.452255  0.95942 \n",
       " 1.37997   0.709071  1.31082   0.795252     1.47468   1.29059   1.08075 "
      ]
     },
     "execution_count": 27,
     "metadata": {},
     "output_type": "execute_result"
    }
   ],
   "source": [
    "@. A = B + C"
   ]
  },
  {
   "cell_type": "code",
   "execution_count": 28,
   "metadata": {},
   "outputs": [
    {
     "data": {
      "text/plain": [
       "3-element Array{Int64,1}:\n",
       " 1\n",
       " 2\n",
       " 3"
      ]
     },
     "execution_count": 28,
     "metadata": {},
     "output_type": "execute_result"
    }
   ],
   "source": [
    "v = [1, 2, 3]"
   ]
  },
  {
   "cell_type": "code",
   "execution_count": 29,
   "metadata": {},
   "outputs": [
    {
     "data": {
      "text/plain": [
       "f (generic function with 1 method)"
      ]
     },
     "execution_count": 29,
     "metadata": {},
     "output_type": "execute_result"
    }
   ],
   "source": [
    "f(x) = x^2 + 2"
   ]
  },
  {
   "cell_type": "code",
   "execution_count": 30,
   "metadata": {},
   "outputs": [
    {
     "data": {
      "text/plain": [
       "3-element Array{Int64,1}:\n",
       "  3\n",
       "  6\n",
       " 11"
      ]
     },
     "execution_count": 30,
     "metadata": {},
     "output_type": "execute_result"
    }
   ],
   "source": [
    "[f(x) for x in v]"
   ]
  },
  {
   "cell_type": "code",
   "execution_count": 31,
   "metadata": {},
   "outputs": [
    {
     "data": {
      "text/plain": [
       "3-element Array{Int64,1}:\n",
       "  3\n",
       "  6\n",
       " 11"
      ]
     },
     "execution_count": 31,
     "metadata": {},
     "output_type": "execute_result"
    }
   ],
   "source": [
    "map(f, v)"
   ]
  },
  {
   "cell_type": "code",
   "execution_count": 35,
   "metadata": {},
   "outputs": [
    {
     "data": {
      "text/plain": [
       "3-element Array{Int64,1}:\n",
       "  3\n",
       "  6\n",
       " 11"
      ]
     },
     "execution_count": 35,
     "metadata": {},
     "output_type": "execute_result"
    }
   ],
   "source": [
    "f.(v)"
   ]
  },
  {
   "cell_type": "code",
   "execution_count": 36,
   "metadata": {},
   "outputs": [
    {
     "data": {
      "text/plain": [
       "g (generic function with 1 method)"
      ]
     },
     "execution_count": 36,
     "metadata": {},
     "output_type": "execute_result"
    }
   ],
   "source": [
    "g(x) = exp(x)"
   ]
  },
  {
   "cell_type": "code",
   "execution_count": 37,
   "metadata": {},
   "outputs": [
    {
     "data": {
      "text/plain": [
       "3-element Array{Float64,1}:\n",
       "    20.0855\n",
       "   403.429 \n",
       " 59874.1   "
      ]
     },
     "execution_count": 37,
     "metadata": {},
     "output_type": "execute_result"
    }
   ],
   "source": [
    "g.(f.(v))"
   ]
  },
  {
   "cell_type": "code",
   "execution_count": 41,
   "metadata": {},
   "outputs": [
    {
     "data": {
      "text/plain": [
       "h (generic function with 1 method)"
      ]
     },
     "execution_count": 41,
     "metadata": {},
     "output_type": "execute_result"
    }
   ],
   "source": [
    "h(v) = g.(f.(v))"
   ]
  },
  {
   "cell_type": "code",
   "execution_count": 42,
   "metadata": {},
   "outputs": [
    {
     "name": "stdout",
     "output_type": "stream",
     "text": [
      "Variables:\n",
      "  #self# <optimized out>\n",
      "  v::Array{Int64,1}\n",
      "  #11 <optimized out>\n",
      "  T <optimized out>\n",
      "  shape <optimized out>\n",
      "  iter <optimized out>\n",
      "  C::Array{Float64,1}\n",
      "  keeps@_8::Tuple{Tuple{Bool}}\n",
      "  Idefaults@_9::Tuple{Tuple{Int64}}\n",
      "  #temp#@_10 <optimized out>\n",
      "  keeps@_11 <optimized out>\n",
      "  Idefaults@_12 <optimized out>\n",
      "  #temp#@_13 <optimized out>\n",
      "  keep@_14::Tuple{Bool}\n",
      "  Idefault@_15::Tuple{Int64}\n",
      "  #temp#@_16 <optimized out>\n",
      "  ind1 <optimized out>\n",
      "  keep@_18 <optimized out>\n",
      "  Idefault@_19 <optimized out>\n",
      "  #temp#@_20 <optimized out>\n",
      "  I_1 <optimized out>\n",
      "  val_1::Int64\n",
      "  result::Float64\n",
      "  I@_24 <optimized out>\n",
      "  i#705::Int64\n",
      "  I@_26 <optimized out>\n",
      "  n#704::Int64\n",
      "  i#703 <optimized out>\n",
      "  #temp#@_29::Bool\n",
      "  r#702 <optimized out>\n",
      "  A_1 <optimized out>\n",
      "  keep_1::Tuple{Bool}\n",
      "  Idefault_1::Tuple{Int64}\n",
      "  #temp#@_34::Int64\n",
      "  #temp#@_35 <optimized out>\n",
      "\n",
      "Body:\n",
      "  begin \n",
      "      $(Expr(:inbounds, false))\n",
      "      # meta: location broadcast.jl broadcast 455\n",
      "      # meta: location broadcast.jl broadcast_c 313\n",
      "      # meta: location broadcast.jl broadcast_indices 48\n",
      "      # meta: location broadcast.jl broadcast_indices 52\n",
      "      # meta: location abstractarray.jl indices 64\n",
      "      SSAValue(3) = (Base.arraysize)(v::Array{Int64,1}, 1)::Int64\n",
      "      # meta: pop location\n",
      "      # meta: pop location\n",
      "      # meta: pop location\n",
      "      SSAValue(49) = (Base.select_value)((Base.slt_int)(SSAValue(3), 0)::Bool, 0, SSAValue(3))::Int64 # line 316:\n",
      "      # meta: location broadcast.jl broadcast_t 268\n",
      "      C::Array{Float64,1} = $(Expr(:foreigncall, :(:jl_alloc_array_1d), Array{Float64,1}, svec(Any, Int64), Array{Float64,1}, 0, SSAValue(49), 0)) # line 269:\n",
      "      # meta: location broadcast.jl map_newindexer 125 # line 126:\n",
      "      # meta: location broadcast.jl newindexer 108\n",
      "      # meta: location broadcast.jl broadcast_indices 48\n",
      "      # meta: location broadcast.jl broadcast_indices 52\n",
      "      # meta: location abstractarray.jl indices 64\n",
      "      SSAValue(16) = (Base.arraysize)(v::Array{Int64,1}, 1)::Int64\n",
      "      # meta: pop location\n",
      "      # meta: pop location\n",
      "      # meta: pop location\n",
      "      # meta: location broadcast.jl shapeindexer 111\n",
      "      SSAValue(28) = (Base.select_value)((Base.slt_int)(SSAValue(16), 0)::Bool, 0, SSAValue(16))::Int64\n",
      "      # meta: pop location\n",
      "      # meta: pop location\n",
      "      SSAValue(29) = (Core.tuple)((Base.and_int)((Base.and_int)((1 === 1)::Bool, (1 === 1)::Bool)::Bool, (SSAValue(49) === SSAValue(28))::Bool)::Bool)::Tuple{Bool}\n",
      "      SSAValue(30) = (Core.tuple)(1)::Tuple{Int64}\n",
      "      keep@_14::Tuple{Bool} = SSAValue(29)\n",
      "      Idefault@_15::Tuple{Int64} = SSAValue(30)\n",
      "      # meta: pop location\n",
      "      SSAValue(44) = (Core.tuple)(keep@_14::Tuple{Bool})::Tuple{Tuple{Bool}}\n",
      "      SSAValue(45) = (Core.tuple)(Idefault@_15::Tuple{Int64})::Tuple{Tuple{Int64}}\n",
      "      keeps@_8::Tuple{Tuple{Bool}} = SSAValue(44)\n",
      "      Idefaults@_9::Tuple{Tuple{Int64}} = SSAValue(45) # line 270:\n",
      "      # meta: location broadcast.jl _broadcast! 141\n",
      "      # meta: location broadcast.jl # line 147:\n",
      "      keep_1::Tuple{Bool} = (Base.getfield)(keeps@_8::Tuple{Tuple{Bool}}, 1)::Tuple{Bool} # line 148:\n",
      "      Idefault_1::Tuple{Int64} = (Base.getfield)(Idefaults@_9::Tuple{Tuple{Int64}}, 1)::Tuple{Int64} # line 149:\n",
      "      # meta: location simdloop.jl # line 66:\n",
      "      #temp#@_29::Bool = false\n",
      "      50: \n",
      "      unless (Base.not_int)(#temp#@_29::Bool)::Bool goto 96\n",
      "      #temp#@_29::Bool = true # line 67:\n",
      "      n#704::Int64 = (Base.add_int)((Base.sub_int)(SSAValue(49), 1)::Int64, 1)::Int64 # line 68:\n",
      "      unless (Base.slt_int)(0, n#704::Int64)::Bool goto 94 # line 70:\n",
      "      i#705::Int64 = 0 # line 71:\n",
      "      NewvarNode(:(val_1::Int64))\n",
      "      NewvarNode(:(result::Float64))\n",
      "      62: \n",
      "      unless (Base.slt_int)(i#705::Int64, n#704::Int64)::Bool goto 92 # line 72:\n",
      "      SSAValue(41) = (Base.add_int)(i#705::Int64, 1)::Int64 # line 73:\n",
      "      # meta: location broadcast.jl # line 151:\n",
      "      SSAValue(43) = (Base.select_value)((Base.getfield)(keep_1::Tuple{Bool}, 1)::Bool, SSAValue(41), (Base.getfield)(Idefault_1::Tuple{Int64}, 1)::Int64)::Int64 # line 153:\n",
      "      $(Expr(:inbounds, true))\n",
      "      val_1::Int64 = (Base.arrayref)(v::Array{Int64,1}, SSAValue(43))::Int64\n",
      "      $(Expr(:inbounds, :pop)) # line 155:\n",
      "      # meta: location  #11 0\n",
      "      #temp#@_34::Int64 = (Base.add_int)((Base.mul_int)(val_1::Int64, val_1::Int64)::Int64, 2)::Int64\n",
      "      # meta: pop location\n",
      "      result::Float64 = $(Expr(:invoke, MethodInstance for exp(::Float64), :(Base.Math.exp), :((Base.sitofp)(Float64, #temp#@_34)::Float64))) # line 156:\n",
      "      $(Expr(:inbounds, true))\n",
      "      # meta: location multidimensional.jl setindex! 300\n",
      "      (Base.arrayset)(C::Array{Float64,1}, result::Float64, SSAValue(41))::Array{Float64,1}\n",
      "      # meta: pop location\n",
      "      $(Expr(:inbounds, :pop))\n",
      "      # meta: pop location # line 74:\n",
      "      i#705::Int64 = (Base.add_int)(i#705::Int64, 1)::Int64 # line 75:\n",
      "      $(Expr(:simdloop))\n",
      "      90: \n",
      "      goto 62\n",
      "      92:  # line 79:\n",
      "      94: \n",
      "      goto 50\n",
      "      96: \n",
      "      # meta: pop location\n",
      "      # meta: pop location\n",
      "      # meta: pop location\n",
      "      # meta: pop location\n",
      "      goto 103 # line 321:\n",
      "      103: \n",
      "      # meta: pop location\n",
      "      # meta: pop location\n",
      "      $(Expr(:inbounds, :pop))\n",
      "      return C::Array{Float64,1}\n",
      "  end::Array{Float64,1}\n"
     ]
    }
   ],
   "source": [
    "@code_warntype h(v)"
   ]
  },
  {
   "cell_type": "markdown",
   "metadata": {},
   "source": [
    "@btime @. $A += $B + $C"
   ]
  },
  {
   "cell_type": "markdown",
   "metadata": {},
   "source": [
    "## Efficient small matrices and vectors"
   ]
  },
  {
   "cell_type": "markdown",
   "metadata": {},
   "source": [
    "For small matrices and vectors, the generic vector and matrix code is too slow, since the type does not contain the information on the number of elements contained in the array, so that generic loops are used.\n",
    "\n",
    "The `StaticArrays.jl` package fixes this problem by **unrolling** operations for small arrays."
   ]
  },
  {
   "cell_type": "code",
   "execution_count": 43,
   "metadata": {},
   "outputs": [],
   "source": [
    "# Pkg.add(\"StaticArrays\")\n",
    "\n",
    "using StaticArrays, BenchmarkTools"
   ]
  },
  {
   "cell_type": "code",
   "execution_count": 45,
   "metadata": {},
   "outputs": [
    {
     "data": {
      "text/plain": [
       "2-element StaticArrays.SArray{Tuple{2},Int64,1,2}:\n",
       " 1\n",
       " 2"
      ]
     },
     "execution_count": 45,
     "metadata": {},
     "output_type": "execute_result"
    }
   ],
   "source": [
    "v = SVector(1, 2)"
   ]
  },
  {
   "cell_type": "code",
   "execution_count": 46,
   "metadata": {},
   "outputs": [
    {
     "data": {
      "text/plain": [
       "bench (generic function with 1 method)"
      ]
     },
     "execution_count": 46,
     "metadata": {},
     "output_type": "execute_result"
    }
   ],
   "source": [
    "function bench()\n",
    "    x = SVector(1, 2)\n",
    "    y = [1, 2]\n",
    "    \n",
    "    @btime $x + $x\n",
    "    @btime $y + $y\n",
    "end"
   ]
  },
  {
   "cell_type": "code",
   "execution_count": 47,
   "metadata": {},
   "outputs": [
    {
     "name": "stdout",
     "output_type": "stream",
     "text": [
      "  1.909 ns (0 allocations: 0 bytes)\n",
      "  37.175 ns (1 allocation: 96 bytes)\n"
     ]
    },
    {
     "data": {
      "text/plain": [
       "2-element Array{Int64,1}:\n",
       " 2\n",
       " 4"
      ]
     },
     "execution_count": 47,
     "metadata": {},
     "output_type": "execute_result"
    }
   ],
   "source": [
    "bench()"
   ]
  },
  {
   "cell_type": "code",
   "execution_count": 48,
   "metadata": {},
   "outputs": [
    {
     "name": "stdout",
     "output_type": "stream",
     "text": [
      "  1.432 ns (0 allocations: 0 bytes)\n",
      "  37.145 ns (1 allocation: 96 bytes)\n"
     ]
    },
    {
     "data": {
      "text/plain": [
       "2-element Array{Int64,1}:\n",
       " 2\n",
       " 4"
      ]
     },
     "execution_count": 48,
     "metadata": {},
     "output_type": "execute_result"
    }
   ],
   "source": [
    "bench()"
   ]
  },
  {
   "cell_type": "code",
   "execution_count": 49,
   "metadata": {},
   "outputs": [
    {
     "data": {
      "text/plain": [
       "CodeInfo(:(begin \n",
       "        nothing\n",
       "        nothing\n",
       "        return (StaticArrays.map)(StaticArrays.+, a, b)\n",
       "    end))"
      ]
     },
     "execution_count": 49,
     "metadata": {},
     "output_type": "execute_result"
    }
   ],
   "source": [
    "x = SVector(1, 2)\n",
    "@code_lowered x + x"
   ]
  },
  {
   "cell_type": "code",
   "execution_count": 50,
   "metadata": {},
   "outputs": [
    {
     "data": {
      "text/plain": [
       "CodeInfo(:(begin \n",
       "        SSAValue(4) = a\n",
       "        SSAValue(5) = b\n",
       "        $(Expr(:inbounds, false))\n",
       "        # meta: location /Users/dpsanders/.julia/v0.6/StaticArrays/src/mapreduce.jl map 11\n",
       "        SSAValue(2) = SSAValue(4)\n",
       "        SSAValue(3) = SSAValue(5)\n",
       "        # meta: location /Users/dpsanders/.julia/v0.6/StaticArrays/src/mapreduce.jl _map 20\n",
       "        # meta: location /Users/dpsanders/.julia/v0.6/StaticArrays/src/mapreduce.jl # line 29:\n",
       "        $(Expr(:inbounds, true))\n",
       "        #temp# = $(Expr(:new, StaticArrays.SArray{Tuple{2},Int64,1,2}, :((StaticArrays.tuple)((Base.add_int)((Base.getfield)((Core.getfield)(SSAValue(2), :data)::Tuple{Int64,Int64}, 1)::Int64, (Base.getfield)((Core.getfield)(SSAValue(3), :data)::Tuple{Int64,Int64}, 1)::Int64)::Int64, (Base.add_int)((Base.getfield)((Core.getfield)(SSAValue(2), :data)::Tuple{Int64,Int64}, 2)::Int64, (Base.getfield)((Core.getfield)(SSAValue(3), :data)::Tuple{Int64,Int64}, 2)::Int64)::Int64)::Tuple{Int64,Int64})))\n",
       "        goto 15\n",
       "        # meta: pop location\n",
       "        $(Expr(:inbounds, :pop))\n",
       "        15: \n",
       "        # meta: pop location\n",
       "        # meta: pop location\n",
       "        $(Expr(:inbounds, :pop))\n",
       "        return #temp#\n",
       "    end))=>StaticArrays.SArray{Tuple{2},Int64,1,2}"
      ]
     },
     "execution_count": 50,
     "metadata": {},
     "output_type": "execute_result"
    }
   ],
   "source": [
    "@code_typed x + x"
   ]
  },
  {
   "cell_type": "code",
   "execution_count": 51,
   "metadata": {},
   "outputs": [
    {
     "name": "stdout",
     "output_type": "stream",
     "text": [
      "\n",
      "define void @\"julia_+_64099\"(%SArray* noalias nocapture sret, %SArray* nocapture readonly dereferenceable(16), %SArray* nocapture readonly dereferenceable(16)) #0 !dbg !5 {\n",
      "top:\n",
      "  %3 = getelementptr inbounds %SArray, %SArray* %1, i64 0, i32 0, i64 0\n",
      "  %4 = getelementptr inbounds %SArray, %SArray* %2, i64 0, i32 0, i64 0\n",
      "  %5 = load i64, i64* %3, align 8\n",
      "  %6 = load i64, i64* %4, align 8\n",
      "  %7 = add i64 %6, %5\n",
      "  %8 = getelementptr inbounds %SArray, %SArray* %1, i64 0, i32 0, i64 1\n",
      "  %9 = getelementptr inbounds %SArray, %SArray* %2, i64 0, i32 0, i64 1\n",
      "  %10 = load i64, i64* %8, align 8\n",
      "  %11 = load i64, i64* %9, align 8\n",
      "  %12 = add i64 %11, %10\n",
      "  %\"#temp#.sroa.0.sroa.0.0.#temp#.sroa.0.0..sroa_cast1.sroa_idx\" = getelementptr inbounds %SArray, %SArray* %0, i64 0, i32 0, i64 0\n",
      "  store i64 %7, i64* %\"#temp#.sroa.0.sroa.0.0.#temp#.sroa.0.0..sroa_cast1.sroa_idx\", align 8\n",
      "  %\"#temp#.sroa.0.sroa.2.0.#temp#.sroa.0.0..sroa_cast1.sroa_idx7\" = getelementptr inbounds %SArray, %SArray* %0, i64 0, i32 0, i64 1\n",
      "  store i64 %12, i64* %\"#temp#.sroa.0.sroa.2.0.#temp#.sroa.0.0..sroa_cast1.sroa_idx7\", align 8\n",
      "  ret void\n",
      "}\n"
     ]
    }
   ],
   "source": [
    "@code_llvm x + x"
   ]
  },
  {
   "cell_type": "code",
   "execution_count": 52,
   "metadata": {},
   "outputs": [
    {
     "name": "stdout",
     "output_type": "stream",
     "text": [
      "\t.section\t__TEXT,__text,regular,pure_instructions\n",
      "Filename: linalg.jl\n",
      "\tpushq\t%rbp\n",
      "\tmovq\t%rsp, %rbp\n",
      "Source line: 29\n",
      "\tmovq\t(%rdx), %rax\n",
      "\tmovq\t8(%rdx), %rcx\n",
      "\taddq\t(%rsi), %rax\n",
      "\taddq\t8(%rsi), %rcx\n",
      "Source line: 10\n",
      "\tmovq\t%rax, (%rdi)\n",
      "\tmovq\t%rcx, 8(%rdi)\n",
      "\tmovq\t%rdi, %rax\n",
      "\tpopq\t%rbp\n",
      "\tretq\n",
      "\tnop\n"
     ]
    }
   ],
   "source": [
    "@code_native x + x"
   ]
  },
  {
   "cell_type": "code",
   "execution_count": 53,
   "metadata": {
    "scrolled": false
   },
   "outputs": [
    {
     "name": "stdout",
     "output_type": "stream",
     "text": [
      "\t.section\t__TEXT,__text,regular,pure_instructions\n",
      "Filename: arraymath.jl\n",
      "\tpushq\t%rbp\n",
      "\tmovq\t%rsp, %rbp\n",
      "\tpushq\t%r15\n",
      "\tpushq\t%r14\n",
      "\tpushq\t%r12\n",
      "\tpushq\t%rbx\n",
      "\tsubq\t$64, %rsp\n",
      "\tmovq\t%rsi, %r12\n",
      "\tmovq\t%rdi, %r15\n",
      "\tmovabsq\t$jl_get_ptls_states_fast, %rax\n",
      "\tcallq\t*%rax\n",
      "\tmovq\t%rax, %r14\n",
      "\tmovq\t$0, -40(%rbp)\n",
      "\tmovq\t$0, -48(%rbp)\n",
      "\tmovq\t$4, -64(%rbp)\n",
      "\tmovq\t(%r14), %rax\n",
      "\tmovq\t%rax, -56(%rbp)\n",
      "\tleaq\t-64(%rbp), %rax\n",
      "\tmovq\t%rax, (%r14)\n",
      "Source line: 64\n",
      "\tmovq\t24(%r15), %rax\n",
      "Source line: 64\n",
      "\tmovq\t24(%r12), %rcx\n",
      "\txorl\t%ebx, %ebx\n",
      "Source line: 38\n",
      "\ttestq\t%rax, %rax\n",
      "\tcmovsq\t%rbx, %rax\n",
      "\tmovq\t%rax, -72(%rbp)\n",
      "\ttestq\t%rcx, %rcx\n",
      "\tcmovsq\t%rbx, %rcx\n",
      "\tmovq\t%rcx, -80(%rbp)\n",
      "\tmovabsq\t$promote_shape, %rax\n",
      "\tleaq\t-72(%rbp), %rdi\n",
      "\tleaq\t-80(%rbp), %rsi\n",
      "\tcallq\t*%rax\n",
      "Source line: 64\n",
      "\tmovq\t24(%r15), %rax\n",
      "Source line: 64\n",
      "\tmovq\t24(%r12), %rcx\n",
      "Source line: 63\n",
      "\ttestq\t%rax, %rax\n",
      "\tcmovsq\t%rbx, %rax\n",
      "\tmovq\t%rax, -88(%rbp)\n",
      "\ttestq\t%rcx, %rcx\n",
      "\tcmovsq\t%rbx, %rcx\n",
      "\tmovq\t%rcx, -96(%rbp)\n",
      "\tmovabsq\t$_bcs1, %rax\n",
      "\tleaq\t-88(%rbp), %rdi\n",
      "\tleaq\t-96(%rbp), %rsi\n",
      "\tcallq\t*%rax\n",
      "\tmovq\t%rax, %rbx\n",
      "Source line: 268\n",
      "\tmovabsq\t$jl_alloc_array_1d, %rax\n",
      "\tleaq\t81049120(%rax), %rdi\n",
      "\tmovq\t%rbx, %rsi\n",
      "\tcallq\t*%rax\n",
      "\tmovq\t%rax, -48(%rbp)\n",
      "Source line: 68\n",
      "\ttestq\t%rbx, %rbx\n",
      "\tjle\tL822\n",
      "Source line: 153\n",
      "\tmovq\t(%r12), %r10\n",
      "Source line: 64\n",
      "\tmovq\t24(%r12), %rcx\n",
      "\txorl\t%edx, %edx\n",
      "Source line: 111\n",
      "\ttestq\t%rcx, %rcx\n",
      "\tcmovsq\t%rdx, %rcx\n",
      "Source line: 153\n",
      "\tmovq\t(%r15), %r11\n",
      "Source line: 64\n",
      "\tmovq\t24(%r15), %rsi\n",
      "Source line: 111\n",
      "\ttestq\t%rsi, %rsi\n",
      "\tcmovsq\t%rdx, %rsi\n",
      "Source line: 126\n",
      "\tcmpq\t%rsi, %rbx\n",
      "Source line: 300\n",
      "\tmovq\t(%rax), %r8\n",
      "\tjne\tL415\n",
      "\tcmpq\t%rcx, %rbx\n",
      "\tjne\tL571\n",
      "\txorl\t%esi, %esi\n",
      "Source line: 153\n",
      "\tcmpq\t$4, %rbx\n",
      "\tjb\tL369\n",
      "\txorl\t%esi, %esi\n",
      "\tmovq\t%rbx, %r9\n",
      "\tandq\t$-4, %r9\n",
      "\tje\tL369\n",
      "\tleaq\t16(%r11), %rsi\n",
      "\tleaq\t16(%r10), %rdi\n",
      "\tleaq\t16(%r8), %rcx\n",
      "Source line: 74\n",
      "\tmovq\t%r9, %rdx\n",
      "\tnop\n",
      "Source line: 153\n",
      "L304:\n",
      "\tmovdqu\t-16(%rsi), %xmm0\n",
      "\tmovdqu\t(%rsi), %xmm1\n",
      "\tmovdqu\t-16(%rdi), %xmm2\n",
      "\tmovdqu\t(%rdi), %xmm3\n",
      "Source line: 155\n",
      "\tpaddq\t%xmm0, %xmm2\n",
      "\tpaddq\t%xmm1, %xmm3\n",
      "Source line: 300\n",
      "\tmovdqu\t%xmm2, -16(%rcx)\n",
      "\tmovdqu\t%xmm3, (%rcx)\n",
      "Source line: 153\n",
      "\taddq\t$32, %rsi\n",
      "\taddq\t$32, %rdi\n",
      "\taddq\t$32, %rcx\n",
      "\taddq\t$-4, %rdx\n",
      "\tjne\tL304\n",
      "\tcmpq\t%r9, %rbx\n",
      "\tmovq\t%r9, %rsi\n",
      "\tje\tL818\n",
      "L369:\n",
      "\tleaq\t(%r10,%rsi,8), %rcx\n",
      "\tsubq\t%rsi, %rbx\n",
      "\tleaq\t(%r8,%rsi,8), %rdx\n",
      "\tleaq\t(%r11,%rsi,8), %rsi\n",
      "L384:\n",
      "\tmovq\t(%rcx), %rdi\n",
      "Source line: 155\n",
      "\taddq\t(%rsi), %rdi\n",
      "Source line: 300\n",
      "\tmovq\t%rdi, (%rdx)\n",
      "Source line: 71\n",
      "\taddq\t$8, %rcx\n",
      "\taddq\t$8, %rdx\n",
      "\taddq\t$8, %rsi\n",
      "\tdecq\t%rbx\n",
      "\tjne\tL384\n",
      "\tjmp\tL818\n",
      "L415:\n",
      "\txorl\t%edx, %edx\n",
      "\tcmpq\t%rcx, %rbx\n",
      "\tjne\tL712\n",
      "Source line: 153\n",
      "\tcmpq\t$4, %rbx\n",
      "\tjb\tL526\n",
      "\txorl\t%edx, %edx\n",
      "\tmovq\t%rbx, %rdi\n",
      "\tandq\t$-4, %rdi\n",
      "\tje\tL526\n",
      "\tleaq\t16(%r10), %rcx\n",
      "\tleaq\t16(%r8), %rdx\n",
      "Source line: 74\n",
      "\tmovq\t%rdi, %rsi\n",
      "\tnopw\t%cs:(%rax,%rax)\n",
      "Source line: 153\n",
      "L464:\n",
      "\tmovq\t(%r11), %xmm0           ## xmm0 = mem[0],zero\n",
      "\tpshufd\t$68, %xmm0, %xmm0       ## xmm0 = xmm0[0,1,0,1]\n",
      "\tmovdqu\t-16(%rcx), %xmm1\n",
      "\tmovdqu\t(%rcx), %xmm2\n",
      "Source line: 155\n",
      "\tpaddq\t%xmm0, %xmm1\n",
      "\tpaddq\t%xmm0, %xmm2\n",
      "Source line: 300\n",
      "\tmovdqu\t%xmm1, -16(%rdx)\n",
      "\tmovdqu\t%xmm2, (%rdx)\n",
      "Source line: 153\n",
      "\taddq\t$32, %rcx\n",
      "\taddq\t$32, %rdx\n",
      "\taddq\t$-4, %rsi\n",
      "\tjne\tL464\n",
      "\tcmpq\t%rdi, %rbx\n",
      "\tmovq\t%rdi, %rdx\n",
      "\tje\tL818\n",
      "L526:\n",
      "\tleaq\t(%r10,%rdx,8), %rcx\n",
      "\tsubq\t%rdx, %rbx\n",
      "\tleaq\t(%r8,%rdx,8), %rdx\n",
      "\tnopl\t(%rax)\n",
      "L544:\n",
      "\tmovq\t(%rcx), %rsi\n",
      "Source line: 155\n",
      "\taddq\t(%r11), %rsi\n",
      "Source line: 300\n",
      "\tmovq\t%rsi, (%rdx)\n",
      "Source line: 71\n",
      "\taddq\t$8, %rcx\n",
      "\taddq\t$8, %rdx\n",
      "\tdecq\t%rbx\n",
      "\tjne\tL544\n",
      "\tjmp\tL818\n",
      "L571:\n",
      "\txorl\t%edx, %edx\n",
      "Source line: 153\n",
      "\tcmpq\t$4, %rbx\n",
      "\tjb\tL670\n",
      "\txorl\t%edx, %edx\n",
      "\tmovq\t%rbx, %rdi\n",
      "\tandq\t$-4, %rdi\n",
      "\tje\tL670\n",
      "\tleaq\t16(%r11), %rcx\n",
      "\tleaq\t16(%r8), %rdx\n",
      "Source line: 74\n",
      "\tmovq\t%rdi, %rsi\n",
      "\tnopl\t(%rax)\n",
      "Source line: 153\n",
      "L608:\n",
      "\tmovdqu\t-16(%rcx), %xmm0\n",
      "\tmovdqu\t(%rcx), %xmm1\n",
      "\tmovq\t(%r10), %xmm2           ## xmm2 = mem[0],zero\n",
      "\tpshufd\t$68, %xmm2, %xmm2       ## xmm2 = xmm2[0,1,0,1]\n",
      "Source line: 155\n",
      "\tpaddq\t%xmm2, %xmm0\n",
      "\tpaddq\t%xmm2, %xmm1\n",
      "Source line: 300\n",
      "\tmovdqu\t%xmm0, -16(%rdx)\n",
      "\tmovdqu\t%xmm1, (%rdx)\n",
      "Source line: 153\n",
      "\taddq\t$32, %rcx\n",
      "\taddq\t$32, %rdx\n",
      "\taddq\t$-4, %rsi\n",
      "\tjne\tL608\n",
      "\tcmpq\t%rdi, %rbx\n",
      "\tmovq\t%rdi, %rdx\n",
      "\tje\tL818\n",
      "L670:\n",
      "\tleaq\t(%r11,%rdx,8), %rcx\n",
      "\tsubq\t%rdx, %rbx\n",
      "\tleaq\t(%r8,%rdx,8), %rdx\n",
      "\tnopl\t(%rax)\n",
      "L688:\n",
      "\tmovq\t(%r10), %rsi\n",
      "Source line: 155\n",
      "\taddq\t(%rcx), %rsi\n",
      "Source line: 300\n",
      "\tmovq\t%rsi, (%rdx)\n",
      "Source line: 71\n",
      "\taddq\t$8, %rcx\n",
      "\taddq\t$8, %rdx\n",
      "\tdecq\t%rbx\n",
      "\tjne\tL688\n",
      "\tjmp\tL818\n",
      "Source line: 153\n",
      "L712:\n",
      "\tcmpq\t$4, %rbx\n",
      "\tjb\tL787\n",
      "\txorl\t%edx, %edx\n",
      "\tmovq\t%rbx, %rcx\n",
      "\tandq\t$-4, %rcx\n",
      "\tje\tL787\n",
      "\tleaq\t16(%r8), %rdx\n",
      "Source line: 74\n",
      "\tmovq\t%rcx, %rsi\n",
      "Source line: 153\n",
      "L736:\n",
      "\tmovq\t(%r11), %xmm0           ## xmm0 = mem[0],zero\n",
      "\tpshufd\t$68, %xmm0, %xmm0       ## xmm0 = xmm0[0,1,0,1]\n",
      "\tmovq\t(%r10), %xmm1           ## xmm1 = mem[0],zero\n",
      "\tpshufd\t$68, %xmm1, %xmm1       ## xmm1 = xmm1[0,1,0,1]\n",
      "Source line: 155\n",
      "\tpaddq\t%xmm0, %xmm1\n",
      "Source line: 300\n",
      "\tmovdqu\t%xmm1, -16(%rdx)\n",
      "\tmovdqu\t%xmm1, (%rdx)\n",
      "Source line: 153\n",
      "\taddq\t$32, %rdx\n",
      "\taddq\t$-4, %rsi\n",
      "\tjne\tL736\n",
      "\tcmpq\t%rcx, %rbx\n",
      "\tmovq\t%rcx, %rdx\n",
      "\tje\tL818\n",
      "L787:\n",
      "\tsubq\t%rdx, %rbx\n",
      "\tleaq\t(%r8,%rdx,8), %rcx\n",
      "\tnopw\t(%rax,%rax)\n",
      "L800:\n",
      "\tmovq\t(%r10), %rdx\n",
      "Source line: 155\n",
      "\taddq\t(%r11), %rdx\n",
      "Source line: 300\n",
      "\tmovq\t%rdx, (%rcx)\n",
      "Source line: 71\n",
      "\taddq\t$8, %rcx\n",
      "\tdecq\t%rbx\n",
      "\tjne\tL800\n",
      "Source line: 300\n",
      "L818:\n",
      "\tmovq\t%rax, -40(%rbp)\n",
      "Source line: 39\n",
      "L822:\n",
      "\tmovq\t-56(%rbp), %rcx\n",
      "\tmovq\t%rcx, (%r14)\n",
      "\taddq\t$64, %rsp\n",
      "\tpopq\t%rbx\n",
      "\tpopq\t%r12\n",
      "\tpopq\t%r14\n",
      "\tpopq\t%r15\n",
      "\tpopq\t%rbp\n",
      "\tretq\n",
      "\tnopw\t(%rax,%rax)\n"
     ]
    }
   ],
   "source": [
    "y = [1, 2]\n",
    "@code_native y + y"
   ]
  },
  {
   "cell_type": "code",
   "execution_count": null,
   "metadata": {},
   "outputs": [],
   "source": []
  }
 ],
 "metadata": {
  "kernelspec": {
   "display_name": "Julia 0.6.2",
   "language": "julia",
   "name": "julia-0.6"
  },
  "language_info": {
   "file_extension": ".jl",
   "mimetype": "application/julia",
   "name": "julia",
   "version": "0.6.2"
  },
  "toc": {
   "colors": {
    "hover_highlight": "#DAA520",
    "running_highlight": "#FF0000",
    "selected_highlight": "#FFD700"
   },
   "moveMenuLeft": true,
   "nav_menu": {
    "height": "85px",
    "width": "252px"
   },
   "navigate_menu": true,
   "number_sections": true,
   "sideBar": true,
   "threshold": "2",
   "toc_cell": false,
   "toc_section_display": "block",
   "toc_window_display": false
  }
 },
 "nbformat": 4,
 "nbformat_minor": 2
}
