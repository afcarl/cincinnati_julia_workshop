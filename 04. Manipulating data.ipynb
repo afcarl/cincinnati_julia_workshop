{
 "cells": [
  {
   "cell_type": "markdown",
   "metadata": {},
   "source": [
    "# Data science with Julia"
   ]
  },
  {
   "cell_type": "markdown",
   "metadata": {},
   "source": [
    "Julia has an increasingly compelling story for data analysis, based around the `DataFrames.jl`, `Query.jl`, and `JuliaDB.jl` packages.  The story will improve even further with 0.7 / 1.0, which includes named tuples.\n",
    "\n",
    "There is now a variety of packages for loading different file formats, many integrated into the `FileIO.jl` package, which loads a file based on its type.\n",
    "\n",
    "Note that Excel files may be read using the [ExcelReaders.jl](https://github.com/davidanthoff/ExcelReaders.jl) package."
   ]
  },
  {
   "cell_type": "markdown",
   "metadata": {},
   "source": [
    "## Reading CSVs"
   ]
  },
  {
   "cell_type": "markdown",
   "metadata": {},
   "source": [
    "Let's download some data from Cincinnati:"
   ]
  },
  {
   "cell_type": "markdown",
   "metadata": {},
   "source": [
    "https://data.cincinnati-oh.gov/Growing-Economy/City-of-Cincinnati-Vendor-Payments/qrj9-83t8"
   ]
  },
  {
   "cell_type": "code",
   "execution_count": 1,
   "metadata": {},
   "outputs": [
    {
     "name": "stderr",
     "output_type": "stream",
     "text": [
      "  % Total    % Received % Xferd  Average Speed   Time    Time     Time  Current\n",
      "                                 Dload  Upload   Total   Spent    Left  Speed\n",
      "100  196k    0  196k    0     0   200k      0 --:--:-- --:--:-- --:--:--  200k\n"
     ]
    },
    {
     "data": {
      "text/plain": [
       "\"vendor_data.csv\""
      ]
     },
     "execution_count": 1,
     "metadata": {},
     "output_type": "execute_result"
    }
   ],
   "source": [
    "download(\"https://data.cincinnati-oh.gov/resource/wv6n-ukpk.csv\", \"vendor_data.csv\")"
   ]
  },
  {
   "cell_type": "markdown",
   "metadata": {},
   "source": [
    "And read it in:"
   ]
  },
  {
   "cell_type": "code",
   "execution_count": 2,
   "metadata": {},
   "outputs": [
    {
     "data": {
      "text/html": [
       "<table class=\"data-frame\"><thead><tr><th></th><th>acct_period</th><th>amount</th><th>check_no</th><th>dept_code</th><th>dept_desc</th><th>exp_acct_cat</th><th>exp_acct_cat_desc</th><th>exp_acct_sub_desc</th><th>exp_acct_sub_no</th><th>fiscal_year</th><th>fund_code</th><th>fund_desc</th><th>record_date</th><th>trans_id</th><th>trans_line_no</th><th>vendor_name</th></tr></thead><tbody><tr><th>1</th><td>10</td><td>115.0</td><td>541480</td><td>300</td><td>Department Of Water Works</td><td>7682</td><td>Consultant</td><td>Design</td><td>43</td><td>2015</td><td>756</td><td>Water Works PIF</td><td>2015-04-07T00:00:00</td><td>AD134CHK2015015440</td><td>2</td><td>BRANDSTETTER CARROLL INC.</td></tr><tr><th>2</th><td>9</td><td>84.0</td><td>540482</td><td>271</td><td>Department Of Fire</td><td>7364</td><td>Wearing Apparel</td><td>missing</td><td>missing</td><td>2015</td><td>50</td><td>General</td><td>2015-03-19T00:00:00</td><td>AD134CHK2015014443</td><td>8</td><td>GALLS LLC</td></tr><tr><th>3</th><td>12</td><td>74.65</td><td>201506080054095</td><td>136</td><td>Finance, Income Tax</td><td>7289</td><td>Expert Services-Noc</td><td>missing</td><td>missing</td><td>2015</td><td>50</td><td>General</td><td>2015-06-09T00:00:00</td><td>EFT134EFT2015008223</td><td>1</td><td>LEXIS NEXIS</td></tr><tr><th>4</th><td>7</td><td>183.09</td><td>516851</td><td>195</td><td>Recreation Golf</td><td>7241</td><td>Gas</td><td>missing</td><td>missing</td><td>2014</td><td>105</td><td>Municipal Golf</td><td>2014-01-28T00:00:00</td><td>AD134CHK2014011801</td><td>39</td><td>Compass Energy Gas Services LLC.</td></tr><tr><th>5</th><td>2</td><td>52.0</td><td>201508100055434</td><td>302</td><td>Water Works, Commercial Services</td><td>7211</td><td>Postage</td><td>missing</td><td>missing</td><td>2016</td><td>101</td><td>Water Works</td><td>2015-08-11T00:00:00</td><td>EFT134EFT2016000778</td><td>1</td><td>U.S. BANK</td></tr><tr><th>6</th><td>8</td><td>7.0</td><td>518581</td><td>256</td><td>Fleet Services</td><td>7362</td><td>Tools And Testing Instruments</td><td>missing</td><td>missing</td><td>2014</td><td>202</td><td>Fleet Services</td><td>2014-02-27T00:00:00</td><td>AD134CHK2014013526</td><td>3</td><td>AIRGAS GREAT LAKES</td></tr><tr><th>7</th><td>8</td><td>40.0</td><td>558693</td><td>194</td><td>Recreation Maintenance</td><td>7289</td><td>Expert Services-Noc</td><td>missing</td><td>missing</td><td>2016</td><td>50</td><td>General</td><td>2016-02-04T00:00:00</td><td>AD134CHK2016012099</td><td>8</td><td>ABEL BUILDING SYSTEMS</td></tr><tr><th>8</th><td>2</td><td>462.0</td><td>201308050038145</td><td>194</td><td>Recreation Maintenance</td><td>7354</td><td>Chlorine</td><td>missing</td><td>missing</td><td>2014</td><td>50</td><td>General</td><td>2013-08-06T00:00:00</td><td>EFT134EFT2014000699</td><td>79</td><td>CHEMICALS INC.</td></tr><tr><th>9</th><td>6</td><td>440.54</td><td>535882</td><td>400</td><td>Department Of Sewers</td><td>7682</td><td>Consultant</td><td>missing</td><td>missing</td><td>2015</td><td>704</td><td>MSD Capital Improvements</td><td>2014-12-24T00:00:00</td><td>AD134CHK2015009864</td><td>22</td><td>MALCOLM PIRNIE INC</td></tr><tr><th>10</th><td>4</td><td>790.63</td><td>201410290048777</td><td>256</td><td>Fleet Services</td><td>1400</td><td>Inventory</td><td>missing</td><td>missing</td><td>2015</td><td>202</td><td>Fleet Services</td><td>2014-10-30T00:00:00</td><td>EFT134EFT2015002902</td><td>1</td><td>LYKINS OIL CO</td></tr><tr><th>11</th><td>9</td><td>64.45</td><td>540779</td><td>253</td><td>Div Of Neighborhood Operations</td><td>7276</td><td>Disposal</td><td>missing</td><td>missing</td><td>2015</td><td>50</td><td>General</td><td>2015-03-26T00:00:00</td><td>AD134CHK2015014755</td><td>6</td><td>RUMPKE SANITARY LANDFILL INC</td></tr><tr><th>12</th><td>12</td><td>3766.67</td><td>201406020045174</td><td>271</td><td>Department Of Fire</td><td>7289</td><td>Expert Services-Noc</td><td>missing</td><td>missing</td><td>2014</td><td>50</td><td>General</td><td>2014-06-03T00:00:00</td><td>EFT134EFT2014007871</td><td>1</td><td>CentreLearn Solutions, LLC</td></tr><tr><th>13</th><td>4</td><td>7.39</td><td>511699</td><td>222</td><td>Department Of Police</td><td>7419</td><td>Rent - Noc</td><td>missing</td><td>missing</td><td>2014</td><td>50</td><td>General</td><td>2013-10-17T00:00:00</td><td>AD134CHK2014006428</td><td>19</td><td>Unifirst Corporation</td></tr><tr><th>14</th><td>9</td><td>16.72</td><td>561351</td><td>307</td><td>Water Works, Div Of Info Tech</td><td>7211</td><td>Postage</td><td>missing</td><td>missing</td><td>2016</td><td>101</td><td>Water Works</td><td>2016-03-24T00:00:00</td><td>AD134CHK2016014776</td><td>56</td><td>FIFTH THIRD BANK</td></tr><tr><th>15</th><td>10</td><td>138.0</td><td>201404090043890</td><td>111</td><td>Dept of Law</td><td>7299</td><td>Sundry Contractual Services</td><td>missing</td><td>missing</td><td>2014</td><td>50</td><td>General</td><td>2014-04-10T00:00:00</td><td>EFT134EFT2014006587</td><td>2</td><td>DIVERSITY AT WORK GROUP</td></tr><tr><th>16</th><td>3</td><td>30.0</td><td>509444</td><td>194</td><td>Recreation Maintenance</td><td>7289</td><td>Expert Services-Noc</td><td>missing</td><td>missing</td><td>2014</td><td>50</td><td>General</td><td>2013-09-12T00:00:00</td><td>AD134CHK2014004206</td><td>3</td><td>SELECT PEST CONTROL</td></tr><tr><th>17</th><td>5</td><td>277.9</td><td>553649</td><td>300</td><td>Department Of Water Works</td><td>7671</td><td>Contract Items</td><td>missing</td><td>missing</td><td>2016</td><td>756</td><td>Water Works PIF</td><td>2015-11-03T00:00:00</td><td>AD134CHK2016007114</td><td>4</td><td>VALLEY ASPHALT CORP</td></tr><tr><th>18</th><td>2</td><td>2503.73</td><td>549267</td><td>256</td><td>Fleet Services</td><td>7255</td><td>Automotive By Others</td><td>missing</td><td>missing</td><td>2016</td><td>202</td><td>Fleet Services</td><td>2015-08-21T00:00:00</td><td>AD134CHK2016002577</td><td>1</td><td>TOYOTA OF CINCINNATI</td></tr><tr><th>19</th><td>2</td><td>214.5</td><td>549422</td><td>271</td><td>Department Of Fire</td><td>7364</td><td>Wearing Apparel</td><td>missing</td><td>missing</td><td>2016</td><td>50</td><td>General</td><td>2015-08-25T00:00:00</td><td>AD134CHK2016002798</td><td>6</td><td>GALLS LLC</td></tr><tr><th>20</th><td>1</td><td>85.09</td><td>505603</td><td>194</td><td>Recreation Maintenance</td><td>7335</td><td>Paints, Oils &amp; Glass</td><td>missing</td><td>missing</td><td>2014</td><td>50</td><td>General</td><td>2013-07-18T00:00:00</td><td>AD134CHK2014000343</td><td>1</td><td>CINTI COLOR CO INC</td></tr><tr><th>21</th><td>12</td><td>94.5</td><td>565214</td><td>263</td><td>Div Of Community Health</td><td>7289</td><td>Expert Services-Noc</td><td>missing</td><td>missing</td><td>2016</td><td>50</td><td>General</td><td>2016-06-09T00:00:00</td><td>AD134CHK2016018607</td><td>1</td><td>BRINKS INC</td></tr><tr><th>22</th><td>11</td><td>135.0</td><td>542928</td><td>222</td><td>Department Of Police</td><td>7364</td><td>Wearing Apparel</td><td>missing</td><td>missing</td><td>2015</td><td>50</td><td>General</td><td>2015-05-01T00:00:00</td><td>AD134CHK2015016895</td><td>96</td><td>GALLS LLC</td></tr><tr><th>23</th><td>7</td><td>1470.67</td><td>557420</td><td>442</td><td>MSD Millcreek Section</td><td>7248</td><td>Power</td><td>missing</td><td>missing</td><td>2016</td><td>701</td><td>Metropolitan Sewer District</td><td>2016-01-12T00:00:00</td><td>AD134CHK2016010779</td><td>10</td><td>DUKE ENERGY OHIO INC</td></tr><tr><th>24</th><td>5</td><td>1320.0</td><td>201610310067145</td><td>102</td><td>Office Of Budget &amp; Evaluation</td><td>7288</td><td>IT Services By Others</td><td>missing</td><td>missing</td><td>2017</td><td>50</td><td>General</td><td>2016-11-01T00:00:00</td><td>EFT134EFT2017003193</td><td>1</td><td>MAE CONSULTING</td></tr><tr><th>25</th><td>11</td><td>598.0</td><td>201505260053777</td><td>265</td><td>Primary Health Care - H.C.</td><td>7289</td><td>Expert Services-Noc</td><td>missing</td><td>missing</td><td>2015</td><td>395</td><td>Health Services</td><td>2015-05-27T00:00:00</td><td>EFT134EFT2015007905</td><td>1</td><td>EDIBLES-N-SUCH</td></tr><tr><th>26</th><td>8</td><td>21.53</td><td>517615</td><td>197</td><td>Recreation Athletics</td><td>7242</td><td>Electric Lighting</td><td>missing</td><td>missing</td><td>2014</td><td>50</td><td>General</td><td>2014-02-07T00:00:00</td><td>AD134CHK2014012546</td><td>127</td><td>DUKE ENERGY SHARED SERVICE INC</td></tr><tr><th>27</th><td>2</td><td>24.5</td><td>548978</td><td>222</td><td>Department Of Police</td><td>7419</td><td>Rent - Noc</td><td>missing</td><td>missing</td><td>2016</td><td>50</td><td>General</td><td>2015-08-18T00:00:00</td><td>AD134CHK2016002355</td><td>2</td><td>Unifirst Corporation</td></tr><tr><th>28</th><td>8</td><td>555.07</td><td>201502040051008</td><td>256</td><td>Fleet Services</td><td>1400</td><td>Inventory</td><td>missing</td><td>missing</td><td>2015</td><td>202</td><td>Fleet Services</td><td>2015-02-05T00:00:00</td><td>EFT134EFT2015005133</td><td>7</td><td>LYKINS OIL CO</td></tr><tr><th>29</th><td>10</td><td>804.96</td><td>562703</td><td>444</td><td>MSD Muddy Creek Section</td><td>7241</td><td>Gas</td><td>missing</td><td>missing</td><td>2016</td><td>701</td><td>Metropolitan Sewer District</td><td>2016-04-19T00:00:00</td><td>AD134CHK2016016093</td><td>4</td><td>DUKE ENERGY OHIO INC</td></tr><tr><th>30</th><td>2</td><td>-400.0</td><td>567681</td><td>222</td><td>Department Of Police</td><td>7215</td><td>Training</td><td>missing</td><td>missing</td><td>2017</td><td>367</td><td>Criminal Actv Forfeiture Fed</td><td>2016-08-04T00:00:00</td><td>AD134CHK2017001203</td><td>146</td><td>FIFTH THIRD BANK</td></tr><tr><th>&vellip;</th><td>&vellip;</td><td>&vellip;</td><td>&vellip;</td><td>&vellip;</td><td>&vellip;</td><td>&vellip;</td><td>&vellip;</td><td>&vellip;</td><td>&vellip;</td><td>&vellip;</td><td>&vellip;</td><td>&vellip;</td><td>&vellip;</td><td>&vellip;</td><td>&vellip;</td><td>&vellip;</td></tr></tbody></table>"
      ],
      "text/plain": [
       "1000×16 DataFrames.DataFrame. Omitted printing of 12 columns\n",
       "│ Row  │ acct_period │ amount  │ check_no        │ dept_code │\n",
       "├──────┼─────────────┼─────────┼─────────────────┼───────────┤\n",
       "│ 1    │ 10          │ 115.0   │ 541480          │ 300       │\n",
       "│ 2    │ 9           │ 84.0    │ 540482          │ 271       │\n",
       "│ 3    │ 12          │ 74.65   │ 201506080054095 │ 136       │\n",
       "│ 4    │ 7           │ 183.09  │ 516851          │ 195       │\n",
       "│ 5    │ 2           │ 52.0    │ 201508100055434 │ 302       │\n",
       "│ 6    │ 8           │ 7.0     │ 518581          │ 256       │\n",
       "│ 7    │ 8           │ 40.0    │ 558693          │ 194       │\n",
       "│ 8    │ 2           │ 462.0   │ 201308050038145 │ 194       │\n",
       "│ 9    │ 6           │ 440.54  │ 535882          │ 400       │\n",
       "│ 10   │ 4           │ 790.63  │ 201410290048777 │ 256       │\n",
       "│ 11   │ 9           │ 64.45   │ 540779          │ 253       │\n",
       "⋮\n",
       "│ 989  │ 1           │ 60.0    │ 505910          │ 234       │\n",
       "│ 990  │ 9           │ 166.0   │ 539648          │ 460       │\n",
       "│ 991  │ 10          │ 154.8   │ 201404280044343 │ 194       │\n",
       "│ 992  │ 4           │ 5029.33 │ 201610240067000 │ 480       │\n",
       "│ 993  │ 6           │ 87.5    │ 535048          │ 442       │\n",
       "│ 994  │ 10          │ 2974.38 │ 563375          │ 265       │\n",
       "│ 995  │ 2           │ 247.0   │ 567787          │ 253       │\n",
       "│ 996  │ 3           │ 135.0   │ 529419          │ 137       │\n",
       "│ 997  │ 9           │ 35.58   │ 541014          │ 401       │\n",
       "│ 998  │ 12          │ 14.46   │ 201606080063283 │ 202       │\n",
       "│ 999  │ 11          │ 10.0    │ 543543          │ 263       │\n",
       "│ 1000 │ 8           │ 267.88  │ 201402030042288 │ 256       │"
      ]
     },
     "execution_count": 2,
     "metadata": {},
     "output_type": "execute_result"
    }
   ],
   "source": [
    "# Pkg.add(\"CSV\")\n",
    "\n",
    "using CSV\n",
    "\n",
    "vendor_data = CSV.read(\"vendor_data.csv\")"
   ]
  },
  {
   "cell_type": "code",
   "execution_count": 5,
   "metadata": {},
   "outputs": [],
   "source": [
    "using DataFrames"
   ]
  },
  {
   "cell_type": "code",
   "execution_count": 6,
   "metadata": {},
   "outputs": [
    {
     "data": {
      "text/plain": [
       "missing"
      ]
     },
     "execution_count": 6,
     "metadata": {},
     "output_type": "execute_result"
    }
   ],
   "source": [
    "missing"
   ]
  },
  {
   "cell_type": "code",
   "execution_count": 7,
   "metadata": {},
   "outputs": [
    {
     "data": {
      "text/plain": [
       "Missings.Missing"
      ]
     },
     "execution_count": 7,
     "metadata": {},
     "output_type": "execute_result"
    }
   ],
   "source": [
    "typeof(missing)"
   ]
  },
  {
   "cell_type": "code",
   "execution_count": 10,
   "metadata": {},
   "outputs": [
    {
     "data": {
      "text/plain": [
       "3-element Array{Union{Int64, Missings.Missing},1}:\n",
       " 1       \n",
       " 2       \n",
       "  missing"
      ]
     },
     "execution_count": 10,
     "metadata": {},
     "output_type": "execute_result"
    }
   ],
   "source": [
    "v= [1, 2, missing]"
   ]
  },
  {
   "cell_type": "code",
   "execution_count": 12,
   "metadata": {},
   "outputs": [
    {
     "data": {
      "text/plain": [
       "2-element Array{Int64,1}:\n",
       " 1\n",
       " 2"
      ]
     },
     "execution_count": 12,
     "metadata": {},
     "output_type": "execute_result"
    }
   ],
   "source": [
    "collect(skipmissing(v))"
   ]
  },
  {
   "cell_type": "code",
   "execution_count": 13,
   "metadata": {},
   "outputs": [
    {
     "data": {
      "text/plain": [
       "Missings.EachSkipMissing{DataFrames.DataFrame}(1000×16 DataFrames.DataFrame. Omitted printing of 12 columns\n",
       "│ Row  │ acct_period │ amount  │ check_no        │ dept_code │\n",
       "├──────┼─────────────┼─────────┼─────────────────┼───────────┤\n",
       "│ 1    │ 10          │ 115.0   │ 541480          │ 300       │\n",
       "│ 2    │ 9           │ 84.0    │ 540482          │ 271       │\n",
       "│ 3    │ 12          │ 74.65   │ 201506080054095 │ 136       │\n",
       "│ 4    │ 7           │ 183.09  │ 516851          │ 195       │\n",
       "│ 5    │ 2           │ 52.0    │ 201508100055434 │ 302       │\n",
       "│ 6    │ 8           │ 7.0     │ 518581          │ 256       │\n",
       "│ 7    │ 8           │ 40.0    │ 558693          │ 194       │\n",
       "│ 8    │ 2           │ 462.0   │ 201308050038145 │ 194       │\n",
       "│ 9    │ 6           │ 440.54  │ 535882          │ 400       │\n",
       "│ 10   │ 4           │ 790.63  │ 201410290048777 │ 256       │\n",
       "│ 11   │ 9           │ 64.45   │ 540779          │ 253       │\n",
       "⋮\n",
       "│ 989  │ 1           │ 60.0    │ 505910          │ 234       │\n",
       "│ 990  │ 9           │ 166.0   │ 539648          │ 460       │\n",
       "│ 991  │ 10          │ 154.8   │ 201404280044343 │ 194       │\n",
       "│ 992  │ 4           │ 5029.33 │ 201610240067000 │ 480       │\n",
       "│ 993  │ 6           │ 87.5    │ 535048          │ 442       │\n",
       "│ 994  │ 10          │ 2974.38 │ 563375          │ 265       │\n",
       "│ 995  │ 2           │ 247.0   │ 567787          │ 253       │\n",
       "│ 996  │ 3           │ 135.0   │ 529419          │ 137       │\n",
       "│ 997  │ 9           │ 35.58   │ 541014          │ 401       │\n",
       "│ 998  │ 12          │ 14.46   │ 201606080063283 │ 202       │\n",
       "│ 999  │ 11          │ 10.0    │ 543543          │ 263       │\n",
       "│ 1000 │ 8           │ 267.88  │ 201402030042288 │ 256       │)"
      ]
     },
     "execution_count": 13,
     "metadata": {},
     "output_type": "execute_result"
    }
   ],
   "source": [
    "skipmissing(vendor_data)"
   ]
  },
  {
   "cell_type": "code",
   "execution_count": 14,
   "metadata": {},
   "outputs": [
    {
     "name": "stdout",
     "output_type": "stream",
     "text": [
      "search: \u001b[1mr\u001b[22m\u001b[1me\u001b[22m\u001b[1mp\u001b[22m\u001b[1ml\u001b[22m\u001b[1ma\u001b[22m\u001b[1mc\u001b[22m\u001b[1me\u001b[22m \u001b[1mr\u001b[22m\u001b[1me\u001b[22mdis\u001b[1mp\u001b[22m\u001b[1ml\u001b[22m\u001b[1ma\u001b[22my\n",
      "\n"
     ]
    },
    {
     "data": {
      "text/markdown": [
       "```\n",
       "replace(string::AbstractString, pat, r[, n::Integer=0])\n",
       "```\n",
       "\n",
       "Search for the given pattern `pat`, and replace each occurrence with `r`. If `n` is provided, replace at most `n` occurrences. As with search, the second argument may be a single character, a vector or a set of characters, a string, or a regular expression. If `r` is a function, each occurrence is replaced with `r(s)` where `s` is the matched substring. If `pat` is a regular expression and `r` is a `SubstitutionString`, then capture group references in `r` are replaced with the corresponding matched text.\n"
      ],
      "text/plain": [
       "```\n",
       "replace(string::AbstractString, pat, r[, n::Integer=0])\n",
       "```\n",
       "\n",
       "Search for the given pattern `pat`, and replace each occurrence with `r`. If `n` is provided, replace at most `n` occurrences. As with search, the second argument may be a single character, a vector or a set of characters, a string, or a regular expression. If `r` is a function, each occurrence is replaced with `r(s)` where `s` is the matched substring. If `pat` is a regular expression and `r` is a `SubstitutionString`, then capture group references in `r` are replaced with the corresponding matched text.\n"
      ]
     },
     "execution_count": 14,
     "metadata": {},
     "output_type": "execute_result"
    }
   ],
   "source": [
    "?replace"
   ]
  },
  {
   "cell_type": "code",
   "execution_count": 9,
   "metadata": {},
   "outputs": [
    {
     "name": "stdout",
     "output_type": "stream",
     "text": [
      " - DataFrames                    0.11.5\n"
     ]
    }
   ],
   "source": [
    "Pkg.status(\"DataFrames\")"
   ]
  },
  {
   "cell_type": "code",
   "execution_count": null,
   "metadata": {},
   "outputs": [],
   "source": []
  },
  {
   "cell_type": "code",
   "execution_count": null,
   "metadata": {},
   "outputs": [],
   "source": [
    "typeof(vendor_data)"
   ]
  },
  {
   "cell_type": "markdown",
   "metadata": {},
   "source": [
    "We see that `CSV.read` returns a **`DataFrame`**, equivalent to that of R or of the Python `pandas` package, i.e. a data structure in which columns contain different kinds of data, and may be different Julia types. There may also be missing data, labelled as `missing`, which is a value provided by the `Missings.jl` package:"
   ]
  },
  {
   "cell_type": "code",
   "execution_count": null,
   "metadata": {},
   "outputs": [],
   "source": [
    "missing"
   ]
  },
  {
   "cell_type": "code",
   "execution_count": null,
   "metadata": {},
   "outputs": [],
   "source": [
    "typeof(missing)"
   ]
  },
  {
   "cell_type": "markdown",
   "metadata": {},
   "source": [
    "We can find out the names of the columns:"
   ]
  },
  {
   "cell_type": "code",
   "execution_count": 15,
   "metadata": {},
   "outputs": [
    {
     "data": {
      "text/plain": [
       "16-element Array{Symbol,1}:\n",
       " :acct_period      \n",
       " :amount           \n",
       " :check_no         \n",
       " :dept_code        \n",
       " :dept_desc        \n",
       " :exp_acct_cat     \n",
       " :exp_acct_cat_desc\n",
       " :exp_acct_sub_desc\n",
       " :exp_acct_sub_no  \n",
       " :fiscal_year      \n",
       " :fund_code        \n",
       " :fund_desc        \n",
       " :record_date      \n",
       " :trans_id         \n",
       " :trans_line_no    \n",
       " :vendor_name      "
      ]
     },
     "execution_count": 15,
     "metadata": {},
     "output_type": "execute_result"
    }
   ],
   "source": [
    "names(vendor_data)"
   ]
  },
  {
   "cell_type": "markdown",
   "metadata": {},
   "source": [
    "and extract a given column:"
   ]
  },
  {
   "cell_type": "code",
   "execution_count": 16,
   "metadata": {},
   "outputs": [
    {
     "data": {
      "text/plain": [
       "1000-element CategoricalArrays.CategoricalArray{String,1,UInt32}:\n",
       " \"BRANDSTETTER CARROLL INC.\"               \n",
       " \"GALLS LLC\"                               \n",
       " \"LEXIS NEXIS\"                             \n",
       " \"Compass Energy Gas Services LLC.\"        \n",
       " \"U.S. BANK\"                               \n",
       " \"AIRGAS GREAT LAKES\"                      \n",
       " \"ABEL BUILDING SYSTEMS\"                   \n",
       " \"CHEMICALS INC.\"                          \n",
       " \"MALCOLM PIRNIE INC\"                      \n",
       " \"LYKINS OIL CO\"                           \n",
       " \"RUMPKE SANITARY LANDFILL INC\"            \n",
       " \"CentreLearn Solutions, LLC\"              \n",
       " \"Unifirst Corporation\"                    \n",
       " ⋮                                         \n",
       " \"BEAR'S MULCH\"                            \n",
       " \"American Chemical Society\"               \n",
       " \"CHEMICALS INC.\"                          \n",
       " \"DH Storm Team, LLC\"                      \n",
       " \"Unifirst Corporation\"                    \n",
       " \"PATTERSON DENTAL SUP INC\"                \n",
       " \"DEGREE LAWN & LANDSCAPE LLC.\"            \n",
       " \"ATLAS BLUEPRINT & SUPPLY COMPANY\"        \n",
       " \"CELLCO PARTNERSHIP, DBA VERIZON WIRELESS\"\n",
       " \"ALLIED SUPPLY COMPANY INC\"               \n",
       " \"Arrasmith Promotions LLC\"                \n",
       " \"LYKINS OIL CO\"                           "
      ]
     },
     "execution_count": 16,
     "metadata": {},
     "output_type": "execute_result"
    }
   ],
   "source": [
    "vendor_data[:vendor_name]"
   ]
  },
  {
   "cell_type": "code",
   "execution_count": 17,
   "metadata": {},
   "outputs": [
    {
     "data": {
      "text/plain": [
       "337-element Array{String,1}:\n",
       " \"BRANDSTETTER CARROLL INC.\"                                   \n",
       " \"GALLS LLC\"                                                   \n",
       " \"LEXIS NEXIS\"                                                 \n",
       " \"Compass Energy Gas Services LLC.\"                            \n",
       " \"U.S. BANK\"                                                   \n",
       " \"AIRGAS GREAT LAKES\"                                          \n",
       " \"ABEL BUILDING SYSTEMS\"                                       \n",
       " \"CHEMICALS INC.\"                                              \n",
       " \"MALCOLM PIRNIE INC\"                                          \n",
       " \"LYKINS OIL CO\"                                               \n",
       " \"RUMPKE SANITARY LANDFILL INC\"                                \n",
       " \"CentreLearn Solutions, LLC\"                                  \n",
       " \"Unifirst Corporation\"                                        \n",
       " ⋮                                                             \n",
       " \"YRC FREIGHT\"                                                 \n",
       " \"PEDCO E & A SERVICES, INC.\"                                  \n",
       " \"MOTION PICTURE LICENSING CORP\"                               \n",
       " \"THE SAFETY COMPANY LLC\"                                      \n",
       " \"COMMUNITY DEVELOPMENT CORPORATIONS ASSOCIATION OF GREATER CI\"\n",
       " \"ENVIRONMENTAL TECHNOLOGIES AND COMMUNICATIONS, INC.\"         \n",
       " \"The Brickman Group, Ltd. LLC\"                                \n",
       " \"Beverly Levine, Executor of the Estate of Everett P. Levine,\"\n",
       " \"BEAR'S MULCH\"                                                \n",
       " \"American Chemical Society\"                                   \n",
       " \"ATLAS BLUEPRINT & SUPPLY COMPANY\"                            \n",
       " \"Arrasmith Promotions LLC\"                                    "
      ]
     },
     "execution_count": 17,
     "metadata": {},
     "output_type": "execute_result"
    }
   ],
   "source": [
    "vendors = unique(vendor_data[:vendor_name])"
   ]
  },
  {
   "cell_type": "markdown",
   "metadata": {},
   "source": [
    "We may want to extract all of those transactions corresponding to a given vendor, which we do in a vectorized way:"
   ]
  },
  {
   "cell_type": "markdown",
   "metadata": {},
   "source": [
    "**Exercise**: Find which rows correspond to the second vendor, and extract those rows."
   ]
  },
  {
   "cell_type": "code",
   "execution_count": 18,
   "metadata": {},
   "outputs": [
    {
     "data": {
      "text/plain": [
       "1000-element BitArray{1}:\n",
       " false\n",
       "  true\n",
       " false\n",
       " false\n",
       " false\n",
       " false\n",
       " false\n",
       " false\n",
       " false\n",
       " false\n",
       " false\n",
       " false\n",
       " false\n",
       "     ⋮\n",
       " false\n",
       " false\n",
       " false\n",
       " false\n",
       " false\n",
       " false\n",
       " false\n",
       " false\n",
       " false\n",
       " false\n",
       " false\n",
       " false"
      ]
     },
     "execution_count": 18,
     "metadata": {},
     "output_type": "execute_result"
    }
   ],
   "source": [
    "vendor_data[:vendor_name] .== vendors[2]"
   ]
  },
  {
   "cell_type": "code",
   "execution_count": 21,
   "metadata": {},
   "outputs": [
    {
     "data": {
      "text/html": [
       "<table class=\"data-frame\"><thead><tr><th></th><th>acct_period</th><th>amount</th><th>check_no</th><th>dept_code</th><th>dept_desc</th><th>exp_acct_cat</th><th>exp_acct_cat_desc</th><th>exp_acct_sub_desc</th><th>exp_acct_sub_no</th><th>fiscal_year</th><th>fund_code</th><th>fund_desc</th><th>record_date</th><th>trans_id</th><th>trans_line_no</th><th>vendor_name</th></tr></thead><tbody><tr><th>1</th><td>9</td><td>84.0</td><td>540482</td><td>271</td><td>Department Of Fire</td><td>7364</td><td>Wearing Apparel</td><td>missing</td><td>missing</td><td>2015</td><td>50</td><td>General</td><td>2015-03-19T00:00:00</td><td>AD134CHK2015014443</td><td>8</td><td>GALLS LLC</td></tr><tr><th>2</th><td>2</td><td>214.5</td><td>549422</td><td>271</td><td>Department Of Fire</td><td>7364</td><td>Wearing Apparel</td><td>missing</td><td>missing</td><td>2016</td><td>50</td><td>General</td><td>2015-08-25T00:00:00</td><td>AD134CHK2016002798</td><td>6</td><td>GALLS LLC</td></tr><tr><th>3</th><td>11</td><td>135.0</td><td>542928</td><td>222</td><td>Department Of Police</td><td>7364</td><td>Wearing Apparel</td><td>missing</td><td>missing</td><td>2015</td><td>50</td><td>General</td><td>2015-05-01T00:00:00</td><td>AD134CHK2015016895</td><td>96</td><td>GALLS LLC</td></tr><tr><th>4</th><td>8</td><td>70.2</td><td>201602040059943</td><td>222</td><td>Department Of Police</td><td>7364</td><td>Wearing Apparel</td><td>missing</td><td>missing</td><td>2016</td><td>50</td><td>General</td><td>2016-02-05T00:00:00</td><td>EFT134EFT2016005288</td><td>8</td><td>GALLS LLC</td></tr><tr><th>5</th><td>6</td><td>95.96</td><td>201612050068070</td><td>248</td><td>Div Of Parking Facilities</td><td>7364</td><td>Wearing Apparel</td><td>missing</td><td>missing</td><td>2017</td><td>102</td><td>Parking System Facilities</td><td>2016-12-06T00:00:00</td><td>EFT134EFT2017004118</td><td>8</td><td>GALLS LLC</td></tr><tr><th>6</th><td>6</td><td>261.3</td><td>201612050068112</td><td>271</td><td>Department Of Fire</td><td>7364</td><td>Wearing Apparel</td><td>missing</td><td>missing</td><td>2017</td><td>50</td><td>General</td><td>2016-12-06T00:00:00</td><td>EFT134EFT2017004160</td><td>21</td><td>GALLS LLC</td></tr><tr><th>7</th><td>6</td><td>145.0</td><td>201612050068112</td><td>450</td><td>MSD Div Of Wastewater Collection</td><td>7364</td><td>Wearing Apparel</td><td>missing</td><td>missing</td><td>2017</td><td>701</td><td>Metropolitan Sewer District</td><td>2016-12-06T00:00:00</td><td>EFT134EFT2017004160</td><td>31</td><td>GALLS LLC</td></tr><tr><th>8</th><td>6</td><td>14.42</td><td>201612050068112</td><td>271</td><td>Department Of Fire</td><td>7364</td><td>Wearing Apparel</td><td>missing</td><td>missing</td><td>2017</td><td>50</td><td>General</td><td>2016-12-06T00:00:00</td><td>EFT134EFT2017004160</td><td>2</td><td>GALLS LLC</td></tr><tr><th>9</th><td>6</td><td>67.47</td><td>201612050068112</td><td>271</td><td>Department Of Fire</td><td>7364</td><td>Wearing Apparel</td><td>missing</td><td>missing</td><td>2017</td><td>50</td><td>General</td><td>2016-12-06T00:00:00</td><td>EFT134EFT2017004160</td><td>6</td><td>GALLS LLC</td></tr><tr><th>10</th><td>6</td><td>227.64</td><td>201612050068112</td><td>271</td><td>Department Of Fire</td><td>7364</td><td>Wearing Apparel</td><td>missing</td><td>missing</td><td>2017</td><td>50</td><td>General</td><td>2016-12-06T00:00:00</td><td>EFT134EFT2017004160</td><td>15</td><td>GALLS LLC</td></tr><tr><th>11</th><td>9</td><td>230.55</td><td>201603140060946</td><td>222</td><td>Department Of Police</td><td>7364</td><td>Wearing Apparel</td><td>missing</td><td>missing</td><td>2016</td><td>50</td><td>General</td><td>2016-03-15T00:00:00</td><td>EFT134EFT2016006291</td><td>99</td><td>GALLS LLC</td></tr><tr><th>12</th><td>10</td><td>3.39</td><td>542464</td><td>271</td><td>Department Of Fire</td><td>7364</td><td>Wearing Apparel</td><td>missing</td><td>missing</td><td>2015</td><td>50</td><td>General</td><td>2015-04-23T00:00:00</td><td>AD134CHK2015016424</td><td>58</td><td>GALLS LLC</td></tr><tr><th>13</th><td>8</td><td>30.68</td><td>201602240060464</td><td>222</td><td>Department Of Police</td><td>7364</td><td>Wearing Apparel</td><td>missing</td><td>missing</td><td>2016</td><td>50</td><td>General</td><td>2016-02-25T00:00:00</td><td>EFT134EFT2016005809</td><td>45</td><td>GALLS LLC</td></tr><tr><th>14</th><td>12</td><td>29.75</td><td>201606220063793</td><td>271</td><td>Department Of Fire</td><td>7364</td><td>Wearing Apparel</td><td>missing</td><td>missing</td><td>2016</td><td>50</td><td>General</td><td>2016-06-23T00:00:00</td><td>EFT134EFT2016009138</td><td>29</td><td>GALLS LLC</td></tr><tr><th>15</th><td>1</td><td>86.52</td><td>201607200064251</td><td>271</td><td>Department Of Fire</td><td>7364</td><td>Wearing Apparel</td><td>missing</td><td>missing</td><td>2017</td><td>50</td><td>General</td><td>2016-07-21T00:00:00</td><td>EFT134EFT2017000299</td><td>23</td><td>GALLS LLC</td></tr><tr><th>16</th><td>6</td><td>114.0</td><td>201612050068112</td><td>421</td><td>Project Delivery</td><td>7364</td><td>Wearing Apparel</td><td>missing</td><td>missing</td><td>2017</td><td>701</td><td>Metropolitan Sewer District</td><td>2016-12-06T00:00:00</td><td>EFT134EFT2017004160</td><td>29</td><td>GALLS LLC</td></tr><tr><th>17</th><td>6</td><td>95.4</td><td>201612050068112</td><td>271</td><td>Department Of Fire</td><td>7364</td><td>Wearing Apparel</td><td>missing</td><td>missing</td><td>2017</td><td>50</td><td>General</td><td>2016-12-06T00:00:00</td><td>EFT134EFT2017004160</td><td>9</td><td>GALLS LLC</td></tr><tr><th>18</th><td>6</td><td>243.61</td><td>201612050068112</td><td>271</td><td>Department Of Fire</td><td>7364</td><td>Wearing Apparel</td><td>missing</td><td>missing</td><td>2017</td><td>50</td><td>General</td><td>2016-12-06T00:00:00</td><td>EFT134EFT2017004160</td><td>18</td><td>GALLS LLC</td></tr><tr><th>19</th><td>8</td><td>229.05</td><td>201602160060252</td><td>222</td><td>Department Of Police</td><td>7364</td><td>Wearing Apparel</td><td>missing</td><td>missing</td><td>2016</td><td>50</td><td>General</td><td>2016-02-17T00:00:00</td><td>EFT134EFT2016005597</td><td>80</td><td>GALLS LLC</td></tr><tr><th>20</th><td>9</td><td>228.3</td><td>201603070060745</td><td>222</td><td>Department Of Police</td><td>7364</td><td>Wearing Apparel</td><td>missing</td><td>missing</td><td>2016</td><td>50</td><td>General</td><td>2016-03-08T00:00:00</td><td>EFT134EFT2016006090</td><td>78</td><td>GALLS LLC</td></tr><tr><th>21</th><td>8</td><td>135.0</td><td>538185</td><td>222</td><td>Department Of Police</td><td>7364</td><td>Wearing Apparel</td><td>missing</td><td>missing</td><td>2015</td><td>50</td><td>General</td><td>2015-02-10T00:00:00</td><td>AD134CHK2015012174</td><td>89</td><td>GALLS LLC</td></tr><tr><th>22</th><td>11</td><td>215.5</td><td>201605260063007</td><td>222</td><td>Department Of Police</td><td>7364</td><td>Wearing Apparel</td><td>missing</td><td>missing</td><td>2016</td><td>50</td><td>General</td><td>2016-05-27T00:00:00</td><td>EFT134EFT2016008352</td><td>6</td><td>GALLS LLC</td></tr><tr><th>23</th><td>11</td><td>269.8</td><td>544328</td><td>222</td><td>Department Of Police</td><td>7364</td><td>Wearing Apparel</td><td>missing</td><td>missing</td><td>2015</td><td>50</td><td>General</td><td>2015-05-27T00:00:00</td><td>AD134CHK2015018323</td><td>58</td><td>GALLS LLC</td></tr><tr><th>24</th><td>6</td><td>127.15</td><td>201612050068112</td><td>450</td><td>MSD Div Of Wastewater Collection</td><td>7364</td><td>Wearing Apparel</td><td>missing</td><td>missing</td><td>2017</td><td>701</td><td>Metropolitan Sewer District</td><td>2016-12-06T00:00:00</td><td>EFT134EFT2017004160</td><td>32</td><td>GALLS LLC</td></tr><tr><th>25</th><td>6</td><td>257.88</td><td>201612050068112</td><td>271</td><td>Department Of Fire</td><td>7364</td><td>Wearing Apparel</td><td>missing</td><td>missing</td><td>2017</td><td>50</td><td>General</td><td>2016-12-06T00:00:00</td><td>EFT134EFT2017004160</td><td>20</td><td>GALLS LLC</td></tr><tr><th>26</th><td>6</td><td>238.49</td><td>201612050068112</td><td>271</td><td>Department Of Fire</td><td>7364</td><td>Wearing Apparel</td><td>missing</td><td>missing</td><td>2017</td><td>50</td><td>General</td><td>2016-12-06T00:00:00</td><td>EFT134EFT2017004160</td><td>17</td><td>GALLS LLC</td></tr><tr><th>27</th><td>6</td><td>303.85</td><td>201612050068112</td><td>271</td><td>Department Of Fire</td><td>7364</td><td>Wearing Apparel</td><td>missing</td><td>missing</td><td>2017</td><td>50</td><td>General</td><td>2016-12-06T00:00:00</td><td>EFT134EFT2017004160</td><td>22</td><td>GALLS LLC</td></tr><tr><th>28</th><td>6</td><td>237.15</td><td>201612050068112</td><td>450</td><td>MSD Div Of Wastewater Collection</td><td>7364</td><td>Wearing Apparel</td><td>missing</td><td>missing</td><td>2017</td><td>701</td><td>Metropolitan Sewer District</td><td>2016-12-06T00:00:00</td><td>EFT134EFT2017004160</td><td>33</td><td>GALLS LLC</td></tr><tr><th>29</th><td>10</td><td>78.0</td><td>542464</td><td>271</td><td>Department Of Fire</td><td>7364</td><td>Wearing Apparel</td><td>missing</td><td>missing</td><td>2015</td><td>50</td><td>General</td><td>2015-04-23T00:00:00</td><td>AD134CHK2015016424</td><td>112</td><td>GALLS LLC</td></tr><tr><th>30</th><td>10</td><td>93.2</td><td>541192</td><td>222</td><td>Department Of Police</td><td>7364</td><td>Wearing Apparel</td><td>missing</td><td>missing</td><td>2015</td><td>50</td><td>General</td><td>2015-04-02T00:00:00</td><td>AD134CHK2015015172</td><td>10</td><td>GALLS LLC</td></tr><tr><th>&vellip;</th><td>&vellip;</td><td>&vellip;</td><td>&vellip;</td><td>&vellip;</td><td>&vellip;</td><td>&vellip;</td><td>&vellip;</td><td>&vellip;</td><td>&vellip;</td><td>&vellip;</td><td>&vellip;</td><td>&vellip;</td><td>&vellip;</td><td>&vellip;</td><td>&vellip;</td><td>&vellip;</td></tr></tbody></table>"
      ],
      "text/plain": [
       "42×16 DataFrames.DataFrame. Omitted printing of 12 columns\n",
       "│ Row │ acct_period │ amount │ check_no        │ dept_code │\n",
       "├─────┼─────────────┼────────┼─────────────────┼───────────┤\n",
       "│ 1   │ 9           │ 84.0   │ 540482          │ 271       │\n",
       "│ 2   │ 2           │ 214.5  │ 549422          │ 271       │\n",
       "│ 3   │ 11          │ 135.0  │ 542928          │ 222       │\n",
       "│ 4   │ 8           │ 70.2   │ 201602040059943 │ 222       │\n",
       "│ 5   │ 6           │ 95.96  │ 201612050068070 │ 248       │\n",
       "│ 6   │ 6           │ 261.3  │ 201612050068112 │ 271       │\n",
       "│ 7   │ 6           │ 145.0  │ 201612050068112 │ 450       │\n",
       "│ 8   │ 6           │ 14.42  │ 201612050068112 │ 271       │\n",
       "│ 9   │ 6           │ 67.47  │ 201612050068112 │ 271       │\n",
       "│ 10  │ 6           │ 227.64 │ 201612050068112 │ 271       │\n",
       "│ 11  │ 9           │ 230.55 │ 201603140060946 │ 222       │\n",
       "⋮\n",
       "│ 31  │ 11          │ 8.18   │ 201605250062969 │ 222       │\n",
       "│ 32  │ 3           │ 213.0  │ 550489          │ 271       │\n",
       "│ 33  │ 11          │ 160.36 │ 201605040062367 │ 271       │\n",
       "│ 34  │ 12          │ 78.0   │ 545197          │ 271       │\n",
       "│ 35  │ 9           │ 36.0   │ 540148          │ 271       │\n",
       "│ 36  │ 2           │ 311.52 │ 201608030064658 │ 271       │\n",
       "│ 37  │ 12          │ 88.5   │ 545197          │ 271       │\n",
       "│ 38  │ 3           │ 84.0   │ 550832          │ 271       │\n",
       "│ 39  │ 12          │ 25.95  │ 546468          │ 222       │\n",
       "│ 40  │ 10          │ 105.0  │ 542900          │ 271       │\n",
       "│ 41  │ 11          │ 46.0   │ 543672          │ 271       │\n",
       "│ 42  │ 9           │ 9.64   │ 201603020060636 │ 222       │"
      ]
     },
     "execution_count": 21,
     "metadata": {},
     "output_type": "execute_result"
    }
   ],
   "source": [
    "vendor_data[ vendor_data[:vendor_name] .== vendors[2], :]"
   ]
  },
  {
   "cell_type": "markdown",
   "metadata": {},
   "source": [
    "## Querying a database using `Query.jl`"
   ]
  },
  {
   "cell_type": "markdown",
   "metadata": {},
   "source": [
    "The syntax for the above kind of operation gets very messy very fast, so we instead turn to a more powerful tool, `Query.jl`, which provides a syntax based on C#'s LINQ:"
   ]
  },
  {
   "cell_type": "code",
   "execution_count": 22,
   "metadata": {},
   "outputs": [],
   "source": [
    "using Query, DataFrames"
   ]
  },
  {
   "cell_type": "code",
   "execution_count": 23,
   "metadata": {},
   "outputs": [
    {
     "data": {
      "text/html": [
       "<table class=\"data-frame\"><thead><tr><th></th><th>acct_period</th><th>amount</th><th>check_no</th><th>dept_code</th><th>dept_desc</th><th>exp_acct_cat</th><th>exp_acct_cat_desc</th><th>exp_acct_sub_desc</th><th>exp_acct_sub_no</th><th>fiscal_year</th><th>fund_code</th><th>fund_desc</th><th>record_date</th><th>trans_id</th><th>trans_line_no</th><th>vendor_name</th></tr></thead><tbody><tr><th>1</th><td>9</td><td>166.0</td><td>539648</td><td>460</td><td>MSD Div Of Industrial Waste</td><td>7452</td><td>Subscriptions &amp; Memberships</td><td>missing</td><td>missing</td><td>2015</td><td>701</td><td>Metropolitan Sewer District</td><td>2015-03-06T00:00:00</td><td>AD134CHK2015013588</td><td>1</td><td>American Chemical Society</td></tr></tbody></table>"
      ],
      "text/plain": [
       "1×16 DataFrames.DataFrame. Omitted printing of 12 columns\n",
       "│ Row │ acct_period │ amount │ check_no │ dept_code │\n",
       "├─────┼─────────────┼────────┼──────────┼───────────┤\n",
       "│ 1   │ 9           │ 166.0  │ 539648   │ 460       │"
      ]
     },
     "execution_count": 23,
     "metadata": {},
     "output_type": "execute_result"
    }
   ],
   "source": [
    "@from v in vendor_data begin\n",
    "     @where v.vendor_name == \"American Chemical Society\"\n",
    "     @select v\n",
    "     @collect DataFrame\n",
    "end"
   ]
  },
  {
   "cell_type": "markdown",
   "metadata": {},
   "source": [
    "**Exercise**: (i) Make an interactive tool for choosing transactions with a given vendor.\n",
    "\n",
    "(ii) Find the number of transactions with each vendor."
   ]
  },
  {
   "cell_type": "code",
   "execution_count": 25,
   "metadata": {},
   "outputs": [
    {
     "data": {
      "text/html": [
       "<div id=\"interact-js-shim\">\n",
       "    <script charset=\"utf-8\">\n",
       "(function (IPython, $, _, MathJax) {\n",
       "    $.event.special.destroyed = {\n",
       "\tremove: function(o) {\n",
       "\t    if (o.handler) {\n",
       "\t\to.handler.apply(this, arguments)\n",
       "\t    }\n",
       "\t}\n",
       "    }\n",
       "\n",
       "    var OutputArea = IPython.version >= \"4.0.0\" ? require(\"notebook/js/outputarea\").OutputArea : IPython.OutputArea;\n",
       "\n",
       "    var redrawValue = function (container, type, val) {\n",
       "\tvar selector = $(\"<div/>\");\n",
       "\tvar oa = new OutputArea(_.extend(selector, {\n",
       "\t    selector: selector,\n",
       "\t    prompt_area: true,\n",
       "\t    events: IPython.events,\n",
       "\t    keyboard_manager: IPython.keyboard_manager\n",
       "\t})); // Hack to work with IPython 2.1.0\n",
       "\n",
       "\tswitch (type) {\n",
       "\tcase \"image/png\":\n",
       "            var _src = 'data:' + type + ';base64,' + val;\n",
       "\t    $(container).find(\"img\").attr('src', _src);\n",
       "\t    break;\n",
       "\tcase \"text/latex\":\n",
       "\t\tif (MathJax){\n",
       "\t\t\tvar math = MathJax.Hub.getAllJax(container)[0];\n",
       "\t\t\tMathJax.Hub.Queue([\"Text\", math, val.replace(/^\\${1,2}|\\${1,2}$/g, '')]);\n",
       "\t\t\tbreak;\n",
       "\t\t}\n",
       "\tdefault:\n",
       "\t    var toinsert = OutputArea.append_map[type].apply(\n",
       "\t\toa, [val, {}, selector]\n",
       "\t    );\n",
       "\t    $(container).empty().append(toinsert.contents());\n",
       "\t    selector.remove();\n",
       "\t}\n",
       "    }\n",
       "\n",
       "\n",
       "    $(document).ready(function() {\n",
       "\tfunction initComm(evt, data) {\n",
       "\t    var comm_manager = data.kernel.comm_manager;\n",
       "        //_.extend(comm_manager.targets, require(\"widgets/js/widget\"))\n",
       "\t    comm_manager.register_target(\"Signal\", function (comm) {\n",
       "            comm.on_msg(function (msg) {\n",
       "                var val = msg.content.data.value;\n",
       "                $(\".signal-\" + comm.comm_id).each(function() {\n",
       "                var type = $(this).data(\"type\");\n",
       "                if (typeof(val[type]) !== \"undefined\" && val[type] !== null) {\n",
       "                    redrawValue(this, type, val[type], type);\n",
       "                }\n",
       "                });\n",
       "                delete val;\n",
       "                delete msg.content.data.value;\n",
       "            });\n",
       "\t    });\n",
       "\n",
       "\t    // coordingate with Comm and redraw Signals\n",
       "\t    // XXX: Test using Reactive here to improve performance\n",
       "\t    $([IPython.events]).on(\n",
       "\t\t'output_appended.OutputArea', function (event, type, value, md, toinsert) {\n",
       "\t\t    if (md && md.reactive) {\n",
       "                // console.log(md.comm_id);\n",
       "                toinsert.addClass(\"signal-\" + md.comm_id);\n",
       "                toinsert.data(\"type\", type);\n",
       "                // Signal back indicating the mimetype required\n",
       "                var comm_manager = IPython.notebook.kernel.comm_manager;\n",
       "                var comm = comm_manager.comms[md.comm_id];\n",
       "                comm.then(function (c) {\n",
       "                    c.send({action: \"subscribe_mime\",\n",
       "                       mime: type});\n",
       "                    toinsert.bind(\"destroyed\", function() {\n",
       "                        c.send({action: \"unsubscribe_mime\",\n",
       "                               mime: type});\n",
       "                    });\n",
       "                })\n",
       "\t\t    }\n",
       "\t    });\n",
       "\t}\n",
       "\n",
       "\ttry {\n",
       "\t    // try to initialize right away. otherwise, wait on the status_started event.\n",
       "\t    initComm(undefined, IPython.notebook);\n",
       "\t} catch (e) {\n",
       "\t    $([IPython.events]).on('kernel_created.Kernel kernel_created.Session', initComm);\n",
       "\t}\n",
       "    });\n",
       "})(IPython, jQuery, _, MathJax);\n",
       "</script>\n",
       "    <script>\n",
       "        window.interactLoadedFlag = true\n",
       "       $(\"#interact-js-shim\").bind(\"destroyed\", function () {\n",
       "           if (window.interactLoadedFlag) {\n",
       "               console.warn(\"JavaScript required by Interact will be removed if you remove this cell or run using Interact more than once.\")\n",
       "           }\n",
       "       })\n",
       "       $([IPython.events]).on(\"kernel_starting.Kernel kernel_restarting.Kernel\", function () { window.interactLoadedFlag = false })\n",
       "   </script>\n",
       "</div>"
      ]
     },
     "metadata": {},
     "output_type": "display_data"
    },
    {
     "name": "stderr",
     "output_type": "stream",
     "text": [
      "\u001b[1m\u001b[36mINFO: \u001b[39m\u001b[22m\u001b[36mInteract.jl: using new nbwidgetsextension protocol\n",
      "\u001b[39mWARNING: using Interact.select in module Main conflicts with an existing identifier.\n"
     ]
    }
   ],
   "source": [
    "using Interact"
   ]
  },
  {
   "cell_type": "code",
   "execution_count": 27,
   "metadata": {},
   "outputs": [
    {
     "data": {
      "application/vnd.jupyter.widget-view+json": {
       "model_id": "242726e7-a343-4432-a540-35f36a80067e",
       "version_major": 2,
       "version_minor": 0
      }
     },
     "metadata": {},
     "output_type": "display_data"
    },
    {
     "data": {
      "text/html": [],
      "text/plain": [
       "Interact.Slider{Int64}(5: \"input-2\" = 1 Int64 , \"\", 1, 1:337, \"horizontal\", true, \"d\", true)"
      ]
     },
     "metadata": {},
     "output_type": "display_data"
    },
    {
     "data": {
      "text/html": [
       "<table class=\"data-frame\"><thead><tr><th></th><th>acct_period</th><th>amount</th><th>check_no</th><th>dept_code</th><th>dept_desc</th><th>exp_acct_cat</th><th>exp_acct_cat_desc</th><th>exp_acct_sub_desc</th><th>exp_acct_sub_no</th><th>fiscal_year</th><th>fund_code</th><th>fund_desc</th><th>record_date</th><th>trans_id</th><th>trans_line_no</th><th>vendor_name</th></tr></thead><tbody><tr><th>1</th><td>10</td><td>115.0</td><td>541480</td><td>300</td><td>Department Of Water Works</td><td>7682</td><td>Consultant</td><td>Design</td><td>43</td><td>2015</td><td>756</td><td>Water Works PIF</td><td>2015-04-07T00:00:00</td><td>AD134CHK2015015440</td><td>2</td><td>BRANDSTETTER CARROLL INC.</td></tr></tbody></table>"
      ],
      "text/plain": [
       "1×16 DataFrames.DataFrame. Omitted printing of 12 columns\n",
       "│ Row │ acct_period │ amount │ check_no │ dept_code │\n",
       "├─────┼─────────────┼────────┼──────────┼───────────┤\n",
       "│ 1   │ 10          │ 115.0  │ 541480   │ 300       │"
      ]
     },
     "execution_count": 27,
     "metadata": {
      "comm_id": "009a165b-42b0-444e-ba6a-8c76f1efa409",
      "reactive": true
     },
     "output_type": "execute_result"
    }
   ],
   "source": [
    "@manipulate for i in slider(1:length(vendors), value=1)\n",
    "\n",
    "    @from v in vendor_data begin\n",
    "         @where v.vendor_name == vendors[i]\n",
    "         @select v\n",
    "         @collect DataFrame\n",
    "    end\n",
    "    \n",
    "end"
   ]
  },
  {
   "cell_type": "code",
   "execution_count": 33,
   "metadata": {},
   "outputs": [
    {
     "data": {
      "text/plain": [
       "f (generic function with 1 method)"
      ]
     },
     "execution_count": 33,
     "metadata": {},
     "output_type": "execute_result"
    }
   ],
   "source": [
    "f(x; hello=3) = x + hello   # keyword argument: separate with semicolon"
   ]
  },
  {
   "cell_type": "code",
   "execution_count": 30,
   "metadata": {},
   "outputs": [
    {
     "data": {
      "text/plain": [
       "6"
      ]
     },
     "execution_count": 30,
     "metadata": {},
     "output_type": "execute_result"
    }
   ],
   "source": [
    "f(3)"
   ]
  },
  {
   "cell_type": "code",
   "execution_count": 31,
   "metadata": {},
   "outputs": [
    {
     "data": {
      "text/plain": [
       "13"
      ]
     },
     "execution_count": 31,
     "metadata": {},
     "output_type": "execute_result"
    }
   ],
   "source": [
    "f(3, hello=10)"
   ]
  },
  {
   "cell_type": "code",
   "execution_count": 32,
   "metadata": {},
   "outputs": [
    {
     "ename": "LoadError",
     "evalue": "\u001b[91mMethodError: no method matching f(::Int64, ::Int64)\u001b[0m\nClosest candidates are:\n  f(::Any; hello) at In[29]:1\u001b[39m",
     "output_type": "error",
     "traceback": [
      "\u001b[91mMethodError: no method matching f(::Int64, ::Int64)\u001b[0m\nClosest candidates are:\n  f(::Any; hello) at In[29]:1\u001b[39m",
      "",
      "Stacktrace:",
      " [1] \u001b[1minclude_string\u001b[22m\u001b[22m\u001b[1m(\u001b[22m\u001b[22m::String, ::String\u001b[1m)\u001b[22m\u001b[22m at \u001b[1m./loading.jl:522\u001b[22m\u001b[22m"
     ]
    }
   ],
   "source": [
    "f(3, 10)"
   ]
  },
  {
   "cell_type": "code",
   "execution_count": 35,
   "metadata": {},
   "outputs": [
    {
     "data": {
      "text/plain": [
       "g (generic function with 2 methods)"
      ]
     },
     "execution_count": 35,
     "metadata": {},
     "output_type": "execute_result"
    }
   ],
   "source": [
    "g(x, hello=10) = x + hello  # default argument -- separate with a comma"
   ]
  },
  {
   "cell_type": "code",
   "execution_count": 36,
   "metadata": {},
   "outputs": [
    {
     "data": {
      "text/plain": [
       "13"
      ]
     },
     "execution_count": 36,
     "metadata": {},
     "output_type": "execute_result"
    }
   ],
   "source": [
    "g(3)"
   ]
  },
  {
   "cell_type": "code",
   "execution_count": 37,
   "metadata": {},
   "outputs": [
    {
     "data": {
      "text/plain": [
       "18"
      ]
     },
     "execution_count": 37,
     "metadata": {},
     "output_type": "execute_result"
    }
   ],
   "source": [
    "g(3, 15)"
   ]
  },
  {
   "cell_type": "code",
   "execution_count": 38,
   "metadata": {
    "scrolled": true
   },
   "outputs": [
    {
     "data": {
      "text/html": [
       "2 methods for generic function <b>g</b>:<ul><li> g(x) at In[35]:1</li> <li> g(x, hello) at In[35]:1</li> </ul>"
      ],
      "text/plain": [
       "# 2 methods for generic function \"g\":\n",
       "g(x) in Main at In[35]:1\n",
       "g(x, hello) in Main at In[35]:1"
      ]
     },
     "execution_count": 38,
     "metadata": {},
     "output_type": "execute_result"
    }
   ],
   "source": [
    "methods(g)"
   ]
  },
  {
   "cell_type": "code",
   "execution_count": 39,
   "metadata": {},
   "outputs": [
    {
     "data": {
      "text/html": [
       "1 method for generic function <b>f</b>:<ul><li> f(x; <i>hello</i>) at In[33]:1</li> </ul>"
      ],
      "text/plain": [
       "# 1 method for generic function \"f\":\n",
       "f(x; hello) in Main at In[33]:1"
      ]
     },
     "execution_count": 39,
     "metadata": {},
     "output_type": "execute_result"
    }
   ],
   "source": [
    "methods(f)"
   ]
  },
  {
   "cell_type": "markdown",
   "metadata": {},
   "source": [
    "## JuliaDB"
   ]
  },
  {
   "cell_type": "markdown",
   "metadata": {},
   "source": [
    "Another recent development in the data space is `JuliaDB.jl`, an efficient key-value store written in pure Julia. It is fully typed and hence more efficient than standard `DataFrame`s."
   ]
  }
 ],
 "metadata": {
  "kernelspec": {
   "display_name": "Julia 0.6.2",
   "language": "julia",
   "name": "julia-0.6"
  },
  "language_info": {
   "file_extension": ".jl",
   "mimetype": "application/julia",
   "name": "julia",
   "version": "0.6.2"
  }
 },
 "nbformat": 4,
 "nbformat_minor": 2
}
