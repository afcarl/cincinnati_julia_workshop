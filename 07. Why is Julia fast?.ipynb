{
 "cells": [
  {
   "cell_type": "markdown",
   "metadata": {},
   "source": [
    "# Why is Julia fast?"
   ]
  },
  {
   "cell_type": "markdown",
   "metadata": {},
   "source": [
    "Or rather, how *can* Julia be fast -- since it's perfectly possible to write slow code in Julia."
   ]
  },
  {
   "cell_type": "markdown",
   "metadata": {},
   "source": [
    "The point is that if you start with a slow piece of Julia code, it is very possible that by following a few rules, you can tweak it a bit and rapidly end up with a piece of Julia code that is almost identical, but now blindingly fast -- roughly as fast as optimized C! \n",
    "\n",
    "How can this be possible? A large part of the reason is through the clever design of the language, and how it handles **types**.\n",
    "\n",
    "Although it is possible to get a long way in Julia without worrying about, thinking about, or even mentioning types, much of the power of Julia resides in the way it deals with types"
   ]
  },
  {
   "cell_type": "markdown",
   "metadata": {},
   "source": [
    "## What is a type?"
   ]
  },
  {
   "cell_type": "markdown",
   "metadata": {},
   "source": [
    "A type is a label that tells the computer how to interpret a block of data in memory. Julia allows us to play around with that to some extent:"
   ]
  },
  {
   "cell_type": "code",
   "execution_count": null,
   "metadata": {},
   "outputs": [],
   "source": [
    "x = 0.1"
   ]
  },
  {
   "cell_type": "code",
   "execution_count": null,
   "metadata": {},
   "outputs": [],
   "source": [
    "bits(x)"
   ]
  },
  {
   "cell_type": "code",
   "execution_count": null,
   "metadata": {},
   "outputs": [],
   "source": [
    "typeof(x)"
   ]
  },
  {
   "cell_type": "code",
   "execution_count": null,
   "metadata": {},
   "outputs": [],
   "source": [
    "y = reinterpret(Int64, x)"
   ]
  },
  {
   "cell_type": "code",
   "execution_count": null,
   "metadata": {},
   "outputs": [],
   "source": [
    "bits(y)"
   ]
  },
  {
   "cell_type": "markdown",
   "metadata": {},
   "source": [
    "The exact same bit pattern is interpreted in two completely different ways. Indeed, we can even interpret this as a [fixed size] vector of two `Int32`:"
   ]
  },
  {
   "cell_type": "code",
   "execution_count": null,
   "metadata": {},
   "outputs": [],
   "source": [
    "using StaticArrays\n",
    "reinterpret(SVector{2, Int32}, [x])"
   ]
  },
  {
   "cell_type": "markdown",
   "metadata": {},
   "source": [
    "## Code specialization"
   ]
  },
  {
   "cell_type": "markdown",
   "metadata": {},
   "source": [
    "Suppose we define a function in Julia and apply it to values of different types:"
   ]
  },
  {
   "cell_type": "code",
   "execution_count": null,
   "metadata": {
    "slideshow": {
     "slide_type": "subslide"
    }
   },
   "outputs": [],
   "source": [
    "f(x, y) = 2x * y "
   ]
  },
  {
   "cell_type": "code",
   "execution_count": null,
   "metadata": {
    "slideshow": {
     "slide_type": "fragment"
    }
   },
   "outputs": [],
   "source": [
    "f(3, 4)    "
   ]
  },
  {
   "cell_type": "code",
   "execution_count": null,
   "metadata": {
    "slideshow": {
     "slide_type": "fragment"
    }
   },
   "outputs": [],
   "source": [
    "f(3.5, 4.5)     "
   ]
  },
  {
   "cell_type": "markdown",
   "metadata": {},
   "source": [
    "As we saw above, the internal representations of `Int64`s and `Float64`s are very different, so Julia must be calling different functions for the multiplication and addition.\n",
    "\n",
    "Perhaps every time `f` is called, it is doing the analysis (at \"run-time\"); this is what Python does, for example.\n",
    "\n",
    "In fact, though, Julia is **much more clever** than this: when you call `f` with a new combination of types, **Julia compiles a new specialized version of `f` for that \"type signature\"**. The next time that `f` is called with that specific combination of types, Julia just reuses the already-compiled specialized version.\n",
    "\n",
    "Julia performs **type inference** on the code, in which the input types are propagated through the code, so that Julia can work out what the type of each variable in the function is.\n",
    "\n",
    "Furthermore, since everything is [\"just-in-time\" or \"ahead-of-time\" compiled](https://www.youtube.com/watch?v=7KGZ_9D_DbI), this all happens, in the best case, **at compile time**. "
   ]
  },
  {
   "cell_type": "markdown",
   "metadata": {},
   "source": [
    "### Introspection"
   ]
  },
  {
   "cell_type": "markdown",
   "metadata": {
    "slideshow": {
     "slide_type": "fragment"
    }
   },
   "source": [
    "We can make Julia tell us some of this via its excellent **introspection** capabilities:"
   ]
  },
  {
   "cell_type": "code",
   "execution_count": null,
   "metadata": {
    "slideshow": {
     "slide_type": "subslide"
    }
   },
   "outputs": [],
   "source": [
    "@code_lowered f(3, 4)"
   ]
  },
  {
   "cell_type": "code",
   "execution_count": null,
   "metadata": {
    "slideshow": {
     "slide_type": "fragment"
    }
   },
   "outputs": [],
   "source": [
    "@code_typed f(3, 4)"
   ]
  },
  {
   "cell_type": "markdown",
   "metadata": {},
   "source": [
    "We see that Julia has been able to infer what the types of each variable are, and what type is returned from this version of the function."
   ]
  },
  {
   "cell_type": "code",
   "execution_count": null,
   "metadata": {
    "slideshow": {
     "slide_type": "subslide"
    }
   },
   "outputs": [],
   "source": [
    "@code_native f(3.5, 4.5)"
   ]
  },
  {
   "cell_type": "markdown",
   "metadata": {},
   "source": [
    "Note that `f(3, 4.5)` is a different case, where we are mixing two types."
   ]
  },
  {
   "cell_type": "markdown",
   "metadata": {
    "slideshow": {
     "slide_type": "subslide"
    }
   },
   "source": [
    "## Type stability"
   ]
  },
  {
   "cell_type": "markdown",
   "metadata": {},
   "source": [
    "For the above to work, Julia must be able to successfully complete type inference and find a unique type for each variable in the function, otherwise there is a serious performance penalty. [This is being mitigated in Julia 0.7.]"
   ]
  },
  {
   "cell_type": "markdown",
   "metadata": {},
   "source": [
    "For example, here is a \"classic\" example where type inference can fail:"
   ]
  },
  {
   "cell_type": "code",
   "execution_count": null,
   "metadata": {
    "slideshow": {
     "slide_type": "subslide"
    }
   },
   "outputs": [],
   "source": [
    "function sum1(n)\n",
    "    s = 0\n",
    "    \n",
    "    for i in 1:n\n",
    "        s += i / 2\n",
    "    end\n",
    "    \n",
    "    return s\n",
    "end"
   ]
  },
  {
   "cell_type": "markdown",
   "metadata": {},
   "source": [
    "If we just run the function, everything seems to go smoothly:"
   ]
  },
  {
   "cell_type": "code",
   "execution_count": null,
   "metadata": {},
   "outputs": [],
   "source": [
    "sum1(10)"
   ]
  },
  {
   "cell_type": "markdown",
   "metadata": {},
   "source": [
    "But now we time it:"
   ]
  },
  {
   "cell_type": "code",
   "execution_count": null,
   "metadata": {},
   "outputs": [],
   "source": [
    "@time sum1(10)"
   ]
  },
  {
   "cell_type": "markdown",
   "metadata": {},
   "source": [
    "There is no reason for this simple function to be allocating memory. What is going on? Let's use introspection:"
   ]
  },
  {
   "cell_type": "code",
   "execution_count": null,
   "metadata": {},
   "outputs": [],
   "source": [
    "@code_warntype sum1(10)"
   ]
  },
  {
   "cell_type": "markdown",
   "metadata": {},
   "source": [
    "The output of `@code_warntype` is not always very readable, but anything in <font color=\"red\"> red </font> is bad news: it signals a **type instability**, where Julia is unable to determine a unique type for a variable.\n",
    "\n",
    "Very recently, a new package has come out that gives us a more user-friendly version of this information:"
   ]
  },
  {
   "cell_type": "code",
   "execution_count": null,
   "metadata": {},
   "outputs": [],
   "source": [
    "using Traceur"
   ]
  },
  {
   "cell_type": "code",
   "execution_count": null,
   "metadata": {},
   "outputs": [],
   "source": [
    "@trace sum1(10)"
   ]
  },
  {
   "cell_type": "markdown",
   "metadata": {},
   "source": [
    "We see that the variable `s` is the culprit: it is first an `Int64` and then a `Float64`. Julia is thus unable to determine which type it should actually be, so that the variable will be **boxed** and leads to **dynamic dispatch**, in which the exact version of the function is determined at run-time. This usually represents the death of good performance (cf. Python, which does exactly this)."
   ]
  },
  {
   "cell_type": "markdown",
   "metadata": {},
   "source": [
    "In this case, the solution is simple: we initialize `s` as a `Float64` from the start:"
   ]
  },
  {
   "cell_type": "code",
   "execution_count": null,
   "metadata": {
    "slideshow": {
     "slide_type": "fragment"
    }
   },
   "outputs": [],
   "source": [
    "function sum2(n)\n",
    "    s = 0.0  \n",
    "    \n",
    "    for i in 1:n\n",
    "        s += i / 2\n",
    "    end \n",
    "    \n",
    "    return s\n",
    "end"
   ]
  },
  {
   "cell_type": "code",
   "execution_count": null,
   "metadata": {
    "slideshow": {
     "slide_type": "subslide"
    }
   },
   "outputs": [],
   "source": [
    "sum1(1)\n",
    "@time sum1(10^6)"
   ]
  },
  {
   "cell_type": "code",
   "execution_count": null,
   "metadata": {
    "slideshow": {
     "slide_type": "fragment"
    }
   },
   "outputs": [],
   "source": [
    "sum2(1) \n",
    "@time sum2(10^6)   "
   ]
  },
  {
   "cell_type": "markdown",
   "metadata": {},
   "source": [
    "**Exercise**: To what extent has this effect been mitigated in Julia 0.7? (Note that currently only the REPL works with Julia 0.7; neither IJulia nor Juno work stably yet.)"
   ]
  },
  {
   "cell_type": "markdown",
   "metadata": {
    "slideshow": {
     "slide_type": "subslide"
    }
   },
   "source": [
    "## Global variables: just don't"
   ]
  },
  {
   "cell_type": "markdown",
   "metadata": {},
   "source": [
    "This is the reason why global variables are bad news in Julia: their type could change, in principle, at any time, and so they *always* lead to type instability.\n",
    "\n",
    "Except, that is, if they are declared as `const`. This, confusingly, does not mean that their *values* can't change, but rather that their types can't change."
   ]
  },
  {
   "cell_type": "markdown",
   "metadata": {
    "slideshow": {
     "slide_type": "fragment"
    }
   },
   "source": [
    "### Don't use globals; declare constants as `const`"
   ]
  },
  {
   "cell_type": "code",
   "execution_count": null,
   "metadata": {
    "slideshow": {
     "slide_type": "fragment"
    }
   },
   "outputs": [],
   "source": [
    "a = 1\n",
    "f() = a\n",
    " \n",
    "@code_warntype f() "
   ]
  },
  {
   "cell_type": "code",
   "execution_count": null,
   "metadata": {
    "slideshow": {
     "slide_type": "fragment"
    }
   },
   "outputs": [],
   "source": [
    "const cc = 1\n",
    "g() = cc\n",
    "\n",
    "@code_warntype g()"
   ]
  },
  {
   "cell_type": "markdown",
   "metadata": {},
   "source": [
    "## Summary"
   ]
  },
  {
   "cell_type": "markdown",
   "metadata": {
    "slideshow": {
     "slide_type": "fragment"
    }
   },
   "source": [
    "- We **can** talk about types (and should bear them in mind)\n",
    "\n",
    "\n",
    "- But don't **have to** talk explicitly about types\n",
    "\n",
    "\n",
    "\n",
    "- Julia **infers** types"
   ]
  }
 ],
 "metadata": {
  "kernelspec": {
   "display_name": "Julia 0.6.2",
   "language": "julia",
   "name": "julia-0.6"
  },
  "language_info": {
   "file_extension": ".jl",
   "mimetype": "application/julia",
   "name": "julia",
   "version": "0.6.2"
  }
 },
 "nbformat": 4,
 "nbformat_minor": 2
}
