{
 "cells": [
  {
   "cell_type": "markdown",
   "metadata": {
    "slideshow": {
     "slide_type": "slide"
    }
   },
   "source": [
    "# Introduction to Julia"
   ]
  },
  {
   "cell_type": "markdown",
   "metadata": {
    "slideshow": {
     "slide_type": "-"
    }
   },
   "source": [
    "## David P. Sanders"
   ]
  },
  {
   "cell_type": "markdown",
   "metadata": {
    "slideshow": {
     "slide_type": "-"
    }
   },
   "source": [
    "\n",
    "### Department of Physics, Faculty of Sciences \n",
    "### Universidad Nacional Autónoma de México (UNAM)\n",
    "\n",
    "\n",
    "#### Lindner College of Business, University of Cincinnati, 22 & 23 March 2018"
   ]
  },
  {
   "cell_type": "markdown",
   "metadata": {
    "slideshow": {
     "slide_type": "slide"
    }
   },
   "source": [
    "# What is Julia?"
   ]
  },
  {
   "cell_type": "markdown",
   "metadata": {
    "slideshow": {
     "slide_type": "fragment"
    }
   },
   "source": [
    "- General-purpose programming language\n",
    "\n",
    "\n",
    "- Designed (from scratch) to be ideal for scientific computing\n",
    "\n",
    "\n",
    "- http://www.julialang.org\n"
   ]
  },
  {
   "cell_type": "markdown",
   "metadata": {
    "slideshow": {
     "slide_type": "subslide"
    }
   },
   "source": [
    "## Languages for scientific computing\n",
    "\n",
    "| Dynamic |  &nbsp; &nbsp; &nbsp; &nbsp; &nbsp; &nbsp; &nbsp; &nbsp; &nbsp; &nbsp;      | Static | \n",
    "|---       |---|-----|---|---|\n",
    "|Python, Matlab, R|   | C, C++, Fortran |\n",
    "|Interactive|  | |\n",
    "| | | Compile required |\n",
    "|Slow|   |Fast\n"
   ]
  },
  {
   "cell_type": "markdown",
   "metadata": {
    "slideshow": {
     "slide_type": "subslide"
    }
   },
   "source": [
    "| Dynamic |  **Type-inferred**     | Static | \n",
    "|---       |---|-----|---|---|\n",
    "|Python, Matlab, R| **Julia**  | C, C++, Fortran |\n",
    "|Interactive| **Interactive** | |\n",
    "| | **AoT compiled** | Compile required\n",
    "|Slow| **Fast**  |Fast"
   ]
  },
  {
   "cell_type": "markdown",
   "metadata": {
    "slideshow": {
     "slide_type": "fragment"
    }
   },
   "source": [
    "AoT = Ahead of Time\n",
    "\n",
    "JIT = Just in Time\n",
    "\n",
    "[Why we created Julia](https://julialang.org/blog/2012/02/why-we-created-julia): **\"Greedy developers\"**"
   ]
  },
  {
   "cell_type": "markdown",
   "metadata": {
    "slideshow": {
     "slide_type": "subslide"
    }
   },
   "source": [
    "### Julia is unique"
   ]
  },
  {
   "cell_type": "markdown",
   "metadata": {
    "slideshow": {
     "slide_type": "-"
    }
   },
   "source": [
    "Julia allows us to:"
   ]
  },
  {
   "cell_type": "markdown",
   "metadata": {
    "slideshow": {
     "slide_type": "fragment"
    }
   },
   "source": [
    "- Write readable code interactively (or not)"
   ]
  },
  {
   "cell_type": "markdown",
   "metadata": {
    "slideshow": {
     "slide_type": "fragment"
    }
   },
   "source": [
    "- That is generic\n",
    "\n",
    "    - works with objects of different types\n",
    "    \n",
    "    - *including* user-defined types"
   ]
  },
  {
   "cell_type": "markdown",
   "metadata": {
    "slideshow": {
     "slide_type": "fragment"
    }
   },
   "source": [
    "- But is **fast**"
   ]
  },
  {
   "cell_type": "markdown",
   "metadata": {
    "slideshow": {
     "slide_type": "skip"
    }
   },
   "source": [
    "For an interesting discussion of what makes Julia unique compared to the various attempts to accelerate Python etc., see\n",
    "https://discourse.julialang.org/t/julia-motivation-why-werent-numpy-scipy-numba-good-enough/"
   ]
  },
  {
   "cell_type": "markdown",
   "metadata": {
    "slideshow": {
     "slide_type": "subslide"
    }
   },
   "source": [
    "### Development of Julia"
   ]
  },
  {
   "cell_type": "markdown",
   "metadata": {
    "slideshow": {
     "slide_type": "fragment"
    }
   },
   "source": [
    "- Free software; MIT license\n",
    "\n",
    "- Available on all platforms"
   ]
  },
  {
   "cell_type": "markdown",
   "metadata": {
    "slideshow": {
     "slide_type": "subslide"
    }
   },
   "source": [
    "- Worldwide developer community\n",
    "\n",
    "\n",
    "- Open, online development: https://github.com/JuliaLang/julia\n",
    "\n",
    "\n",
    "- 680 contributors to the core language"
   ]
  },
  {
   "cell_type": "markdown",
   "metadata": {
    "slideshow": {
     "slide_type": "fragment"
    }
   },
   "source": [
    "- Extensible: 1750 registered packages, high **composability**"
   ]
  },
  {
   "cell_type": "markdown",
   "metadata": {
    "slideshow": {
     "slide_type": "subslide"
    }
   },
   "source": [
    "### Interopability\n",
    "\n",
    "- Easy to call libraries from C & Fortran (`ccall`)\n",
    "\n",
    "\n",
    "- Python (`PyCall.jl`), R (`RCall.jl`), ...\n",
    "\n",
    "- Interact with C++ (`Cxx.jl`)\n"
   ]
  },
  {
   "cell_type": "markdown",
   "metadata": {
    "slideshow": {
     "slide_type": "fragment"
    }
   },
   "source": [
    "- Julia is both a very high-**and** low-level language"
   ]
  },
  {
   "cell_type": "markdown",
   "metadata": {
    "slideshow": {
     "slide_type": "fragment"
    }
   },
   "source": [
    "#### Solves the 2-language problem"
   ]
  },
  {
   "cell_type": "markdown",
   "metadata": {
    "slideshow": {
     "slide_type": "fragment"
    }
   },
   "source": [
    "#### Or the N-tool problem: \n",
    "Python, bash, C, gnuplot, R, Matlab, Mathematica..."
   ]
  },
  {
   "cell_type": "markdown",
   "metadata": {
    "slideshow": {
     "slide_type": "slide"
    }
   },
   "source": [
    "## Open science"
   ]
  },
  {
   "cell_type": "markdown",
   "metadata": {
    "slideshow": {
     "slide_type": "fragment"
    }
   },
   "source": [
    "- Science requires **free / libre open-source software** (FLOSS)\n",
    "\n",
    "\n",
    "\n",
    "- **All** scientific code must be freely available and reproducible \n",
    "\n",
    "\n",
    "\n",
    "- Choice of software license is important\n"
   ]
  },
  {
   "cell_type": "markdown",
   "metadata": {
    "slideshow": {
     "slide_type": "subslide"
    }
   },
   "source": [
    "## Basic language is (almost) stable\n",
    "\n",
    "- Today: **v0.6(.2)**\n",
    "\n",
    "- Tomorrow: **v0.7 = v1.0** - first long-term stable release"
   ]
  },
  {
   "cell_type": "markdown",
   "metadata": {
    "slideshow": {
     "slide_type": "slide"
    }
   },
   "source": [
    "# How to use Julia"
   ]
  },
  {
   "cell_type": "markdown",
   "metadata": {
    "slideshow": {
     "slide_type": "fragment"
    }
   },
   "source": [
    "- Jupyter Notebook: literate, interactive computational documents\n",
    "\n",
    "    - online at [JuliaBox.com](http://juliabox.com)\n",
    "  \n",
    "    - locally\n",
    "  "
   ]
  },
  {
   "cell_type": "markdown",
   "metadata": {
    "slideshow": {
     "slide_type": "fragment"
    }
   },
   "source": [
    "- REPL (command line): Interactive workflow"
   ]
  },
  {
   "cell_type": "markdown",
   "metadata": {
    "slideshow": {
     "slide_type": "fragment"
    }
   },
   "source": [
    "- [Juno](http://junolab.org/): Julia IDE in Atom editor (inline evaluation)"
   ]
  },
  {
   "cell_type": "markdown",
   "metadata": {
    "slideshow": {
     "slide_type": "subslide"
    }
   },
   "source": [
    "- [JuliaPro](https://juliacomputing.com/products/juliapro.html):  Bundled version from JuliaComputing; pro support"
   ]
  },
  {
   "cell_type": "markdown",
   "metadata": {
    "slideshow": {
     "slide_type": "fragment"
    }
   },
   "source": [
    "- [Nteract](nteract.io): Desktop app for Jupyter notebook format"
   ]
  },
  {
   "cell_type": "markdown",
   "metadata": {
    "slideshow": {
     "slide_type": "subslide"
    }
   },
   "source": [
    "## Installation of Jupyter notebook:\n",
    "\n",
    "- From REPL:\n",
    "\n",
    "```\n",
    "julia> Pkg.add(\"IJulia\")\n",
    "\n",
    "julia> using IJulia\n",
    "julia> notebook()\n",
    "``` \n",
    "\n",
    "\n",
    "- NB: `pwd()` gives current directory\n",
    "\n",
    "\n",
    "- Installs own version of Anaconda\n"
   ]
  },
  {
   "cell_type": "markdown",
   "metadata": {
    "slideshow": {
     "slide_type": "subslide"
    }
   },
   "source": [
    "## Getting help\n"
   ]
  },
  {
   "cell_type": "markdown",
   "metadata": {
    "slideshow": {
     "slide_type": "fragment"
    }
   },
   "source": [
    "- Interactively (REPL / Juno / IJulia): `?sin`"
   ]
  },
  {
   "cell_type": "markdown",
   "metadata": {
    "slideshow": {
     "slide_type": "fragment"
    }
   },
   "source": [
    "- Reference manual: https://docs.julialang.org/en/stable\n",
    "\n",
    "\n",
    "- Discourse discussion forum: https://discourse.julialang.org/\n",
    "\n",
    "\n",
    "- Slack: http://slackinvite.julialang.org\n",
    "\n",
    "\n",
    "- Learning resources:  http://julialang.org/learning\n",
    "\n",
    "\n",
    "- Packages etc.: https://juliaobserver.com/"
   ]
  },
  {
   "cell_type": "markdown",
   "metadata": {
    "slideshow": {
     "slide_type": "slide"
    }
   },
   "source": [
    "# Goal of the workshop"
   ]
  },
  {
   "cell_type": "markdown",
   "metadata": {
    "slideshow": {
     "slide_type": "fragment"
    }
   },
   "source": [
    "- Why should I spend my valuable time learning Julia?"
   ]
  },
  {
   "cell_type": "markdown",
   "metadata": {
    "slideshow": {
     "slide_type": "fragment"
    }
   },
   "source": [
    "- Accelerated start"
   ]
  },
  {
   "cell_type": "markdown",
   "metadata": {
    "slideshow": {
     "slide_type": "fragment"
    }
   },
   "source": [
    "- Julian workflow"
   ]
  },
  {
   "cell_type": "markdown",
   "metadata": {
    "slideshow": {
     "slide_type": "subslide"
    }
   },
   "source": [
    "- Aspects of modern Julia (0.6 to 1.0)"
   ]
  },
  {
   "cell_type": "markdown",
   "metadata": {
    "slideshow": {
     "slide_type": "fragment"
    }
   },
   "source": [
    "- Guide to the ecosystem: Key packages"
   ]
  },
  {
   "cell_type": "markdown",
   "metadata": {
    "slideshow": {
     "slide_type": "fragment"
    }
   },
   "source": [
    "- Performance"
   ]
  }
 ],
 "metadata": {
  "celltoolbar": "Slideshow",
  "kernelspec": {
   "display_name": "Julia 0.6.2",
   "language": "julia",
   "name": "julia-0.6"
  },
  "language_info": {
   "file_extension": ".jl",
   "mimetype": "application/julia",
   "name": "julia",
   "version": "0.6.2"
  },
  "toc": {
   "colors": {
    "hover_highlight": "#DAA520",
    "running_highlight": "#FF0000",
    "selected_highlight": "#FFD700"
   },
   "moveMenuLeft": true,
   "nav_menu": {
    "height": "139px",
    "width": "252px"
   },
   "navigate_menu": true,
   "number_sections": true,
   "sideBar": true,
   "threshold": "2",
   "toc_cell": false,
   "toc_section_display": "block",
   "toc_window_display": false
  }
 },
 "nbformat": 4,
 "nbformat_minor": 2
}
