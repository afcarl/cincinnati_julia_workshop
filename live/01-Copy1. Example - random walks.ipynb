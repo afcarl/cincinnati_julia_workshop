{
 "cells": [
  {
   "cell_type": "markdown",
   "metadata": {},
   "source": [
    "# Features of Julia: Random walk"
   ]
  },
  {
   "cell_type": "markdown",
   "metadata": {},
   "source": [
    "An important model in science (biology, chemistry, physics, etc.) is Brownian motion, or random walk, a model of a molecule moving in a medium.\n",
    "\n",
    "As a first way to explore Julia and some of its features, we'll code the simplest version: a particle jumping in 1D on the integers. "
   ]
  },
  {
   "cell_type": "markdown",
   "metadata": {},
   "source": [
    "**Exercises**:\n",
    "\n",
    "**[1]** How does the `rand` function work? What options does it have?"
   ]
  },
  {
   "cell_type": "code",
   "execution_count": 1,
   "metadata": {},
   "outputs": [
    {
     "data": {
      "text/plain": [
       "rand (generic function with 40 methods)"
      ]
     },
     "execution_count": 1,
     "metadata": {},
     "output_type": "execute_result"
    }
   ],
   "source": [
    "rand"
   ]
  },
  {
   "cell_type": "code",
   "execution_count": 20,
   "metadata": {},
   "outputs": [
    {
     "data": {
      "text/plain": [
       "0.8912436106466437"
      ]
     },
     "execution_count": 20,
     "metadata": {},
     "output_type": "execute_result"
    }
   ],
   "source": [
    "rand()"
   ]
  },
  {
   "cell_type": "markdown",
   "metadata": {},
   "source": [
    "**[2]** (i) Write a simple 1D random walk for a particle that starts at the origin and only visits the integers, jumping with probability $\\frac{1}{2}$ one step to the left and $\\frac{1}{2}$ one step to the right, in \"global scope\" (as you would in Matlab or Python).\n",
    "\n",
    "(ii) Time it for 10^7 steps with\n",
    "\n",
    "```@time begin \n",
    "    ... \n",
    "    end\n",
    "```"
   ]
  },
  {
   "cell_type": "code",
   "execution_count": 21,
   "metadata": {},
   "outputs": [
    {
     "data": {
      "text/plain": [
       "Plots.GRBackend()"
      ]
     },
     "execution_count": 21,
     "metadata": {},
     "output_type": "execute_result"
    }
   ],
   "source": [
    "# Pkg.add(\"Plots\")\n",
    "# Pkg.add(\"GR\")\n",
    "\n",
    "using Plots; gr()"
   ]
  },
  {
   "cell_type": "code",
   "execution_count": 22,
   "metadata": {},
   "outputs": [
    {
     "data": {
      "text/plain": [
       "10-element Array{Float64,1}:\n",
       " 0.800622\n",
       " 0.95725 \n",
       " 0.267642\n",
       " 0.594821\n",
       " 0.153226\n",
       " 0.963205\n",
       " 0.222872\n",
       " 0.318534\n",
       " 0.68789 \n",
       " 0.970924"
      ]
     },
     "execution_count": 22,
     "metadata": {},
     "output_type": "execute_result"
    }
   ],
   "source": [
    "rand(10)"
   ]
  },
  {
   "cell_type": "code",
   "execution_count": 23,
   "metadata": {},
   "outputs": [
    {
     "data": {
      "text/html": [
       "<?xml version=\"1.0\" encoding=\"utf-8\"?>\n",
       "<svg xmlns=\"http://www.w3.org/2000/svg\" xmlns:xlink=\"http://www.w3.org/1999/xlink\" width=\"600\" height=\"400\" viewBox=\"0 0 600 400\">\n",
       "<defs>\n",
       "  <clipPath id=\"clip0600\">\n",
       "    <rect x=\"0\" y=\"0\" width=\"600\" height=\"400\"/>\n",
       "  </clipPath>\n",
       "</defs>\n",
       "<polygon clip-path=\"url(#clip0600)\" points=\"\n",
       "0,400 600,400 600,0 0,0 \n",
       "  \" fill=\"#ffffff\" fill-opacity=\"1\"/>\n",
       "<defs>\n",
       "  <clipPath id=\"clip0601\">\n",
       "    <rect x=\"120\" y=\"0\" width=\"421\" height=\"400\"/>\n",
       "  </clipPath>\n",
       "</defs>\n",
       "<polygon clip-path=\"url(#clip0600)\" points=\"\n",
       "32.4745,375.869 580.315,375.869 580.315,11.811 32.4745,11.811 \n",
       "  \" fill=\"#ffffff\" fill-opacity=\"1\"/>\n",
       "<defs>\n",
       "  <clipPath id=\"clip0602\">\n",
       "    <rect x=\"32\" y=\"11\" width=\"549\" height=\"365\"/>\n",
       "  </clipPath>\n",
       "</defs>\n",
       "<polyline clip-path=\"url(#clip0602)\" style=\"stroke:#000000; stroke-width:0.5; stroke-opacity:0.1; fill:none\" points=\"\n",
       "  126.259,375.869 126.259,11.811 \n",
       "  \"/>\n",
       "<polyline clip-path=\"url(#clip0602)\" style=\"stroke:#000000; stroke-width:0.5; stroke-opacity:0.1; fill:none\" points=\"\n",
       "  246.964,375.869 246.964,11.811 \n",
       "  \"/>\n",
       "<polyline clip-path=\"url(#clip0602)\" style=\"stroke:#000000; stroke-width:0.5; stroke-opacity:0.1; fill:none\" points=\"\n",
       "  367.669,375.869 367.669,11.811 \n",
       "  \"/>\n",
       "<polyline clip-path=\"url(#clip0602)\" style=\"stroke:#000000; stroke-width:0.5; stroke-opacity:0.1; fill:none\" points=\"\n",
       "  488.374,375.869 488.374,11.811 \n",
       "  \"/>\n",
       "<polyline clip-path=\"url(#clip0602)\" style=\"stroke:#000000; stroke-width:0.5; stroke-opacity:0.1; fill:none\" points=\"\n",
       "  32.4745,374.238 580.315,374.238 \n",
       "  \"/>\n",
       "<polyline clip-path=\"url(#clip0602)\" style=\"stroke:#000000; stroke-width:0.5; stroke-opacity:0.1; fill:none\" points=\"\n",
       "  32.4745,286.583 580.315,286.583 \n",
       "  \"/>\n",
       "<polyline clip-path=\"url(#clip0602)\" style=\"stroke:#000000; stroke-width:0.5; stroke-opacity:0.1; fill:none\" points=\"\n",
       "  32.4745,198.928 580.315,198.928 \n",
       "  \"/>\n",
       "<polyline clip-path=\"url(#clip0602)\" style=\"stroke:#000000; stroke-width:0.5; stroke-opacity:0.1; fill:none\" points=\"\n",
       "  32.4745,111.273 580.315,111.273 \n",
       "  \"/>\n",
       "<polyline clip-path=\"url(#clip0602)\" style=\"stroke:#000000; stroke-width:0.5; stroke-opacity:0.1; fill:none\" points=\"\n",
       "  32.4745,23.6177 580.315,23.6177 \n",
       "  \"/>\n",
       "<polyline clip-path=\"url(#clip0600)\" style=\"stroke:#000000; stroke-width:1; stroke-opacity:1; fill:none\" points=\"\n",
       "  32.4745,375.869 580.315,375.869 \n",
       "  \"/>\n",
       "<polyline clip-path=\"url(#clip0600)\" style=\"stroke:#000000; stroke-width:1; stroke-opacity:1; fill:none\" points=\"\n",
       "  32.4745,375.869 32.4745,11.811 \n",
       "  \"/>\n",
       "<polyline clip-path=\"url(#clip0600)\" style=\"stroke:#000000; stroke-width:1; stroke-opacity:1; fill:none\" points=\"\n",
       "  126.259,375.869 126.259,370.408 \n",
       "  \"/>\n",
       "<polyline clip-path=\"url(#clip0600)\" style=\"stroke:#000000; stroke-width:1; stroke-opacity:1; fill:none\" points=\"\n",
       "  246.964,375.869 246.964,370.408 \n",
       "  \"/>\n",
       "<polyline clip-path=\"url(#clip0600)\" style=\"stroke:#000000; stroke-width:1; stroke-opacity:1; fill:none\" points=\"\n",
       "  367.669,375.869 367.669,370.408 \n",
       "  \"/>\n",
       "<polyline clip-path=\"url(#clip0600)\" style=\"stroke:#000000; stroke-width:1; stroke-opacity:1; fill:none\" points=\"\n",
       "  488.374,375.869 488.374,370.408 \n",
       "  \"/>\n",
       "<polyline clip-path=\"url(#clip0600)\" style=\"stroke:#000000; stroke-width:1; stroke-opacity:1; fill:none\" points=\"\n",
       "  32.4745,374.238 40.6921,374.238 \n",
       "  \"/>\n",
       "<polyline clip-path=\"url(#clip0600)\" style=\"stroke:#000000; stroke-width:1; stroke-opacity:1; fill:none\" points=\"\n",
       "  32.4745,286.583 40.6921,286.583 \n",
       "  \"/>\n",
       "<polyline clip-path=\"url(#clip0600)\" style=\"stroke:#000000; stroke-width:1; stroke-opacity:1; fill:none\" points=\"\n",
       "  32.4745,198.928 40.6921,198.928 \n",
       "  \"/>\n",
       "<polyline clip-path=\"url(#clip0600)\" style=\"stroke:#000000; stroke-width:1; stroke-opacity:1; fill:none\" points=\"\n",
       "  32.4745,111.273 40.6921,111.273 \n",
       "  \"/>\n",
       "<polyline clip-path=\"url(#clip0600)\" style=\"stroke:#000000; stroke-width:1; stroke-opacity:1; fill:none\" points=\"\n",
       "  32.4745,23.6177 40.6921,23.6177 \n",
       "  \"/>\n",
       "<g clip-path=\"url(#clip0600)\">\n",
       "<text style=\"fill:#000000; fill-opacity:1; font-family:Arial,Helvetica Neue,Helvetica,sans-serif; font-size:12; text-anchor:middle;\" transform=\"rotate(0, 126.259, 389.669)\" x=\"126.259\" y=\"389.669\">0.2</text>\n",
       "</g>\n",
       "<g clip-path=\"url(#clip0600)\">\n",
       "<text style=\"fill:#000000; fill-opacity:1; font-family:Arial,Helvetica Neue,Helvetica,sans-serif; font-size:12; text-anchor:middle;\" transform=\"rotate(0, 246.964, 389.669)\" x=\"246.964\" y=\"389.669\">0.4</text>\n",
       "</g>\n",
       "<g clip-path=\"url(#clip0600)\">\n",
       "<text style=\"fill:#000000; fill-opacity:1; font-family:Arial,Helvetica Neue,Helvetica,sans-serif; font-size:12; text-anchor:middle;\" transform=\"rotate(0, 367.669, 389.669)\" x=\"367.669\" y=\"389.669\">0.6</text>\n",
       "</g>\n",
       "<g clip-path=\"url(#clip0600)\">\n",
       "<text style=\"fill:#000000; fill-opacity:1; font-family:Arial,Helvetica Neue,Helvetica,sans-serif; font-size:12; text-anchor:middle;\" transform=\"rotate(0, 488.374, 389.669)\" x=\"488.374\" y=\"389.669\">0.8</text>\n",
       "</g>\n",
       "<g clip-path=\"url(#clip0600)\">\n",
       "<text style=\"fill:#000000; fill-opacity:1; font-family:Arial,Helvetica Neue,Helvetica,sans-serif; font-size:12; text-anchor:end;\" transform=\"rotate(0, 26.4745, 378.738)\" x=\"26.4745\" y=\"378.738\">0.0</text>\n",
       "</g>\n",
       "<g clip-path=\"url(#clip0600)\">\n",
       "<text style=\"fill:#000000; fill-opacity:1; font-family:Arial,Helvetica Neue,Helvetica,sans-serif; font-size:12; text-anchor:end;\" transform=\"rotate(0, 26.4745, 291.083)\" x=\"26.4745\" y=\"291.083\">0.2</text>\n",
       "</g>\n",
       "<g clip-path=\"url(#clip0600)\">\n",
       "<text style=\"fill:#000000; fill-opacity:1; font-family:Arial,Helvetica Neue,Helvetica,sans-serif; font-size:12; text-anchor:end;\" transform=\"rotate(0, 26.4745, 203.428)\" x=\"26.4745\" y=\"203.428\">0.4</text>\n",
       "</g>\n",
       "<g clip-path=\"url(#clip0600)\">\n",
       "<text style=\"fill:#000000; fill-opacity:1; font-family:Arial,Helvetica Neue,Helvetica,sans-serif; font-size:12; text-anchor:end;\" transform=\"rotate(0, 26.4745, 115.773)\" x=\"26.4745\" y=\"115.773\">0.6</text>\n",
       "</g>\n",
       "<g clip-path=\"url(#clip0600)\">\n",
       "<text style=\"fill:#000000; fill-opacity:1; font-family:Arial,Helvetica Neue,Helvetica,sans-serif; font-size:12; text-anchor:end;\" transform=\"rotate(0, 26.4745, 28.1177)\" x=\"26.4745\" y=\"28.1177\">0.8</text>\n",
       "</g>\n",
       "<circle clip-path=\"url(#clip0602)\" style=\"fill:#000000; stroke:none; fill-opacity:1\" cx=\"314.732\" cy=\"144.279\" r=\"4\"/>\n",
       "<circle clip-path=\"url(#clip0602)\" style=\"fill:#009af9; stroke:none; fill-opacity:1\" cx=\"314.732\" cy=\"144.279\" r=\"3\"/>\n",
       "<circle clip-path=\"url(#clip0602)\" style=\"fill:#000000; stroke:none; fill-opacity:1\" cx=\"47.9794\" cy=\"340.697\" r=\"4\"/>\n",
       "<circle clip-path=\"url(#clip0602)\" style=\"fill:#009af9; stroke:none; fill-opacity:1\" cx=\"47.9794\" cy=\"340.697\" r=\"3\"/>\n",
       "<circle clip-path=\"url(#clip0602)\" style=\"fill:#000000; stroke:none; fill-opacity:1\" cx=\"262.894\" cy=\"264.093\" r=\"4\"/>\n",
       "<circle clip-path=\"url(#clip0602)\" style=\"fill:#009af9; stroke:none; fill-opacity:1\" cx=\"262.894\" cy=\"264.093\" r=\"3\"/>\n",
       "<circle clip-path=\"url(#clip0602)\" style=\"fill:#000000; stroke:none; fill-opacity:1\" cx=\"465.641\" cy=\"37.9892\" r=\"4\"/>\n",
       "<circle clip-path=\"url(#clip0602)\" style=\"fill:#009af9; stroke:none; fill-opacity:1\" cx=\"465.641\" cy=\"37.9892\" r=\"3\"/>\n",
       "<circle clip-path=\"url(#clip0602)\" style=\"fill:#000000; stroke:none; fill-opacity:1\" cx=\"174.425\" cy=\"365.565\" r=\"4\"/>\n",
       "<circle clip-path=\"url(#clip0602)\" style=\"fill:#009af9; stroke:none; fill-opacity:1\" cx=\"174.425\" cy=\"365.565\" r=\"3\"/>\n",
       "<circle clip-path=\"url(#clip0602)\" style=\"fill:#000000; stroke:none; fill-opacity:1\" cx=\"398.336\" cy=\"209.722\" r=\"4\"/>\n",
       "<circle clip-path=\"url(#clip0602)\" style=\"fill:#009af9; stroke:none; fill-opacity:1\" cx=\"398.336\" cy=\"209.722\" r=\"3\"/>\n",
       "<circle clip-path=\"url(#clip0602)\" style=\"fill:#000000; stroke:none; fill-opacity:1\" cx=\"360.758\" cy=\"22.1145\" r=\"4\"/>\n",
       "<circle clip-path=\"url(#clip0602)\" style=\"fill:#009af9; stroke:none; fill-opacity:1\" cx=\"360.758\" cy=\"22.1145\" r=\"3\"/>\n",
       "<circle clip-path=\"url(#clip0602)\" style=\"fill:#000000; stroke:none; fill-opacity:1\" cx=\"414.484\" cy=\"306.154\" r=\"4\"/>\n",
       "<circle clip-path=\"url(#clip0602)\" style=\"fill:#009af9; stroke:none; fill-opacity:1\" cx=\"414.484\" cy=\"306.154\" r=\"3\"/>\n",
       "<circle clip-path=\"url(#clip0602)\" style=\"fill:#000000; stroke:none; fill-opacity:1\" cx=\"564.81\" cy=\"195.874\" r=\"4\"/>\n",
       "<circle clip-path=\"url(#clip0602)\" style=\"fill:#009af9; stroke:none; fill-opacity:1\" cx=\"564.81\" cy=\"195.874\" r=\"3\"/>\n",
       "<circle clip-path=\"url(#clip0602)\" style=\"fill:#000000; stroke:none; fill-opacity:1\" cx=\"316.854\" cy=\"200.825\" r=\"4\"/>\n",
       "<circle clip-path=\"url(#clip0602)\" style=\"fill:#009af9; stroke:none; fill-opacity:1\" cx=\"316.854\" cy=\"200.825\" r=\"3\"/>\n",
       "<polygon clip-path=\"url(#clip0600)\" points=\"\n",
       "489.608,62.931 562.315,62.931 562.315,32.691 489.608,32.691 \n",
       "  \" fill=\"#ffffff\" fill-opacity=\"1\"/>\n",
       "<polyline clip-path=\"url(#clip0600)\" style=\"stroke:#000000; stroke-width:1; stroke-opacity:1; fill:none\" points=\"\n",
       "  489.608,62.931 562.315,62.931 562.315,32.691 489.608,32.691 489.608,62.931 \n",
       "  \"/>\n",
       "<circle clip-path=\"url(#clip0600)\" style=\"fill:#000000; stroke:none; fill-opacity:1\" cx=\"516.608\" cy=\"47.811\" r=\"6\"/>\n",
       "<circle clip-path=\"url(#clip0600)\" style=\"fill:#009af9; stroke:none; fill-opacity:1\" cx=\"516.608\" cy=\"47.811\" r=\"5\"/>\n",
       "<g clip-path=\"url(#clip0600)\">\n",
       "<text style=\"fill:#000000; fill-opacity:1; font-family:Arial,Helvetica Neue,Helvetica,sans-serif; font-size:12; text-anchor:start;\" transform=\"rotate(0, 537.608, 52.311)\" x=\"537.608\" y=\"52.311\">y1</text>\n",
       "</g>\n",
       "</svg>\n"
      ]
     },
     "execution_count": 23,
     "metadata": {},
     "output_type": "execute_result"
    }
   ],
   "source": [
    "scatter(rand(10), rand(10))"
   ]
  },
  {
   "cell_type": "code",
   "execution_count": 24,
   "metadata": {},
   "outputs": [
    {
     "data": {
      "text/html": [
       "<div id=\"interact-js-shim\">\n",
       "    <script charset=\"utf-8\">\n",
       "(function (IPython, $, _, MathJax) {\n",
       "    $.event.special.destroyed = {\n",
       "\tremove: function(o) {\n",
       "\t    if (o.handler) {\n",
       "\t\to.handler.apply(this, arguments)\n",
       "\t    }\n",
       "\t}\n",
       "    }\n",
       "\n",
       "    var OutputArea = IPython.version >= \"4.0.0\" ? require(\"notebook/js/outputarea\").OutputArea : IPython.OutputArea;\n",
       "\n",
       "    var redrawValue = function (container, type, val) {\n",
       "\tvar selector = $(\"<div/>\");\n",
       "\tvar oa = new OutputArea(_.extend(selector, {\n",
       "\t    selector: selector,\n",
       "\t    prompt_area: true,\n",
       "\t    events: IPython.events,\n",
       "\t    keyboard_manager: IPython.keyboard_manager\n",
       "\t})); // Hack to work with IPython 2.1.0\n",
       "\n",
       "\tswitch (type) {\n",
       "\tcase \"image/png\":\n",
       "            var _src = 'data:' + type + ';base64,' + val;\n",
       "\t    $(container).find(\"img\").attr('src', _src);\n",
       "\t    break;\n",
       "\tcase \"text/latex\":\n",
       "\t\tif (MathJax){\n",
       "\t\t\tvar math = MathJax.Hub.getAllJax(container)[0];\n",
       "\t\t\tMathJax.Hub.Queue([\"Text\", math, val.replace(/^\\${1,2}|\\${1,2}$/g, '')]);\n",
       "\t\t\tbreak;\n",
       "\t\t}\n",
       "\tdefault:\n",
       "\t    var toinsert = OutputArea.append_map[type].apply(\n",
       "\t\toa, [val, {}, selector]\n",
       "\t    );\n",
       "\t    $(container).empty().append(toinsert.contents());\n",
       "\t    selector.remove();\n",
       "\t}\n",
       "    }\n",
       "\n",
       "\n",
       "    $(document).ready(function() {\n",
       "\tfunction initComm(evt, data) {\n",
       "\t    var comm_manager = data.kernel.comm_manager;\n",
       "        //_.extend(comm_manager.targets, require(\"widgets/js/widget\"))\n",
       "\t    comm_manager.register_target(\"Signal\", function (comm) {\n",
       "            comm.on_msg(function (msg) {\n",
       "                var val = msg.content.data.value;\n",
       "                $(\".signal-\" + comm.comm_id).each(function() {\n",
       "                var type = $(this).data(\"type\");\n",
       "                if (typeof(val[type]) !== \"undefined\" && val[type] !== null) {\n",
       "                    redrawValue(this, type, val[type], type);\n",
       "                }\n",
       "                });\n",
       "                delete val;\n",
       "                delete msg.content.data.value;\n",
       "            });\n",
       "\t    });\n",
       "\n",
       "\t    // coordingate with Comm and redraw Signals\n",
       "\t    // XXX: Test using Reactive here to improve performance\n",
       "\t    $([IPython.events]).on(\n",
       "\t\t'output_appended.OutputArea', function (event, type, value, md, toinsert) {\n",
       "\t\t    if (md && md.reactive) {\n",
       "                // console.log(md.comm_id);\n",
       "                toinsert.addClass(\"signal-\" + md.comm_id);\n",
       "                toinsert.data(\"type\", type);\n",
       "                // Signal back indicating the mimetype required\n",
       "                var comm_manager = IPython.notebook.kernel.comm_manager;\n",
       "                var comm = comm_manager.comms[md.comm_id];\n",
       "                comm.then(function (c) {\n",
       "                    c.send({action: \"subscribe_mime\",\n",
       "                       mime: type});\n",
       "                    toinsert.bind(\"destroyed\", function() {\n",
       "                        c.send({action: \"unsubscribe_mime\",\n",
       "                               mime: type});\n",
       "                    });\n",
       "                })\n",
       "\t\t    }\n",
       "\t    });\n",
       "\t}\n",
       "\n",
       "\ttry {\n",
       "\t    // try to initialize right away. otherwise, wait on the status_started event.\n",
       "\t    initComm(undefined, IPython.notebook);\n",
       "\t} catch (e) {\n",
       "\t    $([IPython.events]).on('kernel_created.Kernel kernel_created.Session', initComm);\n",
       "\t}\n",
       "    });\n",
       "})(IPython, jQuery, _, MathJax);\n",
       "</script>\n",
       "    <script>\n",
       "        window.interactLoadedFlag = true\n",
       "       $(\"#interact-js-shim\").bind(\"destroyed\", function () {\n",
       "           if (window.interactLoadedFlag) {\n",
       "               console.warn(\"JavaScript required by Interact will be removed if you remove this cell or run using Interact more than once.\")\n",
       "           }\n",
       "       })\n",
       "       $([IPython.events]).on(\"kernel_starting.Kernel kernel_restarting.Kernel\", function () { window.interactLoadedFlag = false })\n",
       "   </script>\n",
       "</div>"
      ]
     },
     "metadata": {},
     "output_type": "display_data"
    },
    {
     "name": "stderr",
     "output_type": "stream",
     "text": [
      "\u001b[1m\u001b[36mINFO: \u001b[39m\u001b[22m\u001b[36mInteract.jl: using new nbwidgetsextension protocol\n",
      "\u001b[39m"
     ]
    }
   ],
   "source": [
    "using Interact"
   ]
  },
  {
   "cell_type": "code",
   "execution_count": 26,
   "metadata": {},
   "outputs": [
    {
     "data": {
      "application/vnd.jupyter.widget-view+json": {
       "model_id": "8fb1d866-0dc9-4358-9688-a6902e4f59ff",
       "version_major": 2,
       "version_minor": 0
      }
     },
     "metadata": {},
     "output_type": "display_data"
    },
    {
     "data": {
      "text/html": [],
      "text/plain": [
       "Interact.Options{:SelectionSlider,Int64}(5: \"input-2\" = 55 Int64 , \"N\", 55, \"55\", 46, Interact.OptionDict(DataStructures.OrderedDict(\"10\"=>10,\"11\"=>11,\"12\"=>12,\"13\"=>13,\"14\"=>14,\"15\"=>15,\"16\"=>16,\"17\"=>17,\"18\"=>18,\"19\"=>19…), Dict(68=>\"68\",89=>\"89\",11=>\"11\",39=>\"39\",46=>\"46\",85=>\"85\",25=>\"25\",55=>\"55\",42=>\"42\",29=>\"29\"…)), Any[], Any[], true, \"horizontal\", true)"
      ]
     },
     "metadata": {},
     "output_type": "display_data"
    },
    {
     "data": {
      "text/plain": [
       "3025"
      ]
     },
     "execution_count": 26,
     "metadata": {
      "comm_id": "de60b845-7df6-4dec-b926-4f9a36ad6e0b",
      "reactive": true
     },
     "output_type": "execute_result"
    }
   ],
   "source": [
    "@manipulate for N in 10:100\n",
    "    N^2\n",
    "end"
   ]
  },
  {
   "cell_type": "code",
   "execution_count": 32,
   "metadata": {},
   "outputs": [
    {
     "data": {
      "text/plain": [
       "1-element Array{Float64,1}:\n",
       " 0.567689"
      ]
     },
     "execution_count": 32,
     "metadata": {},
     "output_type": "execute_result"
    }
   ],
   "source": [
    "rand(1)"
   ]
  },
  {
   "cell_type": "code",
   "execution_count": 31,
   "metadata": {},
   "outputs": [
    {
     "data": {
      "text/plain": [
       "1000-element Array{Float64,1}:\n",
       " 0.337156 \n",
       " 0.0460988\n",
       " 0.241181 \n",
       " 0.367791 \n",
       " 0.892358 \n",
       " 0.983325 \n",
       " 0.467489 \n",
       " 0.14176  \n",
       " 0.0709616\n",
       " 0.12056  \n",
       " 0.180084 \n",
       " 0.444431 \n",
       " 0.792883 \n",
       " ⋮        \n",
       " 0.202895 \n",
       " 0.814748 \n",
       " 0.504369 \n",
       " 0.724885 \n",
       " 0.903499 \n",
       " 0.382962 \n",
       " 0.978513 \n",
       " 0.653819 \n",
       " 0.379834 \n",
       " 0.594094 \n",
       " 0.547865 \n",
       " 0.152462 "
      ]
     },
     "execution_count": 31,
     "metadata": {},
     "output_type": "execute_result"
    }
   ],
   "source": [
    "N_max = 1000\n",
    "xs = rand(N_max)\n",
    "ys = rand(N_max)"
   ]
  },
  {
   "cell_type": "code",
   "execution_count": 34,
   "metadata": {},
   "outputs": [
    {
     "data": {
      "text/plain": [
       "10-element Array{Float64,1}:\n",
       " 0.258345 \n",
       " 0.443605 \n",
       " 0.610921 \n",
       " 0.250311 \n",
       " 0.460981 \n",
       " 0.66102  \n",
       " 0.207362 \n",
       " 0.0886063\n",
       " 0.806479 \n",
       " 0.714997 "
      ]
     },
     "execution_count": 34,
     "metadata": {},
     "output_type": "execute_result"
    }
   ],
   "source": [
    "xs[1:10]"
   ]
  },
  {
   "cell_type": "code",
   "execution_count": 35,
   "metadata": {},
   "outputs": [
    {
     "data": {
      "application/vnd.jupyter.widget-view+json": {
       "model_id": "15f12fb4-3a44-441a-836f-21ca3058dbef",
       "version_major": 2,
       "version_minor": 0
      }
     },
     "metadata": {},
     "output_type": "display_data"
    },
    {
     "data": {
      "text/html": [],
      "text/plain": [
       "Interact.Options{:SelectionSlider,Int64}(25: \"input-7\" = 500 Int64 , \"i\", 500, \"500\", 500, Interact.OptionDict(DataStructures.OrderedDict(\"1\"=>1,\"2\"=>2,\"3\"=>3,\"4\"=>4,\"5\"=>5,\"6\"=>6,\"7\"=>7,\"8\"=>8,\"9\"=>9,\"10\"=>10…), Dict(306=>\"306\",29=>\"29\",74=>\"74\",905=>\"905\",176=>\"176\",892=>\"892\",285=>\"285\",318=>\"318\",873=>\"873\",975=>\"975\"…)), Any[], Any[], true, \"horizontal\", true)"
      ]
     },
     "metadata": {},
     "output_type": "display_data"
    },
    {
     "data": {
      "text/html": [
       "<?xml version=\"1.0\" encoding=\"utf-8\"?>\n",
       "<svg xmlns=\"http://www.w3.org/2000/svg\" xmlns:xlink=\"http://www.w3.org/1999/xlink\" width=\"600\" height=\"400\" viewBox=\"0 0 600 400\">\n",
       "<defs>\n",
       "  <clipPath id=\"clip5600\">\n",
       "    <rect x=\"0\" y=\"0\" width=\"600\" height=\"400\"/>\n",
       "  </clipPath>\n",
       "</defs>\n",
       "<polygon clip-path=\"url(#clip5600)\" points=\"\n",
       "0,400 600,400 600,0 0,0 \n",
       "  \" fill=\"#ffffff\" fill-opacity=\"1\"/>\n",
       "<defs>\n",
       "  <clipPath id=\"clip5601\">\n",
       "    <rect x=\"120\" y=\"0\" width=\"421\" height=\"400\"/>\n",
       "  </clipPath>\n",
       "</defs>\n",
       "<polygon clip-path=\"url(#clip5600)\" points=\"\n",
       "124.366,375.869 488.424,375.869 488.424,11.811 124.366,11.811 \n",
       "  \" fill=\"#ffffff\" fill-opacity=\"1\"/>\n",
       "<defs>\n",
       "  <clipPath id=\"clip5602\">\n",
       "    <rect x=\"124\" y=\"11\" width=\"365\" height=\"365\"/>\n",
       "  </clipPath>\n",
       "</defs>\n",
       "<polyline clip-path=\"url(#clip5602)\" style=\"stroke:#000000; stroke-width:0.5; stroke-opacity:0.1; fill:none\" points=\"\n",
       "  124.366,375.869 124.366,11.811 \n",
       "  \"/>\n",
       "<polyline clip-path=\"url(#clip5602)\" style=\"stroke:#000000; stroke-width:0.5; stroke-opacity:0.1; fill:none\" points=\"\n",
       "  197.177,375.869 197.177,11.811 \n",
       "  \"/>\n",
       "<polyline clip-path=\"url(#clip5602)\" style=\"stroke:#000000; stroke-width:0.5; stroke-opacity:0.1; fill:none\" points=\"\n",
       "  269.989,375.869 269.989,11.811 \n",
       "  \"/>\n",
       "<polyline clip-path=\"url(#clip5602)\" style=\"stroke:#000000; stroke-width:0.5; stroke-opacity:0.1; fill:none\" points=\"\n",
       "  342.8,375.869 342.8,11.811 \n",
       "  \"/>\n",
       "<polyline clip-path=\"url(#clip5602)\" style=\"stroke:#000000; stroke-width:0.5; stroke-opacity:0.1; fill:none\" points=\"\n",
       "  415.612,375.869 415.612,11.811 \n",
       "  \"/>\n",
       "<polyline clip-path=\"url(#clip5602)\" style=\"stroke:#000000; stroke-width:0.5; stroke-opacity:0.1; fill:none\" points=\"\n",
       "  488.424,375.869 488.424,11.811 \n",
       "  \"/>\n",
       "<polyline clip-path=\"url(#clip5602)\" style=\"stroke:#000000; stroke-width:0.5; stroke-opacity:0.1; fill:none\" points=\"\n",
       "  124.366,375.869 488.424,375.869 \n",
       "  \"/>\n",
       "<polyline clip-path=\"url(#clip5602)\" style=\"stroke:#000000; stroke-width:0.5; stroke-opacity:0.1; fill:none\" points=\"\n",
       "  124.366,303.057 488.424,303.057 \n",
       "  \"/>\n",
       "<polyline clip-path=\"url(#clip5602)\" style=\"stroke:#000000; stroke-width:0.5; stroke-opacity:0.1; fill:none\" points=\"\n",
       "  124.366,230.246 488.424,230.246 \n",
       "  \"/>\n",
       "<polyline clip-path=\"url(#clip5602)\" style=\"stroke:#000000; stroke-width:0.5; stroke-opacity:0.1; fill:none\" points=\"\n",
       "  124.366,157.434 488.424,157.434 \n",
       "  \"/>\n",
       "<polyline clip-path=\"url(#clip5602)\" style=\"stroke:#000000; stroke-width:0.5; stroke-opacity:0.1; fill:none\" points=\"\n",
       "  124.366,84.6226 488.424,84.6226 \n",
       "  \"/>\n",
       "<polyline clip-path=\"url(#clip5602)\" style=\"stroke:#000000; stroke-width:0.5; stroke-opacity:0.1; fill:none\" points=\"\n",
       "  124.366,11.811 488.424,11.811 \n",
       "  \"/>\n",
       "<polyline clip-path=\"url(#clip5600)\" style=\"stroke:#000000; stroke-width:1; stroke-opacity:1; fill:none\" points=\"\n",
       "  124.366,375.869 488.424,375.869 \n",
       "  \"/>\n",
       "<polyline clip-path=\"url(#clip5600)\" style=\"stroke:#000000; stroke-width:1; stroke-opacity:1; fill:none\" points=\"\n",
       "  124.366,375.869 124.366,11.811 \n",
       "  \"/>\n",
       "<polyline clip-path=\"url(#clip5600)\" style=\"stroke:#000000; stroke-width:1; stroke-opacity:1; fill:none\" points=\"\n",
       "  124.366,375.869 124.366,370.408 \n",
       "  \"/>\n",
       "<polyline clip-path=\"url(#clip5600)\" style=\"stroke:#000000; stroke-width:1; stroke-opacity:1; fill:none\" points=\"\n",
       "  197.177,375.869 197.177,370.408 \n",
       "  \"/>\n",
       "<polyline clip-path=\"url(#clip5600)\" style=\"stroke:#000000; stroke-width:1; stroke-opacity:1; fill:none\" points=\"\n",
       "  269.989,375.869 269.989,370.408 \n",
       "  \"/>\n",
       "<polyline clip-path=\"url(#clip5600)\" style=\"stroke:#000000; stroke-width:1; stroke-opacity:1; fill:none\" points=\"\n",
       "  342.8,375.869 342.8,370.408 \n",
       "  \"/>\n",
       "<polyline clip-path=\"url(#clip5600)\" style=\"stroke:#000000; stroke-width:1; stroke-opacity:1; fill:none\" points=\"\n",
       "  415.612,375.869 415.612,370.408 \n",
       "  \"/>\n",
       "<polyline clip-path=\"url(#clip5600)\" style=\"stroke:#000000; stroke-width:1; stroke-opacity:1; fill:none\" points=\"\n",
       "  488.424,375.869 488.424,370.408 \n",
       "  \"/>\n",
       "<polyline clip-path=\"url(#clip5600)\" style=\"stroke:#000000; stroke-width:1; stroke-opacity:1; fill:none\" points=\"\n",
       "  124.366,375.869 129.827,375.869 \n",
       "  \"/>\n",
       "<polyline clip-path=\"url(#clip5600)\" style=\"stroke:#000000; stroke-width:1; stroke-opacity:1; fill:none\" points=\"\n",
       "  124.366,303.057 129.827,303.057 \n",
       "  \"/>\n",
       "<polyline clip-path=\"url(#clip5600)\" style=\"stroke:#000000; stroke-width:1; stroke-opacity:1; fill:none\" points=\"\n",
       "  124.366,230.246 129.827,230.246 \n",
       "  \"/>\n",
       "<polyline clip-path=\"url(#clip5600)\" style=\"stroke:#000000; stroke-width:1; stroke-opacity:1; fill:none\" points=\"\n",
       "  124.366,157.434 129.827,157.434 \n",
       "  \"/>\n",
       "<polyline clip-path=\"url(#clip5600)\" style=\"stroke:#000000; stroke-width:1; stroke-opacity:1; fill:none\" points=\"\n",
       "  124.366,84.6226 129.827,84.6226 \n",
       "  \"/>\n",
       "<polyline clip-path=\"url(#clip5600)\" style=\"stroke:#000000; stroke-width:1; stroke-opacity:1; fill:none\" points=\"\n",
       "  124.366,11.811 129.827,11.811 \n",
       "  \"/>\n",
       "<g clip-path=\"url(#clip5600)\">\n",
       "<text style=\"fill:#000000; fill-opacity:1; font-family:Arial,Helvetica Neue,Helvetica,sans-serif; font-size:12; text-anchor:middle;\" transform=\"rotate(0, 124.366, 389.669)\" x=\"124.366\" y=\"389.669\">0.0</text>\n",
       "</g>\n",
       "<g clip-path=\"url(#clip5600)\">\n",
       "<text style=\"fill:#000000; fill-opacity:1; font-family:Arial,Helvetica Neue,Helvetica,sans-serif; font-size:12; text-anchor:middle;\" transform=\"rotate(0, 197.177, 389.669)\" x=\"197.177\" y=\"389.669\">0.2</text>\n",
       "</g>\n",
       "<g clip-path=\"url(#clip5600)\">\n",
       "<text style=\"fill:#000000; fill-opacity:1; font-family:Arial,Helvetica Neue,Helvetica,sans-serif; font-size:12; text-anchor:middle;\" transform=\"rotate(0, 269.989, 389.669)\" x=\"269.989\" y=\"389.669\">0.4</text>\n",
       "</g>\n",
       "<g clip-path=\"url(#clip5600)\">\n",
       "<text style=\"fill:#000000; fill-opacity:1; font-family:Arial,Helvetica Neue,Helvetica,sans-serif; font-size:12; text-anchor:middle;\" transform=\"rotate(0, 342.8, 389.669)\" x=\"342.8\" y=\"389.669\">0.6</text>\n",
       "</g>\n",
       "<g clip-path=\"url(#clip5600)\">\n",
       "<text style=\"fill:#000000; fill-opacity:1; font-family:Arial,Helvetica Neue,Helvetica,sans-serif; font-size:12; text-anchor:middle;\" transform=\"rotate(0, 415.612, 389.669)\" x=\"415.612\" y=\"389.669\">0.8</text>\n",
       "</g>\n",
       "<g clip-path=\"url(#clip5600)\">\n",
       "<text style=\"fill:#000000; fill-opacity:1; font-family:Arial,Helvetica Neue,Helvetica,sans-serif; font-size:12; text-anchor:middle;\" transform=\"rotate(0, 488.424, 389.669)\" x=\"488.424\" y=\"389.669\">1.0</text>\n",
       "</g>\n",
       "<g clip-path=\"url(#clip5600)\">\n",
       "<text style=\"fill:#000000; fill-opacity:1; font-family:Arial,Helvetica Neue,Helvetica,sans-serif; font-size:12; text-anchor:end;\" transform=\"rotate(0, 118.366, 380.369)\" x=\"118.366\" y=\"380.369\">0.0</text>\n",
       "</g>\n",
       "<g clip-path=\"url(#clip5600)\">\n",
       "<text style=\"fill:#000000; fill-opacity:1; font-family:Arial,Helvetica Neue,Helvetica,sans-serif; font-size:12; text-anchor:end;\" transform=\"rotate(0, 118.366, 307.557)\" x=\"118.366\" y=\"307.557\">0.2</text>\n",
       "</g>\n",
       "<g clip-path=\"url(#clip5600)\">\n",
       "<text style=\"fill:#000000; fill-opacity:1; font-family:Arial,Helvetica Neue,Helvetica,sans-serif; font-size:12; text-anchor:end;\" transform=\"rotate(0, 118.366, 234.746)\" x=\"118.366\" y=\"234.746\">0.4</text>\n",
       "</g>\n",
       "<g clip-path=\"url(#clip5600)\">\n",
       "<text style=\"fill:#000000; fill-opacity:1; font-family:Arial,Helvetica Neue,Helvetica,sans-serif; font-size:12; text-anchor:end;\" transform=\"rotate(0, 118.366, 161.934)\" x=\"118.366\" y=\"161.934\">0.6</text>\n",
       "</g>\n",
       "<g clip-path=\"url(#clip5600)\">\n",
       "<text style=\"fill:#000000; fill-opacity:1; font-family:Arial,Helvetica Neue,Helvetica,sans-serif; font-size:12; text-anchor:end;\" transform=\"rotate(0, 118.366, 89.1226)\" x=\"118.366\" y=\"89.1226\">0.8</text>\n",
       "</g>\n",
       "<g clip-path=\"url(#clip5600)\">\n",
       "<text style=\"fill:#000000; fill-opacity:1; font-family:Arial,Helvetica Neue,Helvetica,sans-serif; font-size:12; text-anchor:end;\" transform=\"rotate(0, 118.366, 16.311)\" x=\"118.366\" y=\"16.311\">1.0</text>\n",
       "</g>\n",
       "<circle clip-path=\"url(#clip5602)\" style=\"fill:#000000; stroke:none; fill-opacity:0.5\" cx=\"218.418\" cy=\"253.125\" r=\"4\"/>\n",
       "<circle clip-path=\"url(#clip5602)\" style=\"fill:#009af9; stroke:none; fill-opacity:0.5\" cx=\"218.418\" cy=\"253.125\" r=\"3\"/>\n",
       "<circle clip-path=\"url(#clip5602)\" style=\"fill:#000000; stroke:none; fill-opacity:0.5\" cx=\"285.864\" cy=\"359.086\" r=\"4\"/>\n",
       "<circle clip-path=\"url(#clip5602)\" style=\"fill:#009af9; stroke:none; fill-opacity:0.5\" cx=\"285.864\" cy=\"359.086\" r=\"3\"/>\n",
       "<circle clip-path=\"url(#clip5602)\" style=\"fill:#000000; stroke:none; fill-opacity:0.5\" cx=\"346.776\" cy=\"288.065\" r=\"4\"/>\n",
       "<circle clip-path=\"url(#clip5602)\" style=\"fill:#009af9; stroke:none; fill-opacity:0.5\" cx=\"346.776\" cy=\"288.065\" r=\"3\"/>\n",
       "<circle clip-path=\"url(#clip5602)\" style=\"fill:#000000; stroke:none; fill-opacity:0.5\" cx=\"215.493\" cy=\"241.971\" r=\"4\"/>\n",
       "<circle clip-path=\"url(#clip5602)\" style=\"fill:#009af9; stroke:none; fill-opacity:0.5\" cx=\"215.493\" cy=\"241.971\" r=\"3\"/>\n",
       "<circle clip-path=\"url(#clip5602)\" style=\"fill:#000000; stroke:none; fill-opacity:0.5\" cx=\"292.189\" cy=\"50.999\" r=\"4\"/>\n",
       "<circle clip-path=\"url(#clip5602)\" style=\"fill:#009af9; stroke:none; fill-opacity:0.5\" cx=\"292.189\" cy=\"50.999\" r=\"3\"/>\n",
       "<circle clip-path=\"url(#clip5602)\" style=\"fill:#000000; stroke:none; fill-opacity:0.5\" cx=\"365.015\" cy=\"17.8815\" r=\"4\"/>\n",
       "<circle clip-path=\"url(#clip5602)\" style=\"fill:#009af9; stroke:none; fill-opacity:0.5\" cx=\"365.015\" cy=\"17.8815\" r=\"3\"/>\n",
       "<circle clip-path=\"url(#clip5602)\" style=\"fill:#000000; stroke:none; fill-opacity:0.5\" cx=\"199.858\" cy=\"205.676\" r=\"4\"/>\n",
       "<circle clip-path=\"url(#clip5602)\" style=\"fill:#009af9; stroke:none; fill-opacity:0.5\" cx=\"199.858\" cy=\"205.676\" r=\"3\"/>\n",
       "<circle clip-path=\"url(#clip5602)\" style=\"fill:#000000; stroke:none; fill-opacity:0.5\" cx=\"156.624\" cy=\"324.26\" r=\"4\"/>\n",
       "<circle clip-path=\"url(#clip5602)\" style=\"fill:#009af9; stroke:none; fill-opacity:0.5\" cx=\"156.624\" cy=\"324.26\" r=\"3\"/>\n",
       "<circle clip-path=\"url(#clip5602)\" style=\"fill:#000000; stroke:none; fill-opacity:0.5\" cx=\"417.971\" cy=\"350.035\" r=\"4\"/>\n",
       "<circle clip-path=\"url(#clip5602)\" style=\"fill:#009af9; stroke:none; fill-opacity:0.5\" cx=\"417.971\" cy=\"350.035\" r=\"3\"/>\n",
       "<circle clip-path=\"url(#clip5602)\" style=\"fill:#000000; stroke:none; fill-opacity:0.5\" cx=\"384.666\" cy=\"331.978\" r=\"4\"/>\n",
       "<circle clip-path=\"url(#clip5602)\" style=\"fill:#009af9; stroke:none; fill-opacity:0.5\" cx=\"384.666\" cy=\"331.978\" r=\"3\"/>\n",
       "<circle clip-path=\"url(#clip5602)\" style=\"fill:#000000; stroke:none; fill-opacity:0.5\" cx=\"246.249\" cy=\"310.308\" r=\"4\"/>\n",
       "<circle clip-path=\"url(#clip5602)\" style=\"fill:#009af9; stroke:none; fill-opacity:0.5\" cx=\"246.249\" cy=\"310.308\" r=\"3\"/>\n",
       "<circle clip-path=\"url(#clip5602)\" style=\"fill:#000000; stroke:none; fill-opacity:0.5\" cx=\"216.613\" cy=\"214.07\" r=\"4\"/>\n",
       "<circle clip-path=\"url(#clip5602)\" style=\"fill:#009af9; stroke:none; fill-opacity:0.5\" cx=\"216.613\" cy=\"214.07\" r=\"3\"/>\n",
       "<circle clip-path=\"url(#clip5602)\" style=\"fill:#000000; stroke:none; fill-opacity:0.5\" cx=\"179.408\" cy=\"87.2135\" r=\"4\"/>\n",
       "<circle clip-path=\"url(#clip5602)\" style=\"fill:#009af9; stroke:none; fill-opacity:0.5\" cx=\"179.408\" cy=\"87.2135\" r=\"3\"/>\n",
       "<circle clip-path=\"url(#clip5602)\" style=\"fill:#000000; stroke:none; fill-opacity:0.5\" cx=\"370.006\" cy=\"123.667\" r=\"4\"/>\n",
       "<circle clip-path=\"url(#clip5602)\" style=\"fill:#009af9; stroke:none; fill-opacity:0.5\" cx=\"370.006\" cy=\"123.667\" r=\"3\"/>\n",
       "<circle clip-path=\"url(#clip5602)\" style=\"fill:#000000; stroke:none; fill-opacity:0.5\" cx=\"230.786\" cy=\"107.417\" r=\"4\"/>\n",
       "<circle clip-path=\"url(#clip5602)\" style=\"fill:#009af9; stroke:none; fill-opacity:0.5\" cx=\"230.786\" cy=\"107.417\" r=\"3\"/>\n",
       "<circle clip-path=\"url(#clip5602)\" style=\"fill:#000000; stroke:none; fill-opacity:0.5\" cx=\"383.366\" cy=\"115.139\" r=\"4\"/>\n",
       "<circle clip-path=\"url(#clip5602)\" style=\"fill:#009af9; stroke:none; fill-opacity:0.5\" cx=\"383.366\" cy=\"115.139\" r=\"3\"/>\n",
       "<circle clip-path=\"url(#clip5602)\" style=\"fill:#000000; stroke:none; fill-opacity:0.5\" cx=\"428.667\" cy=\"323.101\" r=\"4\"/>\n",
       "<circle clip-path=\"url(#clip5602)\" style=\"fill:#009af9; stroke:none; fill-opacity:0.5\" cx=\"428.667\" cy=\"323.101\" r=\"3\"/>\n",
       "<circle clip-path=\"url(#clip5602)\" style=\"fill:#000000; stroke:none; fill-opacity:0.5\" cx=\"344.454\" cy=\"53.8877\" r=\"4\"/>\n",
       "<circle clip-path=\"url(#clip5602)\" style=\"fill:#009af9; stroke:none; fill-opacity:0.5\" cx=\"344.454\" cy=\"53.8877\" r=\"3\"/>\n",
       "<circle clip-path=\"url(#clip5602)\" style=\"fill:#000000; stroke:none; fill-opacity:0.5\" cx=\"351.628\" cy=\"135.535\" r=\"4\"/>\n",
       "<circle clip-path=\"url(#clip5602)\" style=\"fill:#009af9; stroke:none; fill-opacity:0.5\" cx=\"351.628\" cy=\"135.535\" r=\"3\"/>\n",
       "<circle clip-path=\"url(#clip5602)\" style=\"fill:#000000; stroke:none; fill-opacity:0.5\" cx=\"308.705\" cy=\"103.796\" r=\"4\"/>\n",
       "<circle clip-path=\"url(#clip5602)\" style=\"fill:#009af9; stroke:none; fill-opacity:0.5\" cx=\"308.705\" cy=\"103.796\" r=\"3\"/>\n",
       "<circle clip-path=\"url(#clip5602)\" style=\"fill:#000000; stroke:none; fill-opacity:0.5\" cx=\"139.684\" cy=\"39.738\" r=\"4\"/>\n",
       "<circle clip-path=\"url(#clip5602)\" style=\"fill:#009af9; stroke:none; fill-opacity:0.5\" cx=\"139.684\" cy=\"39.738\" r=\"3\"/>\n",
       "<circle clip-path=\"url(#clip5602)\" style=\"fill:#000000; stroke:none; fill-opacity:0.5\" cx=\"383.822\" cy=\"137.271\" r=\"4\"/>\n",
       "<circle clip-path=\"url(#clip5602)\" style=\"fill:#009af9; stroke:none; fill-opacity:0.5\" cx=\"383.822\" cy=\"137.271\" r=\"3\"/>\n",
       "<circle clip-path=\"url(#clip5602)\" style=\"fill:#000000; stroke:none; fill-opacity:0.5\" cx=\"292.435\" cy=\"40.673\" r=\"4\"/>\n",
       "<circle clip-path=\"url(#clip5602)\" style=\"fill:#009af9; stroke:none; fill-opacity:0.5\" cx=\"292.435\" cy=\"40.673\" r=\"3\"/>\n",
       "<circle clip-path=\"url(#clip5602)\" style=\"fill:#000000; stroke:none; fill-opacity:0.5\" cx=\"471.846\" cy=\"204.02\" r=\"4\"/>\n",
       "<circle clip-path=\"url(#clip5602)\" style=\"fill:#009af9; stroke:none; fill-opacity:0.5\" cx=\"471.846\" cy=\"204.02\" r=\"3\"/>\n",
       "<circle clip-path=\"url(#clip5602)\" style=\"fill:#000000; stroke:none; fill-opacity:0.5\" cx=\"344.427\" cy=\"193.756\" r=\"4\"/>\n",
       "<circle clip-path=\"url(#clip5602)\" style=\"fill:#009af9; stroke:none; fill-opacity:0.5\" cx=\"344.427\" cy=\"193.756\" r=\"3\"/>\n",
       "<circle clip-path=\"url(#clip5602)\" style=\"fill:#000000; stroke:none; fill-opacity:0.5\" cx=\"186.545\" cy=\"224.388\" r=\"4\"/>\n",
       "<circle clip-path=\"url(#clip5602)\" style=\"fill:#009af9; stroke:none; fill-opacity:0.5\" cx=\"186.545\" cy=\"224.388\" r=\"3\"/>\n",
       "<circle clip-path=\"url(#clip5602)\" style=\"fill:#000000; stroke:none; fill-opacity:0.5\" cx=\"440.713\" cy=\"370.487\" r=\"4\"/>\n",
       "<circle clip-path=\"url(#clip5602)\" style=\"fill:#009af9; stroke:none; fill-opacity:0.5\" cx=\"440.713\" cy=\"370.487\" r=\"3\"/>\n",
       "<circle clip-path=\"url(#clip5602)\" style=\"fill:#000000; stroke:none; fill-opacity:0.5\" cx=\"370.153\" cy=\"338.915\" r=\"4\"/>\n",
       "<circle clip-path=\"url(#clip5602)\" style=\"fill:#009af9; stroke:none; fill-opacity:0.5\" cx=\"370.153\" cy=\"338.915\" r=\"3\"/>\n",
       "<circle clip-path=\"url(#clip5602)\" style=\"fill:#000000; stroke:none; fill-opacity:0.5\" cx=\"446.9\" cy=\"300.691\" r=\"4\"/>\n",
       "<circle clip-path=\"url(#clip5602)\" style=\"fill:#009af9; stroke:none; fill-opacity:0.5\" cx=\"446.9\" cy=\"300.691\" r=\"3\"/>\n",
       "<circle clip-path=\"url(#clip5602)\" style=\"fill:#000000; stroke:none; fill-opacity:0.5\" cx=\"380.751\" cy=\"264.393\" r=\"4\"/>\n",
       "<circle clip-path=\"url(#clip5602)\" style=\"fill:#009af9; stroke:none; fill-opacity:0.5\" cx=\"380.751\" cy=\"264.393\" r=\"3\"/>\n",
       "<circle clip-path=\"url(#clip5602)\" style=\"fill:#000000; stroke:none; fill-opacity:0.5\" cx=\"127.781\" cy=\"220.292\" r=\"4\"/>\n",
       "<circle clip-path=\"url(#clip5602)\" style=\"fill:#009af9; stroke:none; fill-opacity:0.5\" cx=\"127.781\" cy=\"220.292\" r=\"3\"/>\n",
       "<circle clip-path=\"url(#clip5602)\" style=\"fill:#000000; stroke:none; fill-opacity:0.5\" cx=\"125.747\" cy=\"356.962\" r=\"4\"/>\n",
       "<circle clip-path=\"url(#clip5602)\" style=\"fill:#009af9; stroke:none; fill-opacity:0.5\" cx=\"125.747\" cy=\"356.962\" r=\"3\"/>\n",
       "<circle clip-path=\"url(#clip5602)\" style=\"fill:#000000; stroke:none; fill-opacity:0.5\" cx=\"331.907\" cy=\"65.5593\" r=\"4\"/>\n",
       "<circle clip-path=\"url(#clip5602)\" style=\"fill:#009af9; stroke:none; fill-opacity:0.5\" cx=\"331.907\" cy=\"65.5593\" r=\"3\"/>\n",
       "<circle clip-path=\"url(#clip5602)\" style=\"fill:#000000; stroke:none; fill-opacity:0.5\" cx=\"357.219\" cy=\"16.8368\" r=\"4\"/>\n",
       "<circle clip-path=\"url(#clip5602)\" style=\"fill:#009af9; stroke:none; fill-opacity:0.5\" cx=\"357.219\" cy=\"16.8368\" r=\"3\"/>\n",
       "<circle clip-path=\"url(#clip5602)\" style=\"fill:#000000; stroke:none; fill-opacity:0.5\" cx=\"364.753\" cy=\"372.393\" r=\"4\"/>\n",
       "<circle clip-path=\"url(#clip5602)\" style=\"fill:#009af9; stroke:none; fill-opacity:0.5\" cx=\"364.753\" cy=\"372.393\" r=\"3\"/>\n",
       "<circle clip-path=\"url(#clip5602)\" style=\"fill:#000000; stroke:none; fill-opacity:0.5\" cx=\"233.217\" cy=\"346.284\" r=\"4\"/>\n",
       "<circle clip-path=\"url(#clip5602)\" style=\"fill:#009af9; stroke:none; fill-opacity:0.5\" cx=\"233.217\" cy=\"346.284\" r=\"3\"/>\n",
       "<circle clip-path=\"url(#clip5602)\" style=\"fill:#000000; stroke:none; fill-opacity:0.5\" cx=\"163.04\" cy=\"233.228\" r=\"4\"/>\n",
       "<circle clip-path=\"url(#clip5602)\" style=\"fill:#009af9; stroke:none; fill-opacity:0.5\" cx=\"163.04\" cy=\"233.228\" r=\"3\"/>\n",
       "<circle clip-path=\"url(#clip5602)\" style=\"fill:#000000; stroke:none; fill-opacity:0.5\" cx=\"277.203\" cy=\"155.779\" r=\"4\"/>\n",
       "<circle clip-path=\"url(#clip5602)\" style=\"fill:#009af9; stroke:none; fill-opacity:0.5\" cx=\"277.203\" cy=\"155.779\" r=\"3\"/>\n",
       "<circle clip-path=\"url(#clip5602)\" style=\"fill:#000000; stroke:none; fill-opacity:0.5\" cx=\"339.668\" cy=\"150.495\" r=\"4\"/>\n",
       "<circle clip-path=\"url(#clip5602)\" style=\"fill:#009af9; stroke:none; fill-opacity:0.5\" cx=\"339.668\" cy=\"150.495\" r=\"3\"/>\n",
       "<circle clip-path=\"url(#clip5602)\" style=\"fill:#000000; stroke:none; fill-opacity:0.5\" cx=\"348.892\" cy=\"291.675\" r=\"4\"/>\n",
       "<circle clip-path=\"url(#clip5602)\" style=\"fill:#009af9; stroke:none; fill-opacity:0.5\" cx=\"348.892\" cy=\"291.675\" r=\"3\"/>\n",
       "<circle clip-path=\"url(#clip5602)\" style=\"fill:#000000; stroke:none; fill-opacity:0.5\" cx=\"419.768\" cy=\"293.741\" r=\"4\"/>\n",
       "<circle clip-path=\"url(#clip5602)\" style=\"fill:#009af9; stroke:none; fill-opacity:0.5\" cx=\"419.768\" cy=\"293.741\" r=\"3\"/>\n",
       "<circle clip-path=\"url(#clip5602)\" style=\"fill:#000000; stroke:none; fill-opacity:0.5\" cx=\"194.452\" cy=\"367.882\" r=\"4\"/>\n",
       "<circle clip-path=\"url(#clip5602)\" style=\"fill:#009af9; stroke:none; fill-opacity:0.5\" cx=\"194.452\" cy=\"367.882\" r=\"3\"/>\n",
       "<circle clip-path=\"url(#clip5602)\" style=\"fill:#000000; stroke:none; fill-opacity:0.5\" cx=\"396.293\" cy=\"344.379\" r=\"4\"/>\n",
       "<circle clip-path=\"url(#clip5602)\" style=\"fill:#009af9; stroke:none; fill-opacity:0.5\" cx=\"396.293\" cy=\"344.379\" r=\"3\"/>\n",
       "<circle clip-path=\"url(#clip5602)\" style=\"fill:#000000; stroke:none; fill-opacity:0.5\" cx=\"196.25\" cy=\"213.445\" r=\"4\"/>\n",
       "<circle clip-path=\"url(#clip5602)\" style=\"fill:#009af9; stroke:none; fill-opacity:0.5\" cx=\"196.25\" cy=\"213.445\" r=\"3\"/>\n",
       "<circle clip-path=\"url(#clip5602)\" style=\"fill:#000000; stroke:none; fill-opacity:0.5\" cx=\"240.78\" cy=\"236.8\" r=\"4\"/>\n",
       "<circle clip-path=\"url(#clip5602)\" style=\"fill:#009af9; stroke:none; fill-opacity:0.5\" cx=\"240.78\" cy=\"236.8\" r=\"3\"/>\n",
       "<circle clip-path=\"url(#clip5602)\" style=\"fill:#000000; stroke:none; fill-opacity:0.5\" cx=\"443.998\" cy=\"63.7232\" r=\"4\"/>\n",
       "<circle clip-path=\"url(#clip5602)\" style=\"fill:#009af9; stroke:none; fill-opacity:0.5\" cx=\"443.998\" cy=\"63.7232\" r=\"3\"/>\n",
       "<circle clip-path=\"url(#clip5602)\" style=\"fill:#000000; stroke:none; fill-opacity:0.5\" cx=\"322.613\" cy=\"302.624\" r=\"4\"/>\n",
       "<circle clip-path=\"url(#clip5602)\" style=\"fill:#009af9; stroke:none; fill-opacity:0.5\" cx=\"322.613\" cy=\"302.624\" r=\"3\"/>\n",
       "<circle clip-path=\"url(#clip5602)\" style=\"fill:#000000; stroke:none; fill-opacity:0.5\" cx=\"193.112\" cy=\"323.172\" r=\"4\"/>\n",
       "<circle clip-path=\"url(#clip5602)\" style=\"fill:#009af9; stroke:none; fill-opacity:0.5\" cx=\"193.112\" cy=\"323.172\" r=\"3\"/>\n",
       "<circle clip-path=\"url(#clip5602)\" style=\"fill:#000000; stroke:none; fill-opacity:0.5\" cx=\"452.855\" cy=\"42.4802\" r=\"4\"/>\n",
       "<circle clip-path=\"url(#clip5602)\" style=\"fill:#009af9; stroke:none; fill-opacity:0.5\" cx=\"452.855\" cy=\"42.4802\" r=\"3\"/>\n",
       "<circle clip-path=\"url(#clip5602)\" style=\"fill:#000000; stroke:none; fill-opacity:0.5\" cx=\"172.385\" cy=\"263.252\" r=\"4\"/>\n",
       "<circle clip-path=\"url(#clip5602)\" style=\"fill:#009af9; stroke:none; fill-opacity:0.5\" cx=\"172.385\" cy=\"263.252\" r=\"3\"/>\n",
       "<circle clip-path=\"url(#clip5602)\" style=\"fill:#000000; stroke:none; fill-opacity:0.5\" cx=\"166.293\" cy=\"329.771\" r=\"4\"/>\n",
       "<circle clip-path=\"url(#clip5602)\" style=\"fill:#009af9; stroke:none; fill-opacity:0.5\" cx=\"166.293\" cy=\"329.771\" r=\"3\"/>\n",
       "<circle clip-path=\"url(#clip5602)\" style=\"fill:#000000; stroke:none; fill-opacity:0.5\" cx=\"201.567\" cy=\"275.507\" r=\"4\"/>\n",
       "<circle clip-path=\"url(#clip5602)\" style=\"fill:#009af9; stroke:none; fill-opacity:0.5\" cx=\"201.567\" cy=\"275.507\" r=\"3\"/>\n",
       "<circle clip-path=\"url(#clip5602)\" style=\"fill:#000000; stroke:none; fill-opacity:0.5\" cx=\"223.646\" cy=\"235.348\" r=\"4\"/>\n",
       "<circle clip-path=\"url(#clip5602)\" style=\"fill:#009af9; stroke:none; fill-opacity:0.5\" cx=\"223.646\" cy=\"235.348\" r=\"3\"/>\n",
       "<circle clip-path=\"url(#clip5602)\" style=\"fill:#000000; stroke:none; fill-opacity:0.5\" cx=\"463.193\" cy=\"345.201\" r=\"4\"/>\n",
       "<circle clip-path=\"url(#clip5602)\" style=\"fill:#009af9; stroke:none; fill-opacity:0.5\" cx=\"463.193\" cy=\"345.201\" r=\"3\"/>\n",
       "<circle clip-path=\"url(#clip5602)\" style=\"fill:#000000; stroke:none; fill-opacity:0.5\" cx=\"147.052\" cy=\"22.0644\" r=\"4\"/>\n",
       "<circle clip-path=\"url(#clip5602)\" style=\"fill:#009af9; stroke:none; fill-opacity:0.5\" cx=\"147.052\" cy=\"22.0644\" r=\"3\"/>\n",
       "<circle clip-path=\"url(#clip5602)\" style=\"fill:#000000; stroke:none; fill-opacity:0.5\" cx=\"262.892\" cy=\"173.772\" r=\"4\"/>\n",
       "<circle clip-path=\"url(#clip5602)\" style=\"fill:#009af9; stroke:none; fill-opacity:0.5\" cx=\"262.892\" cy=\"173.772\" r=\"3\"/>\n",
       "<circle clip-path=\"url(#clip5602)\" style=\"fill:#000000; stroke:none; fill-opacity:0.5\" cx=\"200.574\" cy=\"62.2625\" r=\"4\"/>\n",
       "<circle clip-path=\"url(#clip5602)\" style=\"fill:#009af9; stroke:none; fill-opacity:0.5\" cx=\"200.574\" cy=\"62.2625\" r=\"3\"/>\n",
       "<circle clip-path=\"url(#clip5602)\" style=\"fill:#000000; stroke:none; fill-opacity:0.5\" cx=\"208.386\" cy=\"293.567\" r=\"4\"/>\n",
       "<circle clip-path=\"url(#clip5602)\" style=\"fill:#009af9; stroke:none; fill-opacity:0.5\" cx=\"208.386\" cy=\"293.567\" r=\"3\"/>\n",
       "<circle clip-path=\"url(#clip5602)\" style=\"fill:#000000; stroke:none; fill-opacity:0.5\" cx=\"144.772\" cy=\"285.22\" r=\"4\"/>\n",
       "<circle clip-path=\"url(#clip5602)\" style=\"fill:#009af9; stroke:none; fill-opacity:0.5\" cx=\"144.772\" cy=\"285.22\" r=\"3\"/>\n",
       "<circle clip-path=\"url(#clip5602)\" style=\"fill:#000000; stroke:none; fill-opacity:0.5\" cx=\"240.203\" cy=\"76.4015\" r=\"4\"/>\n",
       "<circle clip-path=\"url(#clip5602)\" style=\"fill:#009af9; stroke:none; fill-opacity:0.5\" cx=\"240.203\" cy=\"76.4015\" r=\"3\"/>\n",
       "<circle clip-path=\"url(#clip5602)\" style=\"fill:#000000; stroke:none; fill-opacity:0.5\" cx=\"443.306\" cy=\"102.157\" r=\"4\"/>\n",
       "<circle clip-path=\"url(#clip5602)\" style=\"fill:#009af9; stroke:none; fill-opacity:0.5\" cx=\"443.306\" cy=\"102.157\" r=\"3\"/>\n",
       "<circle clip-path=\"url(#clip5602)\" style=\"fill:#000000; stroke:none; fill-opacity:0.5\" cx=\"421.333\" cy=\"362.559\" r=\"4\"/>\n",
       "<circle clip-path=\"url(#clip5602)\" style=\"fill:#009af9; stroke:none; fill-opacity:0.5\" cx=\"421.333\" cy=\"362.559\" r=\"3\"/>\n",
       "<circle clip-path=\"url(#clip5602)\" style=\"fill:#000000; stroke:none; fill-opacity:0.5\" cx=\"141.216\" cy=\"273.047\" r=\"4\"/>\n",
       "<circle clip-path=\"url(#clip5602)\" style=\"fill:#009af9; stroke:none; fill-opacity:0.5\" cx=\"141.216\" cy=\"273.047\" r=\"3\"/>\n",
       "<circle clip-path=\"url(#clip5602)\" style=\"fill:#000000; stroke:none; fill-opacity:0.5\" cx=\"139.898\" cy=\"131.626\" r=\"4\"/>\n",
       "<circle clip-path=\"url(#clip5602)\" style=\"fill:#009af9; stroke:none; fill-opacity:0.5\" cx=\"139.898\" cy=\"131.626\" r=\"3\"/>\n",
       "<circle clip-path=\"url(#clip5602)\" style=\"fill:#000000; stroke:none; fill-opacity:0.5\" cx=\"322.66\" cy=\"37.1713\" r=\"4\"/>\n",
       "<circle clip-path=\"url(#clip5602)\" style=\"fill:#009af9; stroke:none; fill-opacity:0.5\" cx=\"322.66\" cy=\"37.1713\" r=\"3\"/>\n",
       "<circle clip-path=\"url(#clip5602)\" style=\"fill:#000000; stroke:none; fill-opacity:0.5\" cx=\"306.233\" cy=\"49.9824\" r=\"4\"/>\n",
       "<circle clip-path=\"url(#clip5602)\" style=\"fill:#009af9; stroke:none; fill-opacity:0.5\" cx=\"306.233\" cy=\"49.9824\" r=\"3\"/>\n",
       "<circle clip-path=\"url(#clip5602)\" style=\"fill:#000000; stroke:none; fill-opacity:0.5\" cx=\"464.76\" cy=\"173.456\" r=\"4\"/>\n",
       "<circle clip-path=\"url(#clip5602)\" style=\"fill:#009af9; stroke:none; fill-opacity:0.5\" cx=\"464.76\" cy=\"173.456\" r=\"3\"/>\n",
       "<circle clip-path=\"url(#clip5602)\" style=\"fill:#000000; stroke:none; fill-opacity:0.5\" cx=\"178.347\" cy=\"45.3753\" r=\"4\"/>\n",
       "<circle clip-path=\"url(#clip5602)\" style=\"fill:#009af9; stroke:none; fill-opacity:0.5\" cx=\"178.347\" cy=\"45.3753\" r=\"3\"/>\n",
       "<circle clip-path=\"url(#clip5602)\" style=\"fill:#000000; stroke:none; fill-opacity:0.5\" cx=\"253.046\" cy=\"40.2633\" r=\"4\"/>\n",
       "<circle clip-path=\"url(#clip5602)\" style=\"fill:#009af9; stroke:none; fill-opacity:0.5\" cx=\"253.046\" cy=\"40.2633\" r=\"3\"/>\n",
       "<circle clip-path=\"url(#clip5602)\" style=\"fill:#000000; stroke:none; fill-opacity:0.5\" cx=\"238.321\" cy=\"30.5127\" r=\"4\"/>\n",
       "<circle clip-path=\"url(#clip5602)\" style=\"fill:#009af9; stroke:none; fill-opacity:0.5\" cx=\"238.321\" cy=\"30.5127\" r=\"3\"/>\n",
       "<circle clip-path=\"url(#clip5602)\" style=\"fill:#000000; stroke:none; fill-opacity:0.5\" cx=\"267.411\" cy=\"323.715\" r=\"4\"/>\n",
       "<circle clip-path=\"url(#clip5602)\" style=\"fill:#009af9; stroke:none; fill-opacity:0.5\" cx=\"267.411\" cy=\"323.715\" r=\"3\"/>\n",
       "<circle clip-path=\"url(#clip5602)\" style=\"fill:#000000; stroke:none; fill-opacity:0.5\" cx=\"295.437\" cy=\"198.185\" r=\"4\"/>\n",
       "<circle clip-path=\"url(#clip5602)\" style=\"fill:#009af9; stroke:none; fill-opacity:0.5\" cx=\"295.437\" cy=\"198.185\" r=\"3\"/>\n",
       "<circle clip-path=\"url(#clip5602)\" style=\"fill:#000000; stroke:none; fill-opacity:0.5\" cx=\"356.688\" cy=\"116.625\" r=\"4\"/>\n",
       "<circle clip-path=\"url(#clip5602)\" style=\"fill:#009af9; stroke:none; fill-opacity:0.5\" cx=\"356.688\" cy=\"116.625\" r=\"3\"/>\n",
       "<circle clip-path=\"url(#clip5602)\" style=\"fill:#000000; stroke:none; fill-opacity:0.5\" cx=\"392.807\" cy=\"255.923\" r=\"4\"/>\n",
       "<circle clip-path=\"url(#clip5602)\" style=\"fill:#009af9; stroke:none; fill-opacity:0.5\" cx=\"392.807\" cy=\"255.923\" r=\"3\"/>\n",
       "<circle clip-path=\"url(#clip5602)\" style=\"fill:#000000; stroke:none; fill-opacity:0.5\" cx=\"453.676\" cy=\"281.567\" r=\"4\"/>\n",
       "<circle clip-path=\"url(#clip5602)\" style=\"fill:#009af9; stroke:none; fill-opacity:0.5\" cx=\"453.676\" cy=\"281.567\" r=\"3\"/>\n",
       "<circle clip-path=\"url(#clip5602)\" style=\"fill:#000000; stroke:none; fill-opacity:0.5\" cx=\"463.245\" cy=\"354.639\" r=\"4\"/>\n",
       "<circle clip-path=\"url(#clip5602)\" style=\"fill:#009af9; stroke:none; fill-opacity:0.5\" cx=\"463.245\" cy=\"354.639\" r=\"3\"/>\n",
       "<circle clip-path=\"url(#clip5602)\" style=\"fill:#000000; stroke:none; fill-opacity:0.5\" cx=\"475.812\" cy=\"95.7232\" r=\"4\"/>\n",
       "<circle clip-path=\"url(#clip5602)\" style=\"fill:#009af9; stroke:none; fill-opacity:0.5\" cx=\"475.812\" cy=\"95.7232\" r=\"3\"/>\n",
       "<circle clip-path=\"url(#clip5602)\" style=\"fill:#000000; stroke:none; fill-opacity:0.5\" cx=\"263.332\" cy=\"87.2204\" r=\"4\"/>\n",
       "<circle clip-path=\"url(#clip5602)\" style=\"fill:#009af9; stroke:none; fill-opacity:0.5\" cx=\"263.332\" cy=\"87.2204\" r=\"3\"/>\n",
       "<circle clip-path=\"url(#clip5602)\" style=\"fill:#000000; stroke:none; fill-opacity:0.5\" cx=\"192.84\" cy=\"127.454\" r=\"4\"/>\n",
       "<circle clip-path=\"url(#clip5602)\" style=\"fill:#009af9; stroke:none; fill-opacity:0.5\" cx=\"192.84\" cy=\"127.454\" r=\"3\"/>\n",
       "<circle clip-path=\"url(#clip5602)\" style=\"fill:#000000; stroke:none; fill-opacity:0.5\" cx=\"138.382\" cy=\"212.61\" r=\"4\"/>\n",
       "<circle clip-path=\"url(#clip5602)\" style=\"fill:#009af9; stroke:none; fill-opacity:0.5\" cx=\"138.382\" cy=\"212.61\" r=\"3\"/>\n",
       "<circle clip-path=\"url(#clip5602)\" style=\"fill:#000000; stroke:none; fill-opacity:0.5\" cx=\"207.594\" cy=\"266.647\" r=\"4\"/>\n",
       "<circle clip-path=\"url(#clip5602)\" style=\"fill:#009af9; stroke:none; fill-opacity:0.5\" cx=\"207.594\" cy=\"266.647\" r=\"3\"/>\n",
       "<circle clip-path=\"url(#clip5602)\" style=\"fill:#000000; stroke:none; fill-opacity:0.5\" cx=\"156.471\" cy=\"62.7263\" r=\"4\"/>\n",
       "<circle clip-path=\"url(#clip5602)\" style=\"fill:#009af9; stroke:none; fill-opacity:0.5\" cx=\"156.471\" cy=\"62.7263\" r=\"3\"/>\n",
       "<circle clip-path=\"url(#clip5602)\" style=\"fill:#000000; stroke:none; fill-opacity:0.5\" cx=\"468.156\" cy=\"165.485\" r=\"4\"/>\n",
       "<circle clip-path=\"url(#clip5602)\" style=\"fill:#009af9; stroke:none; fill-opacity:0.5\" cx=\"468.156\" cy=\"165.485\" r=\"3\"/>\n",
       "<circle clip-path=\"url(#clip5602)\" style=\"fill:#000000; stroke:none; fill-opacity:0.5\" cx=\"325.022\" cy=\"190.052\" r=\"4\"/>\n",
       "<circle clip-path=\"url(#clip5602)\" style=\"fill:#009af9; stroke:none; fill-opacity:0.5\" cx=\"325.022\" cy=\"190.052\" r=\"3\"/>\n",
       "<circle clip-path=\"url(#clip5602)\" style=\"fill:#000000; stroke:none; fill-opacity:0.5\" cx=\"442.905\" cy=\"214.707\" r=\"4\"/>\n",
       "<circle clip-path=\"url(#clip5602)\" style=\"fill:#009af9; stroke:none; fill-opacity:0.5\" cx=\"442.905\" cy=\"214.707\" r=\"3\"/>\n",
       "<circle clip-path=\"url(#clip5602)\" style=\"fill:#000000; stroke:none; fill-opacity:0.5\" cx=\"449.652\" cy=\"332.653\" r=\"4\"/>\n",
       "<circle clip-path=\"url(#clip5602)\" style=\"fill:#009af9; stroke:none; fill-opacity:0.5\" cx=\"449.652\" cy=\"332.653\" r=\"3\"/>\n",
       "<circle clip-path=\"url(#clip5602)\" style=\"fill:#000000; stroke:none; fill-opacity:0.5\" cx=\"130.546\" cy=\"159.185\" r=\"4\"/>\n",
       "<circle clip-path=\"url(#clip5602)\" style=\"fill:#009af9; stroke:none; fill-opacity:0.5\" cx=\"130.546\" cy=\"159.185\" r=\"3\"/>\n",
       "<circle clip-path=\"url(#clip5602)\" style=\"fill:#000000; stroke:none; fill-opacity:0.5\" cx=\"279.66\" cy=\"154.068\" r=\"4\"/>\n",
       "<circle clip-path=\"url(#clip5602)\" style=\"fill:#009af9; stroke:none; fill-opacity:0.5\" cx=\"279.66\" cy=\"154.068\" r=\"3\"/>\n",
       "<circle clip-path=\"url(#clip5602)\" style=\"fill:#000000; stroke:none; fill-opacity:0.5\" cx=\"408.5\" cy=\"315.72\" r=\"4\"/>\n",
       "<circle clip-path=\"url(#clip5602)\" style=\"fill:#009af9; stroke:none; fill-opacity:0.5\" cx=\"408.5\" cy=\"315.72\" r=\"3\"/>\n",
       "<circle clip-path=\"url(#clip5602)\" style=\"fill:#000000; stroke:none; fill-opacity:0.5\" cx=\"224.517\" cy=\"90.2241\" r=\"4\"/>\n",
       "<circle clip-path=\"url(#clip5602)\" style=\"fill:#009af9; stroke:none; fill-opacity:0.5\" cx=\"224.517\" cy=\"90.2241\" r=\"3\"/>\n",
       "<circle clip-path=\"url(#clip5602)\" style=\"fill:#000000; stroke:none; fill-opacity:0.5\" cx=\"263.978\" cy=\"302.789\" r=\"4\"/>\n",
       "<circle clip-path=\"url(#clip5602)\" style=\"fill:#009af9; stroke:none; fill-opacity:0.5\" cx=\"263.978\" cy=\"302.789\" r=\"3\"/>\n",
       "<circle clip-path=\"url(#clip5602)\" style=\"fill:#000000; stroke:none; fill-opacity:0.5\" cx=\"416.114\" cy=\"263.79\" r=\"4\"/>\n",
       "<circle clip-path=\"url(#clip5602)\" style=\"fill:#009af9; stroke:none; fill-opacity:0.5\" cx=\"416.114\" cy=\"263.79\" r=\"3\"/>\n",
       "<circle clip-path=\"url(#clip5602)\" style=\"fill:#000000; stroke:none; fill-opacity:0.5\" cx=\"169.304\" cy=\"249.049\" r=\"4\"/>\n",
       "<circle clip-path=\"url(#clip5602)\" style=\"fill:#009af9; stroke:none; fill-opacity:0.5\" cx=\"169.304\" cy=\"249.049\" r=\"3\"/>\n",
       "<circle clip-path=\"url(#clip5602)\" style=\"fill:#000000; stroke:none; fill-opacity:0.5\" cx=\"188.445\" cy=\"263.125\" r=\"4\"/>\n",
       "<circle clip-path=\"url(#clip5602)\" style=\"fill:#009af9; stroke:none; fill-opacity:0.5\" cx=\"188.445\" cy=\"263.125\" r=\"3\"/>\n",
       "<circle clip-path=\"url(#clip5602)\" style=\"fill:#000000; stroke:none; fill-opacity:0.5\" cx=\"205.024\" cy=\"341.688\" r=\"4\"/>\n",
       "<circle clip-path=\"url(#clip5602)\" style=\"fill:#009af9; stroke:none; fill-opacity:0.5\" cx=\"205.024\" cy=\"341.688\" r=\"3\"/>\n",
       "<circle clip-path=\"url(#clip5602)\" style=\"fill:#000000; stroke:none; fill-opacity:0.5\" cx=\"251.264\" cy=\"295.464\" r=\"4\"/>\n",
       "<circle clip-path=\"url(#clip5602)\" style=\"fill:#009af9; stroke:none; fill-opacity:0.5\" cx=\"251.264\" cy=\"295.464\" r=\"3\"/>\n",
       "<circle clip-path=\"url(#clip5602)\" style=\"fill:#000000; stroke:none; fill-opacity:0.5\" cx=\"143.633\" cy=\"226.844\" r=\"4\"/>\n",
       "<circle clip-path=\"url(#clip5602)\" style=\"fill:#009af9; stroke:none; fill-opacity:0.5\" cx=\"143.633\" cy=\"226.844\" r=\"3\"/>\n",
       "<circle clip-path=\"url(#clip5602)\" style=\"fill:#000000; stroke:none; fill-opacity:0.5\" cx=\"483.793\" cy=\"313.576\" r=\"4\"/>\n",
       "<circle clip-path=\"url(#clip5602)\" style=\"fill:#009af9; stroke:none; fill-opacity:0.5\" cx=\"483.793\" cy=\"313.576\" r=\"3\"/>\n",
       "<circle clip-path=\"url(#clip5602)\" style=\"fill:#000000; stroke:none; fill-opacity:0.5\" cx=\"484.157\" cy=\"291.509\" r=\"4\"/>\n",
       "<circle clip-path=\"url(#clip5602)\" style=\"fill:#009af9; stroke:none; fill-opacity:0.5\" cx=\"484.157\" cy=\"291.509\" r=\"3\"/>\n",
       "<circle clip-path=\"url(#clip5602)\" style=\"fill:#000000; stroke:none; fill-opacity:0.5\" cx=\"282.377\" cy=\"214.266\" r=\"4\"/>\n",
       "<circle clip-path=\"url(#clip5602)\" style=\"fill:#009af9; stroke:none; fill-opacity:0.5\" cx=\"282.377\" cy=\"214.266\" r=\"3\"/>\n",
       "<circle clip-path=\"url(#clip5602)\" style=\"fill:#000000; stroke:none; fill-opacity:0.5\" cx=\"302.922\" cy=\"171.505\" r=\"4\"/>\n",
       "<circle clip-path=\"url(#clip5602)\" style=\"fill:#009af9; stroke:none; fill-opacity:0.5\" cx=\"302.922\" cy=\"171.505\" r=\"3\"/>\n",
       "<circle clip-path=\"url(#clip5602)\" style=\"fill:#000000; stroke:none; fill-opacity:0.5\" cx=\"176.073\" cy=\"69.3932\" r=\"4\"/>\n",
       "<circle clip-path=\"url(#clip5602)\" style=\"fill:#009af9; stroke:none; fill-opacity:0.5\" cx=\"176.073\" cy=\"69.3932\" r=\"3\"/>\n",
       "<circle clip-path=\"url(#clip5602)\" style=\"fill:#000000; stroke:none; fill-opacity:0.5\" cx=\"457.54\" cy=\"19.7511\" r=\"4\"/>\n",
       "<circle clip-path=\"url(#clip5602)\" style=\"fill:#009af9; stroke:none; fill-opacity:0.5\" cx=\"457.54\" cy=\"19.7511\" r=\"3\"/>\n",
       "<circle clip-path=\"url(#clip5602)\" style=\"fill:#000000; stroke:none; fill-opacity:0.5\" cx=\"393.439\" cy=\"93.4193\" r=\"4\"/>\n",
       "<circle clip-path=\"url(#clip5602)\" style=\"fill:#009af9; stroke:none; fill-opacity:0.5\" cx=\"393.439\" cy=\"93.4193\" r=\"3\"/>\n",
       "<circle clip-path=\"url(#clip5602)\" style=\"fill:#000000; stroke:none; fill-opacity:0.5\" cx=\"286.952\" cy=\"66.1552\" r=\"4\"/>\n",
       "<circle clip-path=\"url(#clip5602)\" style=\"fill:#009af9; stroke:none; fill-opacity:0.5\" cx=\"286.952\" cy=\"66.1552\" r=\"3\"/>\n",
       "<circle clip-path=\"url(#clip5602)\" style=\"fill:#000000; stroke:none; fill-opacity:0.5\" cx=\"187.625\" cy=\"342.545\" r=\"4\"/>\n",
       "<circle clip-path=\"url(#clip5602)\" style=\"fill:#009af9; stroke:none; fill-opacity:0.5\" cx=\"187.625\" cy=\"342.545\" r=\"3\"/>\n",
       "<circle clip-path=\"url(#clip5602)\" style=\"fill:#000000; stroke:none; fill-opacity:0.5\" cx=\"362.725\" cy=\"310.256\" r=\"4\"/>\n",
       "<circle clip-path=\"url(#clip5602)\" style=\"fill:#009af9; stroke:none; fill-opacity:0.5\" cx=\"362.725\" cy=\"310.256\" r=\"3\"/>\n",
       "<circle clip-path=\"url(#clip5602)\" style=\"fill:#000000; stroke:none; fill-opacity:0.5\" cx=\"394.899\" cy=\"189.455\" r=\"4\"/>\n",
       "<circle clip-path=\"url(#clip5602)\" style=\"fill:#009af9; stroke:none; fill-opacity:0.5\" cx=\"394.899\" cy=\"189.455\" r=\"3\"/>\n",
       "<circle clip-path=\"url(#clip5602)\" style=\"fill:#000000; stroke:none; fill-opacity:0.5\" cx=\"413.502\" cy=\"91.4146\" r=\"4\"/>\n",
       "<circle clip-path=\"url(#clip5602)\" style=\"fill:#009af9; stroke:none; fill-opacity:0.5\" cx=\"413.502\" cy=\"91.4146\" r=\"3\"/>\n",
       "<circle clip-path=\"url(#clip5602)\" style=\"fill:#000000; stroke:none; fill-opacity:0.5\" cx=\"276.236\" cy=\"201.37\" r=\"4\"/>\n",
       "<circle clip-path=\"url(#clip5602)\" style=\"fill:#009af9; stroke:none; fill-opacity:0.5\" cx=\"276.236\" cy=\"201.37\" r=\"3\"/>\n",
       "<circle clip-path=\"url(#clip5602)\" style=\"fill:#000000; stroke:none; fill-opacity:0.5\" cx=\"352.287\" cy=\"123.126\" r=\"4\"/>\n",
       "<circle clip-path=\"url(#clip5602)\" style=\"fill:#009af9; stroke:none; fill-opacity:0.5\" cx=\"352.287\" cy=\"123.126\" r=\"3\"/>\n",
       "<circle clip-path=\"url(#clip5602)\" style=\"fill:#000000; stroke:none; fill-opacity:0.5\" cx=\"462.195\" cy=\"56.0395\" r=\"4\"/>\n",
       "<circle clip-path=\"url(#clip5602)\" style=\"fill:#009af9; stroke:none; fill-opacity:0.5\" cx=\"462.195\" cy=\"56.0395\" r=\"3\"/>\n",
       "<circle clip-path=\"url(#clip5602)\" style=\"fill:#000000; stroke:none; fill-opacity:0.5\" cx=\"487.744\" cy=\"248.801\" r=\"4\"/>\n",
       "<circle clip-path=\"url(#clip5602)\" style=\"fill:#009af9; stroke:none; fill-opacity:0.5\" cx=\"487.744\" cy=\"248.801\" r=\"3\"/>\n",
       "<circle clip-path=\"url(#clip5602)\" style=\"fill:#000000; stroke:none; fill-opacity:0.5\" cx=\"218.48\" cy=\"233.261\" r=\"4\"/>\n",
       "<circle clip-path=\"url(#clip5602)\" style=\"fill:#009af9; stroke:none; fill-opacity:0.5\" cx=\"218.48\" cy=\"233.261\" r=\"3\"/>\n",
       "<circle clip-path=\"url(#clip5602)\" style=\"fill:#000000; stroke:none; fill-opacity:0.5\" cx=\"230.628\" cy=\"105.49\" r=\"4\"/>\n",
       "<circle clip-path=\"url(#clip5602)\" style=\"fill:#009af9; stroke:none; fill-opacity:0.5\" cx=\"230.628\" cy=\"105.49\" r=\"3\"/>\n",
       "<circle clip-path=\"url(#clip5602)\" style=\"fill:#000000; stroke:none; fill-opacity:0.5\" cx=\"131.63\" cy=\"297.232\" r=\"4\"/>\n",
       "<circle clip-path=\"url(#clip5602)\" style=\"fill:#009af9; stroke:none; fill-opacity:0.5\" cx=\"131.63\" cy=\"297.232\" r=\"3\"/>\n",
       "<circle clip-path=\"url(#clip5602)\" style=\"fill:#000000; stroke:none; fill-opacity:0.5\" cx=\"155.915\" cy=\"83.5864\" r=\"4\"/>\n",
       "<circle clip-path=\"url(#clip5602)\" style=\"fill:#009af9; stroke:none; fill-opacity:0.5\" cx=\"155.915\" cy=\"83.5864\" r=\"3\"/>\n",
       "<circle clip-path=\"url(#clip5602)\" style=\"fill:#000000; stroke:none; fill-opacity:0.5\" cx=\"269.839\" cy=\"176.413\" r=\"4\"/>\n",
       "<circle clip-path=\"url(#clip5602)\" style=\"fill:#009af9; stroke:none; fill-opacity:0.5\" cx=\"269.839\" cy=\"176.413\" r=\"3\"/>\n",
       "<circle clip-path=\"url(#clip5602)\" style=\"fill:#000000; stroke:none; fill-opacity:0.5\" cx=\"129.745\" cy=\"97.4494\" r=\"4\"/>\n",
       "<circle clip-path=\"url(#clip5602)\" style=\"fill:#009af9; stroke:none; fill-opacity:0.5\" cx=\"129.745\" cy=\"97.4494\" r=\"3\"/>\n",
       "<circle clip-path=\"url(#clip5602)\" style=\"fill:#000000; stroke:none; fill-opacity:0.5\" cx=\"325.174\" cy=\"239.567\" r=\"4\"/>\n",
       "<circle clip-path=\"url(#clip5602)\" style=\"fill:#009af9; stroke:none; fill-opacity:0.5\" cx=\"325.174\" cy=\"239.567\" r=\"3\"/>\n",
       "<circle clip-path=\"url(#clip5602)\" style=\"fill:#000000; stroke:none; fill-opacity:0.5\" cx=\"460.851\" cy=\"165.794\" r=\"4\"/>\n",
       "<circle clip-path=\"url(#clip5602)\" style=\"fill:#009af9; stroke:none; fill-opacity:0.5\" cx=\"460.851\" cy=\"165.794\" r=\"3\"/>\n",
       "<circle clip-path=\"url(#clip5602)\" style=\"fill:#000000; stroke:none; fill-opacity:0.5\" cx=\"298.563\" cy=\"265.285\" r=\"4\"/>\n",
       "<circle clip-path=\"url(#clip5602)\" style=\"fill:#009af9; stroke:none; fill-opacity:0.5\" cx=\"298.563\" cy=\"265.285\" r=\"3\"/>\n",
       "<circle clip-path=\"url(#clip5602)\" style=\"fill:#000000; stroke:none; fill-opacity:0.5\" cx=\"200.018\" cy=\"177.181\" r=\"4\"/>\n",
       "<circle clip-path=\"url(#clip5602)\" style=\"fill:#009af9; stroke:none; fill-opacity:0.5\" cx=\"200.018\" cy=\"177.181\" r=\"3\"/>\n",
       "<circle clip-path=\"url(#clip5602)\" style=\"fill:#000000; stroke:none; fill-opacity:0.5\" cx=\"150.717\" cy=\"309.249\" r=\"4\"/>\n",
       "<circle clip-path=\"url(#clip5602)\" style=\"fill:#009af9; stroke:none; fill-opacity:0.5\" cx=\"150.717\" cy=\"309.249\" r=\"3\"/>\n",
       "<circle clip-path=\"url(#clip5602)\" style=\"fill:#000000; stroke:none; fill-opacity:0.5\" cx=\"293.919\" cy=\"182.714\" r=\"4\"/>\n",
       "<circle clip-path=\"url(#clip5602)\" style=\"fill:#009af9; stroke:none; fill-opacity:0.5\" cx=\"293.919\" cy=\"182.714\" r=\"3\"/>\n",
       "<circle clip-path=\"url(#clip5602)\" style=\"fill:#000000; stroke:none; fill-opacity:0.5\" cx=\"175.1\" cy=\"89.3304\" r=\"4\"/>\n",
       "<circle clip-path=\"url(#clip5602)\" style=\"fill:#009af9; stroke:none; fill-opacity:0.5\" cx=\"175.1\" cy=\"89.3304\" r=\"3\"/>\n",
       "<circle clip-path=\"url(#clip5602)\" style=\"fill:#000000; stroke:none; fill-opacity:0.5\" cx=\"392.862\" cy=\"163.335\" r=\"4\"/>\n",
       "<circle clip-path=\"url(#clip5602)\" style=\"fill:#009af9; stroke:none; fill-opacity:0.5\" cx=\"392.862\" cy=\"163.335\" r=\"3\"/>\n",
       "<circle clip-path=\"url(#clip5602)\" style=\"fill:#000000; stroke:none; fill-opacity:0.5\" cx=\"192.101\" cy=\"105.245\" r=\"4\"/>\n",
       "<circle clip-path=\"url(#clip5602)\" style=\"fill:#009af9; stroke:none; fill-opacity:0.5\" cx=\"192.101\" cy=\"105.245\" r=\"3\"/>\n",
       "<circle clip-path=\"url(#clip5602)\" style=\"fill:#000000; stroke:none; fill-opacity:0.5\" cx=\"168.169\" cy=\"32.2584\" r=\"4\"/>\n",
       "<circle clip-path=\"url(#clip5602)\" style=\"fill:#009af9; stroke:none; fill-opacity:0.5\" cx=\"168.169\" cy=\"32.2584\" r=\"3\"/>\n",
       "<circle clip-path=\"url(#clip5602)\" style=\"fill:#000000; stroke:none; fill-opacity:0.5\" cx=\"217.15\" cy=\"217.859\" r=\"4\"/>\n",
       "<circle clip-path=\"url(#clip5602)\" style=\"fill:#009af9; stroke:none; fill-opacity:0.5\" cx=\"217.15\" cy=\"217.859\" r=\"3\"/>\n",
       "<circle clip-path=\"url(#clip5602)\" style=\"fill:#000000; stroke:none; fill-opacity:0.5\" cx=\"267.211\" cy=\"27.7918\" r=\"4\"/>\n",
       "<circle clip-path=\"url(#clip5602)\" style=\"fill:#009af9; stroke:none; fill-opacity:0.5\" cx=\"267.211\" cy=\"27.7918\" r=\"3\"/>\n",
       "<circle clip-path=\"url(#clip5602)\" style=\"fill:#000000; stroke:none; fill-opacity:0.5\" cx=\"359.013\" cy=\"158.952\" r=\"4\"/>\n",
       "<circle clip-path=\"url(#clip5602)\" style=\"fill:#009af9; stroke:none; fill-opacity:0.5\" cx=\"359.013\" cy=\"158.952\" r=\"3\"/>\n",
       "<circle clip-path=\"url(#clip5602)\" style=\"fill:#000000; stroke:none; fill-opacity:0.5\" cx=\"441.991\" cy=\"45.8425\" r=\"4\"/>\n",
       "<circle clip-path=\"url(#clip5602)\" style=\"fill:#009af9; stroke:none; fill-opacity:0.5\" cx=\"441.991\" cy=\"45.8425\" r=\"3\"/>\n",
       "<circle clip-path=\"url(#clip5602)\" style=\"fill:#000000; stroke:none; fill-opacity:0.5\" cx=\"281.902\" cy=\"47.9308\" r=\"4\"/>\n",
       "<circle clip-path=\"url(#clip5602)\" style=\"fill:#009af9; stroke:none; fill-opacity:0.5\" cx=\"281.902\" cy=\"47.9308\" r=\"3\"/>\n",
       "<circle clip-path=\"url(#clip5602)\" style=\"fill:#000000; stroke:none; fill-opacity:0.5\" cx=\"168.541\" cy=\"253.766\" r=\"4\"/>\n",
       "<circle clip-path=\"url(#clip5602)\" style=\"fill:#009af9; stroke:none; fill-opacity:0.5\" cx=\"168.541\" cy=\"253.766\" r=\"3\"/>\n",
       "<circle clip-path=\"url(#clip5602)\" style=\"fill:#000000; stroke:none; fill-opacity:0.5\" cx=\"210.718\" cy=\"310.943\" r=\"4\"/>\n",
       "<circle clip-path=\"url(#clip5602)\" style=\"fill:#009af9; stroke:none; fill-opacity:0.5\" cx=\"210.718\" cy=\"310.943\" r=\"3\"/>\n",
       "<circle clip-path=\"url(#clip5602)\" style=\"fill:#000000; stroke:none; fill-opacity:0.5\" cx=\"464.245\" cy=\"40.0755\" r=\"4\"/>\n",
       "<circle clip-path=\"url(#clip5602)\" style=\"fill:#009af9; stroke:none; fill-opacity:0.5\" cx=\"464.245\" cy=\"40.0755\" r=\"3\"/>\n",
       "<circle clip-path=\"url(#clip5602)\" style=\"fill:#000000; stroke:none; fill-opacity:0.5\" cx=\"432.048\" cy=\"254.771\" r=\"4\"/>\n",
       "<circle clip-path=\"url(#clip5602)\" style=\"fill:#009af9; stroke:none; fill-opacity:0.5\" cx=\"432.048\" cy=\"254.771\" r=\"3\"/>\n",
       "<circle clip-path=\"url(#clip5602)\" style=\"fill:#000000; stroke:none; fill-opacity:0.5\" cx=\"260.193\" cy=\"362.209\" r=\"4\"/>\n",
       "<circle clip-path=\"url(#clip5602)\" style=\"fill:#009af9; stroke:none; fill-opacity:0.5\" cx=\"260.193\" cy=\"362.209\" r=\"3\"/>\n",
       "<circle clip-path=\"url(#clip5602)\" style=\"fill:#000000; stroke:none; fill-opacity:0.5\" cx=\"368.014\" cy=\"210.745\" r=\"4\"/>\n",
       "<circle clip-path=\"url(#clip5602)\" style=\"fill:#009af9; stroke:none; fill-opacity:0.5\" cx=\"368.014\" cy=\"210.745\" r=\"3\"/>\n",
       "<circle clip-path=\"url(#clip5602)\" style=\"fill:#000000; stroke:none; fill-opacity:0.5\" cx=\"181.315\" cy=\"320.202\" r=\"4\"/>\n",
       "<circle clip-path=\"url(#clip5602)\" style=\"fill:#009af9; stroke:none; fill-opacity:0.5\" cx=\"181.315\" cy=\"320.202\" r=\"3\"/>\n",
       "<circle clip-path=\"url(#clip5602)\" style=\"fill:#000000; stroke:none; fill-opacity:0.5\" cx=\"172.98\" cy=\"141.217\" r=\"4\"/>\n",
       "<circle clip-path=\"url(#clip5602)\" style=\"fill:#009af9; stroke:none; fill-opacity:0.5\" cx=\"172.98\" cy=\"141.217\" r=\"3\"/>\n",
       "<circle clip-path=\"url(#clip5602)\" style=\"fill:#000000; stroke:none; fill-opacity:0.5\" cx=\"284.707\" cy=\"209.473\" r=\"4\"/>\n",
       "<circle clip-path=\"url(#clip5602)\" style=\"fill:#009af9; stroke:none; fill-opacity:0.5\" cx=\"284.707\" cy=\"209.473\" r=\"3\"/>\n",
       "<circle clip-path=\"url(#clip5602)\" style=\"fill:#000000; stroke:none; fill-opacity:0.5\" cx=\"479.853\" cy=\"125.086\" r=\"4\"/>\n",
       "<circle clip-path=\"url(#clip5602)\" style=\"fill:#009af9; stroke:none; fill-opacity:0.5\" cx=\"479.853\" cy=\"125.086\" r=\"3\"/>\n",
       "<circle clip-path=\"url(#clip5602)\" style=\"fill:#000000; stroke:none; fill-opacity:0.5\" cx=\"216.372\" cy=\"362.96\" r=\"4\"/>\n",
       "<circle clip-path=\"url(#clip5602)\" style=\"fill:#009af9; stroke:none; fill-opacity:0.5\" cx=\"216.372\" cy=\"362.96\" r=\"3\"/>\n",
       "<circle clip-path=\"url(#clip5602)\" style=\"fill:#000000; stroke:none; fill-opacity:0.5\" cx=\"304.414\" cy=\"70.7257\" r=\"4\"/>\n",
       "<circle clip-path=\"url(#clip5602)\" style=\"fill:#009af9; stroke:none; fill-opacity:0.5\" cx=\"304.414\" cy=\"70.7257\" r=\"3\"/>\n",
       "<circle clip-path=\"url(#clip5602)\" style=\"fill:#000000; stroke:none; fill-opacity:0.5\" cx=\"394.32\" cy=\"248.956\" r=\"4\"/>\n",
       "<circle clip-path=\"url(#clip5602)\" style=\"fill:#009af9; stroke:none; fill-opacity:0.5\" cx=\"394.32\" cy=\"248.956\" r=\"3\"/>\n",
       "<circle clip-path=\"url(#clip5602)\" style=\"fill:#000000; stroke:none; fill-opacity:0.5\" cx=\"432.844\" cy=\"312.026\" r=\"4\"/>\n",
       "<circle clip-path=\"url(#clip5602)\" style=\"fill:#009af9; stroke:none; fill-opacity:0.5\" cx=\"432.844\" cy=\"312.026\" r=\"3\"/>\n",
       "<circle clip-path=\"url(#clip5602)\" style=\"fill:#000000; stroke:none; fill-opacity:0.5\" cx=\"355.802\" cy=\"22.4757\" r=\"4\"/>\n",
       "<circle clip-path=\"url(#clip5602)\" style=\"fill:#009af9; stroke:none; fill-opacity:0.5\" cx=\"355.802\" cy=\"22.4757\" r=\"3\"/>\n",
       "<circle clip-path=\"url(#clip5602)\" style=\"fill:#000000; stroke:none; fill-opacity:0.5\" cx=\"369.082\" cy=\"342.58\" r=\"4\"/>\n",
       "<circle clip-path=\"url(#clip5602)\" style=\"fill:#009af9; stroke:none; fill-opacity:0.5\" cx=\"369.082\" cy=\"342.58\" r=\"3\"/>\n",
       "<circle clip-path=\"url(#clip5602)\" style=\"fill:#000000; stroke:none; fill-opacity:0.5\" cx=\"138.35\" cy=\"314.813\" r=\"4\"/>\n",
       "<circle clip-path=\"url(#clip5602)\" style=\"fill:#009af9; stroke:none; fill-opacity:0.5\" cx=\"138.35\" cy=\"314.813\" r=\"3\"/>\n",
       "<circle clip-path=\"url(#clip5602)\" style=\"fill:#000000; stroke:none; fill-opacity:0.5\" cx=\"454.943\" cy=\"290.86\" r=\"4\"/>\n",
       "<circle clip-path=\"url(#clip5602)\" style=\"fill:#009af9; stroke:none; fill-opacity:0.5\" cx=\"454.943\" cy=\"290.86\" r=\"3\"/>\n",
       "<circle clip-path=\"url(#clip5602)\" style=\"fill:#000000; stroke:none; fill-opacity:0.5\" cx=\"334.328\" cy=\"276.318\" r=\"4\"/>\n",
       "<circle clip-path=\"url(#clip5602)\" style=\"fill:#009af9; stroke:none; fill-opacity:0.5\" cx=\"334.328\" cy=\"276.318\" r=\"3\"/>\n",
       "<circle clip-path=\"url(#clip5602)\" style=\"fill:#000000; stroke:none; fill-opacity:0.5\" cx=\"448.51\" cy=\"241.205\" r=\"4\"/>\n",
       "<circle clip-path=\"url(#clip5602)\" style=\"fill:#009af9; stroke:none; fill-opacity:0.5\" cx=\"448.51\" cy=\"241.205\" r=\"3\"/>\n",
       "<circle clip-path=\"url(#clip5602)\" style=\"fill:#000000; stroke:none; fill-opacity:0.5\" cx=\"385.995\" cy=\"224.328\" r=\"4\"/>\n",
       "<circle clip-path=\"url(#clip5602)\" style=\"fill:#009af9; stroke:none; fill-opacity:0.5\" cx=\"385.995\" cy=\"224.328\" r=\"3\"/>\n",
       "<circle clip-path=\"url(#clip5602)\" style=\"fill:#000000; stroke:none; fill-opacity:0.5\" cx=\"358.483\" cy=\"86.5617\" r=\"4\"/>\n",
       "<circle clip-path=\"url(#clip5602)\" style=\"fill:#009af9; stroke:none; fill-opacity:0.5\" cx=\"358.483\" cy=\"86.5617\" r=\"3\"/>\n",
       "<circle clip-path=\"url(#clip5602)\" style=\"fill:#000000; stroke:none; fill-opacity:0.5\" cx=\"459.845\" cy=\"243.783\" r=\"4\"/>\n",
       "<circle clip-path=\"url(#clip5602)\" style=\"fill:#009af9; stroke:none; fill-opacity:0.5\" cx=\"459.845\" cy=\"243.783\" r=\"3\"/>\n",
       "<circle clip-path=\"url(#clip5602)\" style=\"fill:#000000; stroke:none; fill-opacity:0.5\" cx=\"431.633\" cy=\"218.364\" r=\"4\"/>\n",
       "<circle clip-path=\"url(#clip5602)\" style=\"fill:#009af9; stroke:none; fill-opacity:0.5\" cx=\"431.633\" cy=\"218.364\" r=\"3\"/>\n",
       "<circle clip-path=\"url(#clip5602)\" style=\"fill:#000000; stroke:none; fill-opacity:0.5\" cx=\"409.667\" cy=\"92.5097\" r=\"4\"/>\n",
       "<circle clip-path=\"url(#clip5602)\" style=\"fill:#009af9; stroke:none; fill-opacity:0.5\" cx=\"409.667\" cy=\"92.5097\" r=\"3\"/>\n",
       "<circle clip-path=\"url(#clip5602)\" style=\"fill:#000000; stroke:none; fill-opacity:0.5\" cx=\"142.148\" cy=\"74.931\" r=\"4\"/>\n",
       "<circle clip-path=\"url(#clip5602)\" style=\"fill:#009af9; stroke:none; fill-opacity:0.5\" cx=\"142.148\" cy=\"74.931\" r=\"3\"/>\n",
       "<circle clip-path=\"url(#clip5602)\" style=\"fill:#000000; stroke:none; fill-opacity:0.5\" cx=\"347.753\" cy=\"242.16\" r=\"4\"/>\n",
       "<circle clip-path=\"url(#clip5602)\" style=\"fill:#009af9; stroke:none; fill-opacity:0.5\" cx=\"347.753\" cy=\"242.16\" r=\"3\"/>\n",
       "<circle clip-path=\"url(#clip5602)\" style=\"fill:#000000; stroke:none; fill-opacity:0.5\" cx=\"258.424\" cy=\"235.688\" r=\"4\"/>\n",
       "<circle clip-path=\"url(#clip5602)\" style=\"fill:#009af9; stroke:none; fill-opacity:0.5\" cx=\"258.424\" cy=\"235.688\" r=\"3\"/>\n",
       "<circle clip-path=\"url(#clip5602)\" style=\"fill:#000000; stroke:none; fill-opacity:0.5\" cx=\"212.586\" cy=\"238.212\" r=\"4\"/>\n",
       "<circle clip-path=\"url(#clip5602)\" style=\"fill:#009af9; stroke:none; fill-opacity:0.5\" cx=\"212.586\" cy=\"238.212\" r=\"3\"/>\n",
       "<circle clip-path=\"url(#clip5602)\" style=\"fill:#000000; stroke:none; fill-opacity:0.5\" cx=\"202.115\" cy=\"332.584\" r=\"4\"/>\n",
       "<circle clip-path=\"url(#clip5602)\" style=\"fill:#009af9; stroke:none; fill-opacity:0.5\" cx=\"202.115\" cy=\"332.584\" r=\"3\"/>\n",
       "<circle clip-path=\"url(#clip5602)\" style=\"fill:#000000; stroke:none; fill-opacity:0.5\" cx=\"295.807\" cy=\"325.885\" r=\"4\"/>\n",
       "<circle clip-path=\"url(#clip5602)\" style=\"fill:#009af9; stroke:none; fill-opacity:0.5\" cx=\"295.807\" cy=\"325.885\" r=\"3\"/>\n",
       "<circle clip-path=\"url(#clip5602)\" style=\"fill:#000000; stroke:none; fill-opacity:0.5\" cx=\"356.192\" cy=\"209.264\" r=\"4\"/>\n",
       "<circle clip-path=\"url(#clip5602)\" style=\"fill:#009af9; stroke:none; fill-opacity:0.5\" cx=\"356.192\" cy=\"209.264\" r=\"3\"/>\n",
       "<circle clip-path=\"url(#clip5602)\" style=\"fill:#000000; stroke:none; fill-opacity:0.5\" cx=\"166.06\" cy=\"321.216\" r=\"4\"/>\n",
       "<circle clip-path=\"url(#clip5602)\" style=\"fill:#009af9; stroke:none; fill-opacity:0.5\" cx=\"166.06\" cy=\"321.216\" r=\"3\"/>\n",
       "<circle clip-path=\"url(#clip5602)\" style=\"fill:#000000; stroke:none; fill-opacity:0.5\" cx=\"421.394\" cy=\"42.9483\" r=\"4\"/>\n",
       "<circle clip-path=\"url(#clip5602)\" style=\"fill:#009af9; stroke:none; fill-opacity:0.5\" cx=\"421.394\" cy=\"42.9483\" r=\"3\"/>\n",
       "<circle clip-path=\"url(#clip5602)\" style=\"fill:#000000; stroke:none; fill-opacity:0.5\" cx=\"386.25\" cy=\"177.152\" r=\"4\"/>\n",
       "<circle clip-path=\"url(#clip5602)\" style=\"fill:#009af9; stroke:none; fill-opacity:0.5\" cx=\"386.25\" cy=\"177.152\" r=\"3\"/>\n",
       "<circle clip-path=\"url(#clip5602)\" style=\"fill:#000000; stroke:none; fill-opacity:0.5\" cx=\"403.819\" cy=\"354.099\" r=\"4\"/>\n",
       "<circle clip-path=\"url(#clip5602)\" style=\"fill:#009af9; stroke:none; fill-opacity:0.5\" cx=\"403.819\" cy=\"354.099\" r=\"3\"/>\n",
       "<circle clip-path=\"url(#clip5602)\" style=\"fill:#000000; stroke:none; fill-opacity:0.5\" cx=\"322.612\" cy=\"289.976\" r=\"4\"/>\n",
       "<circle clip-path=\"url(#clip5602)\" style=\"fill:#009af9; stroke:none; fill-opacity:0.5\" cx=\"322.612\" cy=\"289.976\" r=\"3\"/>\n",
       "<circle clip-path=\"url(#clip5602)\" style=\"fill:#000000; stroke:none; fill-opacity:0.5\" cx=\"213.668\" cy=\"177.359\" r=\"4\"/>\n",
       "<circle clip-path=\"url(#clip5602)\" style=\"fill:#009af9; stroke:none; fill-opacity:0.5\" cx=\"213.668\" cy=\"177.359\" r=\"3\"/>\n",
       "<circle clip-path=\"url(#clip5602)\" style=\"fill:#000000; stroke:none; fill-opacity:0.5\" cx=\"130.57\" cy=\"201.854\" r=\"4\"/>\n",
       "<circle clip-path=\"url(#clip5602)\" style=\"fill:#009af9; stroke:none; fill-opacity:0.5\" cx=\"130.57\" cy=\"201.854\" r=\"3\"/>\n",
       "<circle clip-path=\"url(#clip5602)\" style=\"fill:#000000; stroke:none; fill-opacity:0.5\" cx=\"137.404\" cy=\"142.476\" r=\"4\"/>\n",
       "<circle clip-path=\"url(#clip5602)\" style=\"fill:#009af9; stroke:none; fill-opacity:0.5\" cx=\"137.404\" cy=\"142.476\" r=\"3\"/>\n",
       "<circle clip-path=\"url(#clip5602)\" style=\"fill:#000000; stroke:none; fill-opacity:0.5\" cx=\"191.588\" cy=\"59.4953\" r=\"4\"/>\n",
       "<circle clip-path=\"url(#clip5602)\" style=\"fill:#009af9; stroke:none; fill-opacity:0.5\" cx=\"191.588\" cy=\"59.4953\" r=\"3\"/>\n",
       "<circle clip-path=\"url(#clip5602)\" style=\"fill:#000000; stroke:none; fill-opacity:0.5\" cx=\"308.422\" cy=\"31.5727\" r=\"4\"/>\n",
       "<circle clip-path=\"url(#clip5602)\" style=\"fill:#009af9; stroke:none; fill-opacity:0.5\" cx=\"308.422\" cy=\"31.5727\" r=\"3\"/>\n",
       "<circle clip-path=\"url(#clip5602)\" style=\"fill:#000000; stroke:none; fill-opacity:0.5\" cx=\"164.416\" cy=\"174.362\" r=\"4\"/>\n",
       "<circle clip-path=\"url(#clip5602)\" style=\"fill:#009af9; stroke:none; fill-opacity:0.5\" cx=\"164.416\" cy=\"174.362\" r=\"3\"/>\n",
       "<circle clip-path=\"url(#clip5602)\" style=\"fill:#000000; stroke:none; fill-opacity:0.5\" cx=\"223.513\" cy=\"208.19\" r=\"4\"/>\n",
       "<circle clip-path=\"url(#clip5602)\" style=\"fill:#009af9; stroke:none; fill-opacity:0.5\" cx=\"223.513\" cy=\"208.19\" r=\"3\"/>\n",
       "<circle clip-path=\"url(#clip5602)\" style=\"fill:#000000; stroke:none; fill-opacity:0.5\" cx=\"256.355\" cy=\"307.395\" r=\"4\"/>\n",
       "<circle clip-path=\"url(#clip5602)\" style=\"fill:#009af9; stroke:none; fill-opacity:0.5\" cx=\"256.355\" cy=\"307.395\" r=\"3\"/>\n",
       "<circle clip-path=\"url(#clip5602)\" style=\"fill:#000000; stroke:none; fill-opacity:0.5\" cx=\"445.864\" cy=\"313.265\" r=\"4\"/>\n",
       "<circle clip-path=\"url(#clip5602)\" style=\"fill:#009af9; stroke:none; fill-opacity:0.5\" cx=\"445.864\" cy=\"313.265\" r=\"3\"/>\n",
       "<circle clip-path=\"url(#clip5602)\" style=\"fill:#000000; stroke:none; fill-opacity:0.5\" cx=\"358.717\" cy=\"127.338\" r=\"4\"/>\n",
       "<circle clip-path=\"url(#clip5602)\" style=\"fill:#009af9; stroke:none; fill-opacity:0.5\" cx=\"358.717\" cy=\"127.338\" r=\"3\"/>\n",
       "<circle clip-path=\"url(#clip5602)\" style=\"fill:#000000; stroke:none; fill-opacity:0.5\" cx=\"148.407\" cy=\"215.434\" r=\"4\"/>\n",
       "<circle clip-path=\"url(#clip5602)\" style=\"fill:#009af9; stroke:none; fill-opacity:0.5\" cx=\"148.407\" cy=\"215.434\" r=\"3\"/>\n",
       "<circle clip-path=\"url(#clip5602)\" style=\"fill:#000000; stroke:none; fill-opacity:0.5\" cx=\"248.768\" cy=\"47.5277\" r=\"4\"/>\n",
       "<circle clip-path=\"url(#clip5602)\" style=\"fill:#009af9; stroke:none; fill-opacity:0.5\" cx=\"248.768\" cy=\"47.5277\" r=\"3\"/>\n",
       "<circle clip-path=\"url(#clip5602)\" style=\"fill:#000000; stroke:none; fill-opacity:0.5\" cx=\"141.238\" cy=\"266.085\" r=\"4\"/>\n",
       "<circle clip-path=\"url(#clip5602)\" style=\"fill:#009af9; stroke:none; fill-opacity:0.5\" cx=\"141.238\" cy=\"266.085\" r=\"3\"/>\n",
       "<circle clip-path=\"url(#clip5602)\" style=\"fill:#000000; stroke:none; fill-opacity:0.5\" cx=\"317.139\" cy=\"220.242\" r=\"4\"/>\n",
       "<circle clip-path=\"url(#clip5602)\" style=\"fill:#009af9; stroke:none; fill-opacity:0.5\" cx=\"317.139\" cy=\"220.242\" r=\"3\"/>\n",
       "<circle clip-path=\"url(#clip5602)\" style=\"fill:#000000; stroke:none; fill-opacity:0.5\" cx=\"318.101\" cy=\"43.3059\" r=\"4\"/>\n",
       "<circle clip-path=\"url(#clip5602)\" style=\"fill:#009af9; stroke:none; fill-opacity:0.5\" cx=\"318.101\" cy=\"43.3059\" r=\"3\"/>\n",
       "<circle clip-path=\"url(#clip5602)\" style=\"fill:#000000; stroke:none; fill-opacity:0.5\" cx=\"150.38\" cy=\"231.364\" r=\"4\"/>\n",
       "<circle clip-path=\"url(#clip5602)\" style=\"fill:#009af9; stroke:none; fill-opacity:0.5\" cx=\"150.38\" cy=\"231.364\" r=\"3\"/>\n",
       "<circle clip-path=\"url(#clip5602)\" style=\"fill:#000000; stroke:none; fill-opacity:0.5\" cx=\"434.452\" cy=\"168.355\" r=\"4\"/>\n",
       "<circle clip-path=\"url(#clip5602)\" style=\"fill:#009af9; stroke:none; fill-opacity:0.5\" cx=\"434.452\" cy=\"168.355\" r=\"3\"/>\n",
       "<circle clip-path=\"url(#clip5602)\" style=\"fill:#000000; stroke:none; fill-opacity:0.5\" cx=\"127.108\" cy=\"128.995\" r=\"4\"/>\n",
       "<circle clip-path=\"url(#clip5602)\" style=\"fill:#009af9; stroke:none; fill-opacity:0.5\" cx=\"127.108\" cy=\"128.995\" r=\"3\"/>\n",
       "<circle clip-path=\"url(#clip5602)\" style=\"fill:#000000; stroke:none; fill-opacity:0.5\" cx=\"161.391\" cy=\"344.246\" r=\"4\"/>\n",
       "<circle clip-path=\"url(#clip5602)\" style=\"fill:#009af9; stroke:none; fill-opacity:0.5\" cx=\"161.391\" cy=\"344.246\" r=\"3\"/>\n",
       "<circle clip-path=\"url(#clip5602)\" style=\"fill:#000000; stroke:none; fill-opacity:0.5\" cx=\"386.034\" cy=\"28.4902\" r=\"4\"/>\n",
       "<circle clip-path=\"url(#clip5602)\" style=\"fill:#009af9; stroke:none; fill-opacity:0.5\" cx=\"386.034\" cy=\"28.4902\" r=\"3\"/>\n",
       "<circle clip-path=\"url(#clip5602)\" style=\"fill:#000000; stroke:none; fill-opacity:0.5\" cx=\"337.498\" cy=\"315.527\" r=\"4\"/>\n",
       "<circle clip-path=\"url(#clip5602)\" style=\"fill:#009af9; stroke:none; fill-opacity:0.5\" cx=\"337.498\" cy=\"315.527\" r=\"3\"/>\n",
       "<circle clip-path=\"url(#clip5602)\" style=\"fill:#000000; stroke:none; fill-opacity:0.5\" cx=\"274.775\" cy=\"348.2\" r=\"4\"/>\n",
       "<circle clip-path=\"url(#clip5602)\" style=\"fill:#009af9; stroke:none; fill-opacity:0.5\" cx=\"274.775\" cy=\"348.2\" r=\"3\"/>\n",
       "<circle clip-path=\"url(#clip5602)\" style=\"fill:#000000; stroke:none; fill-opacity:0.5\" cx=\"389.575\" cy=\"334.28\" r=\"4\"/>\n",
       "<circle clip-path=\"url(#clip5602)\" style=\"fill:#009af9; stroke:none; fill-opacity:0.5\" cx=\"389.575\" cy=\"334.28\" r=\"3\"/>\n",
       "<circle clip-path=\"url(#clip5602)\" style=\"fill:#000000; stroke:none; fill-opacity:0.5\" cx=\"485.932\" cy=\"295.828\" r=\"4\"/>\n",
       "<circle clip-path=\"url(#clip5602)\" style=\"fill:#009af9; stroke:none; fill-opacity:0.5\" cx=\"485.932\" cy=\"295.828\" r=\"3\"/>\n",
       "<circle clip-path=\"url(#clip5602)\" style=\"fill:#000000; stroke:none; fill-opacity:0.5\" cx=\"355.615\" cy=\"228.585\" r=\"4\"/>\n",
       "<circle clip-path=\"url(#clip5602)\" style=\"fill:#009af9; stroke:none; fill-opacity:0.5\" cx=\"355.615\" cy=\"228.585\" r=\"3\"/>\n",
       "<circle clip-path=\"url(#clip5602)\" style=\"fill:#000000; stroke:none; fill-opacity:0.5\" cx=\"326.058\" cy=\"267.754\" r=\"4\"/>\n",
       "<circle clip-path=\"url(#clip5602)\" style=\"fill:#009af9; stroke:none; fill-opacity:0.5\" cx=\"326.058\" cy=\"267.754\" r=\"3\"/>\n",
       "<circle clip-path=\"url(#clip5602)\" style=\"fill:#000000; stroke:none; fill-opacity:0.5\" cx=\"353.685\" cy=\"192.024\" r=\"4\"/>\n",
       "<circle clip-path=\"url(#clip5602)\" style=\"fill:#009af9; stroke:none; fill-opacity:0.5\" cx=\"353.685\" cy=\"192.024\" r=\"3\"/>\n",
       "<circle clip-path=\"url(#clip5602)\" style=\"fill:#000000; stroke:none; fill-opacity:0.5\" cx=\"315.208\" cy=\"283.877\" r=\"4\"/>\n",
       "<circle clip-path=\"url(#clip5602)\" style=\"fill:#009af9; stroke:none; fill-opacity:0.5\" cx=\"315.208\" cy=\"283.877\" r=\"3\"/>\n",
       "<circle clip-path=\"url(#clip5602)\" style=\"fill:#000000; stroke:none; fill-opacity:0.5\" cx=\"133.785\" cy=\"354.713\" r=\"4\"/>\n",
       "<circle clip-path=\"url(#clip5602)\" style=\"fill:#009af9; stroke:none; fill-opacity:0.5\" cx=\"133.785\" cy=\"354.713\" r=\"3\"/>\n",
       "<circle clip-path=\"url(#clip5602)\" style=\"fill:#000000; stroke:none; fill-opacity:0.5\" cx=\"392.223\" cy=\"18.2283\" r=\"4\"/>\n",
       "<circle clip-path=\"url(#clip5602)\" style=\"fill:#009af9; stroke:none; fill-opacity:0.5\" cx=\"392.223\" cy=\"18.2283\" r=\"3\"/>\n",
       "<circle clip-path=\"url(#clip5602)\" style=\"fill:#000000; stroke:none; fill-opacity:0.5\" cx=\"139.036\" cy=\"151.215\" r=\"4\"/>\n",
       "<circle clip-path=\"url(#clip5602)\" style=\"fill:#009af9; stroke:none; fill-opacity:0.5\" cx=\"139.036\" cy=\"151.215\" r=\"3\"/>\n",
       "<circle clip-path=\"url(#clip5602)\" style=\"fill:#000000; stroke:none; fill-opacity:0.5\" cx=\"138.428\" cy=\"90.323\" r=\"4\"/>\n",
       "<circle clip-path=\"url(#clip5602)\" style=\"fill:#009af9; stroke:none; fill-opacity:0.5\" cx=\"138.428\" cy=\"90.323\" r=\"3\"/>\n",
       "<circle clip-path=\"url(#clip5602)\" style=\"fill:#000000; stroke:none; fill-opacity:0.5\" cx=\"398.842\" cy=\"204.093\" r=\"4\"/>\n",
       "<circle clip-path=\"url(#clip5602)\" style=\"fill:#009af9; stroke:none; fill-opacity:0.5\" cx=\"398.842\" cy=\"204.093\" r=\"3\"/>\n",
       "<circle clip-path=\"url(#clip5602)\" style=\"fill:#000000; stroke:none; fill-opacity:0.5\" cx=\"145.24\" cy=\"136.259\" r=\"4\"/>\n",
       "<circle clip-path=\"url(#clip5602)\" style=\"fill:#009af9; stroke:none; fill-opacity:0.5\" cx=\"145.24\" cy=\"136.259\" r=\"3\"/>\n",
       "<circle clip-path=\"url(#clip5602)\" style=\"fill:#000000; stroke:none; fill-opacity:0.5\" cx=\"224.349\" cy=\"30.8722\" r=\"4\"/>\n",
       "<circle clip-path=\"url(#clip5602)\" style=\"fill:#009af9; stroke:none; fill-opacity:0.5\" cx=\"224.349\" cy=\"30.8722\" r=\"3\"/>\n",
       "<circle clip-path=\"url(#clip5602)\" style=\"fill:#000000; stroke:none; fill-opacity:0.5\" cx=\"421.573\" cy=\"95.5373\" r=\"4\"/>\n",
       "<circle clip-path=\"url(#clip5602)\" style=\"fill:#009af9; stroke:none; fill-opacity:0.5\" cx=\"421.573\" cy=\"95.5373\" r=\"3\"/>\n",
       "<circle clip-path=\"url(#clip5602)\" style=\"fill:#000000; stroke:none; fill-opacity:0.5\" cx=\"403.934\" cy=\"184.276\" r=\"4\"/>\n",
       "<circle clip-path=\"url(#clip5602)\" style=\"fill:#009af9; stroke:none; fill-opacity:0.5\" cx=\"403.934\" cy=\"184.276\" r=\"3\"/>\n",
       "<circle clip-path=\"url(#clip5602)\" style=\"fill:#000000; stroke:none; fill-opacity:0.5\" cx=\"161.251\" cy=\"30.7767\" r=\"4\"/>\n",
       "<circle clip-path=\"url(#clip5602)\" style=\"fill:#009af9; stroke:none; fill-opacity:0.5\" cx=\"161.251\" cy=\"30.7767\" r=\"3\"/>\n",
       "<circle clip-path=\"url(#clip5602)\" style=\"fill:#000000; stroke:none; fill-opacity:0.5\" cx=\"382.412\" cy=\"365.504\" r=\"4\"/>\n",
       "<circle clip-path=\"url(#clip5602)\" style=\"fill:#009af9; stroke:none; fill-opacity:0.5\" cx=\"382.412\" cy=\"365.504\" r=\"3\"/>\n",
       "<circle clip-path=\"url(#clip5602)\" style=\"fill:#000000; stroke:none; fill-opacity:0.5\" cx=\"170.423\" cy=\"110.606\" r=\"4\"/>\n",
       "<circle clip-path=\"url(#clip5602)\" style=\"fill:#009af9; stroke:none; fill-opacity:0.5\" cx=\"170.423\" cy=\"110.606\" r=\"3\"/>\n",
       "<circle clip-path=\"url(#clip5602)\" style=\"fill:#000000; stroke:none; fill-opacity:0.5\" cx=\"435.794\" cy=\"51.2717\" r=\"4\"/>\n",
       "<circle clip-path=\"url(#clip5602)\" style=\"fill:#009af9; stroke:none; fill-opacity:0.5\" cx=\"435.794\" cy=\"51.2717\" r=\"3\"/>\n",
       "<circle clip-path=\"url(#clip5602)\" style=\"fill:#000000; stroke:none; fill-opacity:0.5\" cx=\"461.062\" cy=\"132.433\" r=\"4\"/>\n",
       "<circle clip-path=\"url(#clip5602)\" style=\"fill:#009af9; stroke:none; fill-opacity:0.5\" cx=\"461.062\" cy=\"132.433\" r=\"3\"/>\n",
       "<circle clip-path=\"url(#clip5602)\" style=\"fill:#000000; stroke:none; fill-opacity:0.5\" cx=\"220.204\" cy=\"250.612\" r=\"4\"/>\n",
       "<circle clip-path=\"url(#clip5602)\" style=\"fill:#009af9; stroke:none; fill-opacity:0.5\" cx=\"220.204\" cy=\"250.612\" r=\"3\"/>\n",
       "<circle clip-path=\"url(#clip5602)\" style=\"fill:#000000; stroke:none; fill-opacity:0.5\" cx=\"487.94\" cy=\"363.669\" r=\"4\"/>\n",
       "<circle clip-path=\"url(#clip5602)\" style=\"fill:#009af9; stroke:none; fill-opacity:0.5\" cx=\"487.94\" cy=\"363.669\" r=\"3\"/>\n",
       "<circle clip-path=\"url(#clip5602)\" style=\"fill:#000000; stroke:none; fill-opacity:0.5\" cx=\"139.05\" cy=\"95.272\" r=\"4\"/>\n",
       "<circle clip-path=\"url(#clip5602)\" style=\"fill:#009af9; stroke:none; fill-opacity:0.5\" cx=\"139.05\" cy=\"95.272\" r=\"3\"/>\n",
       "<circle clip-path=\"url(#clip5602)\" style=\"fill:#000000; stroke:none; fill-opacity:0.5\" cx=\"182.298\" cy=\"83.9429\" r=\"4\"/>\n",
       "<circle clip-path=\"url(#clip5602)\" style=\"fill:#009af9; stroke:none; fill-opacity:0.5\" cx=\"182.298\" cy=\"83.9429\" r=\"3\"/>\n",
       "<circle clip-path=\"url(#clip5602)\" style=\"fill:#000000; stroke:none; fill-opacity:0.5\" cx=\"356.341\" cy=\"134.362\" r=\"4\"/>\n",
       "<circle clip-path=\"url(#clip5602)\" style=\"fill:#009af9; stroke:none; fill-opacity:0.5\" cx=\"356.341\" cy=\"134.362\" r=\"3\"/>\n",
       "<circle clip-path=\"url(#clip5602)\" style=\"fill:#000000; stroke:none; fill-opacity:0.5\" cx=\"289.039\" cy=\"326.516\" r=\"4\"/>\n",
       "<circle clip-path=\"url(#clip5602)\" style=\"fill:#009af9; stroke:none; fill-opacity:0.5\" cx=\"289.039\" cy=\"326.516\" r=\"3\"/>\n",
       "<circle clip-path=\"url(#clip5602)\" style=\"fill:#000000; stroke:none; fill-opacity:0.5\" cx=\"234.236\" cy=\"258.76\" r=\"4\"/>\n",
       "<circle clip-path=\"url(#clip5602)\" style=\"fill:#009af9; stroke:none; fill-opacity:0.5\" cx=\"234.236\" cy=\"258.76\" r=\"3\"/>\n",
       "<circle clip-path=\"url(#clip5602)\" style=\"fill:#000000; stroke:none; fill-opacity:0.5\" cx=\"483.811\" cy=\"224.062\" r=\"4\"/>\n",
       "<circle clip-path=\"url(#clip5602)\" style=\"fill:#009af9; stroke:none; fill-opacity:0.5\" cx=\"483.811\" cy=\"224.062\" r=\"3\"/>\n",
       "<circle clip-path=\"url(#clip5602)\" style=\"fill:#000000; stroke:none; fill-opacity:0.5\" cx=\"415.922\" cy=\"142.677\" r=\"4\"/>\n",
       "<circle clip-path=\"url(#clip5602)\" style=\"fill:#009af9; stroke:none; fill-opacity:0.5\" cx=\"415.922\" cy=\"142.677\" r=\"3\"/>\n",
       "<circle clip-path=\"url(#clip5602)\" style=\"fill:#000000; stroke:none; fill-opacity:0.5\" cx=\"146.923\" cy=\"65.1588\" r=\"4\"/>\n",
       "<circle clip-path=\"url(#clip5602)\" style=\"fill:#009af9; stroke:none; fill-opacity:0.5\" cx=\"146.923\" cy=\"65.1588\" r=\"3\"/>\n",
       "<circle clip-path=\"url(#clip5602)\" style=\"fill:#000000; stroke:none; fill-opacity:0.5\" cx=\"161.515\" cy=\"49.6635\" r=\"4\"/>\n",
       "<circle clip-path=\"url(#clip5602)\" style=\"fill:#009af9; stroke:none; fill-opacity:0.5\" cx=\"161.515\" cy=\"49.6635\" r=\"3\"/>\n",
       "<circle clip-path=\"url(#clip5602)\" style=\"fill:#000000; stroke:none; fill-opacity:0.5\" cx=\"321.746\" cy=\"227.193\" r=\"4\"/>\n",
       "<circle clip-path=\"url(#clip5602)\" style=\"fill:#009af9; stroke:none; fill-opacity:0.5\" cx=\"321.746\" cy=\"227.193\" r=\"3\"/>\n",
       "<circle clip-path=\"url(#clip5602)\" style=\"fill:#000000; stroke:none; fill-opacity:0.5\" cx=\"186.52\" cy=\"93.291\" r=\"4\"/>\n",
       "<circle clip-path=\"url(#clip5602)\" style=\"fill:#009af9; stroke:none; fill-opacity:0.5\" cx=\"186.52\" cy=\"93.291\" r=\"3\"/>\n",
       "<circle clip-path=\"url(#clip5602)\" style=\"fill:#000000; stroke:none; fill-opacity:0.5\" cx=\"322.85\" cy=\"146.9\" r=\"4\"/>\n",
       "<circle clip-path=\"url(#clip5602)\" style=\"fill:#009af9; stroke:none; fill-opacity:0.5\" cx=\"322.85\" cy=\"146.9\" r=\"3\"/>\n",
       "<circle clip-path=\"url(#clip5602)\" style=\"fill:#000000; stroke:none; fill-opacity:0.5\" cx=\"260.787\" cy=\"151.614\" r=\"4\"/>\n",
       "<circle clip-path=\"url(#clip5602)\" style=\"fill:#009af9; stroke:none; fill-opacity:0.5\" cx=\"260.787\" cy=\"151.614\" r=\"3\"/>\n",
       "<circle clip-path=\"url(#clip5602)\" style=\"fill:#000000; stroke:none; fill-opacity:0.5\" cx=\"325.848\" cy=\"51.9084\" r=\"4\"/>\n",
       "<circle clip-path=\"url(#clip5602)\" style=\"fill:#009af9; stroke:none; fill-opacity:0.5\" cx=\"325.848\" cy=\"51.9084\" r=\"3\"/>\n",
       "<circle clip-path=\"url(#clip5602)\" style=\"fill:#000000; stroke:none; fill-opacity:0.5\" cx=\"479.924\" cy=\"322.04\" r=\"4\"/>\n",
       "<circle clip-path=\"url(#clip5602)\" style=\"fill:#009af9; stroke:none; fill-opacity:0.5\" cx=\"479.924\" cy=\"322.04\" r=\"3\"/>\n",
       "<circle clip-path=\"url(#clip5602)\" style=\"fill:#000000; stroke:none; fill-opacity:0.5\" cx=\"224.957\" cy=\"334.603\" r=\"4\"/>\n",
       "<circle clip-path=\"url(#clip5602)\" style=\"fill:#009af9; stroke:none; fill-opacity:0.5\" cx=\"224.957\" cy=\"334.603\" r=\"3\"/>\n",
       "<circle clip-path=\"url(#clip5602)\" style=\"fill:#000000; stroke:none; fill-opacity:0.5\" cx=\"191.704\" cy=\"348.914\" r=\"4\"/>\n",
       "<circle clip-path=\"url(#clip5602)\" style=\"fill:#009af9; stroke:none; fill-opacity:0.5\" cx=\"191.704\" cy=\"348.914\" r=\"3\"/>\n",
       "<circle clip-path=\"url(#clip5602)\" style=\"fill:#000000; stroke:none; fill-opacity:0.5\" cx=\"232.636\" cy=\"327.465\" r=\"4\"/>\n",
       "<circle clip-path=\"url(#clip5602)\" style=\"fill:#009af9; stroke:none; fill-opacity:0.5\" cx=\"232.636\" cy=\"327.465\" r=\"3\"/>\n",
       "<circle clip-path=\"url(#clip5602)\" style=\"fill:#000000; stroke:none; fill-opacity:0.5\" cx=\"383.774\" cy=\"26.1397\" r=\"4\"/>\n",
       "<circle clip-path=\"url(#clip5602)\" style=\"fill:#009af9; stroke:none; fill-opacity:0.5\" cx=\"383.774\" cy=\"26.1397\" r=\"3\"/>\n",
       "<circle clip-path=\"url(#clip5602)\" style=\"fill:#000000; stroke:none; fill-opacity:0.5\" cx=\"133.797\" cy=\"109.384\" r=\"4\"/>\n",
       "<circle clip-path=\"url(#clip5602)\" style=\"fill:#009af9; stroke:none; fill-opacity:0.5\" cx=\"133.797\" cy=\"109.384\" r=\"3\"/>\n",
       "<circle clip-path=\"url(#clip5602)\" style=\"fill:#000000; stroke:none; fill-opacity:0.5\" cx=\"377.23\" cy=\"373.149\" r=\"4\"/>\n",
       "<circle clip-path=\"url(#clip5602)\" style=\"fill:#009af9; stroke:none; fill-opacity:0.5\" cx=\"377.23\" cy=\"373.149\" r=\"3\"/>\n",
       "<circle clip-path=\"url(#clip5602)\" style=\"fill:#000000; stroke:none; fill-opacity:0.5\" cx=\"145.66\" cy=\"304.062\" r=\"4\"/>\n",
       "<circle clip-path=\"url(#clip5602)\" style=\"fill:#009af9; stroke:none; fill-opacity:0.5\" cx=\"145.66\" cy=\"304.062\" r=\"3\"/>\n",
       "<circle clip-path=\"url(#clip5602)\" style=\"fill:#000000; stroke:none; fill-opacity:0.5\" cx=\"372.692\" cy=\"342.511\" r=\"4\"/>\n",
       "<circle clip-path=\"url(#clip5602)\" style=\"fill:#009af9; stroke:none; fill-opacity:0.5\" cx=\"372.692\" cy=\"342.511\" r=\"3\"/>\n",
       "<circle clip-path=\"url(#clip5602)\" style=\"fill:#000000; stroke:none; fill-opacity:0.5\" cx=\"422.678\" cy=\"177.068\" r=\"4\"/>\n",
       "<circle clip-path=\"url(#clip5602)\" style=\"fill:#009af9; stroke:none; fill-opacity:0.5\" cx=\"422.678\" cy=\"177.068\" r=\"3\"/>\n",
       "<circle clip-path=\"url(#clip5602)\" style=\"fill:#000000; stroke:none; fill-opacity:0.5\" cx=\"436.385\" cy=\"327.038\" r=\"4\"/>\n",
       "<circle clip-path=\"url(#clip5602)\" style=\"fill:#009af9; stroke:none; fill-opacity:0.5\" cx=\"436.385\" cy=\"327.038\" r=\"3\"/>\n",
       "<circle clip-path=\"url(#clip5602)\" style=\"fill:#000000; stroke:none; fill-opacity:0.5\" cx=\"244.257\" cy=\"341.735\" r=\"4\"/>\n",
       "<circle clip-path=\"url(#clip5602)\" style=\"fill:#009af9; stroke:none; fill-opacity:0.5\" cx=\"244.257\" cy=\"341.735\" r=\"3\"/>\n",
       "<circle clip-path=\"url(#clip5602)\" style=\"fill:#000000; stroke:none; fill-opacity:0.5\" cx=\"410.884\" cy=\"105.268\" r=\"4\"/>\n",
       "<circle clip-path=\"url(#clip5602)\" style=\"fill:#009af9; stroke:none; fill-opacity:0.5\" cx=\"410.884\" cy=\"105.268\" r=\"3\"/>\n",
       "<circle clip-path=\"url(#clip5602)\" style=\"fill:#000000; stroke:none; fill-opacity:0.5\" cx=\"198.999\" cy=\"114.635\" r=\"4\"/>\n",
       "<circle clip-path=\"url(#clip5602)\" style=\"fill:#009af9; stroke:none; fill-opacity:0.5\" cx=\"198.999\" cy=\"114.635\" r=\"3\"/>\n",
       "<circle clip-path=\"url(#clip5602)\" style=\"fill:#000000; stroke:none; fill-opacity:0.5\" cx=\"214.009\" cy=\"330.837\" r=\"4\"/>\n",
       "<circle clip-path=\"url(#clip5602)\" style=\"fill:#009af9; stroke:none; fill-opacity:0.5\" cx=\"214.009\" cy=\"330.837\" r=\"3\"/>\n",
       "<circle clip-path=\"url(#clip5602)\" style=\"fill:#000000; stroke:none; fill-opacity:0.5\" cx=\"158.276\" cy=\"365.003\" r=\"4\"/>\n",
       "<circle clip-path=\"url(#clip5602)\" style=\"fill:#009af9; stroke:none; fill-opacity:0.5\" cx=\"158.276\" cy=\"365.003\" r=\"3\"/>\n",
       "<circle clip-path=\"url(#clip5602)\" style=\"fill:#000000; stroke:none; fill-opacity:0.5\" cx=\"234.405\" cy=\"370.746\" r=\"4\"/>\n",
       "<circle clip-path=\"url(#clip5602)\" style=\"fill:#009af9; stroke:none; fill-opacity:0.5\" cx=\"234.405\" cy=\"370.746\" r=\"3\"/>\n",
       "<circle clip-path=\"url(#clip5602)\" style=\"fill:#000000; stroke:none; fill-opacity:0.5\" cx=\"416.92\" cy=\"279.117\" r=\"4\"/>\n",
       "<circle clip-path=\"url(#clip5602)\" style=\"fill:#009af9; stroke:none; fill-opacity:0.5\" cx=\"416.92\" cy=\"279.117\" r=\"3\"/>\n",
       "<circle clip-path=\"url(#clip5602)\" style=\"fill:#000000; stroke:none; fill-opacity:0.5\" cx=\"170.011\" cy=\"319.427\" r=\"4\"/>\n",
       "<circle clip-path=\"url(#clip5602)\" style=\"fill:#009af9; stroke:none; fill-opacity:0.5\" cx=\"170.011\" cy=\"319.427\" r=\"3\"/>\n",
       "<circle clip-path=\"url(#clip5602)\" style=\"fill:#000000; stroke:none; fill-opacity:0.5\" cx=\"201.879\" cy=\"363.948\" r=\"4\"/>\n",
       "<circle clip-path=\"url(#clip5602)\" style=\"fill:#009af9; stroke:none; fill-opacity:0.5\" cx=\"201.879\" cy=\"363.948\" r=\"3\"/>\n",
       "<circle clip-path=\"url(#clip5602)\" style=\"fill:#000000; stroke:none; fill-opacity:0.5\" cx=\"349.391\" cy=\"107.096\" r=\"4\"/>\n",
       "<circle clip-path=\"url(#clip5602)\" style=\"fill:#009af9; stroke:none; fill-opacity:0.5\" cx=\"349.391\" cy=\"107.096\" r=\"3\"/>\n",
       "<circle clip-path=\"url(#clip5602)\" style=\"fill:#000000; stroke:none; fill-opacity:0.5\" cx=\"436.001\" cy=\"201.674\" r=\"4\"/>\n",
       "<circle clip-path=\"url(#clip5602)\" style=\"fill:#009af9; stroke:none; fill-opacity:0.5\" cx=\"436.001\" cy=\"201.674\" r=\"3\"/>\n",
       "<circle clip-path=\"url(#clip5602)\" style=\"fill:#000000; stroke:none; fill-opacity:0.5\" cx=\"211.636\" cy=\"42.5963\" r=\"4\"/>\n",
       "<circle clip-path=\"url(#clip5602)\" style=\"fill:#009af9; stroke:none; fill-opacity:0.5\" cx=\"211.636\" cy=\"42.5963\" r=\"3\"/>\n",
       "<circle clip-path=\"url(#clip5602)\" style=\"fill:#000000; stroke:none; fill-opacity:0.5\" cx=\"249.395\" cy=\"302.596\" r=\"4\"/>\n",
       "<circle clip-path=\"url(#clip5602)\" style=\"fill:#009af9; stroke:none; fill-opacity:0.5\" cx=\"249.395\" cy=\"302.596\" r=\"3\"/>\n",
       "<circle clip-path=\"url(#clip5602)\" style=\"fill:#000000; stroke:none; fill-opacity:0.5\" cx=\"248.471\" cy=\"265.464\" r=\"4\"/>\n",
       "<circle clip-path=\"url(#clip5602)\" style=\"fill:#009af9; stroke:none; fill-opacity:0.5\" cx=\"248.471\" cy=\"265.464\" r=\"3\"/>\n",
       "<circle clip-path=\"url(#clip5602)\" style=\"fill:#000000; stroke:none; fill-opacity:0.5\" cx=\"474.897\" cy=\"305.807\" r=\"4\"/>\n",
       "<circle clip-path=\"url(#clip5602)\" style=\"fill:#009af9; stroke:none; fill-opacity:0.5\" cx=\"474.897\" cy=\"305.807\" r=\"3\"/>\n",
       "<circle clip-path=\"url(#clip5602)\" style=\"fill:#000000; stroke:none; fill-opacity:0.5\" cx=\"316.993\" cy=\"221.772\" r=\"4\"/>\n",
       "<circle clip-path=\"url(#clip5602)\" style=\"fill:#009af9; stroke:none; fill-opacity:0.5\" cx=\"316.993\" cy=\"221.772\" r=\"3\"/>\n",
       "<circle clip-path=\"url(#clip5602)\" style=\"fill:#000000; stroke:none; fill-opacity:0.5\" cx=\"310.815\" cy=\"264.55\" r=\"4\"/>\n",
       "<circle clip-path=\"url(#clip5602)\" style=\"fill:#009af9; stroke:none; fill-opacity:0.5\" cx=\"310.815\" cy=\"264.55\" r=\"3\"/>\n",
       "<circle clip-path=\"url(#clip5602)\" style=\"fill:#000000; stroke:none; fill-opacity:0.5\" cx=\"174.144\" cy=\"38.6492\" r=\"4\"/>\n",
       "<circle clip-path=\"url(#clip5602)\" style=\"fill:#009af9; stroke:none; fill-opacity:0.5\" cx=\"174.144\" cy=\"38.6492\" r=\"3\"/>\n",
       "<circle clip-path=\"url(#clip5602)\" style=\"fill:#000000; stroke:none; fill-opacity:0.5\" cx=\"218.072\" cy=\"301.055\" r=\"4\"/>\n",
       "<circle clip-path=\"url(#clip5602)\" style=\"fill:#009af9; stroke:none; fill-opacity:0.5\" cx=\"218.072\" cy=\"301.055\" r=\"3\"/>\n",
       "<circle clip-path=\"url(#clip5602)\" style=\"fill:#000000; stroke:none; fill-opacity:0.5\" cx=\"431.603\" cy=\"238.021\" r=\"4\"/>\n",
       "<circle clip-path=\"url(#clip5602)\" style=\"fill:#009af9; stroke:none; fill-opacity:0.5\" cx=\"431.603\" cy=\"238.021\" r=\"3\"/>\n",
       "<circle clip-path=\"url(#clip5602)\" style=\"fill:#000000; stroke:none; fill-opacity:0.5\" cx=\"214.725\" cy=\"33.4314\" r=\"4\"/>\n",
       "<circle clip-path=\"url(#clip5602)\" style=\"fill:#009af9; stroke:none; fill-opacity:0.5\" cx=\"214.725\" cy=\"33.4314\" r=\"3\"/>\n",
       "<circle clip-path=\"url(#clip5602)\" style=\"fill:#000000; stroke:none; fill-opacity:0.5\" cx=\"327.404\" cy=\"106.651\" r=\"4\"/>\n",
       "<circle clip-path=\"url(#clip5602)\" style=\"fill:#009af9; stroke:none; fill-opacity:0.5\" cx=\"327.404\" cy=\"106.651\" r=\"3\"/>\n",
       "<circle clip-path=\"url(#clip5602)\" style=\"fill:#000000; stroke:none; fill-opacity:0.5\" cx=\"406.905\" cy=\"76.4809\" r=\"4\"/>\n",
       "<circle clip-path=\"url(#clip5602)\" style=\"fill:#009af9; stroke:none; fill-opacity:0.5\" cx=\"406.905\" cy=\"76.4809\" r=\"3\"/>\n",
       "<circle clip-path=\"url(#clip5602)\" style=\"fill:#000000; stroke:none; fill-opacity:0.5\" cx=\"447.068\" cy=\"235.44\" r=\"4\"/>\n",
       "<circle clip-path=\"url(#clip5602)\" style=\"fill:#009af9; stroke:none; fill-opacity:0.5\" cx=\"447.068\" cy=\"235.44\" r=\"3\"/>\n",
       "<circle clip-path=\"url(#clip5602)\" style=\"fill:#000000; stroke:none; fill-opacity:0.5\" cx=\"419.269\" cy=\"296.271\" r=\"4\"/>\n",
       "<circle clip-path=\"url(#clip5602)\" style=\"fill:#009af9; stroke:none; fill-opacity:0.5\" cx=\"419.269\" cy=\"296.271\" r=\"3\"/>\n",
       "<circle clip-path=\"url(#clip5602)\" style=\"fill:#000000; stroke:none; fill-opacity:0.5\" cx=\"211.27\" cy=\"222.128\" r=\"4\"/>\n",
       "<circle clip-path=\"url(#clip5602)\" style=\"fill:#009af9; stroke:none; fill-opacity:0.5\" cx=\"211.27\" cy=\"222.128\" r=\"3\"/>\n",
       "<circle clip-path=\"url(#clip5602)\" style=\"fill:#000000; stroke:none; fill-opacity:0.5\" cx=\"317.57\" cy=\"90.7865\" r=\"4\"/>\n",
       "<circle clip-path=\"url(#clip5602)\" style=\"fill:#009af9; stroke:none; fill-opacity:0.5\" cx=\"317.57\" cy=\"90.7865\" r=\"3\"/>\n",
       "<circle clip-path=\"url(#clip5602)\" style=\"fill:#000000; stroke:none; fill-opacity:0.5\" cx=\"324.302\" cy=\"126.459\" r=\"4\"/>\n",
       "<circle clip-path=\"url(#clip5602)\" style=\"fill:#009af9; stroke:none; fill-opacity:0.5\" cx=\"324.302\" cy=\"126.459\" r=\"3\"/>\n",
       "<circle clip-path=\"url(#clip5602)\" style=\"fill:#000000; stroke:none; fill-opacity:0.5\" cx=\"379.514\" cy=\"78.7208\" r=\"4\"/>\n",
       "<circle clip-path=\"url(#clip5602)\" style=\"fill:#009af9; stroke:none; fill-opacity:0.5\" cx=\"379.514\" cy=\"78.7208\" r=\"3\"/>\n",
       "<circle clip-path=\"url(#clip5602)\" style=\"fill:#000000; stroke:none; fill-opacity:0.5\" cx=\"359.787\" cy=\"334.892\" r=\"4\"/>\n",
       "<circle clip-path=\"url(#clip5602)\" style=\"fill:#009af9; stroke:none; fill-opacity:0.5\" cx=\"359.787\" cy=\"334.892\" r=\"3\"/>\n",
       "<circle clip-path=\"url(#clip5602)\" style=\"fill:#000000; stroke:none; fill-opacity:0.5\" cx=\"317.877\" cy=\"344.604\" r=\"4\"/>\n",
       "<circle clip-path=\"url(#clip5602)\" style=\"fill:#009af9; stroke:none; fill-opacity:0.5\" cx=\"317.877\" cy=\"344.604\" r=\"3\"/>\n",
       "<circle clip-path=\"url(#clip5602)\" style=\"fill:#000000; stroke:none; fill-opacity:0.5\" cx=\"237.333\" cy=\"56.9508\" r=\"4\"/>\n",
       "<circle clip-path=\"url(#clip5602)\" style=\"fill:#009af9; stroke:none; fill-opacity:0.5\" cx=\"237.333\" cy=\"56.9508\" r=\"3\"/>\n",
       "<circle clip-path=\"url(#clip5602)\" style=\"fill:#000000; stroke:none; fill-opacity:0.5\" cx=\"177.462\" cy=\"67.8927\" r=\"4\"/>\n",
       "<circle clip-path=\"url(#clip5602)\" style=\"fill:#009af9; stroke:none; fill-opacity:0.5\" cx=\"177.462\" cy=\"67.8927\" r=\"3\"/>\n",
       "<circle clip-path=\"url(#clip5602)\" style=\"fill:#000000; stroke:none; fill-opacity:0.5\" cx=\"356.706\" cy=\"231.583\" r=\"4\"/>\n",
       "<circle clip-path=\"url(#clip5602)\" style=\"fill:#009af9; stroke:none; fill-opacity:0.5\" cx=\"356.706\" cy=\"231.583\" r=\"3\"/>\n",
       "<circle clip-path=\"url(#clip5602)\" style=\"fill:#000000; stroke:none; fill-opacity:0.5\" cx=\"173.076\" cy=\"270.91\" r=\"4\"/>\n",
       "<circle clip-path=\"url(#clip5602)\" style=\"fill:#009af9; stroke:none; fill-opacity:0.5\" cx=\"173.076\" cy=\"270.91\" r=\"3\"/>\n",
       "<circle clip-path=\"url(#clip5602)\" style=\"fill:#000000; stroke:none; fill-opacity:0.5\" cx=\"308.406\" cy=\"255.029\" r=\"4\"/>\n",
       "<circle clip-path=\"url(#clip5602)\" style=\"fill:#009af9; stroke:none; fill-opacity:0.5\" cx=\"308.406\" cy=\"255.029\" r=\"3\"/>\n",
       "<circle clip-path=\"url(#clip5602)\" style=\"fill:#000000; stroke:none; fill-opacity:0.5\" cx=\"312.56\" cy=\"164.762\" r=\"4\"/>\n",
       "<circle clip-path=\"url(#clip5602)\" style=\"fill:#009af9; stroke:none; fill-opacity:0.5\" cx=\"312.56\" cy=\"164.762\" r=\"3\"/>\n",
       "<circle clip-path=\"url(#clip5602)\" style=\"fill:#000000; stroke:none; fill-opacity:0.5\" cx=\"381.186\" cy=\"305.728\" r=\"4\"/>\n",
       "<circle clip-path=\"url(#clip5602)\" style=\"fill:#009af9; stroke:none; fill-opacity:0.5\" cx=\"381.186\" cy=\"305.728\" r=\"3\"/>\n",
       "<circle clip-path=\"url(#clip5602)\" style=\"fill:#000000; stroke:none; fill-opacity:0.5\" cx=\"416.387\" cy=\"369.953\" r=\"4\"/>\n",
       "<circle clip-path=\"url(#clip5602)\" style=\"fill:#009af9; stroke:none; fill-opacity:0.5\" cx=\"416.387\" cy=\"369.953\" r=\"3\"/>\n",
       "<circle clip-path=\"url(#clip5602)\" style=\"fill:#000000; stroke:none; fill-opacity:0.5\" cx=\"353.78\" cy=\"166.038\" r=\"4\"/>\n",
       "<circle clip-path=\"url(#clip5602)\" style=\"fill:#009af9; stroke:none; fill-opacity:0.5\" cx=\"353.78\" cy=\"166.038\" r=\"3\"/>\n",
       "<circle clip-path=\"url(#clip5602)\" style=\"fill:#000000; stroke:none; fill-opacity:0.5\" cx=\"288.12\" cy=\"68.3958\" r=\"4\"/>\n",
       "<circle clip-path=\"url(#clip5602)\" style=\"fill:#009af9; stroke:none; fill-opacity:0.5\" cx=\"288.12\" cy=\"68.3958\" r=\"3\"/>\n",
       "<circle clip-path=\"url(#clip5602)\" style=\"fill:#000000; stroke:none; fill-opacity:0.5\" cx=\"259.372\" cy=\"307.142\" r=\"4\"/>\n",
       "<circle clip-path=\"url(#clip5602)\" style=\"fill:#009af9; stroke:none; fill-opacity:0.5\" cx=\"259.372\" cy=\"307.142\" r=\"3\"/>\n",
       "<circle clip-path=\"url(#clip5602)\" style=\"fill:#000000; stroke:none; fill-opacity:0.5\" cx=\"221.58\" cy=\"141.368\" r=\"4\"/>\n",
       "<circle clip-path=\"url(#clip5602)\" style=\"fill:#009af9; stroke:none; fill-opacity:0.5\" cx=\"221.58\" cy=\"141.368\" r=\"3\"/>\n",
       "<circle clip-path=\"url(#clip5602)\" style=\"fill:#000000; stroke:none; fill-opacity:0.5\" cx=\"228.416\" cy=\"52.701\" r=\"4\"/>\n",
       "<circle clip-path=\"url(#clip5602)\" style=\"fill:#009af9; stroke:none; fill-opacity:0.5\" cx=\"228.416\" cy=\"52.701\" r=\"3\"/>\n",
       "<circle clip-path=\"url(#clip5602)\" style=\"fill:#000000; stroke:none; fill-opacity:0.5\" cx=\"329.878\" cy=\"300.567\" r=\"4\"/>\n",
       "<circle clip-path=\"url(#clip5602)\" style=\"fill:#009af9; stroke:none; fill-opacity:0.5\" cx=\"329.878\" cy=\"300.567\" r=\"3\"/>\n",
       "<circle clip-path=\"url(#clip5602)\" style=\"fill:#000000; stroke:none; fill-opacity:0.5\" cx=\"251.892\" cy=\"31.1974\" r=\"4\"/>\n",
       "<circle clip-path=\"url(#clip5602)\" style=\"fill:#009af9; stroke:none; fill-opacity:0.5\" cx=\"251.892\" cy=\"31.1974\" r=\"3\"/>\n",
       "<circle clip-path=\"url(#clip5602)\" style=\"fill:#000000; stroke:none; fill-opacity:0.5\" cx=\"336.376\" cy=\"63.1237\" r=\"4\"/>\n",
       "<circle clip-path=\"url(#clip5602)\" style=\"fill:#009af9; stroke:none; fill-opacity:0.5\" cx=\"336.376\" cy=\"63.1237\" r=\"3\"/>\n",
       "<circle clip-path=\"url(#clip5602)\" style=\"fill:#000000; stroke:none; fill-opacity:0.5\" cx=\"142.765\" cy=\"210.07\" r=\"4\"/>\n",
       "<circle clip-path=\"url(#clip5602)\" style=\"fill:#009af9; stroke:none; fill-opacity:0.5\" cx=\"142.765\" cy=\"210.07\" r=\"3\"/>\n",
       "<circle clip-path=\"url(#clip5602)\" style=\"fill:#000000; stroke:none; fill-opacity:0.5\" cx=\"198.216\" cy=\"320.751\" r=\"4\"/>\n",
       "<circle clip-path=\"url(#clip5602)\" style=\"fill:#009af9; stroke:none; fill-opacity:0.5\" cx=\"198.216\" cy=\"320.751\" r=\"3\"/>\n",
       "<circle clip-path=\"url(#clip5602)\" style=\"fill:#000000; stroke:none; fill-opacity:0.5\" cx=\"417.204\" cy=\"45.0315\" r=\"4\"/>\n",
       "<circle clip-path=\"url(#clip5602)\" style=\"fill:#009af9; stroke:none; fill-opacity:0.5\" cx=\"417.204\" cy=\"45.0315\" r=\"3\"/>\n",
       "<circle clip-path=\"url(#clip5602)\" style=\"fill:#000000; stroke:none; fill-opacity:0.5\" cx=\"204.517\" cy=\"290.304\" r=\"4\"/>\n",
       "<circle clip-path=\"url(#clip5602)\" style=\"fill:#009af9; stroke:none; fill-opacity:0.5\" cx=\"204.517\" cy=\"290.304\" r=\"3\"/>\n",
       "<circle clip-path=\"url(#clip5602)\" style=\"fill:#000000; stroke:none; fill-opacity:0.5\" cx=\"208.304\" cy=\"49.3877\" r=\"4\"/>\n",
       "<circle clip-path=\"url(#clip5602)\" style=\"fill:#009af9; stroke:none; fill-opacity:0.5\" cx=\"208.304\" cy=\"49.3877\" r=\"3\"/>\n",
       "<circle clip-path=\"url(#clip5602)\" style=\"fill:#000000; stroke:none; fill-opacity:0.5\" cx=\"466.733\" cy=\"263.005\" r=\"4\"/>\n",
       "<circle clip-path=\"url(#clip5602)\" style=\"fill:#009af9; stroke:none; fill-opacity:0.5\" cx=\"466.733\" cy=\"263.005\" r=\"3\"/>\n",
       "<circle clip-path=\"url(#clip5602)\" style=\"fill:#000000; stroke:none; fill-opacity:0.5\" cx=\"340.564\" cy=\"150.308\" r=\"4\"/>\n",
       "<circle clip-path=\"url(#clip5602)\" style=\"fill:#009af9; stroke:none; fill-opacity:0.5\" cx=\"340.564\" cy=\"150.308\" r=\"3\"/>\n",
       "<circle clip-path=\"url(#clip5602)\" style=\"fill:#000000; stroke:none; fill-opacity:0.5\" cx=\"416.582\" cy=\"301.057\" r=\"4\"/>\n",
       "<circle clip-path=\"url(#clip5602)\" style=\"fill:#009af9; stroke:none; fill-opacity:0.5\" cx=\"416.582\" cy=\"301.057\" r=\"3\"/>\n",
       "<circle clip-path=\"url(#clip5602)\" style=\"fill:#000000; stroke:none; fill-opacity:0.5\" cx=\"238.129\" cy=\"210.323\" r=\"4\"/>\n",
       "<circle clip-path=\"url(#clip5602)\" style=\"fill:#009af9; stroke:none; fill-opacity:0.5\" cx=\"238.129\" cy=\"210.323\" r=\"3\"/>\n",
       "<circle clip-path=\"url(#clip5602)\" style=\"fill:#000000; stroke:none; fill-opacity:0.5\" cx=\"285.743\" cy=\"283.601\" r=\"4\"/>\n",
       "<circle clip-path=\"url(#clip5602)\" style=\"fill:#009af9; stroke:none; fill-opacity:0.5\" cx=\"285.743\" cy=\"283.601\" r=\"3\"/>\n",
       "<circle clip-path=\"url(#clip5602)\" style=\"fill:#000000; stroke:none; fill-opacity:0.5\" cx=\"369.718\" cy=\"301.203\" r=\"4\"/>\n",
       "<circle clip-path=\"url(#clip5602)\" style=\"fill:#009af9; stroke:none; fill-opacity:0.5\" cx=\"369.718\" cy=\"301.203\" r=\"3\"/>\n",
       "<circle clip-path=\"url(#clip5602)\" style=\"fill:#000000; stroke:none; fill-opacity:0.5\" cx=\"230.875\" cy=\"314.488\" r=\"4\"/>\n",
       "<circle clip-path=\"url(#clip5602)\" style=\"fill:#009af9; stroke:none; fill-opacity:0.5\" cx=\"230.875\" cy=\"314.488\" r=\"3\"/>\n",
       "<circle clip-path=\"url(#clip5602)\" style=\"fill:#000000; stroke:none; fill-opacity:0.5\" cx=\"368.441\" cy=\"236.077\" r=\"4\"/>\n",
       "<circle clip-path=\"url(#clip5602)\" style=\"fill:#009af9; stroke:none; fill-opacity:0.5\" cx=\"368.441\" cy=\"236.077\" r=\"3\"/>\n",
       "<circle clip-path=\"url(#clip5602)\" style=\"fill:#000000; stroke:none; fill-opacity:0.5\" cx=\"411.502\" cy=\"191.977\" r=\"4\"/>\n",
       "<circle clip-path=\"url(#clip5602)\" style=\"fill:#009af9; stroke:none; fill-opacity:0.5\" cx=\"411.502\" cy=\"191.977\" r=\"3\"/>\n",
       "<circle clip-path=\"url(#clip5602)\" style=\"fill:#000000; stroke:none; fill-opacity:0.5\" cx=\"281.483\" cy=\"345.8\" r=\"4\"/>\n",
       "<circle clip-path=\"url(#clip5602)\" style=\"fill:#009af9; stroke:none; fill-opacity:0.5\" cx=\"281.483\" cy=\"345.8\" r=\"3\"/>\n",
       "<circle clip-path=\"url(#clip5602)\" style=\"fill:#000000; stroke:none; fill-opacity:0.5\" cx=\"398.303\" cy=\"214.067\" r=\"4\"/>\n",
       "<circle clip-path=\"url(#clip5602)\" style=\"fill:#009af9; stroke:none; fill-opacity:0.5\" cx=\"398.303\" cy=\"214.067\" r=\"3\"/>\n",
       "<circle clip-path=\"url(#clip5602)\" style=\"fill:#000000; stroke:none; fill-opacity:0.5\" cx=\"249.477\" cy=\"135.74\" r=\"4\"/>\n",
       "<circle clip-path=\"url(#clip5602)\" style=\"fill:#009af9; stroke:none; fill-opacity:0.5\" cx=\"249.477\" cy=\"135.74\" r=\"3\"/>\n",
       "<circle clip-path=\"url(#clip5602)\" style=\"fill:#000000; stroke:none; fill-opacity:0.5\" cx=\"186.089\" cy=\"258.208\" r=\"4\"/>\n",
       "<circle clip-path=\"url(#clip5602)\" style=\"fill:#009af9; stroke:none; fill-opacity:0.5\" cx=\"186.089\" cy=\"258.208\" r=\"3\"/>\n",
       "<circle clip-path=\"url(#clip5602)\" style=\"fill:#000000; stroke:none; fill-opacity:0.5\" cx=\"401.438\" cy=\"239.626\" r=\"4\"/>\n",
       "<circle clip-path=\"url(#clip5602)\" style=\"fill:#009af9; stroke:none; fill-opacity:0.5\" cx=\"401.438\" cy=\"239.626\" r=\"3\"/>\n",
       "<circle clip-path=\"url(#clip5602)\" style=\"fill:#000000; stroke:none; fill-opacity:0.5\" cx=\"389.654\" cy=\"176.946\" r=\"4\"/>\n",
       "<circle clip-path=\"url(#clip5602)\" style=\"fill:#009af9; stroke:none; fill-opacity:0.5\" cx=\"389.654\" cy=\"176.946\" r=\"3\"/>\n",
       "<circle clip-path=\"url(#clip5602)\" style=\"fill:#000000; stroke:none; fill-opacity:0.5\" cx=\"195.292\" cy=\"340.67\" r=\"4\"/>\n",
       "<circle clip-path=\"url(#clip5602)\" style=\"fill:#009af9; stroke:none; fill-opacity:0.5\" cx=\"195.292\" cy=\"340.67\" r=\"3\"/>\n",
       "<circle clip-path=\"url(#clip5602)\" style=\"fill:#000000; stroke:none; fill-opacity:0.5\" cx=\"256.061\" cy=\"92.0334\" r=\"4\"/>\n",
       "<circle clip-path=\"url(#clip5602)\" style=\"fill:#009af9; stroke:none; fill-opacity:0.5\" cx=\"256.061\" cy=\"92.0334\" r=\"3\"/>\n",
       "<circle clip-path=\"url(#clip5602)\" style=\"fill:#000000; stroke:none; fill-opacity:0.5\" cx=\"482.826\" cy=\"212.385\" r=\"4\"/>\n",
       "<circle clip-path=\"url(#clip5602)\" style=\"fill:#009af9; stroke:none; fill-opacity:0.5\" cx=\"482.826\" cy=\"212.385\" r=\"3\"/>\n",
       "<circle clip-path=\"url(#clip5602)\" style=\"fill:#000000; stroke:none; fill-opacity:0.5\" cx=\"247.075\" cy=\"100.753\" r=\"4\"/>\n",
       "<circle clip-path=\"url(#clip5602)\" style=\"fill:#009af9; stroke:none; fill-opacity:0.5\" cx=\"247.075\" cy=\"100.753\" r=\"3\"/>\n",
       "<circle clip-path=\"url(#clip5602)\" style=\"fill:#000000; stroke:none; fill-opacity:0.5\" cx=\"365.945\" cy=\"213.991\" r=\"4\"/>\n",
       "<circle clip-path=\"url(#clip5602)\" style=\"fill:#009af9; stroke:none; fill-opacity:0.5\" cx=\"365.945\" cy=\"213.991\" r=\"3\"/>\n",
       "<circle clip-path=\"url(#clip5602)\" style=\"fill:#000000; stroke:none; fill-opacity:0.5\" cx=\"358.261\" cy=\"261.038\" r=\"4\"/>\n",
       "<circle clip-path=\"url(#clip5602)\" style=\"fill:#009af9; stroke:none; fill-opacity:0.5\" cx=\"358.261\" cy=\"261.038\" r=\"3\"/>\n",
       "<circle clip-path=\"url(#clip5602)\" style=\"fill:#000000; stroke:none; fill-opacity:0.5\" cx=\"389.257\" cy=\"35.6894\" r=\"4\"/>\n",
       "<circle clip-path=\"url(#clip5602)\" style=\"fill:#009af9; stroke:none; fill-opacity:0.5\" cx=\"389.257\" cy=\"35.6894\" r=\"3\"/>\n",
       "<circle clip-path=\"url(#clip5602)\" style=\"fill:#000000; stroke:none; fill-opacity:0.5\" cx=\"462.734\" cy=\"276.789\" r=\"4\"/>\n",
       "<circle clip-path=\"url(#clip5602)\" style=\"fill:#009af9; stroke:none; fill-opacity:0.5\" cx=\"462.734\" cy=\"276.789\" r=\"3\"/>\n",
       "<circle clip-path=\"url(#clip5602)\" style=\"fill:#000000; stroke:none; fill-opacity:0.5\" cx=\"163.284\" cy=\"274.021\" r=\"4\"/>\n",
       "<circle clip-path=\"url(#clip5602)\" style=\"fill:#009af9; stroke:none; fill-opacity:0.5\" cx=\"163.284\" cy=\"274.021\" r=\"3\"/>\n",
       "<circle clip-path=\"url(#clip5602)\" style=\"fill:#000000; stroke:none; fill-opacity:0.5\" cx=\"228.307\" cy=\"84.43\" r=\"4\"/>\n",
       "<circle clip-path=\"url(#clip5602)\" style=\"fill:#009af9; stroke:none; fill-opacity:0.5\" cx=\"228.307\" cy=\"84.43\" r=\"3\"/>\n",
       "<circle clip-path=\"url(#clip5602)\" style=\"fill:#000000; stroke:none; fill-opacity:0.5\" cx=\"217.465\" cy=\"323.545\" r=\"4\"/>\n",
       "<circle clip-path=\"url(#clip5602)\" style=\"fill:#009af9; stroke:none; fill-opacity:0.5\" cx=\"217.465\" cy=\"323.545\" r=\"3\"/>\n",
       "<circle clip-path=\"url(#clip5602)\" style=\"fill:#000000; stroke:none; fill-opacity:0.5\" cx=\"399.128\" cy=\"127.122\" r=\"4\"/>\n",
       "<circle clip-path=\"url(#clip5602)\" style=\"fill:#009af9; stroke:none; fill-opacity:0.5\" cx=\"399.128\" cy=\"127.122\" r=\"3\"/>\n",
       "<circle clip-path=\"url(#clip5602)\" style=\"fill:#000000; stroke:none; fill-opacity:0.5\" cx=\"369.652\" cy=\"220.955\" r=\"4\"/>\n",
       "<circle clip-path=\"url(#clip5602)\" style=\"fill:#009af9; stroke:none; fill-opacity:0.5\" cx=\"369.652\" cy=\"220.955\" r=\"3\"/>\n",
       "<circle clip-path=\"url(#clip5602)\" style=\"fill:#000000; stroke:none; fill-opacity:0.5\" cx=\"377.361\" cy=\"172.211\" r=\"4\"/>\n",
       "<circle clip-path=\"url(#clip5602)\" style=\"fill:#009af9; stroke:none; fill-opacity:0.5\" cx=\"377.361\" cy=\"172.211\" r=\"3\"/>\n",
       "<circle clip-path=\"url(#clip5602)\" style=\"fill:#000000; stroke:none; fill-opacity:0.5\" cx=\"465.182\" cy=\"133.298\" r=\"4\"/>\n",
       "<circle clip-path=\"url(#clip5602)\" style=\"fill:#009af9; stroke:none; fill-opacity:0.5\" cx=\"465.182\" cy=\"133.298\" r=\"3\"/>\n",
       "<circle clip-path=\"url(#clip5602)\" style=\"fill:#000000; stroke:none; fill-opacity:0.5\" cx=\"485.803\" cy=\"277.219\" r=\"4\"/>\n",
       "<circle clip-path=\"url(#clip5602)\" style=\"fill:#009af9; stroke:none; fill-opacity:0.5\" cx=\"485.803\" cy=\"277.219\" r=\"3\"/>\n",
       "<circle clip-path=\"url(#clip5602)\" style=\"fill:#000000; stroke:none; fill-opacity:0.5\" cx=\"257.797\" cy=\"262.451\" r=\"4\"/>\n",
       "<circle clip-path=\"url(#clip5602)\" style=\"fill:#009af9; stroke:none; fill-opacity:0.5\" cx=\"257.797\" cy=\"262.451\" r=\"3\"/>\n",
       "<circle clip-path=\"url(#clip5602)\" style=\"fill:#000000; stroke:none; fill-opacity:0.5\" cx=\"459.133\" cy=\"303.777\" r=\"4\"/>\n",
       "<circle clip-path=\"url(#clip5602)\" style=\"fill:#009af9; stroke:none; fill-opacity:0.5\" cx=\"459.133\" cy=\"303.777\" r=\"3\"/>\n",
       "<circle clip-path=\"url(#clip5602)\" style=\"fill:#000000; stroke:none; fill-opacity:0.5\" cx=\"305.771\" cy=\"309.207\" r=\"4\"/>\n",
       "<circle clip-path=\"url(#clip5602)\" style=\"fill:#009af9; stroke:none; fill-opacity:0.5\" cx=\"305.771\" cy=\"309.207\" r=\"3\"/>\n",
       "<circle clip-path=\"url(#clip5602)\" style=\"fill:#000000; stroke:none; fill-opacity:0.5\" cx=\"253.523\" cy=\"123.116\" r=\"4\"/>\n",
       "<circle clip-path=\"url(#clip5602)\" style=\"fill:#009af9; stroke:none; fill-opacity:0.5\" cx=\"253.523\" cy=\"123.116\" r=\"3\"/>\n",
       "<circle clip-path=\"url(#clip5602)\" style=\"fill:#000000; stroke:none; fill-opacity:0.5\" cx=\"476.705\" cy=\"334.522\" r=\"4\"/>\n",
       "<circle clip-path=\"url(#clip5602)\" style=\"fill:#009af9; stroke:none; fill-opacity:0.5\" cx=\"476.705\" cy=\"334.522\" r=\"3\"/>\n",
       "<circle clip-path=\"url(#clip5602)\" style=\"fill:#000000; stroke:none; fill-opacity:0.5\" cx=\"226.867\" cy=\"270.069\" r=\"4\"/>\n",
       "<circle clip-path=\"url(#clip5602)\" style=\"fill:#009af9; stroke:none; fill-opacity:0.5\" cx=\"226.867\" cy=\"270.069\" r=\"3\"/>\n",
       "<circle clip-path=\"url(#clip5602)\" style=\"fill:#000000; stroke:none; fill-opacity:0.5\" cx=\"223.246\" cy=\"161.872\" r=\"4\"/>\n",
       "<circle clip-path=\"url(#clip5602)\" style=\"fill:#009af9; stroke:none; fill-opacity:0.5\" cx=\"223.246\" cy=\"161.872\" r=\"3\"/>\n",
       "<circle clip-path=\"url(#clip5602)\" style=\"fill:#000000; stroke:none; fill-opacity:0.5\" cx=\"164.267\" cy=\"291.093\" r=\"4\"/>\n",
       "<circle clip-path=\"url(#clip5602)\" style=\"fill:#009af9; stroke:none; fill-opacity:0.5\" cx=\"164.267\" cy=\"291.093\" r=\"3\"/>\n",
       "<circle clip-path=\"url(#clip5602)\" style=\"fill:#000000; stroke:none; fill-opacity:0.5\" cx=\"197.893\" cy=\"22.4551\" r=\"4\"/>\n",
       "<circle clip-path=\"url(#clip5602)\" style=\"fill:#009af9; stroke:none; fill-opacity:0.5\" cx=\"197.893\" cy=\"22.4551\" r=\"3\"/>\n",
       "<circle clip-path=\"url(#clip5602)\" style=\"fill:#000000; stroke:none; fill-opacity:0.5\" cx=\"249.126\" cy=\"262.107\" r=\"4\"/>\n",
       "<circle clip-path=\"url(#clip5602)\" style=\"fill:#009af9; stroke:none; fill-opacity:0.5\" cx=\"249.126\" cy=\"262.107\" r=\"3\"/>\n",
       "<circle clip-path=\"url(#clip5602)\" style=\"fill:#000000; stroke:none; fill-opacity:0.5\" cx=\"276.181\" cy=\"219.384\" r=\"4\"/>\n",
       "<circle clip-path=\"url(#clip5602)\" style=\"fill:#009af9; stroke:none; fill-opacity:0.5\" cx=\"276.181\" cy=\"219.384\" r=\"3\"/>\n",
       "<circle clip-path=\"url(#clip5602)\" style=\"fill:#000000; stroke:none; fill-opacity:0.5\" cx=\"284.385\" cy=\"262.77\" r=\"4\"/>\n",
       "<circle clip-path=\"url(#clip5602)\" style=\"fill:#009af9; stroke:none; fill-opacity:0.5\" cx=\"284.385\" cy=\"262.77\" r=\"3\"/>\n",
       "<circle clip-path=\"url(#clip5602)\" style=\"fill:#000000; stroke:none; fill-opacity:0.5\" cx=\"311.501\" cy=\"106.206\" r=\"4\"/>\n",
       "<circle clip-path=\"url(#clip5602)\" style=\"fill:#009af9; stroke:none; fill-opacity:0.5\" cx=\"311.501\" cy=\"106.206\" r=\"3\"/>\n",
       "<circle clip-path=\"url(#clip5602)\" style=\"fill:#000000; stroke:none; fill-opacity:0.5\" cx=\"163.683\" cy=\"176.343\" r=\"4\"/>\n",
       "<circle clip-path=\"url(#clip5602)\" style=\"fill:#009af9; stroke:none; fill-opacity:0.5\" cx=\"163.683\" cy=\"176.343\" r=\"3\"/>\n",
       "<circle clip-path=\"url(#clip5602)\" style=\"fill:#000000; stroke:none; fill-opacity:0.5\" cx=\"408.559\" cy=\"277.779\" r=\"4\"/>\n",
       "<circle clip-path=\"url(#clip5602)\" style=\"fill:#009af9; stroke:none; fill-opacity:0.5\" cx=\"408.559\" cy=\"277.779\" r=\"3\"/>\n",
       "<circle clip-path=\"url(#clip5602)\" style=\"fill:#000000; stroke:none; fill-opacity:0.5\" cx=\"436.595\" cy=\"117.78\" r=\"4\"/>\n",
       "<circle clip-path=\"url(#clip5602)\" style=\"fill:#009af9; stroke:none; fill-opacity:0.5\" cx=\"436.595\" cy=\"117.78\" r=\"3\"/>\n",
       "<circle clip-path=\"url(#clip5602)\" style=\"fill:#000000; stroke:none; fill-opacity:0.5\" cx=\"392.581\" cy=\"76.8165\" r=\"4\"/>\n",
       "<circle clip-path=\"url(#clip5602)\" style=\"fill:#009af9; stroke:none; fill-opacity:0.5\" cx=\"392.581\" cy=\"76.8165\" r=\"3\"/>\n",
       "<circle clip-path=\"url(#clip5602)\" style=\"fill:#000000; stroke:none; fill-opacity:0.5\" cx=\"426.849\" cy=\"165.476\" r=\"4\"/>\n",
       "<circle clip-path=\"url(#clip5602)\" style=\"fill:#009af9; stroke:none; fill-opacity:0.5\" cx=\"426.849\" cy=\"165.476\" r=\"3\"/>\n",
       "<circle clip-path=\"url(#clip5602)\" style=\"fill:#000000; stroke:none; fill-opacity:0.5\" cx=\"316.683\" cy=\"282.619\" r=\"4\"/>\n",
       "<circle clip-path=\"url(#clip5602)\" style=\"fill:#009af9; stroke:none; fill-opacity:0.5\" cx=\"316.683\" cy=\"282.619\" r=\"3\"/>\n",
       "<circle clip-path=\"url(#clip5602)\" style=\"fill:#000000; stroke:none; fill-opacity:0.5\" cx=\"471.098\" cy=\"163.885\" r=\"4\"/>\n",
       "<circle clip-path=\"url(#clip5602)\" style=\"fill:#009af9; stroke:none; fill-opacity:0.5\" cx=\"471.098\" cy=\"163.885\" r=\"3\"/>\n",
       "<circle clip-path=\"url(#clip5602)\" style=\"fill:#000000; stroke:none; fill-opacity:0.5\" cx=\"453.642\" cy=\"136.583\" r=\"4\"/>\n",
       "<circle clip-path=\"url(#clip5602)\" style=\"fill:#009af9; stroke:none; fill-opacity:0.5\" cx=\"453.642\" cy=\"136.583\" r=\"3\"/>\n",
       "<circle clip-path=\"url(#clip5602)\" style=\"fill:#000000; stroke:none; fill-opacity:0.5\" cx=\"395.687\" cy=\"98.9972\" r=\"4\"/>\n",
       "<circle clip-path=\"url(#clip5602)\" style=\"fill:#009af9; stroke:none; fill-opacity:0.5\" cx=\"395.687\" cy=\"98.9972\" r=\"3\"/>\n",
       "<circle clip-path=\"url(#clip5602)\" style=\"fill:#000000; stroke:none; fill-opacity:0.5\" cx=\"424.352\" cy=\"106.895\" r=\"4\"/>\n",
       "<circle clip-path=\"url(#clip5602)\" style=\"fill:#009af9; stroke:none; fill-opacity:0.5\" cx=\"424.352\" cy=\"106.895\" r=\"3\"/>\n",
       "<circle clip-path=\"url(#clip5602)\" style=\"fill:#000000; stroke:none; fill-opacity:0.5\" cx=\"403.789\" cy=\"68.5889\" r=\"4\"/>\n",
       "<circle clip-path=\"url(#clip5602)\" style=\"fill:#009af9; stroke:none; fill-opacity:0.5\" cx=\"403.789\" cy=\"68.5889\" r=\"3\"/>\n",
       "<circle clip-path=\"url(#clip5602)\" style=\"fill:#000000; stroke:none; fill-opacity:0.5\" cx=\"477.496\" cy=\"235.969\" r=\"4\"/>\n",
       "<circle clip-path=\"url(#clip5602)\" style=\"fill:#009af9; stroke:none; fill-opacity:0.5\" cx=\"477.496\" cy=\"235.969\" r=\"3\"/>\n",
       "<circle clip-path=\"url(#clip5602)\" style=\"fill:#000000; stroke:none; fill-opacity:0.5\" cx=\"488.275\" cy=\"341.992\" r=\"4\"/>\n",
       "<circle clip-path=\"url(#clip5602)\" style=\"fill:#009af9; stroke:none; fill-opacity:0.5\" cx=\"488.275\" cy=\"341.992\" r=\"3\"/>\n",
       "<circle clip-path=\"url(#clip5602)\" style=\"fill:#000000; stroke:none; fill-opacity:0.5\" cx=\"179.301\" cy=\"294.319\" r=\"4\"/>\n",
       "<circle clip-path=\"url(#clip5602)\" style=\"fill:#009af9; stroke:none; fill-opacity:0.5\" cx=\"179.301\" cy=\"294.319\" r=\"3\"/>\n",
       "<circle clip-path=\"url(#clip5602)\" style=\"fill:#000000; stroke:none; fill-opacity:0.5\" cx=\"387.298\" cy=\"332.778\" r=\"4\"/>\n",
       "<circle clip-path=\"url(#clip5602)\" style=\"fill:#009af9; stroke:none; fill-opacity:0.5\" cx=\"387.298\" cy=\"332.778\" r=\"3\"/>\n",
       "<circle clip-path=\"url(#clip5602)\" style=\"fill:#000000; stroke:none; fill-opacity:0.5\" cx=\"183.644\" cy=\"151.925\" r=\"4\"/>\n",
       "<circle clip-path=\"url(#clip5602)\" style=\"fill:#009af9; stroke:none; fill-opacity:0.5\" cx=\"183.644\" cy=\"151.925\" r=\"3\"/>\n",
       "<circle clip-path=\"url(#clip5602)\" style=\"fill:#000000; stroke:none; fill-opacity:0.5\" cx=\"143.906\" cy=\"141.102\" r=\"4\"/>\n",
       "<circle clip-path=\"url(#clip5602)\" style=\"fill:#009af9; stroke:none; fill-opacity:0.5\" cx=\"143.906\" cy=\"141.102\" r=\"3\"/>\n",
       "<circle clip-path=\"url(#clip5602)\" style=\"fill:#000000; stroke:none; fill-opacity:0.5\" cx=\"280.238\" cy=\"17.3108\" r=\"4\"/>\n",
       "<circle clip-path=\"url(#clip5602)\" style=\"fill:#009af9; stroke:none; fill-opacity:0.5\" cx=\"280.238\" cy=\"17.3108\" r=\"3\"/>\n",
       "<circle clip-path=\"url(#clip5602)\" style=\"fill:#000000; stroke:none; fill-opacity:0.5\" cx=\"458.726\" cy=\"23.1706\" r=\"4\"/>\n",
       "<circle clip-path=\"url(#clip5602)\" style=\"fill:#009af9; stroke:none; fill-opacity:0.5\" cx=\"458.726\" cy=\"23.1706\" r=\"3\"/>\n",
       "<circle clip-path=\"url(#clip5602)\" style=\"fill:#000000; stroke:none; fill-opacity:0.5\" cx=\"467.773\" cy=\"334.907\" r=\"4\"/>\n",
       "<circle clip-path=\"url(#clip5602)\" style=\"fill:#009af9; stroke:none; fill-opacity:0.5\" cx=\"467.773\" cy=\"334.907\" r=\"3\"/>\n",
       "<circle clip-path=\"url(#clip5602)\" style=\"fill:#000000; stroke:none; fill-opacity:0.5\" cx=\"335.915\" cy=\"353.371\" r=\"4\"/>\n",
       "<circle clip-path=\"url(#clip5602)\" style=\"fill:#009af9; stroke:none; fill-opacity:0.5\" cx=\"335.915\" cy=\"353.371\" r=\"3\"/>\n",
       "<circle clip-path=\"url(#clip5602)\" style=\"fill:#000000; stroke:none; fill-opacity:0.5\" cx=\"167.274\" cy=\"127.889\" r=\"4\"/>\n",
       "<circle clip-path=\"url(#clip5602)\" style=\"fill:#009af9; stroke:none; fill-opacity:0.5\" cx=\"167.274\" cy=\"127.889\" r=\"3\"/>\n",
       "<circle clip-path=\"url(#clip5602)\" style=\"fill:#000000; stroke:none; fill-opacity:0.5\" cx=\"334.395\" cy=\"120.932\" r=\"4\"/>\n",
       "<circle clip-path=\"url(#clip5602)\" style=\"fill:#009af9; stroke:none; fill-opacity:0.5\" cx=\"334.395\" cy=\"120.932\" r=\"3\"/>\n",
       "<circle clip-path=\"url(#clip5602)\" style=\"fill:#000000; stroke:none; fill-opacity:0.5\" cx=\"266.424\" cy=\"339.273\" r=\"4\"/>\n",
       "<circle clip-path=\"url(#clip5602)\" style=\"fill:#009af9; stroke:none; fill-opacity:0.5\" cx=\"266.424\" cy=\"339.273\" r=\"3\"/>\n",
       "<circle clip-path=\"url(#clip5602)\" style=\"fill:#000000; stroke:none; fill-opacity:0.5\" cx=\"158.87\" cy=\"303.408\" r=\"4\"/>\n",
       "<circle clip-path=\"url(#clip5602)\" style=\"fill:#009af9; stroke:none; fill-opacity:0.5\" cx=\"158.87\" cy=\"303.408\" r=\"3\"/>\n",
       "<circle clip-path=\"url(#clip5602)\" style=\"fill:#000000; stroke:none; fill-opacity:0.5\" cx=\"218.526\" cy=\"184.424\" r=\"4\"/>\n",
       "<circle clip-path=\"url(#clip5602)\" style=\"fill:#009af9; stroke:none; fill-opacity:0.5\" cx=\"218.526\" cy=\"184.424\" r=\"3\"/>\n",
       "<circle clip-path=\"url(#clip5602)\" style=\"fill:#000000; stroke:none; fill-opacity:0.5\" cx=\"157.361\" cy=\"210.336\" r=\"4\"/>\n",
       "<circle clip-path=\"url(#clip5602)\" style=\"fill:#009af9; stroke:none; fill-opacity:0.5\" cx=\"157.361\" cy=\"210.336\" r=\"3\"/>\n",
       "<circle clip-path=\"url(#clip5602)\" style=\"fill:#000000; stroke:none; fill-opacity:0.5\" cx=\"329.98\" cy=\"343.001\" r=\"4\"/>\n",
       "<circle clip-path=\"url(#clip5602)\" style=\"fill:#009af9; stroke:none; fill-opacity:0.5\" cx=\"329.98\" cy=\"343.001\" r=\"3\"/>\n",
       "<circle clip-path=\"url(#clip5602)\" style=\"fill:#000000; stroke:none; fill-opacity:0.5\" cx=\"281.307\" cy=\"99.0952\" r=\"4\"/>\n",
       "<circle clip-path=\"url(#clip5602)\" style=\"fill:#009af9; stroke:none; fill-opacity:0.5\" cx=\"281.307\" cy=\"99.0952\" r=\"3\"/>\n",
       "<circle clip-path=\"url(#clip5602)\" style=\"fill:#000000; stroke:none; fill-opacity:0.5\" cx=\"349.699\" cy=\"357.063\" r=\"4\"/>\n",
       "<circle clip-path=\"url(#clip5602)\" style=\"fill:#009af9; stroke:none; fill-opacity:0.5\" cx=\"349.699\" cy=\"357.063\" r=\"3\"/>\n",
       "<circle clip-path=\"url(#clip5602)\" style=\"fill:#000000; stroke:none; fill-opacity:0.5\" cx=\"454.835\" cy=\"213.061\" r=\"4\"/>\n",
       "<circle clip-path=\"url(#clip5602)\" style=\"fill:#009af9; stroke:none; fill-opacity:0.5\" cx=\"454.835\" cy=\"213.061\" r=\"3\"/>\n",
       "<circle clip-path=\"url(#clip5602)\" style=\"fill:#000000; stroke:none; fill-opacity:0.5\" cx=\"485.318\" cy=\"121.328\" r=\"4\"/>\n",
       "<circle clip-path=\"url(#clip5602)\" style=\"fill:#009af9; stroke:none; fill-opacity:0.5\" cx=\"485.318\" cy=\"121.328\" r=\"3\"/>\n",
       "<circle clip-path=\"url(#clip5602)\" style=\"fill:#000000; stroke:none; fill-opacity:0.5\" cx=\"329.915\" cy=\"126.395\" r=\"4\"/>\n",
       "<circle clip-path=\"url(#clip5602)\" style=\"fill:#009af9; stroke:none; fill-opacity:0.5\" cx=\"329.915\" cy=\"126.395\" r=\"3\"/>\n",
       "<circle clip-path=\"url(#clip5602)\" style=\"fill:#000000; stroke:none; fill-opacity:0.5\" cx=\"343.814\" cy=\"134.524\" r=\"4\"/>\n",
       "<circle clip-path=\"url(#clip5602)\" style=\"fill:#009af9; stroke:none; fill-opacity:0.5\" cx=\"343.814\" cy=\"134.524\" r=\"3\"/>\n",
       "<circle clip-path=\"url(#clip5602)\" style=\"fill:#000000; stroke:none; fill-opacity:0.5\" cx=\"149.754\" cy=\"143.406\" r=\"4\"/>\n",
       "<circle clip-path=\"url(#clip5602)\" style=\"fill:#009af9; stroke:none; fill-opacity:0.5\" cx=\"149.754\" cy=\"143.406\" r=\"3\"/>\n",
       "<circle clip-path=\"url(#clip5602)\" style=\"fill:#000000; stroke:none; fill-opacity:0.5\" cx=\"216.489\" cy=\"304.375\" r=\"4\"/>\n",
       "<circle clip-path=\"url(#clip5602)\" style=\"fill:#009af9; stroke:none; fill-opacity:0.5\" cx=\"216.489\" cy=\"304.375\" r=\"3\"/>\n",
       "<circle clip-path=\"url(#clip5602)\" style=\"fill:#000000; stroke:none; fill-opacity:0.5\" cx=\"426.731\" cy=\"70.2059\" r=\"4\"/>\n",
       "<circle clip-path=\"url(#clip5602)\" style=\"fill:#009af9; stroke:none; fill-opacity:0.5\" cx=\"426.731\" cy=\"70.2059\" r=\"3\"/>\n",
       "<circle clip-path=\"url(#clip5602)\" style=\"fill:#000000; stroke:none; fill-opacity:0.5\" cx=\"205.548\" cy=\"312.158\" r=\"4\"/>\n",
       "<circle clip-path=\"url(#clip5602)\" style=\"fill:#009af9; stroke:none; fill-opacity:0.5\" cx=\"205.548\" cy=\"312.158\" r=\"3\"/>\n",
       "<circle clip-path=\"url(#clip5602)\" style=\"fill:#000000; stroke:none; fill-opacity:0.5\" cx=\"295.925\" cy=\"186.639\" r=\"4\"/>\n",
       "<circle clip-path=\"url(#clip5602)\" style=\"fill:#009af9; stroke:none; fill-opacity:0.5\" cx=\"295.925\" cy=\"186.639\" r=\"3\"/>\n",
       "<circle clip-path=\"url(#clip5602)\" style=\"fill:#000000; stroke:none; fill-opacity:0.5\" cx=\"153.86\" cy=\"147.476\" r=\"4\"/>\n",
       "<circle clip-path=\"url(#clip5602)\" style=\"fill:#009af9; stroke:none; fill-opacity:0.5\" cx=\"153.86\" cy=\"147.476\" r=\"3\"/>\n",
       "<circle clip-path=\"url(#clip5602)\" style=\"fill:#000000; stroke:none; fill-opacity:0.5\" cx=\"246.442\" cy=\"245.924\" r=\"4\"/>\n",
       "<circle clip-path=\"url(#clip5602)\" style=\"fill:#009af9; stroke:none; fill-opacity:0.5\" cx=\"246.442\" cy=\"245.924\" r=\"3\"/>\n",
       "<circle clip-path=\"url(#clip5602)\" style=\"fill:#000000; stroke:none; fill-opacity:0.5\" cx=\"264.838\" cy=\"124.167\" r=\"4\"/>\n",
       "<circle clip-path=\"url(#clip5602)\" style=\"fill:#009af9; stroke:none; fill-opacity:0.5\" cx=\"264.838\" cy=\"124.167\" r=\"3\"/>\n",
       "<circle clip-path=\"url(#clip5602)\" style=\"fill:#000000; stroke:none; fill-opacity:0.5\" cx=\"361.342\" cy=\"233.819\" r=\"4\"/>\n",
       "<circle clip-path=\"url(#clip5602)\" style=\"fill:#009af9; stroke:none; fill-opacity:0.5\" cx=\"361.342\" cy=\"233.819\" r=\"3\"/>\n",
       "<circle clip-path=\"url(#clip5602)\" style=\"fill:#000000; stroke:none; fill-opacity:0.5\" cx=\"426.735\" cy=\"130.959\" r=\"4\"/>\n",
       "<circle clip-path=\"url(#clip5602)\" style=\"fill:#009af9; stroke:none; fill-opacity:0.5\" cx=\"426.735\" cy=\"130.959\" r=\"3\"/>\n",
       "<circle clip-path=\"url(#clip5602)\" style=\"fill:#000000; stroke:none; fill-opacity:0.5\" cx=\"317.208\" cy=\"15.8568\" r=\"4\"/>\n",
       "<circle clip-path=\"url(#clip5602)\" style=\"fill:#009af9; stroke:none; fill-opacity:0.5\" cx=\"317.208\" cy=\"15.8568\" r=\"3\"/>\n",
       "<circle clip-path=\"url(#clip5602)\" style=\"fill:#000000; stroke:none; fill-opacity:0.5\" cx=\"346.118\" cy=\"220.255\" r=\"4\"/>\n",
       "<circle clip-path=\"url(#clip5602)\" style=\"fill:#009af9; stroke:none; fill-opacity:0.5\" cx=\"346.118\" cy=\"220.255\" r=\"3\"/>\n",
       "<circle clip-path=\"url(#clip5602)\" style=\"fill:#000000; stroke:none; fill-opacity:0.5\" cx=\"277.011\" cy=\"103.712\" r=\"4\"/>\n",
       "<circle clip-path=\"url(#clip5602)\" style=\"fill:#009af9; stroke:none; fill-opacity:0.5\" cx=\"277.011\" cy=\"103.712\" r=\"3\"/>\n",
       "<circle clip-path=\"url(#clip5602)\" style=\"fill:#000000; stroke:none; fill-opacity:0.5\" cx=\"401.161\" cy=\"30.5914\" r=\"4\"/>\n",
       "<circle clip-path=\"url(#clip5602)\" style=\"fill:#009af9; stroke:none; fill-opacity:0.5\" cx=\"401.161\" cy=\"30.5914\" r=\"3\"/>\n",
       "<circle clip-path=\"url(#clip5602)\" style=\"fill:#000000; stroke:none; fill-opacity:0.5\" cx=\"384.636\" cy=\"127.073\" r=\"4\"/>\n",
       "<circle clip-path=\"url(#clip5602)\" style=\"fill:#009af9; stroke:none; fill-opacity:0.5\" cx=\"384.636\" cy=\"127.073\" r=\"3\"/>\n",
       "<circle clip-path=\"url(#clip5602)\" style=\"fill:#000000; stroke:none; fill-opacity:0.5\" cx=\"418.857\" cy=\"148.841\" r=\"4\"/>\n",
       "<circle clip-path=\"url(#clip5602)\" style=\"fill:#009af9; stroke:none; fill-opacity:0.5\" cx=\"418.857\" cy=\"148.841\" r=\"3\"/>\n",
       "<circle clip-path=\"url(#clip5602)\" style=\"fill:#000000; stroke:none; fill-opacity:0.5\" cx=\"369.114\" cy=\"363.707\" r=\"4\"/>\n",
       "<circle clip-path=\"url(#clip5602)\" style=\"fill:#009af9; stroke:none; fill-opacity:0.5\" cx=\"369.114\" cy=\"363.707\" r=\"3\"/>\n",
       "<circle clip-path=\"url(#clip5602)\" style=\"fill:#000000; stroke:none; fill-opacity:0.5\" cx=\"171.274\" cy=\"355.536\" r=\"4\"/>\n",
       "<circle clip-path=\"url(#clip5602)\" style=\"fill:#009af9; stroke:none; fill-opacity:0.5\" cx=\"171.274\" cy=\"355.536\" r=\"3\"/>\n",
       "<circle clip-path=\"url(#clip5602)\" style=\"fill:#000000; stroke:none; fill-opacity:0.5\" cx=\"268.569\" cy=\"86.138\" r=\"4\"/>\n",
       "<circle clip-path=\"url(#clip5602)\" style=\"fill:#009af9; stroke:none; fill-opacity:0.5\" cx=\"268.569\" cy=\"86.138\" r=\"3\"/>\n",
       "<circle clip-path=\"url(#clip5602)\" style=\"fill:#000000; stroke:none; fill-opacity:0.5\" cx=\"469.068\" cy=\"263.903\" r=\"4\"/>\n",
       "<circle clip-path=\"url(#clip5602)\" style=\"fill:#009af9; stroke:none; fill-opacity:0.5\" cx=\"469.068\" cy=\"263.903\" r=\"3\"/>\n",
       "<circle clip-path=\"url(#clip5602)\" style=\"fill:#000000; stroke:none; fill-opacity:0.5\" cx=\"203.861\" cy=\"193.741\" r=\"4\"/>\n",
       "<circle clip-path=\"url(#clip5602)\" style=\"fill:#009af9; stroke:none; fill-opacity:0.5\" cx=\"203.861\" cy=\"193.741\" r=\"3\"/>\n",
       "<circle clip-path=\"url(#clip5602)\" style=\"fill:#000000; stroke:none; fill-opacity:0.5\" cx=\"486.871\" cy=\"81.7735\" r=\"4\"/>\n",
       "<circle clip-path=\"url(#clip5602)\" style=\"fill:#009af9; stroke:none; fill-opacity:0.5\" cx=\"486.871\" cy=\"81.7735\" r=\"3\"/>\n",
       "<circle clip-path=\"url(#clip5602)\" style=\"fill:#000000; stroke:none; fill-opacity:0.5\" cx=\"153.708\" cy=\"159.341\" r=\"4\"/>\n",
       "<circle clip-path=\"url(#clip5602)\" style=\"fill:#009af9; stroke:none; fill-opacity:0.5\" cx=\"153.708\" cy=\"159.341\" r=\"3\"/>\n",
       "<circle clip-path=\"url(#clip5602)\" style=\"fill:#000000; stroke:none; fill-opacity:0.5\" cx=\"440.988\" cy=\"312.763\" r=\"4\"/>\n",
       "<circle clip-path=\"url(#clip5602)\" style=\"fill:#009af9; stroke:none; fill-opacity:0.5\" cx=\"440.988\" cy=\"312.763\" r=\"3\"/>\n",
       "<circle clip-path=\"url(#clip5602)\" style=\"fill:#000000; stroke:none; fill-opacity:0.5\" cx=\"254.899\" cy=\"324.536\" r=\"4\"/>\n",
       "<circle clip-path=\"url(#clip5602)\" style=\"fill:#009af9; stroke:none; fill-opacity:0.5\" cx=\"254.899\" cy=\"324.536\" r=\"3\"/>\n",
       "<circle clip-path=\"url(#clip5602)\" style=\"fill:#000000; stroke:none; fill-opacity:0.5\" cx=\"464.621\" cy=\"202.453\" r=\"4\"/>\n",
       "<circle clip-path=\"url(#clip5602)\" style=\"fill:#009af9; stroke:none; fill-opacity:0.5\" cx=\"464.621\" cy=\"202.453\" r=\"3\"/>\n",
       "<circle clip-path=\"url(#clip5602)\" style=\"fill:#000000; stroke:none; fill-opacity:0.5\" cx=\"390.01\" cy=\"41.8207\" r=\"4\"/>\n",
       "<circle clip-path=\"url(#clip5602)\" style=\"fill:#009af9; stroke:none; fill-opacity:0.5\" cx=\"390.01\" cy=\"41.8207\" r=\"3\"/>\n",
       "<circle clip-path=\"url(#clip5602)\" style=\"fill:#000000; stroke:none; fill-opacity:0.5\" cx=\"466.523\" cy=\"93.6513\" r=\"4\"/>\n",
       "<circle clip-path=\"url(#clip5602)\" style=\"fill:#009af9; stroke:none; fill-opacity:0.5\" cx=\"466.523\" cy=\"93.6513\" r=\"3\"/>\n",
       "<circle clip-path=\"url(#clip5602)\" style=\"fill:#000000; stroke:none; fill-opacity:0.5\" cx=\"484.35\" cy=\"41.8166\" r=\"4\"/>\n",
       "<circle clip-path=\"url(#clip5602)\" style=\"fill:#009af9; stroke:none; fill-opacity:0.5\" cx=\"484.35\" cy=\"41.8166\" r=\"3\"/>\n",
       "<circle clip-path=\"url(#clip5602)\" style=\"fill:#000000; stroke:none; fill-opacity:0.5\" cx=\"147.658\" cy=\"289.022\" r=\"4\"/>\n",
       "<circle clip-path=\"url(#clip5602)\" style=\"fill:#009af9; stroke:none; fill-opacity:0.5\" cx=\"147.658\" cy=\"289.022\" r=\"3\"/>\n",
       "<circle clip-path=\"url(#clip5602)\" style=\"fill:#000000; stroke:none; fill-opacity:0.5\" cx=\"374.711\" cy=\"302.171\" r=\"4\"/>\n",
       "<circle clip-path=\"url(#clip5602)\" style=\"fill:#009af9; stroke:none; fill-opacity:0.5\" cx=\"374.711\" cy=\"302.171\" r=\"3\"/>\n",
       "<circle clip-path=\"url(#clip5602)\" style=\"fill:#000000; stroke:none; fill-opacity:0.5\" cx=\"365.9\" cy=\"14.8855\" r=\"4\"/>\n",
       "<circle clip-path=\"url(#clip5602)\" style=\"fill:#009af9; stroke:none; fill-opacity:0.5\" cx=\"365.9\" cy=\"14.8855\" r=\"3\"/>\n",
       "<circle clip-path=\"url(#clip5602)\" style=\"fill:#000000; stroke:none; fill-opacity:0.5\" cx=\"332.297\" cy=\"287.9\" r=\"4\"/>\n",
       "<circle clip-path=\"url(#clip5602)\" style=\"fill:#009af9; stroke:none; fill-opacity:0.5\" cx=\"332.297\" cy=\"287.9\" r=\"3\"/>\n",
       "<circle clip-path=\"url(#clip5602)\" style=\"fill:#000000; stroke:none; fill-opacity:0.5\" cx=\"377.891\" cy=\"69.0798\" r=\"4\"/>\n",
       "<circle clip-path=\"url(#clip5602)\" style=\"fill:#009af9; stroke:none; fill-opacity:0.5\" cx=\"377.891\" cy=\"69.0798\" r=\"3\"/>\n",
       "<circle clip-path=\"url(#clip5602)\" style=\"fill:#000000; stroke:none; fill-opacity:0.5\" cx=\"388.126\" cy=\"146.008\" r=\"4\"/>\n",
       "<circle clip-path=\"url(#clip5602)\" style=\"fill:#009af9; stroke:none; fill-opacity:0.5\" cx=\"388.126\" cy=\"146.008\" r=\"3\"/>\n",
       "<circle clip-path=\"url(#clip5602)\" style=\"fill:#000000; stroke:none; fill-opacity:0.5\" cx=\"303.908\" cy=\"350.741\" r=\"4\"/>\n",
       "<circle clip-path=\"url(#clip5602)\" style=\"fill:#009af9; stroke:none; fill-opacity:0.5\" cx=\"303.908\" cy=\"350.741\" r=\"3\"/>\n",
       "<circle clip-path=\"url(#clip5602)\" style=\"fill:#000000; stroke:none; fill-opacity:0.5\" cx=\"388.313\" cy=\"351.399\" r=\"4\"/>\n",
       "<circle clip-path=\"url(#clip5602)\" style=\"fill:#009af9; stroke:none; fill-opacity:0.5\" cx=\"388.313\" cy=\"351.399\" r=\"3\"/>\n",
       "<circle clip-path=\"url(#clip5602)\" style=\"fill:#000000; stroke:none; fill-opacity:0.5\" cx=\"421.286\" cy=\"14.8438\" r=\"4\"/>\n",
       "<circle clip-path=\"url(#clip5602)\" style=\"fill:#009af9; stroke:none; fill-opacity:0.5\" cx=\"421.286\" cy=\"14.8438\" r=\"3\"/>\n",
       "<circle clip-path=\"url(#clip5602)\" style=\"fill:#000000; stroke:none; fill-opacity:0.5\" cx=\"218.646\" cy=\"210.137\" r=\"4\"/>\n",
       "<circle clip-path=\"url(#clip5602)\" style=\"fill:#009af9; stroke:none; fill-opacity:0.5\" cx=\"218.646\" cy=\"210.137\" r=\"3\"/>\n",
       "<circle clip-path=\"url(#clip5602)\" style=\"fill:#000000; stroke:none; fill-opacity:0.5\" cx=\"446.437\" cy=\"258.563\" r=\"4\"/>\n",
       "<circle clip-path=\"url(#clip5602)\" style=\"fill:#009af9; stroke:none; fill-opacity:0.5\" cx=\"446.437\" cy=\"258.563\" r=\"3\"/>\n",
       "<circle clip-path=\"url(#clip5602)\" style=\"fill:#000000; stroke:none; fill-opacity:0.5\" cx=\"153.989\" cy=\"281.334\" r=\"4\"/>\n",
       "<circle clip-path=\"url(#clip5602)\" style=\"fill:#009af9; stroke:none; fill-opacity:0.5\" cx=\"153.989\" cy=\"281.334\" r=\"3\"/>\n",
       "<circle clip-path=\"url(#clip5602)\" style=\"fill:#000000; stroke:none; fill-opacity:0.5\" cx=\"235.234\" cy=\"314.692\" r=\"4\"/>\n",
       "<circle clip-path=\"url(#clip5602)\" style=\"fill:#009af9; stroke:none; fill-opacity:0.5\" cx=\"235.234\" cy=\"314.692\" r=\"3\"/>\n",
       "<circle clip-path=\"url(#clip5602)\" style=\"fill:#000000; stroke:none; fill-opacity:0.5\" cx=\"480.742\" cy=\"214.899\" r=\"4\"/>\n",
       "<circle clip-path=\"url(#clip5602)\" style=\"fill:#009af9; stroke:none; fill-opacity:0.5\" cx=\"480.742\" cy=\"214.899\" r=\"3\"/>\n",
       "<circle clip-path=\"url(#clip5602)\" style=\"fill:#000000; stroke:none; fill-opacity:0.5\" cx=\"401.086\" cy=\"53.4829\" r=\"4\"/>\n",
       "<circle clip-path=\"url(#clip5602)\" style=\"fill:#009af9; stroke:none; fill-opacity:0.5\" cx=\"401.086\" cy=\"53.4829\" r=\"3\"/>\n",
       "<circle clip-path=\"url(#clip5602)\" style=\"fill:#000000; stroke:none; fill-opacity:0.5\" cx=\"144.434\" cy=\"24.2716\" r=\"4\"/>\n",
       "<circle clip-path=\"url(#clip5602)\" style=\"fill:#009af9; stroke:none; fill-opacity:0.5\" cx=\"144.434\" cy=\"24.2716\" r=\"3\"/>\n",
       "<circle clip-path=\"url(#clip5602)\" style=\"fill:#000000; stroke:none; fill-opacity:0.5\" cx=\"283.104\" cy=\"83.9295\" r=\"4\"/>\n",
       "<circle clip-path=\"url(#clip5602)\" style=\"fill:#009af9; stroke:none; fill-opacity:0.5\" cx=\"283.104\" cy=\"83.9295\" r=\"3\"/>\n",
       "<circle clip-path=\"url(#clip5602)\" style=\"fill:#000000; stroke:none; fill-opacity:0.5\" cx=\"459.466\" cy=\"260.466\" r=\"4\"/>\n",
       "<circle clip-path=\"url(#clip5602)\" style=\"fill:#009af9; stroke:none; fill-opacity:0.5\" cx=\"459.466\" cy=\"260.466\" r=\"3\"/>\n",
       "<circle clip-path=\"url(#clip5602)\" style=\"fill:#000000; stroke:none; fill-opacity:0.5\" cx=\"214.988\" cy=\"111.016\" r=\"4\"/>\n",
       "<circle clip-path=\"url(#clip5602)\" style=\"fill:#009af9; stroke:none; fill-opacity:0.5\" cx=\"214.988\" cy=\"111.016\" r=\"3\"/>\n",
       "<circle clip-path=\"url(#clip5602)\" style=\"fill:#000000; stroke:none; fill-opacity:0.5\" cx=\"253.475\" cy=\"332.805\" r=\"4\"/>\n",
       "<circle clip-path=\"url(#clip5602)\" style=\"fill:#009af9; stroke:none; fill-opacity:0.5\" cx=\"253.475\" cy=\"332.805\" r=\"3\"/>\n",
       "<circle clip-path=\"url(#clip5602)\" style=\"fill:#000000; stroke:none; fill-opacity:0.5\" cx=\"459.464\" cy=\"243.841\" r=\"4\"/>\n",
       "<circle clip-path=\"url(#clip5602)\" style=\"fill:#009af9; stroke:none; fill-opacity:0.5\" cx=\"459.464\" cy=\"243.841\" r=\"3\"/>\n",
       "<circle clip-path=\"url(#clip5602)\" style=\"fill:#000000; stroke:none; fill-opacity:0.5\" cx=\"390.857\" cy=\"223.098\" r=\"4\"/>\n",
       "<circle clip-path=\"url(#clip5602)\" style=\"fill:#009af9; stroke:none; fill-opacity:0.5\" cx=\"390.857\" cy=\"223.098\" r=\"3\"/>\n",
       "<circle clip-path=\"url(#clip5602)\" style=\"fill:#000000; stroke:none; fill-opacity:0.5\" cx=\"262.091\" cy=\"151.125\" r=\"4\"/>\n",
       "<circle clip-path=\"url(#clip5602)\" style=\"fill:#009af9; stroke:none; fill-opacity:0.5\" cx=\"262.091\" cy=\"151.125\" r=\"3\"/>\n",
       "<circle clip-path=\"url(#clip5602)\" style=\"fill:#000000; stroke:none; fill-opacity:0.5\" cx=\"473.556\" cy=\"284.71\" r=\"4\"/>\n",
       "<circle clip-path=\"url(#clip5602)\" style=\"fill:#009af9; stroke:none; fill-opacity:0.5\" cx=\"473.556\" cy=\"284.71\" r=\"3\"/>\n",
       "<circle clip-path=\"url(#clip5602)\" style=\"fill:#000000; stroke:none; fill-opacity:0.5\" cx=\"284.961\" cy=\"202.219\" r=\"4\"/>\n",
       "<circle clip-path=\"url(#clip5602)\" style=\"fill:#009af9; stroke:none; fill-opacity:0.5\" cx=\"284.961\" cy=\"202.219\" r=\"3\"/>\n",
       "<circle clip-path=\"url(#clip5602)\" style=\"fill:#000000; stroke:none; fill-opacity:0.5\" cx=\"289.866\" cy=\"368.197\" r=\"4\"/>\n",
       "<circle clip-path=\"url(#clip5602)\" style=\"fill:#009af9; stroke:none; fill-opacity:0.5\" cx=\"289.866\" cy=\"368.197\" r=\"3\"/>\n",
       "<circle clip-path=\"url(#clip5602)\" style=\"fill:#000000; stroke:none; fill-opacity:0.5\" cx=\"474.718\" cy=\"179.359\" r=\"4\"/>\n",
       "<circle clip-path=\"url(#clip5602)\" style=\"fill:#009af9; stroke:none; fill-opacity:0.5\" cx=\"474.718\" cy=\"179.359\" r=\"3\"/>\n",
       "<circle clip-path=\"url(#clip5602)\" style=\"fill:#000000; stroke:none; fill-opacity:0.5\" cx=\"134.273\" cy=\"335.357\" r=\"4\"/>\n",
       "<circle clip-path=\"url(#clip5602)\" style=\"fill:#009af9; stroke:none; fill-opacity:0.5\" cx=\"134.273\" cy=\"335.357\" r=\"3\"/>\n",
       "<circle clip-path=\"url(#clip5602)\" style=\"fill:#000000; stroke:none; fill-opacity:0.5\" cx=\"181.549\" cy=\"126.705\" r=\"4\"/>\n",
       "<circle clip-path=\"url(#clip5602)\" style=\"fill:#009af9; stroke:none; fill-opacity:0.5\" cx=\"181.549\" cy=\"126.705\" r=\"3\"/>\n",
       "<circle clip-path=\"url(#clip5602)\" style=\"fill:#000000; stroke:none; fill-opacity:0.5\" cx=\"411.952\" cy=\"210.782\" r=\"4\"/>\n",
       "<circle clip-path=\"url(#clip5602)\" style=\"fill:#009af9; stroke:none; fill-opacity:0.5\" cx=\"411.952\" cy=\"210.782\" r=\"3\"/>\n",
       "<circle clip-path=\"url(#clip5602)\" style=\"fill:#000000; stroke:none; fill-opacity:0.5\" cx=\"294.555\" cy=\"311.297\" r=\"4\"/>\n",
       "<circle clip-path=\"url(#clip5602)\" style=\"fill:#009af9; stroke:none; fill-opacity:0.5\" cx=\"294.555\" cy=\"311.297\" r=\"3\"/>\n",
       "<circle clip-path=\"url(#clip5602)\" style=\"fill:#000000; stroke:none; fill-opacity:0.5\" cx=\"323.454\" cy=\"166.531\" r=\"4\"/>\n",
       "<circle clip-path=\"url(#clip5602)\" style=\"fill:#009af9; stroke:none; fill-opacity:0.5\" cx=\"323.454\" cy=\"166.531\" r=\"3\"/>\n",
       "<circle clip-path=\"url(#clip5602)\" style=\"fill:#000000; stroke:none; fill-opacity:0.5\" cx=\"343.619\" cy=\"81.7527\" r=\"4\"/>\n",
       "<circle clip-path=\"url(#clip5602)\" style=\"fill:#009af9; stroke:none; fill-opacity:0.5\" cx=\"343.619\" cy=\"81.7527\" r=\"3\"/>\n",
       "<circle clip-path=\"url(#clip5602)\" style=\"fill:#000000; stroke:none; fill-opacity:0.5\" cx=\"455.696\" cy=\"185.001\" r=\"4\"/>\n",
       "<circle clip-path=\"url(#clip5602)\" style=\"fill:#009af9; stroke:none; fill-opacity:0.5\" cx=\"455.696\" cy=\"185.001\" r=\"3\"/>\n",
       "<circle clip-path=\"url(#clip5602)\" style=\"fill:#000000; stroke:none; fill-opacity:0.5\" cx=\"422.277\" cy=\"172.848\" r=\"4\"/>\n",
       "<circle clip-path=\"url(#clip5602)\" style=\"fill:#009af9; stroke:none; fill-opacity:0.5\" cx=\"422.277\" cy=\"172.848\" r=\"3\"/>\n",
       "<circle clip-path=\"url(#clip5602)\" style=\"fill:#000000; stroke:none; fill-opacity:0.5\" cx=\"260.359\" cy=\"237.713\" r=\"4\"/>\n",
       "<circle clip-path=\"url(#clip5602)\" style=\"fill:#009af9; stroke:none; fill-opacity:0.5\" cx=\"260.359\" cy=\"237.713\" r=\"3\"/>\n",
       "<circle clip-path=\"url(#clip5602)\" style=\"fill:#000000; stroke:none; fill-opacity:0.5\" cx=\"409.506\" cy=\"128.792\" r=\"4\"/>\n",
       "<circle clip-path=\"url(#clip5602)\" style=\"fill:#009af9; stroke:none; fill-opacity:0.5\" cx=\"409.506\" cy=\"128.792\" r=\"3\"/>\n",
       "<circle clip-path=\"url(#clip5602)\" style=\"fill:#000000; stroke:none; fill-opacity:0.5\" cx=\"230.494\" cy=\"113.661\" r=\"4\"/>\n",
       "<circle clip-path=\"url(#clip5602)\" style=\"fill:#009af9; stroke:none; fill-opacity:0.5\" cx=\"230.494\" cy=\"113.661\" r=\"3\"/>\n",
       "<circle clip-path=\"url(#clip5602)\" style=\"fill:#000000; stroke:none; fill-opacity:0.5\" cx=\"470.644\" cy=\"359.321\" r=\"4\"/>\n",
       "<circle clip-path=\"url(#clip5602)\" style=\"fill:#009af9; stroke:none; fill-opacity:0.5\" cx=\"470.644\" cy=\"359.321\" r=\"3\"/>\n",
       "<circle clip-path=\"url(#clip5602)\" style=\"fill:#000000; stroke:none; fill-opacity:0.5\" cx=\"228.826\" cy=\"191.765\" r=\"4\"/>\n",
       "<circle clip-path=\"url(#clip5602)\" style=\"fill:#009af9; stroke:none; fill-opacity:0.5\" cx=\"228.826\" cy=\"191.765\" r=\"3\"/>\n",
       "<circle clip-path=\"url(#clip5602)\" style=\"fill:#000000; stroke:none; fill-opacity:0.5\" cx=\"401.71\" cy=\"240.857\" r=\"4\"/>\n",
       "<circle clip-path=\"url(#clip5602)\" style=\"fill:#009af9; stroke:none; fill-opacity:0.5\" cx=\"401.71\" cy=\"240.857\" r=\"3\"/>\n",
       "<circle clip-path=\"url(#clip5602)\" style=\"fill:#000000; stroke:none; fill-opacity:0.5\" cx=\"381.495\" cy=\"368.304\" r=\"4\"/>\n",
       "<circle clip-path=\"url(#clip5602)\" style=\"fill:#009af9; stroke:none; fill-opacity:0.5\" cx=\"381.495\" cy=\"368.304\" r=\"3\"/>\n",
       "<circle clip-path=\"url(#clip5602)\" style=\"fill:#000000; stroke:none; fill-opacity:0.5\" cx=\"427.951\" cy=\"58.7866\" r=\"4\"/>\n",
       "<circle clip-path=\"url(#clip5602)\" style=\"fill:#009af9; stroke:none; fill-opacity:0.5\" cx=\"427.951\" cy=\"58.7866\" r=\"3\"/>\n",
       "<circle clip-path=\"url(#clip5602)\" style=\"fill:#000000; stroke:none; fill-opacity:0.5\" cx=\"392.554\" cy=\"69.6376\" r=\"4\"/>\n",
       "<circle clip-path=\"url(#clip5602)\" style=\"fill:#009af9; stroke:none; fill-opacity:0.5\" cx=\"392.554\" cy=\"69.6376\" r=\"3\"/>\n",
       "<circle clip-path=\"url(#clip5602)\" style=\"fill:#000000; stroke:none; fill-opacity:0.5\" cx=\"363.107\" cy=\"319.233\" r=\"4\"/>\n",
       "<circle clip-path=\"url(#clip5602)\" style=\"fill:#009af9; stroke:none; fill-opacity:0.5\" cx=\"363.107\" cy=\"319.233\" r=\"3\"/>\n",
       "<circle clip-path=\"url(#clip5602)\" style=\"fill:#000000; stroke:none; fill-opacity:0.5\" cx=\"167.848\" cy=\"343.386\" r=\"4\"/>\n",
       "<circle clip-path=\"url(#clip5602)\" style=\"fill:#009af9; stroke:none; fill-opacity:0.5\" cx=\"167.848\" cy=\"343.386\" r=\"3\"/>\n",
       "<circle clip-path=\"url(#clip5602)\" style=\"fill:#000000; stroke:none; fill-opacity:0.5\" cx=\"170.034\" cy=\"229.877\" r=\"4\"/>\n",
       "<circle clip-path=\"url(#clip5602)\" style=\"fill:#009af9; stroke:none; fill-opacity:0.5\" cx=\"170.034\" cy=\"229.877\" r=\"3\"/>\n",
       "<circle clip-path=\"url(#clip5602)\" style=\"fill:#000000; stroke:none; fill-opacity:0.5\" cx=\"295.958\" cy=\"105.743\" r=\"4\"/>\n",
       "<circle clip-path=\"url(#clip5602)\" style=\"fill:#009af9; stroke:none; fill-opacity:0.5\" cx=\"295.958\" cy=\"105.743\" r=\"3\"/>\n",
       "<circle clip-path=\"url(#clip5602)\" style=\"fill:#000000; stroke:none; fill-opacity:0.5\" cx=\"151.722\" cy=\"283.598\" r=\"4\"/>\n",
       "<circle clip-path=\"url(#clip5602)\" style=\"fill:#009af9; stroke:none; fill-opacity:0.5\" cx=\"151.722\" cy=\"283.598\" r=\"3\"/>\n",
       "<circle clip-path=\"url(#clip5602)\" style=\"fill:#000000; stroke:none; fill-opacity:0.5\" cx=\"384.229\" cy=\"21.0605\" r=\"4\"/>\n",
       "<circle clip-path=\"url(#clip5602)\" style=\"fill:#009af9; stroke:none; fill-opacity:0.5\" cx=\"384.229\" cy=\"21.0605\" r=\"3\"/>\n",
       "<circle clip-path=\"url(#clip5602)\" style=\"fill:#000000; stroke:none; fill-opacity:0.5\" cx=\"193.856\" cy=\"105.497\" r=\"4\"/>\n",
       "<circle clip-path=\"url(#clip5602)\" style=\"fill:#009af9; stroke:none; fill-opacity:0.5\" cx=\"193.856\" cy=\"105.497\" r=\"3\"/>\n",
       "<circle clip-path=\"url(#clip5602)\" style=\"fill:#000000; stroke:none; fill-opacity:0.5\" cx=\"235.833\" cy=\"280.931\" r=\"4\"/>\n",
       "<circle clip-path=\"url(#clip5602)\" style=\"fill:#009af9; stroke:none; fill-opacity:0.5\" cx=\"235.833\" cy=\"280.931\" r=\"3\"/>\n",
       "<circle clip-path=\"url(#clip5602)\" style=\"fill:#000000; stroke:none; fill-opacity:0.5\" cx=\"331.19\" cy=\"71.3703\" r=\"4\"/>\n",
       "<circle clip-path=\"url(#clip5602)\" style=\"fill:#009af9; stroke:none; fill-opacity:0.5\" cx=\"331.19\" cy=\"71.3703\" r=\"3\"/>\n",
       "<circle clip-path=\"url(#clip5602)\" style=\"fill:#000000; stroke:none; fill-opacity:0.5\" cx=\"128.391\" cy=\"37.6859\" r=\"4\"/>\n",
       "<circle clip-path=\"url(#clip5602)\" style=\"fill:#009af9; stroke:none; fill-opacity:0.5\" cx=\"128.391\" cy=\"37.6859\" r=\"3\"/>\n",
       "<circle clip-path=\"url(#clip5602)\" style=\"fill:#000000; stroke:none; fill-opacity:0.5\" cx=\"319.738\" cy=\"314.73\" r=\"4\"/>\n",
       "<circle clip-path=\"url(#clip5602)\" style=\"fill:#009af9; stroke:none; fill-opacity:0.5\" cx=\"319.738\" cy=\"314.73\" r=\"3\"/>\n",
       "<circle clip-path=\"url(#clip5602)\" style=\"fill:#000000; stroke:none; fill-opacity:0.5\" cx=\"307.329\" cy=\"181.366\" r=\"4\"/>\n",
       "<circle clip-path=\"url(#clip5602)\" style=\"fill:#009af9; stroke:none; fill-opacity:0.5\" cx=\"307.329\" cy=\"181.366\" r=\"3\"/>\n",
       "<circle clip-path=\"url(#clip5602)\" style=\"fill:#000000; stroke:none; fill-opacity:0.5\" cx=\"433.743\" cy=\"95.2771\" r=\"4\"/>\n",
       "<circle clip-path=\"url(#clip5602)\" style=\"fill:#009af9; stroke:none; fill-opacity:0.5\" cx=\"433.743\" cy=\"95.2771\" r=\"3\"/>\n",
       "<circle clip-path=\"url(#clip5602)\" style=\"fill:#000000; stroke:none; fill-opacity:0.5\" cx=\"329.354\" cy=\"70.261\" r=\"4\"/>\n",
       "<circle clip-path=\"url(#clip5602)\" style=\"fill:#009af9; stroke:none; fill-opacity:0.5\" cx=\"329.354\" cy=\"70.261\" r=\"3\"/>\n",
       "<circle clip-path=\"url(#clip5602)\" style=\"fill:#000000; stroke:none; fill-opacity:0.5\" cx=\"321.613\" cy=\"69.3614\" r=\"4\"/>\n",
       "<circle clip-path=\"url(#clip5602)\" style=\"fill:#009af9; stroke:none; fill-opacity:0.5\" cx=\"321.613\" cy=\"69.3614\" r=\"3\"/>\n",
       "<circle clip-path=\"url(#clip5602)\" style=\"fill:#000000; stroke:none; fill-opacity:0.5\" cx=\"424.899\" cy=\"163.833\" r=\"4\"/>\n",
       "<circle clip-path=\"url(#clip5602)\" style=\"fill:#009af9; stroke:none; fill-opacity:0.5\" cx=\"424.899\" cy=\"163.833\" r=\"3\"/>\n",
       "<circle clip-path=\"url(#clip5602)\" style=\"fill:#000000; stroke:none; fill-opacity:0.5\" cx=\"165.325\" cy=\"288.711\" r=\"4\"/>\n",
       "<circle clip-path=\"url(#clip5602)\" style=\"fill:#009af9; stroke:none; fill-opacity:0.5\" cx=\"165.325\" cy=\"288.711\" r=\"3\"/>\n",
       "<circle clip-path=\"url(#clip5602)\" style=\"fill:#000000; stroke:none; fill-opacity:0.5\" cx=\"197.841\" cy=\"222.594\" r=\"4\"/>\n",
       "<circle clip-path=\"url(#clip5602)\" style=\"fill:#009af9; stroke:none; fill-opacity:0.5\" cx=\"197.841\" cy=\"222.594\" r=\"3\"/>\n",
       "<circle clip-path=\"url(#clip5602)\" style=\"fill:#000000; stroke:none; fill-opacity:0.5\" cx=\"387.892\" cy=\"357.569\" r=\"4\"/>\n",
       "<circle clip-path=\"url(#clip5602)\" style=\"fill:#009af9; stroke:none; fill-opacity:0.5\" cx=\"387.892\" cy=\"357.569\" r=\"3\"/>\n",
       "<circle clip-path=\"url(#clip5602)\" style=\"fill:#000000; stroke:none; fill-opacity:0.5\" cx=\"410.673\" cy=\"122.822\" r=\"4\"/>\n",
       "<circle clip-path=\"url(#clip5602)\" style=\"fill:#009af9; stroke:none; fill-opacity:0.5\" cx=\"410.673\" cy=\"122.822\" r=\"3\"/>\n",
       "<circle clip-path=\"url(#clip5602)\" style=\"fill:#000000; stroke:none; fill-opacity:0.5\" cx=\"461.86\" cy=\"358.405\" r=\"4\"/>\n",
       "<circle clip-path=\"url(#clip5602)\" style=\"fill:#009af9; stroke:none; fill-opacity:0.5\" cx=\"461.86\" cy=\"358.405\" r=\"3\"/>\n",
       "<circle clip-path=\"url(#clip5602)\" style=\"fill:#000000; stroke:none; fill-opacity:0.5\" cx=\"482.745\" cy=\"277.521\" r=\"4\"/>\n",
       "<circle clip-path=\"url(#clip5602)\" style=\"fill:#009af9; stroke:none; fill-opacity:0.5\" cx=\"482.745\" cy=\"277.521\" r=\"3\"/>\n",
       "<circle clip-path=\"url(#clip5602)\" style=\"fill:#000000; stroke:none; fill-opacity:0.5\" cx=\"298.557\" cy=\"64.1148\" r=\"4\"/>\n",
       "<circle clip-path=\"url(#clip5602)\" style=\"fill:#009af9; stroke:none; fill-opacity:0.5\" cx=\"298.557\" cy=\"64.1148\" r=\"3\"/>\n",
       "<circle clip-path=\"url(#clip5602)\" style=\"fill:#000000; stroke:none; fill-opacity:0.5\" cx=\"298.045\" cy=\"320.052\" r=\"4\"/>\n",
       "<circle clip-path=\"url(#clip5602)\" style=\"fill:#009af9; stroke:none; fill-opacity:0.5\" cx=\"298.045\" cy=\"320.052\" r=\"3\"/>\n",
       "<circle clip-path=\"url(#clip5602)\" style=\"fill:#000000; stroke:none; fill-opacity:0.5\" cx=\"274.752\" cy=\"200.004\" r=\"4\"/>\n",
       "<circle clip-path=\"url(#clip5602)\" style=\"fill:#009af9; stroke:none; fill-opacity:0.5\" cx=\"274.752\" cy=\"200.004\" r=\"3\"/>\n",
       "<circle clip-path=\"url(#clip5602)\" style=\"fill:#000000; stroke:none; fill-opacity:0.5\" cx=\"337.996\" cy=\"191.199\" r=\"4\"/>\n",
       "<circle clip-path=\"url(#clip5602)\" style=\"fill:#009af9; stroke:none; fill-opacity:0.5\" cx=\"337.996\" cy=\"191.199\" r=\"3\"/>\n",
       "<circle clip-path=\"url(#clip5602)\" style=\"fill:#000000; stroke:none; fill-opacity:0.5\" cx=\"274.114\" cy=\"365.454\" r=\"4\"/>\n",
       "<circle clip-path=\"url(#clip5602)\" style=\"fill:#009af9; stroke:none; fill-opacity:0.5\" cx=\"274.114\" cy=\"365.454\" r=\"3\"/>\n",
       "<circle clip-path=\"url(#clip5602)\" style=\"fill:#000000; stroke:none; fill-opacity:0.5\" cx=\"172.72\" cy=\"129.363\" r=\"4\"/>\n",
       "<circle clip-path=\"url(#clip5602)\" style=\"fill:#009af9; stroke:none; fill-opacity:0.5\" cx=\"172.72\" cy=\"129.363\" r=\"3\"/>\n",
       "<circle clip-path=\"url(#clip5602)\" style=\"fill:#000000; stroke:none; fill-opacity:0.5\" cx=\"262.04\" cy=\"343.332\" r=\"4\"/>\n",
       "<circle clip-path=\"url(#clip5602)\" style=\"fill:#009af9; stroke:none; fill-opacity:0.5\" cx=\"262.04\" cy=\"343.332\" r=\"3\"/>\n",
       "<circle clip-path=\"url(#clip5602)\" style=\"fill:#000000; stroke:none; fill-opacity:0.5\" cx=\"303.502\" cy=\"132.554\" r=\"4\"/>\n",
       "<circle clip-path=\"url(#clip5602)\" style=\"fill:#009af9; stroke:none; fill-opacity:0.5\" cx=\"303.502\" cy=\"132.554\" r=\"3\"/>\n",
       "<circle clip-path=\"url(#clip5602)\" style=\"fill:#000000; stroke:none; fill-opacity:0.5\" cx=\"375.086\" cy=\"327.579\" r=\"4\"/>\n",
       "<circle clip-path=\"url(#clip5602)\" style=\"fill:#009af9; stroke:none; fill-opacity:0.5\" cx=\"375.086\" cy=\"327.579\" r=\"3\"/>\n",
       "<circle clip-path=\"url(#clip5602)\" style=\"fill:#000000; stroke:none; fill-opacity:0.5\" cx=\"476.632\" cy=\"330.463\" r=\"4\"/>\n",
       "<circle clip-path=\"url(#clip5602)\" style=\"fill:#009af9; stroke:none; fill-opacity:0.5\" cx=\"476.632\" cy=\"330.463\" r=\"3\"/>\n",
       "<circle clip-path=\"url(#clip5602)\" style=\"fill:#000000; stroke:none; fill-opacity:0.5\" cx=\"373.245\" cy=\"193.687\" r=\"4\"/>\n",
       "<circle clip-path=\"url(#clip5602)\" style=\"fill:#009af9; stroke:none; fill-opacity:0.5\" cx=\"373.245\" cy=\"193.687\" r=\"3\"/>\n",
       "<circle clip-path=\"url(#clip5602)\" style=\"fill:#000000; stroke:none; fill-opacity:0.5\" cx=\"254.697\" cy=\"25.1644\" r=\"4\"/>\n",
       "<circle clip-path=\"url(#clip5602)\" style=\"fill:#009af9; stroke:none; fill-opacity:0.5\" cx=\"254.697\" cy=\"25.1644\" r=\"3\"/>\n",
       "<circle clip-path=\"url(#clip5602)\" style=\"fill:#000000; stroke:none; fill-opacity:0.5\" cx=\"316.77\" cy=\"345.72\" r=\"4\"/>\n",
       "<circle clip-path=\"url(#clip5602)\" style=\"fill:#009af9; stroke:none; fill-opacity:0.5\" cx=\"316.77\" cy=\"345.72\" r=\"3\"/>\n",
       "<circle clip-path=\"url(#clip5602)\" style=\"fill:#000000; stroke:none; fill-opacity:0.5\" cx=\"412.202\" cy=\"278.824\" r=\"4\"/>\n",
       "<circle clip-path=\"url(#clip5602)\" style=\"fill:#009af9; stroke:none; fill-opacity:0.5\" cx=\"412.202\" cy=\"278.824\" r=\"3\"/>\n",
       "<circle clip-path=\"url(#clip5602)\" style=\"fill:#000000; stroke:none; fill-opacity:0.5\" cx=\"178.97\" cy=\"293.84\" r=\"4\"/>\n",
       "<circle clip-path=\"url(#clip5602)\" style=\"fill:#009af9; stroke:none; fill-opacity:0.5\" cx=\"178.97\" cy=\"293.84\" r=\"3\"/>\n",
       "<circle clip-path=\"url(#clip5602)\" style=\"fill:#000000; stroke:none; fill-opacity:0.5\" cx=\"446.359\" cy=\"259.824\" r=\"4\"/>\n",
       "<circle clip-path=\"url(#clip5602)\" style=\"fill:#009af9; stroke:none; fill-opacity:0.5\" cx=\"446.359\" cy=\"259.824\" r=\"3\"/>\n",
       "<circle clip-path=\"url(#clip5602)\" style=\"fill:#000000; stroke:none; fill-opacity:0.5\" cx=\"476.568\" cy=\"327.088\" r=\"4\"/>\n",
       "<circle clip-path=\"url(#clip5602)\" style=\"fill:#009af9; stroke:none; fill-opacity:0.5\" cx=\"476.568\" cy=\"327.088\" r=\"3\"/>\n",
       "<circle clip-path=\"url(#clip5602)\" style=\"fill:#000000; stroke:none; fill-opacity:0.5\" cx=\"222.171\" cy=\"281.847\" r=\"4\"/>\n",
       "<circle clip-path=\"url(#clip5602)\" style=\"fill:#009af9; stroke:none; fill-opacity:0.5\" cx=\"222.171\" cy=\"281.847\" r=\"3\"/>\n",
       "<circle clip-path=\"url(#clip5602)\" style=\"fill:#000000; stroke:none; fill-opacity:0.5\" cx=\"470.926\" cy=\"250.134\" r=\"4\"/>\n",
       "<circle clip-path=\"url(#clip5602)\" style=\"fill:#009af9; stroke:none; fill-opacity:0.5\" cx=\"470.926\" cy=\"250.134\" r=\"3\"/>\n",
       "<circle clip-path=\"url(#clip5602)\" style=\"fill:#000000; stroke:none; fill-opacity:0.5\" cx=\"158.346\" cy=\"38.1945\" r=\"4\"/>\n",
       "<circle clip-path=\"url(#clip5602)\" style=\"fill:#009af9; stroke:none; fill-opacity:0.5\" cx=\"158.346\" cy=\"38.1945\" r=\"3\"/>\n",
       "<circle clip-path=\"url(#clip5602)\" style=\"fill:#000000; stroke:none; fill-opacity:0.5\" cx=\"429.201\" cy=\"239.949\" r=\"4\"/>\n",
       "<circle clip-path=\"url(#clip5602)\" style=\"fill:#009af9; stroke:none; fill-opacity:0.5\" cx=\"429.201\" cy=\"239.949\" r=\"3\"/>\n",
       "<circle clip-path=\"url(#clip5602)\" style=\"fill:#000000; stroke:none; fill-opacity:0.5\" cx=\"365.972\" cy=\"327.814\" r=\"4\"/>\n",
       "<circle clip-path=\"url(#clip5602)\" style=\"fill:#009af9; stroke:none; fill-opacity:0.5\" cx=\"365.972\" cy=\"327.814\" r=\"3\"/>\n",
       "<circle clip-path=\"url(#clip5602)\" style=\"fill:#000000; stroke:none; fill-opacity:0.5\" cx=\"229.462\" cy=\"216.081\" r=\"4\"/>\n",
       "<circle clip-path=\"url(#clip5602)\" style=\"fill:#009af9; stroke:none; fill-opacity:0.5\" cx=\"229.462\" cy=\"216.081\" r=\"3\"/>\n",
       "<circle clip-path=\"url(#clip5602)\" style=\"fill:#000000; stroke:none; fill-opacity:0.5\" cx=\"454.844\" cy=\"151.23\" r=\"4\"/>\n",
       "<circle clip-path=\"url(#clip5602)\" style=\"fill:#009af9; stroke:none; fill-opacity:0.5\" cx=\"454.844\" cy=\"151.23\" r=\"3\"/>\n",
       "<circle clip-path=\"url(#clip5602)\" style=\"fill:#000000; stroke:none; fill-opacity:0.5\" cx=\"429.825\" cy=\"287.251\" r=\"4\"/>\n",
       "<circle clip-path=\"url(#clip5602)\" style=\"fill:#009af9; stroke:none; fill-opacity:0.5\" cx=\"429.825\" cy=\"287.251\" r=\"3\"/>\n",
       "<circle clip-path=\"url(#clip5602)\" style=\"fill:#000000; stroke:none; fill-opacity:0.5\" cx=\"482.766\" cy=\"68.8834\" r=\"4\"/>\n",
       "<circle clip-path=\"url(#clip5602)\" style=\"fill:#009af9; stroke:none; fill-opacity:0.5\" cx=\"482.766\" cy=\"68.8834\" r=\"3\"/>\n",
       "<circle clip-path=\"url(#clip5602)\" style=\"fill:#000000; stroke:none; fill-opacity:0.5\" cx=\"279.594\" cy=\"72.9567\" r=\"4\"/>\n",
       "<circle clip-path=\"url(#clip5602)\" style=\"fill:#009af9; stroke:none; fill-opacity:0.5\" cx=\"279.594\" cy=\"72.9567\" r=\"3\"/>\n",
       "<circle clip-path=\"url(#clip5602)\" style=\"fill:#000000; stroke:none; fill-opacity:0.5\" cx=\"237.08\" cy=\"70.8945\" r=\"4\"/>\n",
       "<circle clip-path=\"url(#clip5602)\" style=\"fill:#009af9; stroke:none; fill-opacity:0.5\" cx=\"237.08\" cy=\"70.8945\" r=\"3\"/>\n",
       "<circle clip-path=\"url(#clip5602)\" style=\"fill:#000000; stroke:none; fill-opacity:0.5\" cx=\"452\" cy=\"169.66\" r=\"4\"/>\n",
       "<circle clip-path=\"url(#clip5602)\" style=\"fill:#009af9; stroke:none; fill-opacity:0.5\" cx=\"452\" cy=\"169.66\" r=\"3\"/>\n",
       "<circle clip-path=\"url(#clip5602)\" style=\"fill:#000000; stroke:none; fill-opacity:0.5\" cx=\"294.246\" cy=\"374.871\" r=\"4\"/>\n",
       "<circle clip-path=\"url(#clip5602)\" style=\"fill:#009af9; stroke:none; fill-opacity:0.5\" cx=\"294.246\" cy=\"374.871\" r=\"3\"/>\n",
       "<circle clip-path=\"url(#clip5602)\" style=\"fill:#000000; stroke:none; fill-opacity:0.5\" cx=\"207.461\" cy=\"72.1602\" r=\"4\"/>\n",
       "<circle clip-path=\"url(#clip5602)\" style=\"fill:#009af9; stroke:none; fill-opacity:0.5\" cx=\"207.461\" cy=\"72.1602\" r=\"3\"/>\n",
       "<circle clip-path=\"url(#clip5602)\" style=\"fill:#000000; stroke:none; fill-opacity:0.5\" cx=\"329.543\" cy=\"53.0344\" r=\"4\"/>\n",
       "<circle clip-path=\"url(#clip5602)\" style=\"fill:#009af9; stroke:none; fill-opacity:0.5\" cx=\"329.543\" cy=\"53.0344\" r=\"3\"/>\n",
       "<circle clip-path=\"url(#clip5602)\" style=\"fill:#000000; stroke:none; fill-opacity:0.5\" cx=\"255.614\" cy=\"77.3501\" r=\"4\"/>\n",
       "<circle clip-path=\"url(#clip5602)\" style=\"fill:#009af9; stroke:none; fill-opacity:0.5\" cx=\"255.614\" cy=\"77.3501\" r=\"3\"/>\n",
       "<circle clip-path=\"url(#clip5602)\" style=\"fill:#000000; stroke:none; fill-opacity:0.5\" cx=\"483.122\" cy=\"200.611\" r=\"4\"/>\n",
       "<circle clip-path=\"url(#clip5602)\" style=\"fill:#009af9; stroke:none; fill-opacity:0.5\" cx=\"483.122\" cy=\"200.611\" r=\"3\"/>\n",
       "<circle clip-path=\"url(#clip5602)\" style=\"fill:#000000; stroke:none; fill-opacity:0.5\" cx=\"243.621\" cy=\"301.485\" r=\"4\"/>\n",
       "<circle clip-path=\"url(#clip5602)\" style=\"fill:#009af9; stroke:none; fill-opacity:0.5\" cx=\"243.621\" cy=\"301.485\" r=\"3\"/>\n",
       "</svg>\n"
      ]
     },
     "execution_count": 35,
     "metadata": {
      "comm_id": "e31626de-a0de-4bb4-b66d-5d5197e2c92e",
      "reactive": true
     },
     "output_type": "execute_result"
    }
   ],
   "source": [
    "@manipulate for i in 1:N_max\n",
    "    scatter(xs[1:i], ys[1:i], xlim=(0, 1), ylim=(0, 1), leg=false, aspect_ratio=1, alpha=0.5)\n",
    "end"
   ]
  },
  {
   "cell_type": "code",
   "execution_count": 37,
   "metadata": {},
   "outputs": [
    {
     "name": "stderr",
     "output_type": "stream",
     "text": [
      "\u001b[1m\u001b[36mINFO: \u001b[39m\u001b[22m\u001b[36mRecompiling stale cache file /Users/dpsanders/.julia/lib/v0.6/OffsetArrays.ji for module OffsetArrays.\n",
      "\u001b[39m"
     ]
    }
   ],
   "source": [
    "using OffsetArrays"
   ]
  },
  {
   "cell_type": "code",
   "execution_count": 46,
   "metadata": {},
   "outputs": [
    {
     "data": {
      "text/plain": [
       "8.0e-323"
      ]
     },
     "execution_count": 46,
     "metadata": {},
     "output_type": "execute_result"
    }
   ],
   "source": [
    "hello = OffsetArray{Float64}(-10:10)\n",
    "\n",
    "hello[-10]"
   ]
  },
  {
   "cell_type": "code",
   "execution_count": 38,
   "metadata": {},
   "outputs": [
    {
     "ename": "LoadError",
     "evalue": "\u001b[91mMethodError: Cannot `convert` an object of type UnitRange{Int64} to an object of type OffsetArrays.OffsetArray\nThis may have arisen from a call to the constructor OffsetArrays.OffsetArray(...),\nsince type constructors fall back to convert methods.\u001b[39m",
     "output_type": "error",
     "traceback": [
      "\u001b[91mMethodError: Cannot `convert` an object of type UnitRange{Int64} to an object of type OffsetArrays.OffsetArray\nThis may have arisen from a call to the constructor OffsetArrays.OffsetArray(...),\nsince type constructors fall back to convert methods.\u001b[39m",
      "",
      "Stacktrace:",
      " [1] \u001b[1mOffsetArrays.OffsetArray\u001b[22m\u001b[22m\u001b[1m(\u001b[22m\u001b[22m::UnitRange{Int64}\u001b[1m)\u001b[22m\u001b[22m at \u001b[1m./sysimg.jl:77\u001b[22m\u001b[22m",
      " [2] \u001b[1minclude_string\u001b[22m\u001b[22m\u001b[1m(\u001b[22m\u001b[22m::String, ::String\u001b[1m)\u001b[22m\u001b[22m at \u001b[1m./loading.jl:522\u001b[22m\u001b[22m"
     ]
    }
   ],
   "source": [
    "hello = OffsetArray(0:10)"
   ]
  },
  {
   "cell_type": "code",
   "execution_count": 36,
   "metadata": {},
   "outputs": [
    {
     "ename": "LoadError",
     "evalue": "\u001b[91mBoundsError: attempt to access 1000-element Array{Float64,1} at index [0]\u001b[39m",
     "output_type": "error",
     "traceback": [
      "\u001b[91mBoundsError: attempt to access 1000-element Array{Float64,1} at index [0]\u001b[39m",
      "",
      "Stacktrace:",
      " [1] \u001b[1mgetindex\u001b[22m\u001b[22m\u001b[1m(\u001b[22m\u001b[22m::Array{Float64,1}, ::Int64\u001b[1m)\u001b[22m\u001b[22m at \u001b[1m./array.jl:554\u001b[22m\u001b[22m",
      " [2] \u001b[1minclude_string\u001b[22m\u001b[22m\u001b[1m(\u001b[22m\u001b[22m::String, ::String\u001b[1m)\u001b[22m\u001b[22m at \u001b[1m./loading.jl:522\u001b[22m\u001b[22m"
     ]
    },
    {
     "name": "stderr",
     "output_type": "stream",
     "text": [
      "WARNING: both Interact and Base export \"select\"; uses of it in module Main must be qualified\n"
     ]
    }
   ],
   "source": [
    "xs[0]"
   ]
  },
  {
   "cell_type": "code",
   "execution_count": 55,
   "metadata": {},
   "outputs": [
    {
     "name": "stderr",
     "output_type": "stream",
     "text": [
      "WARNING: using RandomNumbers.AbstractRNG in module Main conflicts with an existing identifier.\n"
     ]
    }
   ],
   "source": [
    "using RandomNumbers"
   ]
  },
  {
   "cell_type": "code",
   "execution_count": 53,
   "metadata": {},
   "outputs": [
    {
     "data": {
      "text/plain": [
       "MersenneTwister(UInt32[0x0000000a], Base.dSFMT.DSFMT_state(Int32[1007524736, 1073256705, 415953332, 1072893275, -601364280, 1073193666, -1335760268, 1072926448, 1521827180, 1073499520  …  -439825479, 1072978026, -411693740, 1073111955, -1611334130, 1963385220, 236575170, -789052601, 382, 0]), [1.11258, 1.36831, 1.34445, 1.05665, 1.12078, 1.17957, 1.38181, 1.8151, 1.24221, 1.81978  …  1.65822, 1.49011, 1.00684, 1.42501, 1.56311, 1.52724, 1.45901, 1.55851, 1.96219, 1.38824], 382)"
      ]
     },
     "execution_count": 53,
     "metadata": {},
     "output_type": "execute_result"
    }
   ],
   "source": [
    "srand(10)"
   ]
  },
  {
   "cell_type": "code",
   "execution_count": 54,
   "metadata": {},
   "outputs": [
    {
     "data": {
      "text/plain": [
       "10-element Array{Float64,1}:\n",
       " 0.112582 \n",
       " 0.368314 \n",
       " 0.344454 \n",
       " 0.0566454\n",
       " 0.120781 \n",
       " 0.179574 \n",
       " 0.381813 \n",
       " 0.815104 \n",
       " 0.242208 \n",
       " 0.819778 "
      ]
     },
     "execution_count": 54,
     "metadata": {},
     "output_type": "execute_result"
    }
   ],
   "source": [
    "rand(10)"
   ]
  },
  {
   "cell_type": "code",
   "execution_count": 47,
   "metadata": {},
   "outputs": [
    {
     "name": "stdout",
     "output_type": "stream",
     "text": [
      "Jump to left\n"
     ]
    }
   ],
   "source": [
    "r = rand()\n",
    "\n",
    "if r > 0.5\n",
    "    println(\"Jump to right\")\n",
    "else\n",
    "    println(\"Jump to left\")\n",
    "end"
   ]
  },
  {
   "cell_type": "markdown",
   "metadata": {},
   "source": [
    "**[3]** (i) Wrap the code in a function `walk`; it is easy now to give the function an argument which is the final time (to allow for code re-use). The function should return the final position.\n",
    "\n",
    "(ii) But this is not the only reason for using functions in Julia: now time running the function, and time it again. What do you notice?\n",
    "\n",
    "(iii) Give the function a **docstring**, i.e. a string written just *before* the function definition that describes what the function does. You can use multi-line strings using `\"\"\"`."
   ]
  },
  {
   "cell_type": "code",
   "execution_count": null,
   "metadata": {},
   "outputs": [],
   "source": []
  },
  {
   "cell_type": "markdown",
   "metadata": {},
   "source": [
    "**[4]** Make a version of the function that stores the trajectory in a vector. In fact, there are (at least) two ways we could do so: pre-allocating the vector, or allowing it to grow. How do these compare in time?"
   ]
  },
  {
   "cell_type": "code",
   "execution_count": null,
   "metadata": {},
   "outputs": [],
   "source": []
  },
  {
   "cell_type": "markdown",
   "metadata": {},
   "source": [
    "**[5]** We could make a version that takes as second argument a flag, which tells us whether to calculate the trajectory or not. Does this affect the time?"
   ]
  },
  {
   "cell_type": "code",
   "execution_count": null,
   "metadata": {},
   "outputs": [],
   "source": []
  },
  {
   "cell_type": "markdown",
   "metadata": {},
   "source": [
    "## Visualization"
   ]
  },
  {
   "cell_type": "markdown",
   "metadata": {},
   "source": [
    "We would like to plot the trajectory $x(n)$ as a function of the time step $n$. \n",
    "\n",
    "The `Plots.jl` meta-package provides a common syntax to several different plotting package \"backends\"."
   ]
  },
  {
   "cell_type": "code",
   "execution_count": null,
   "metadata": {},
   "outputs": [],
   "source": [
    "# Pkg.add(\"Plots\")    # install the Plots.jl package if you don't already have it -- do once in your installation\n",
    "\n",
    "using Plots           # load the package in each session\n",
    "gr()   # choose the GR backend"
   ]
  },
  {
   "cell_type": "markdown",
   "metadata": {},
   "source": [
    "**[1]** Plot a single trajectory of the walker $x(n)$ as a function of $n$ using lines and squares. [The `plot` function takes a collection of $x$ coordinates and a collection of $y$ coordinates.] Add a horizontal dashed line at $x=0$."
   ]
  },
  {
   "cell_type": "code",
   "execution_count": null,
   "metadata": {},
   "outputs": [],
   "source": []
  },
  {
   "cell_type": "markdown",
   "metadata": {},
   "source": [
    "**[2]** Switch to the PlotlyJS backend using `plotlyjs()` and plot it again. What advantage does this backend have?"
   ]
  },
  {
   "cell_type": "code",
   "execution_count": null,
   "metadata": {},
   "outputs": [],
   "source": []
  },
  {
   "cell_type": "markdown",
   "metadata": {},
   "source": [
    "**[3]** Draw a few walks using a loop."
   ]
  },
  {
   "cell_type": "markdown",
   "metadata": {},
   "source": [
    "### Interactive manipulation"
   ]
  },
  {
   "cell_type": "markdown",
   "metadata": {},
   "source": [
    "If we want to explore the space of parameters `T` (maximum time of the walk) and `N` (number of walks), it would be nice to be able to manipulate them interactively.\n",
    "\n",
    "This may be done using `Interact.jl`."
   ]
  },
  {
   "cell_type": "code",
   "execution_count": null,
   "metadata": {},
   "outputs": [],
   "source": [
    "# Pkg.add(\"Interact\")\n",
    "\n",
    "using Interact"
   ]
  },
  {
   "cell_type": "markdown",
   "metadata": {},
   "source": [
    "**[4]** (i) `Interact.jl` provides a macro `@manipulate` that is written directly before a `for` loop.\n",
    "Experiment with it:"
   ]
  },
  {
   "cell_type": "code",
   "execution_count": null,
   "metadata": {},
   "outputs": [],
   "source": [
    "@manipulate for i in 1:10\n",
    "    i\n",
    "end"
   ]
  },
  {
   "cell_type": "markdown",
   "metadata": {},
   "source": [
    "Use it to manipulate the number of walks.\n",
    "The `for` loop should return the object that will be displayed, in this case the result of the `plot`.\n",
    "\n",
    "(ii) Now use it to manipulate a double `for` loop, with the syntax\n",
    "\n",
    "```\n",
    "@manipulate for x in 1:X, y in 1:Y\n",
    "  ...\n",
    "end\n",
    "```\n",
    "\n",
    "You will want to remove the plot legend/key with `leg=false`, and to fix the limits of the plot with keywords `xlim` and `ylim` or commands `xlims!` and `ylims!`."
   ]
  },
  {
   "cell_type": "markdown",
   "metadata": {},
   "source": [
    "## Collecting data"
   ]
  },
  {
   "cell_type": "markdown",
   "metadata": {},
   "source": [
    "Now that we have a feel for the behaviour of the system, let's collect some data in a few different ways, in order to calculate the variance of the positions of `N` walks after time `T`."
   ]
  },
  {
   "cell_type": "markdown",
   "metadata": {},
   "source": [
    "**[1]** (i) Write a function `walks` that calculates the variance of the final positions of `N` walks of length `T` each.\n",
    "\n",
    "(ii) Use `@time` to time the function for small `N` and `T`. Note that it is not very useful."
   ]
  },
  {
   "cell_type": "markdown",
   "metadata": {},
   "source": [
    "#### BenchmarkTools.jl"
   ]
  },
  {
   "cell_type": "markdown",
   "metadata": {},
   "source": [
    "**[2]** Instead, use the `BenchmarkTools.jl` package and the `@benchmark` or `@btime` macros."
   ]
  },
  {
   "cell_type": "markdown",
   "metadata": {
    "slideshow": {
     "slide_type": "subslide"
    }
   },
   "source": [
    "### Investigating different coding styles"
   ]
  },
  {
   "cell_type": "markdown",
   "metadata": {},
   "source": [
    "**[3]** First write a **generic** `walks` function that **takes a function as one of its arguments**."
   ]
  },
  {
   "cell_type": "code",
   "execution_count": null,
   "metadata": {},
   "outputs": [],
   "source": []
  },
  {
   "cell_type": "markdown",
   "metadata": {},
   "source": [
    "**[4]** Let's use the `walks` function to compare the efficiency of different coding styles for our `walk` function:\n",
    "\n",
    "(i) One that uses `rand(Bool)`.\n",
    "    \n",
    "(ii) One that uses Matlab(ish) vectorised syntax, using a vector of random numbers.\n",
    "\n",
    "(iii) One using **array comprehensions**, i.e. expressions of the form\n",
    "\n",
    "```\n",
    "[x for i in 1:10]\n",
    "```\n",
    "\n",
    "(iv) One using **generator expressions**, i.e. expressions of the form\n",
    "    \n",
    "```\n",
    "(x for i in 1:10)\n",
    "``` \n",
    "    \n",
    "What is the difference?"
   ]
  },
  {
   "cell_type": "markdown",
   "metadata": {},
   "source": [
    "**[5]** How could you generate the random $-1$ and $+1$ directly, using a range? Is it a good idea?"
   ]
  },
  {
   "cell_type": "markdown",
   "metadata": {},
   "source": [
    "**[6]** Use the function `bitrand`. How does it compare?"
   ]
  },
  {
   "cell_type": "markdown",
   "metadata": {},
   "source": [
    "Of course, it's (presumably) *possible* to do the above in C++, but it's certainly much *harder*. And in Python it will be much *slower*."
   ]
  },
  {
   "cell_type": "markdown",
   "metadata": {},
   "source": [
    "**[7]** **Bonus question** Compare the above timings to your (former) favourite programming language. There are C and Python versions in the `random_walk_in_other_languages` directory. I will add any implementations you send me there!"
   ]
  },
  {
   "cell_type": "markdown",
   "metadata": {
    "slideshow": {
     "slide_type": "subslide"
    }
   },
   "source": [
    "## Data analysis"
   ]
  },
  {
   "cell_type": "markdown",
   "metadata": {},
   "source": [
    "**[1]** Write a function to collect the final positions of `N` walks after time `T` in an array.\n",
    "\n",
    "**[2]** Make an interactive visualization of a normalised histogram using the `histogram` function in `Plots.jl`. "
   ]
  },
  {
   "cell_type": "markdown",
   "metadata": {},
   "source": [
    "[3] Let's compare this to the known analytical result: a normal distribution with variance equal to the number of steps.\n",
    "\n",
    "(i) Define the mean $\\mu$ and standard deviation $\\sigma$ using Unicode symbols, as `\\mu<TAB>` and `\\sigma<TAB>`.\n",
    "\n",
    "(ii) Load the `Distributions.jl` package.\n",
    "\n",
    "(iii) Compare the histogram with a transparent, filled PDF. Use the `pdf` function from `Distributions.jl`, and the `Normal` normal distribution object.\n",
    "\n",
    "(iv) Save the figure to a PDF using `savefig`."
   ]
  },
  {
   "cell_type": "markdown",
   "metadata": {},
   "source": [
    "## Write and read data to and from disk"
   ]
  },
  {
   "cell_type": "markdown",
   "metadata": {},
   "source": [
    "We wish to save the data we have calculated to a file on disk. The simplest solution is as follows.\n",
    "\n",
    "**[1]** (i) Use `writedlm` (\"write delimited\") to save the data.\n",
    "\n",
    "(ii) Use `readdlm` to load it back in."
   ]
  },
  {
   "cell_type": "markdown",
   "metadata": {},
   "source": [
    "Note that the format has changed. Although there are some options to `readdlm`, this is not a good solution to the problem."
   ]
  },
  {
   "cell_type": "markdown",
   "metadata": {},
   "source": [
    "The good solution is to use the `JLD2.jl` (\"JuLia Data\") package, which uses the standard HDF5 file format underneath. We will also save another variable for illustrative purposes."
   ]
  },
  {
   "cell_type": "code",
   "execution_count": null,
   "metadata": {},
   "outputs": [],
   "source": [
    "# Pkg.add(\"JLD2\")\n",
    "\n",
    "# install \n",
    "using JLD2"
   ]
  },
  {
   "cell_type": "code",
   "execution_count": null,
   "metadata": {},
   "outputs": [],
   "source": [
    "i = 17"
   ]
  },
  {
   "cell_type": "code",
   "execution_count": null,
   "metadata": {},
   "outputs": [],
   "source": [
    "@save \"random_walk.jld\" i"
   ]
  },
  {
   "cell_type": "code",
   "execution_count": null,
   "metadata": {},
   "outputs": [],
   "source": [
    "@load \"random_walk.jld\""
   ]
  },
  {
   "cell_type": "code",
   "execution_count": null,
   "metadata": {},
   "outputs": [],
   "source": [
    "# save(\"random_walk.jld\", \"final_pos\", data, \"arbitrary\", i)   # alternative"
   ]
  },
  {
   "cell_type": "code",
   "execution_count": null,
   "metadata": {},
   "outputs": [],
   "source": [
    "# all = load(\"random_walk.jld\")"
   ]
  },
  {
   "cell_type": "markdown",
   "metadata": {},
   "source": [
    "The data is read in as a **dictionary**, associating to each variable name its value. We can extract these as"
   ]
  },
  {
   "cell_type": "code",
   "execution_count": null,
   "metadata": {},
   "outputs": [],
   "source": [
    "j = all[\"arbitrary\"]"
   ]
  },
  {
   "cell_type": "markdown",
   "metadata": {},
   "source": [
    "Alternatively, we can *read only part of the data file*:"
   ]
  },
  {
   "cell_type": "code",
   "execution_count": null,
   "metadata": {},
   "outputs": [],
   "source": [
    "final_pos = load(\"random_walk.jld\", \"final_pos\");"
   ]
  },
  {
   "cell_type": "markdown",
   "metadata": {},
   "source": [
    "Note that the type of the data has now been correctly preserved. This is the point of using `JLD`. "
   ]
  },
  {
   "cell_type": "markdown",
   "metadata": {},
   "source": [
    "# Workflow: Extract code into a Julia script"
   ]
  },
  {
   "cell_type": "markdown",
   "metadata": {},
   "source": [
    "Since we have developed a quantity of code in this notebook, it is a good moment to extract the code into a Julia script file, with termination `.jl`, that we edit, e.g. with Juno.\n",
    "\n",
    "We can then read in the file as if we typed it with"
   ]
  },
  {
   "cell_type": "code",
   "execution_count": null,
   "metadata": {},
   "outputs": [],
   "source": [
    "include(\"walk.jl\")"
   ]
  },
  {
   "cell_type": "markdown",
   "metadata": {},
   "source": [
    "Note that Julia provides various commands for manipulating the filesystem:"
   ]
  },
  {
   "cell_type": "code",
   "execution_count": null,
   "metadata": {},
   "outputs": [],
   "source": [
    "pwd()"
   ]
  },
  {
   "cell_type": "code",
   "execution_count": null,
   "metadata": {},
   "outputs": [],
   "source": [
    "readdir()"
   ]
  },
  {
   "cell_type": "markdown",
   "metadata": {},
   "source": [
    "Later on, we would make it into a `module` (separate namespace) and then into a Julia pacakge."
   ]
  },
  {
   "cell_type": "markdown",
   "metadata": {
    "slideshow": {
     "slide_type": "subslide"
    }
   },
   "source": [
    "## Summary:\n",
    "\n",
    "- Julia allows us to calculate **fast**\n",
    "\n",
    "\n",
    "- **And** visualize, interactively, our data\n",
    "\n",
    "\n",
    "- All in one place"
   ]
  }
 ],
 "metadata": {
  "kernelspec": {
   "display_name": "Julia 0.6.2",
   "language": "julia",
   "name": "julia-0.6"
  },
  "language_info": {
   "file_extension": ".jl",
   "mimetype": "application/julia",
   "name": "julia",
   "version": "0.6.2"
  },
  "toc": {
   "colors": {
    "hover_highlight": "#DAA520",
    "running_highlight": "#FF0000",
    "selected_highlight": "#FFD700"
   },
   "moveMenuLeft": true,
   "nav_menu": {
    "height": "12px",
    "width": "252px"
   },
   "navigate_menu": true,
   "number_sections": true,
   "sideBar": true,
   "threshold": "2",
   "toc_cell": false,
   "toc_section_display": "block",
   "toc_window_display": false
  }
 },
 "nbformat": 4,
 "nbformat_minor": 2
}
