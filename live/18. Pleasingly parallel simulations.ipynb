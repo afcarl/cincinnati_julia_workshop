{
 "cells": [
  {
   "cell_type": "markdown",
   "metadata": {},
   "source": [
    "# Pleasingly parallel simulations"
   ]
  },
  {
   "cell_type": "markdown",
   "metadata": {},
   "source": [
    "**Pleasingly parallel** simulations (also called \"embarrassingly parallel\") consist of simulations in which each process / worker is executing the same code independently, with no communication required between workers. It is the simplest type of parallelism, and also probably the most common."
   ]
  },
  {
   "cell_type": "code",
   "execution_count": 1,
   "metadata": {},
   "outputs": [
    {
     "data": {
      "text/plain": [
       "2-element Array{Int64,1}:\n",
       " 2\n",
       " 3"
      ]
     },
     "execution_count": 1,
     "metadata": {},
     "output_type": "execute_result"
    }
   ],
   "source": [
    "addprocs(2)"
   ]
  },
  {
   "cell_type": "code",
   "execution_count": 2,
   "metadata": {},
   "outputs": [],
   "source": [
    "@everywhere using DistributedArrays"
   ]
  },
  {
   "cell_type": "code",
   "execution_count": 3,
   "metadata": {},
   "outputs": [],
   "source": [
    "@everywhere function walk(numsteps)\n",
    "    pos = 0\n",
    "\n",
    "    for j in 1:numsteps\n",
    "        \n",
    "        if rand(Bool)  # NB\n",
    "            step = -1\n",
    "        else\n",
    "            step = +1\n",
    "        end\n",
    "        \n",
    "        pos += step # ifelse(rand() < 0.5, -1, +1)\n",
    "    end\n",
    "    \n",
    "    return pos\n",
    "end"
   ]
  },
  {
   "cell_type": "markdown",
   "metadata": {},
   "source": [
    "In serial:"
   ]
  },
  {
   "cell_type": "code",
   "execution_count": 4,
   "metadata": {},
   "outputs": [
    {
     "data": {
      "text/plain": [
       "1000"
      ]
     },
     "execution_count": 4,
     "metadata": {},
     "output_type": "execute_result"
    }
   ],
   "source": [
    "numwalkers = 1000\n",
    "numsteps = 1000"
   ]
  },
  {
   "cell_type": "code",
   "execution_count": 5,
   "metadata": {},
   "outputs": [
    {
     "data": {
      "text/plain": [
       "1000-element Array{Int64,1}:\n",
       "  -4\n",
       " -32\n",
       " -30\n",
       "   2\n",
       "  -2\n",
       " -10\n",
       " -20\n",
       "   4\n",
       "  70\n",
       "  30\n",
       "   4\n",
       "  30\n",
       "  24\n",
       "   ⋮\n",
       "   6\n",
       " -38\n",
       " -12\n",
       "  22\n",
       " -38\n",
       " -66\n",
       "  18\n",
       "  12\n",
       " -32\n",
       " -16\n",
       "   0\n",
       " -20"
      ]
     },
     "execution_count": 5,
     "metadata": {},
     "output_type": "execute_result"
    }
   ],
   "source": [
    "data = [walk(numsteps) for i in 1:numwalkers] "
   ]
  },
  {
   "cell_type": "markdown",
   "metadata": {},
   "source": [
    "Let's make a distributed array that will divide up the walkers' indices between the available workers:"
   ]
  },
  {
   "cell_type": "code",
   "execution_count": 6,
   "metadata": {},
   "outputs": [
    {
     "data": {
      "text/plain": [
       "1000-element DistributedArrays.DArray{Int64,1,Array{Int64,1}}:\n",
       "    1\n",
       "    2\n",
       "    3\n",
       "    4\n",
       "    5\n",
       "    6\n",
       "    7\n",
       "    8\n",
       "    9\n",
       "   10\n",
       "   11\n",
       "   12\n",
       "   13\n",
       "    ⋮\n",
       "  989\n",
       "  990\n",
       "  991\n",
       "  992\n",
       "  993\n",
       "  994\n",
       "  995\n",
       "  996\n",
       "  997\n",
       "  998\n",
       "  999\n",
       " 1000"
      ]
     },
     "execution_count": 6,
     "metadata": {},
     "output_type": "execute_result"
    }
   ],
   "source": [
    "walkers = @DArray [i for i in 1:numwalkers]"
   ]
  },
  {
   "cell_type": "code",
   "execution_count": 7,
   "metadata": {},
   "outputs": [
    {
     "data": {
      "text/plain": [
       "2-element Array{Tuple{UnitRange{Int64}},1}:\n",
       " (1:500,)   \n",
       " (501:1000,)"
      ]
     },
     "execution_count": 7,
     "metadata": {},
     "output_type": "execute_result"
    }
   ],
   "source": [
    "walkers.indexes"
   ]
  },
  {
   "cell_type": "markdown",
   "metadata": {},
   "source": [
    "Let's send out the information about how many steps and walkers to do:"
   ]
  },
  {
   "cell_type": "code",
   "execution_count": 14,
   "metadata": {},
   "outputs": [],
   "source": [
    "@everywhere begin\n",
    "    numsteps   = 10000\n",
    "    numwalkers = 100000 \n",
    "end"
   ]
  },
  {
   "cell_type": "markdown",
   "metadata": {},
   "source": [
    "We will now use a \"trick\": we wish to run the same function (`walk`) for each walker.\n",
    "But the function does not really need the information about *which* walker (index) it is. So we can use a function that takes no arguments:"
   ]
  },
  {
   "cell_type": "markdown",
   "metadata": {},
   "source": [
    "A function that takes zero arguments and returns a constant:\n"
   ]
  },
  {
   "cell_type": "code",
   "execution_count": 14,
   "metadata": {},
   "outputs": [
    {
     "data": {
      "text/plain": [
       "f (generic function with 1 method)"
      ]
     },
     "execution_count": 14,
     "metadata": {},
     "output_type": "execute_result"
    }
   ],
   "source": [
    "f() = 3  "
   ]
  },
  {
   "cell_type": "markdown",
   "metadata": {},
   "source": [
    "An anonymous function that takes one argument, that it ignores, and returns a constant:"
   ]
  },
  {
   "cell_type": "code",
   "execution_count": 15,
   "metadata": {},
   "outputs": [
    {
     "data": {
      "text/plain": [
       "(::#19) (generic function with 1 method)"
      ]
     },
     "execution_count": 15,
     "metadata": {},
     "output_type": "execute_result"
    }
   ],
   "source": [
    "_ -> 3"
   ]
  },
  {
   "cell_type": "markdown",
   "metadata": {},
   "source": [
    "An anonymous function that returns something random:"
   ]
  },
  {
   "cell_type": "code",
   "execution_count": 16,
   "metadata": {},
   "outputs": [
    {
     "data": {
      "text/plain": [
       "(::#21) (generic function with 1 method)"
      ]
     },
     "execution_count": 16,
     "metadata": {},
     "output_type": "execute_result"
    }
   ],
   "source": [
    "g = _ -> walk(numsteps)   # _ means that the argument is ignored"
   ]
  },
  {
   "cell_type": "code",
   "execution_count": 9,
   "metadata": {},
   "outputs": [
    {
     "data": {
      "text/plain": [
       "46"
      ]
     },
     "execution_count": 9,
     "metadata": {},
     "output_type": "execute_result"
    }
   ],
   "source": [
    "g(1)"
   ]
  },
  {
   "cell_type": "code",
   "execution_count": 11,
   "metadata": {},
   "outputs": [
    {
     "data": {
      "text/plain": [
       "-18"
      ]
     },
     "execution_count": 11,
     "metadata": {},
     "output_type": "execute_result"
    }
   ],
   "source": [
    "g(17)"
   ]
  },
  {
   "cell_type": "code",
   "execution_count": 12,
   "metadata": {
    "scrolled": true
   },
   "outputs": [
    {
     "data": {
      "text/plain": [
       "-44"
      ]
     },
     "execution_count": 12,
     "metadata": {},
     "output_type": "execute_result"
    }
   ],
   "source": [
    "g(\"string\")"
   ]
  },
  {
   "cell_type": "markdown",
   "metadata": {},
   "source": [
    "Using an anonymous function to generate a vector of random numbers:"
   ]
  },
  {
   "cell_type": "code",
   "execution_count": 13,
   "metadata": {},
   "outputs": [
    {
     "data": {
      "text/plain": [
       "5-element Array{Float64,1}:\n",
       " 0.608136\n",
       " 0.300646\n",
       " 0.919476\n",
       " 0.670608\n",
       " 0.356738"
      ]
     },
     "execution_count": 13,
     "metadata": {},
     "output_type": "execute_result"
    }
   ],
   "source": [
    "h = _ -> rand()\n",
    "map(h, 1:5)"
   ]
  },
  {
   "cell_type": "code",
   "execution_count": 17,
   "metadata": {},
   "outputs": [
    {
     "name": "stdout",
     "output_type": "stream",
     "text": [
      "  0.121649 seconds (84.77 k allocations: 4.563 MiB, 6.54% gc time)\n"
     ]
    },
    {
     "data": {
      "text/plain": [
       "1000-element DistributedArrays.DArray{Int64,1,Array{Int64,1}}:\n",
       " -18\n",
       "  58\n",
       "  10\n",
       " -34\n",
       "  -6\n",
       "  34\n",
       "  32\n",
       "  36\n",
       " -26\n",
       "  20\n",
       " -18\n",
       "   4\n",
       "   6\n",
       "   ⋮\n",
       " -26\n",
       " -46\n",
       "   4\n",
       " -20\n",
       "   4\n",
       " -20\n",
       " -76\n",
       "  16\n",
       "  24\n",
       " -20\n",
       " -22\n",
       "  -8"
      ]
     },
     "execution_count": 17,
     "metadata": {},
     "output_type": "execute_result"
    }
   ],
   "source": [
    "@time positions = map( _ -> walk(numsteps), walkers)"
   ]
  },
  {
   "cell_type": "code",
   "execution_count": 18,
   "metadata": {},
   "outputs": [],
   "source": [
    "@everywhere begin\n",
    "    numsteps   = 10000\n",
    "    numwalkers = 100000 \n",
    "end"
   ]
  },
  {
   "cell_type": "code",
   "execution_count": 21,
   "metadata": {},
   "outputs": [
    {
     "data": {
      "text/plain": [
       "run_distributed (generic function with 1 method)"
      ]
     },
     "execution_count": 21,
     "metadata": {},
     "output_type": "execute_result"
    }
   ],
   "source": [
    "function run_serial(numwalkers, numsteps)\n",
    "    walkers = 1:numwalkers\n",
    "    data = map(_ -> walk(numsteps), 1:numwalkers)\n",
    "end\n",
    "\n",
    "function run_distributed(numwalkers, numsteps)\n",
    "    walkers = distribute([1:numwalkers;])\n",
    "    data = map(_ -> walk(numsteps), walkers)\n",
    "end"
   ]
  },
  {
   "cell_type": "code",
   "execution_count": 23,
   "metadata": {},
   "outputs": [
    {
     "data": {
      "text/plain": [
       "1-element DistributedArrays.DArray{Int64,1,Array{Int64,1}}:\n",
       " 1"
      ]
     },
     "execution_count": 23,
     "metadata": {},
     "output_type": "execute_result"
    }
   ],
   "source": [
    "run_serial(1, 1)\n",
    "run_distributed(1, 1)"
   ]
  },
  {
   "cell_type": "code",
   "execution_count": 24,
   "metadata": {},
   "outputs": [
    {
     "name": "stdout",
     "output_type": "stream",
     "text": [
      "  2.231796 seconds (6 allocations: 781.484 KiB)\n",
      "  1.095464 seconds (2.93 k allocations: 1.699 MiB)\n"
     ]
    },
    {
     "data": {
      "text/plain": [
       "100000-element DistributedArrays.DArray{Int64,1,Array{Int64,1}}:\n",
       "   34\n",
       " -124\n",
       "   40\n",
       "   48\n",
       "   46\n",
       "  160\n",
       "    6\n",
       "  -96\n",
       "  -70\n",
       "  112\n",
       "  -84\n",
       "   40\n",
       " -104\n",
       "    ⋮\n",
       "    2\n",
       " -124\n",
       " -150\n",
       "  -28\n",
       "  124\n",
       "  -60\n",
       "  -36\n",
       "   48\n",
       "   60\n",
       "  144\n",
       "   14\n",
       "   42"
      ]
     },
     "execution_count": 24,
     "metadata": {},
     "output_type": "execute_result"
    }
   ],
   "source": [
    "@time run_serial(numwalkers, numsteps)\n",
    "@time run_distributed(numwalkers, numsteps)"
   ]
  },
  {
   "cell_type": "markdown",
   "metadata": {},
   "source": [
    "We see a 2x speedup with 2 processes!"
   ]
  },
  {
   "cell_type": "markdown",
   "metadata": {},
   "source": [
    "# Another example: random matrices"
   ]
  },
  {
   "cell_type": "code",
   "execution_count": null,
   "metadata": {},
   "outputs": [],
   "source": [
    "workers()"
   ]
  },
  {
   "cell_type": "code",
   "execution_count": null,
   "metadata": {},
   "outputs": [],
   "source": [
    "# addprocs(4)"
   ]
  },
  {
   "cell_type": "code",
   "execution_count": null,
   "metadata": {},
   "outputs": [],
   "source": [
    "@everywhere begin\n",
    "    using DistributedArrays\n",
    "    using StatsBase\n",
    "    using Plots\n",
    "end"
   ]
  },
  {
   "cell_type": "code",
   "execution_count": null,
   "metadata": {},
   "outputs": [],
   "source": [
    "@everywhere function stochastic(β = 2, n = 200)\n",
    "    h = n ^ -(1/3)\n",
    "    x = 0:h:10\n",
    "    N = length(x)\n",
    "    d = (-2 / h^2 .- x) + 2*sqrt(h*β) * randn(N) # diagonal\n",
    "    e = ones(N - 1) / h^2                     # subdiagonal\n",
    "  \n",
    "    eigvals(SymTridiagonal(d, e))[N]        # smallest negative eigenvalue\n",
    "end"
   ]
  },
  {
   "cell_type": "markdown",
   "metadata": {},
   "source": [
    "Serial version:"
   ]
  },
  {
   "cell_type": "code",
   "execution_count": null,
   "metadata": {},
   "outputs": [],
   "source": [
    "println(\"Serial version\")\n",
    "\n",
    "t = 10000\n",
    "p = plot()\n",
    "for β = [1,2,4,10,20]\n",
    "    \n",
    "    z = fit(Histogram, [stochastic(β) for i = 1:t], -4:0.01:1).weights\n",
    "    plot!(midpoints(-4:0.01:1), z / sum(z) / 0.01)\n",
    "end\n",
    "p"
   ]
  },
  {
   "cell_type": "markdown",
   "metadata": {},
   "source": [
    "A related parallel construct: `@parallel`. This does a \"reduce\" operation."
   ]
  },
  {
   "cell_type": "code",
   "execution_count": null,
   "metadata": {},
   "outputs": [],
   "source": [
    "println(\"@parallel version\")\n",
    "\n",
    "@everywhere t = 10000\n",
    "\n",
    "p = plot()\n",
    "\n",
    "for β = [1,2,4,10,20]\n",
    "    \n",
    "    z = @parallel (+) for p = 1:nprocs()\n",
    "        fit(Histogram, [stochastic(β) for i = 1:t], -4:0.01:1).weights\n",
    "    end\n",
    "    \n",
    "    plot!(midpoints(-4:0.01:1), z / sum(z) / 0.01)\n",
    "end\n",
    "\n",
    "p"
   ]
  },
  {
   "cell_type": "code",
   "execution_count": null,
   "metadata": {},
   "outputs": [],
   "source": [
    "function dhist(x; closed=:left, nbins=10)\n",
    "    \n",
    "    hist_parts = DArray(p->fit(Histogram, localpart(x), closed=closed, nbins=nbins).weights, (nbins*length(x.pids),))\n",
    "    \n",
    "    reduce(+, map(pid -> @fetchfrom(pid, localpart(hist_parts)), hist_parts.pids))\n",
    "      \n",
    "end"
   ]
  },
  {
   "cell_type": "code",
   "execution_count": null,
   "metadata": {},
   "outputs": [],
   "source": [
    "a = randn(10000)\n",
    "d = distribute(a)\n",
    "\n",
    "dhist(d)"
   ]
  },
  {
   "cell_type": "markdown",
   "metadata": {},
   "source": [
    "## SharedArrays and threads"
   ]
  },
  {
   "cell_type": "markdown",
   "metadata": {},
   "source": [
    "Alternative techniques are SharedArrays and threads.\n",
    "\n",
    "https://docs.julialang.org/en/stable/manual/parallel-computing"
   ]
  }
 ],
 "metadata": {
  "anaconda-cloud": {},
  "kernelspec": {
   "display_name": "Julia 0.6.2",
   "language": "julia",
   "name": "julia-0.6"
  },
  "language_info": {
   "file_extension": ".jl",
   "mimetype": "application/julia",
   "name": "julia",
   "version": "0.6.2"
  },
  "toc": {
   "colors": {
    "hover_highlight": "#DAA520",
    "running_highlight": "#FF0000",
    "selected_highlight": "#FFD700"
   },
   "moveMenuLeft": true,
   "nav_menu": {
    "height": "30px",
    "width": "252px"
   },
   "navigate_menu": true,
   "number_sections": true,
   "sideBar": true,
   "threshold": "2",
   "toc_cell": false,
   "toc_section_display": "block",
   "toc_window_display": false
  },
  "widgets": {
   "state": {
    "04489acf-0ee9-4f51-9a17-dc735256cded": {
     "views": [
      {
       "cell_index": 8
      }
     ]
    },
    "5afac284-85c1-489b-8d82-036277cd1cf4": {
     "views": [
      {
       "cell_index": 22
      }
     ]
    }
   },
   "version": "1.2.0"
  }
 },
 "nbformat": 4,
 "nbformat_minor": 2
}
