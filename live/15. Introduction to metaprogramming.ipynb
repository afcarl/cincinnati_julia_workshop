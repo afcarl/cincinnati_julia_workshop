{
 "cells": [
  {
   "cell_type": "markdown",
   "metadata": {},
   "source": [
    "# Introduction to metaprogramming"
   ]
  },
  {
   "cell_type": "markdown",
   "metadata": {},
   "source": [
    "Normal programs manipulate data. Metaprograms **manipulate code**. (In many languages this is impossible.)\n",
    "Of course, the ultimate goal is that the programs that we manipulate will later operate on data."
   ]
  },
  {
   "cell_type": "markdown",
   "metadata": {},
   "source": [
    "## Expressions"
   ]
  },
  {
   "cell_type": "markdown",
   "metadata": {},
   "source": [
    "We use the special syntax `:( ... )` to represent a piece of Julia code:"
   ]
  },
  {
   "cell_type": "code",
   "execution_count": 3,
   "metadata": {},
   "outputs": [
    {
     "ename": "LoadError",
     "evalue": "UndefVarError: x not defined",
     "output_type": "error",
     "traceback": [
      "UndefVarError: x not defined",
      ""
     ]
    }
   ],
   "source": [
    "x + 3  # tries to evaluate the variable x (which doesn't exist)"
   ]
  },
  {
   "cell_type": "code",
   "execution_count": 4,
   "metadata": {},
   "outputs": [
    {
     "data": {
      "text/plain": [
       ":(x + 3)"
      ]
     },
     "execution_count": 4,
     "metadata": {},
     "output_type": "execute_result"
    }
   ],
   "source": [
    "ex = :(x + 3)   # \"the unevaluated piece of code x + 3\""
   ]
  },
  {
   "cell_type": "markdown",
   "metadata": {},
   "source": [
    "We can look at the structure of the object `ex` with the `dump` function:"
   ]
  },
  {
   "cell_type": "code",
   "execution_count": 5,
   "metadata": {},
   "outputs": [
    {
     "data": {
      "text/plain": [
       ":(x + 3)"
      ]
     },
     "execution_count": 5,
     "metadata": {},
     "output_type": "execute_result"
    }
   ],
   "source": [
    "ex"
   ]
  },
  {
   "cell_type": "code",
   "execution_count": 6,
   "metadata": {},
   "outputs": [
    {
     "name": "stdout",
     "output_type": "stream",
     "text": [
      "Expr\n",
      "  head: Symbol call\n",
      "  args: Array{Any}((3,))\n",
      "    1: Symbol +\n",
      "    2: Symbol x\n",
      "    3: Int64 3\n",
      "  typ: Any\n"
     ]
    }
   ],
   "source": [
    "dump(ex)"
   ]
  },
  {
   "cell_type": "code",
   "execution_count": null,
   "metadata": {},
   "outputs": [],
   "source": [
    "typeof(ex)"
   ]
  },
  {
   "cell_type": "markdown",
   "metadata": {},
   "source": [
    "We see that `ex` is of type `Expr`, meaning a Julia expression object - a piece of Julia code, stored as an object inside Julia itself!\n",
    "\n",
    "The details about the object are stored (as usual) in its fields. The kind of expression object is stored as the `head` field:"
   ]
  },
  {
   "cell_type": "code",
   "execution_count": 7,
   "metadata": {},
   "outputs": [
    {
     "data": {
      "text/plain": [
       ":call"
      ]
     },
     "execution_count": 7,
     "metadata": {},
     "output_type": "execute_result"
    }
   ],
   "source": [
    "ex.head"
   ]
  },
  {
   "cell_type": "markdown",
   "metadata": {},
   "source": [
    "In this case, we see that it represents a function call. \n",
    "\n",
    "The arguments of the function call are stored in the `ex.args` field:"
   ]
  },
  {
   "cell_type": "code",
   "execution_count": 8,
   "metadata": {},
   "outputs": [
    {
     "data": {
      "text/plain": [
       "3-element Array{Any,1}:\n",
       "  :+\n",
       "  :x\n",
       " 3  "
      ]
     },
     "execution_count": 8,
     "metadata": {},
     "output_type": "execute_result"
    }
   ],
   "source": [
    "ex.args"
   ]
  },
  {
   "cell_type": "code",
   "execution_count": 9,
   "metadata": {},
   "outputs": [
    {
     "data": {
      "text/plain": [
       ":x"
      ]
     },
     "execution_count": 9,
     "metadata": {},
     "output_type": "execute_result"
    }
   ],
   "source": [
    "ex.args[2]"
   ]
  },
  {
   "cell_type": "code",
   "execution_count": 10,
   "metadata": {},
   "outputs": [
    {
     "data": {
      "text/plain": [
       ":y"
      ]
     },
     "execution_count": 10,
     "metadata": {},
     "output_type": "execute_result"
    }
   ],
   "source": [
    "ex.args[2] = :y"
   ]
  },
  {
   "cell_type": "code",
   "execution_count": 11,
   "metadata": {},
   "outputs": [
    {
     "data": {
      "text/plain": [
       ":(y + 3)"
      ]
     },
     "execution_count": 11,
     "metadata": {},
     "output_type": "execute_result"
    }
   ],
   "source": [
    "ex"
   ]
  },
  {
   "cell_type": "markdown",
   "metadata": {},
   "source": [
    "We can now *manipulate* and *modify* the object by *changing* these fields:"
   ]
  },
  {
   "cell_type": "code",
   "execution_count": null,
   "metadata": {},
   "outputs": [],
   "source": [
    "ex.args[2] = :z\n",
    "ex.args[3] = :4"
   ]
  },
  {
   "cell_type": "code",
   "execution_count": null,
   "metadata": {},
   "outputs": [],
   "source": [
    "ex"
   ]
  },
  {
   "cell_type": "markdown",
   "metadata": {},
   "source": [
    "We see that the expression has changed. We can even change it from an addition to something else:"
   ]
  },
  {
   "cell_type": "code",
   "execution_count": null,
   "metadata": {},
   "outputs": [],
   "source": [
    "ex.args[1] = :*"
   ]
  },
  {
   "cell_type": "code",
   "execution_count": null,
   "metadata": {},
   "outputs": [],
   "source": [
    "ex"
   ]
  },
  {
   "cell_type": "markdown",
   "metadata": {},
   "source": [
    "This is the basis of metaprogramming, since it gives us the ability to take one piece of code, and modify it to produce another piece of code."
   ]
  },
  {
   "cell_type": "markdown",
   "metadata": {},
   "source": [
    "The foundation of an expression are `Symbol`s, written with initial colons (`:`):\n"
   ]
  },
  {
   "cell_type": "code",
   "execution_count": null,
   "metadata": {},
   "outputs": [],
   "source": [
    "typeof(:z)"
   ]
  },
  {
   "cell_type": "markdown",
   "metadata": {},
   "source": [
    "A more compact form to display an expression is as follows:"
   ]
  },
  {
   "cell_type": "code",
   "execution_count": null,
   "metadata": {},
   "outputs": [],
   "source": [
    "Meta.show_sexpr(ex)"
   ]
  },
  {
   "cell_type": "markdown",
   "metadata": {},
   "source": [
    "## More complicated expressions"
   ]
  },
  {
   "cell_type": "markdown",
   "metadata": {},
   "source": [
    "What about more complicated expressions?"
   ]
  },
  {
   "cell_type": "code",
   "execution_count": null,
   "metadata": {},
   "outputs": [],
   "source": [
    "ex2 = :(x + 3y)"
   ]
  },
  {
   "cell_type": "code",
   "execution_count": null,
   "metadata": {},
   "outputs": [],
   "source": [
    "Meta.show_sexpr(ex2)"
   ]
  },
  {
   "cell_type": "code",
   "execution_count": null,
   "metadata": {},
   "outputs": [],
   "source": [
    "dump(ex2)"
   ]
  },
  {
   "cell_type": "code",
   "execution_count": null,
   "metadata": {},
   "outputs": [],
   "source": [
    "ex2.args[3]"
   ]
  },
  {
   "cell_type": "code",
   "execution_count": null,
   "metadata": {},
   "outputs": [],
   "source": [
    "typeof(ex2.args[3])"
   ]
  },
  {
   "cell_type": "markdown",
   "metadata": {},
   "source": [
    "We see that expressions are recursive, in the sense that the subpiece `:(3y)` is itself another `Expr` object."
   ]
  },
  {
   "cell_type": "markdown",
   "metadata": {},
   "source": [
    "Julia provides a mechanism to create an `Expr` from a `String`, via the `parse` function:"
   ]
  },
  {
   "cell_type": "code",
   "execution_count": null,
   "metadata": {},
   "outputs": [],
   "source": [
    "parse(\"x + 3y\")"
   ]
  },
  {
   "cell_type": "markdown",
   "metadata": {},
   "source": [
    "## Manipulating expressions"
   ]
  },
  {
   "cell_type": "markdown",
   "metadata": {},
   "source": [
    "How can we do something more complicated? For example, suppose we start with the expression"
   ]
  },
  {
   "cell_type": "code",
   "execution_count": null,
   "metadata": {},
   "outputs": [],
   "source": [
    "ex = :(x + 3x^2)"
   ]
  },
  {
   "cell_type": "markdown",
   "metadata": {},
   "source": [
    "and we would like to change *all* `x`s to `(x+1)`s? We will need to dig down into the structure.\n",
    "A first attempt is the following function. Note that this *modifies* its argument, so has a `!` (\"bang\") in the function name."
   ]
  },
  {
   "cell_type": "code",
   "execution_count": null,
   "metadata": {},
   "outputs": [],
   "source": [
    "function traverse!(ex::Expr)\n",
    "    \n",
    "    args = ex.args\n",
    "    \n",
    "    for i in 1:length(args)\n",
    "        \n",
    "        if args[i] == :x\n",
    "            args[i] = :(x+1)\n",
    "        end\n",
    "        \n",
    "    end\n",
    "end"
   ]
  },
  {
   "cell_type": "code",
   "execution_count": null,
   "metadata": {
    "collapsed": true
   },
   "outputs": [],
   "source": [
    "traverse!(ex)"
   ]
  },
  {
   "cell_type": "code",
   "execution_count": null,
   "metadata": {},
   "outputs": [],
   "source": [
    "ex"
   ]
  },
  {
   "cell_type": "markdown",
   "metadata": {},
   "source": [
    "Oops, that didn't work -- we didn't manage to reach inside the inner `Expr` object. "
   ]
  },
  {
   "cell_type": "code",
   "execution_count": null,
   "metadata": {},
   "outputs": [],
   "source": [
    "ex = :(x + 3x^2)"
   ]
  },
  {
   "cell_type": "code",
   "execution_count": null,
   "metadata": {},
   "outputs": [],
   "source": [
    "function traverse!(ex::Expr)\n",
    "    \n",
    "    args = ex.args\n",
    "    \n",
    "    for i in 1:length(args)\n",
    "        @show i, args[i]\n",
    "        if args[i] == :x\n",
    "            args[i] = :(x+1)\n",
    "        end\n",
    "    end\n",
    "end"
   ]
  },
  {
   "cell_type": "code",
   "execution_count": null,
   "metadata": {},
   "outputs": [],
   "source": [
    "traverse!(ex)"
   ]
  },
  {
   "cell_type": "markdown",
   "metadata": {},
   "source": [
    "The AST (\"Abstract Syntax Tree\") has a **recursive** structure, so we use a recursive function:"
   ]
  },
  {
   "cell_type": "code",
   "execution_count": null,
   "metadata": {},
   "outputs": [],
   "source": [
    "Meta.show_sexpr(ex)"
   ]
  },
  {
   "cell_type": "code",
   "execution_count": null,
   "metadata": {},
   "outputs": [],
   "source": [
    "function traverse!(ex::Expr)\n",
    "    \n",
    "    args = ex.args\n",
    "    \n",
    "    for i in 1:length(args)\n",
    "        @show i, args[i]\n",
    "        \n",
    "        if isa(args[i], Expr)\n",
    "            traverse!(args[i])\n",
    "            \n",
    "        elseif args[i] == :x\n",
    "            args[i] = :(x+1)\n",
    "        end\n",
    "    end\n",
    "end"
   ]
  },
  {
   "cell_type": "code",
   "execution_count": null,
   "metadata": {},
   "outputs": [],
   "source": [
    "traverse!(ex)"
   ]
  },
  {
   "cell_type": "code",
   "execution_count": null,
   "metadata": {},
   "outputs": [],
   "source": [
    "ex"
   ]
  },
  {
   "cell_type": "markdown",
   "metadata": {},
   "source": [
    "**Exercise**: Make the `traverse!` function more general, to replace `x` by an arbitrary expression that is another argument of the function."
   ]
  },
  {
   "cell_type": "markdown",
   "metadata": {},
   "source": [
    "## Evaluation"
   ]
  },
  {
   "cell_type": "markdown",
   "metadata": {},
   "source": [
    "Now that we have our new object, we want to use it in Julia. We do this using `eval`:\n"
   ]
  },
  {
   "cell_type": "code",
   "execution_count": null,
   "metadata": {},
   "outputs": [],
   "source": [
    "ex = :(3x^2)"
   ]
  },
  {
   "cell_type": "code",
   "execution_count": null,
   "metadata": {},
   "outputs": [],
   "source": [
    "eval(ex)"
   ]
  },
  {
   "cell_type": "code",
   "execution_count": null,
   "metadata": {},
   "outputs": [],
   "source": [
    "x = 3"
   ]
  },
  {
   "cell_type": "code",
   "execution_count": null,
   "metadata": {},
   "outputs": [],
   "source": [
    "eval(ex)"
   ]
  },
  {
   "cell_type": "markdown",
   "metadata": {},
   "source": [
    "## Using multiple dispatch with expressions"
   ]
  },
  {
   "cell_type": "markdown",
   "metadata": {},
   "source": [
    "What if, say, we want to wrap \"number literals\" like 3, 4.5 with `f(3)` etc.?\n",
    "We will write a more Julian version, using **multiple dispatch**:"
   ]
  },
  {
   "cell_type": "code",
   "execution_count": null,
   "metadata": {},
   "outputs": [],
   "source": [
    "function wrap_literals(ex::Expr, f::Symbol)\n",
    "    \n",
    "    #println(\"Entering !\")\n",
    "    #@show ex, s, new_expr\n",
    "    \n",
    "    args = ex.args\n",
    "    \n",
    "    for i in 1:length(args)\n",
    "        #@show i, args[i]\n",
    "        args[i] = wrap_literals(args[i], f)\n",
    "        \n",
    "    end\n",
    "    \n",
    "    return ex\n",
    "end\n",
    "\n",
    "wrap_literals(x::Number, f::Symbol) = :($f($x))\n",
    "wrap_literals(x, f) = x  # fall-back method"
   ]
  },
  {
   "cell_type": "code",
   "execution_count": null,
   "metadata": {},
   "outputs": [],
   "source": [
    "ex = :(3x^2)\n",
    "wrap_literals(:(3x^2), :f)"
   ]
  },
  {
   "cell_type": "markdown",
   "metadata": {},
   "source": [
    "## Inserting pieces of code"
   ]
  },
  {
   "cell_type": "markdown",
   "metadata": {},
   "source": [
    "Wilkinson-type polynomials are polynomials like"
   ]
  },
  {
   "cell_type": "markdown",
   "metadata": {},
   "source": [
    "$p_5(x) = (x-1) (x-2) (x-3) (x-4) (x-5)$"
   ]
  },
  {
   "cell_type": "markdown",
   "metadata": {},
   "source": [
    "In Julia we could write"
   ]
  },
  {
   "cell_type": "code",
   "execution_count": 5,
   "metadata": {},
   "outputs": [
    {
     "data": {
      "text/plain": [
       "p_5 (generic function with 1 method)"
      ]
     },
     "execution_count": 5,
     "metadata": {},
     "output_type": "execute_result"
    }
   ],
   "source": [
    "p_5(x) = (x-1) * (x-2) * (x-3) * (x-4) * (x-5)"
   ]
  },
  {
   "cell_type": "markdown",
   "metadata": {},
   "source": [
    "**Exercise:** We can interpolate pieces of code in other pieces using the `$` operator, and symbols from strings using `Symbol`. Make and evaluate an expression to define $p_n$ for different $n$, and interact with it."
   ]
  },
  {
   "cell_type": "markdown",
   "metadata": {},
   "source": [
    "## Generating repetitive code"
   ]
  },
  {
   "cell_type": "markdown",
   "metadata": {},
   "source": [
    "One of the uses of metaprogramming is **code generation**. \n",
    "Suppose that for some reason we want to make a type that behaves like a `Float64`, but with some additional functionality.:"
   ]
  },
  {
   "cell_type": "code",
   "execution_count": 4,
   "metadata": {},
   "outputs": [],
   "source": [
    "struct MyFloat\n",
    "    a::Float64\n",
    "end"
   ]
  },
  {
   "cell_type": "markdown",
   "metadata": {},
   "source": [
    "We would need to write methods like\n"
   ]
  },
  {
   "cell_type": "code",
   "execution_count": null,
   "metadata": {},
   "outputs": [],
   "source": [
    "import Base: +, -, *\n",
    "\n",
    "+(x::MyFloat, y::MyFloat) = x.a + y.a\n",
    "-(x::MyFloat, y::MyFloat) = x.a - y.a\n",
    "*(x::MyFloat, y::MyFloat) = x.a * y.a"
   ]
  },
  {
   "cell_type": "markdown",
   "metadata": {},
   "source": [
    "This will get boring fast. Whenever we have repetition like this, we should get the computer to do it for us. However, here we need to **repeat code**. Let's make a code *template*; it should look like\n",
    "\n",
    "    op(x::MyFloat, y::MyFloat) = op(x.a, y.a)"
   ]
  },
  {
   "cell_type": "markdown",
   "metadata": {},
   "source": [
    "We want a code object that looks like that:"
   ]
  },
  {
   "cell_type": "code",
   "execution_count": null,
   "metadata": {},
   "outputs": [],
   "source": [
    "ex = :(op(x::MyFloat, y::MyFloat) = op(x.a, y.a))"
   ]
  },
  {
   "cell_type": "markdown",
   "metadata": {},
   "source": [
    "We can also write this as "
   ]
  },
  {
   "cell_type": "code",
   "execution_count": 1,
   "metadata": {},
   "outputs": [
    {
     "data": {
      "text/plain": [
       "quote  # In[1], line 2:\n",
       "    op(x::MyFloat, y::MyFloat) = begin  # In[1], line 2:\n",
       "            op(x.a, y.a)\n",
       "        end\n",
       "end"
      ]
     },
     "execution_count": 1,
     "metadata": {},
     "output_type": "execute_result"
    }
   ],
   "source": [
    "ex = quote\n",
    "        op(x::MyFloat, y::MyFloat) = op(x.a, y.a)\n",
    "     end"
   ]
  },
  {
   "cell_type": "markdown",
   "metadata": {},
   "source": [
    "However, we want to replace `op` **by its value**"
   ]
  },
  {
   "cell_type": "code",
   "execution_count": 2,
   "metadata": {},
   "outputs": [
    {
     "data": {
      "text/plain": [
       "quote  # In[2], line 3:\n",
       "    x::MyFloat + y::MyFloat = begin  # In[2], line 3:\n",
       "            x.a + y.a\n",
       "        end\n",
       "end"
      ]
     },
     "execution_count": 2,
     "metadata": {},
     "output_type": "execute_result"
    }
   ],
   "source": [
    "op = :+\n",
    "ex = quote\n",
    "        $op(x::MyFloat, y::MyFloat) = $op(x.a, y.a)\n",
    "     end"
   ]
  },
  {
   "cell_type": "markdown",
   "metadata": {},
   "source": [
    "And now just loop:"
   ]
  },
  {
   "cell_type": "code",
   "execution_count": 5,
   "metadata": {},
   "outputs": [],
   "source": [
    "import Base: +,-,*,/\n",
    "\n",
    "for op in (:+, :-, :*, :/)\n",
    "    \n",
    "    ex = quote\n",
    "        $op(x::MyFloat, y::MyFloat) = $op(x.a, y.a)\n",
    "    end\n",
    "    \n",
    "    eval(ex)\n",
    "end\n"
   ]
  },
  {
   "cell_type": "code",
   "execution_count": 7,
   "metadata": {},
   "outputs": [
    {
     "data": {
      "text/plain": [
       "MyFloat(4.0)"
      ]
     },
     "execution_count": 7,
     "metadata": {},
     "output_type": "execute_result"
    }
   ],
   "source": [
    "x = MyFloat(3)\n",
    "y = MyFloat(4)"
   ]
  },
  {
   "cell_type": "code",
   "execution_count": 8,
   "metadata": {},
   "outputs": [
    {
     "data": {
      "text/plain": [
       "7.0"
      ]
     },
     "execution_count": 8,
     "metadata": {},
     "output_type": "execute_result"
    }
   ],
   "source": [
    "x + y"
   ]
  },
  {
   "cell_type": "code",
   "execution_count": 9,
   "metadata": {},
   "outputs": [
    {
     "data": {
      "text/plain": [
       "-1.0"
      ]
     },
     "execution_count": 9,
     "metadata": {},
     "output_type": "execute_result"
    }
   ],
   "source": [
    "x - y"
   ]
  },
  {
   "cell_type": "markdown",
   "metadata": {},
   "source": [
    "Julia provides `@eval` to make this shorter:"
   ]
  },
  {
   "cell_type": "code",
   "execution_count": null,
   "metadata": {},
   "outputs": [],
   "source": [
    "for op in (:+, :-, :*, :/)\n",
    "    \n",
    "    @eval $op(x::MyFloat, y::MyFloat) = $op(x.a, y.a)\n",
    "    \n",
    "end\n"
   ]
  },
  {
   "cell_type": "markdown",
   "metadata": {},
   "source": []
  },
  {
   "cell_type": "markdown",
   "metadata": {},
   "source": [
    "## Macros"
   ]
  },
  {
   "cell_type": "markdown",
   "metadata": {},
   "source": [
    "We don't want the user to have to think about Julia syntax objects. We can supply a **macro**.\n",
    "This can be thought of as a \"meta-function\": it takes a Julia expression object as argument, and returns a Julia expression object. However, when it is called, it *automatically parses its input into the expression object*."
   ]
  },
  {
   "cell_type": "markdown",
   "metadata": {},
   "source": [
    "The simplest example:"
   ]
  },
  {
   "cell_type": "code",
   "execution_count": null,
   "metadata": {},
   "outputs": [],
   "source": [
    "macro simple(ex)\n",
    "    show(ex)\n",
    "    return nothing\n",
    "end   "
   ]
  },
  {
   "cell_type": "code",
   "execution_count": null,
   "metadata": {},
   "outputs": [],
   "source": [
    "@simple 3x"
   ]
  },
  {
   "cell_type": "markdown",
   "metadata": {},
   "source": [
    "We can now make a macro `wrap` that calls our function:"
   ]
  },
  {
   "cell_type": "code",
   "execution_count": null,
   "metadata": {},
   "outputs": [],
   "source": [
    "macro wrap(f, ex)\n",
    "    new_ex = wrap_literals(ex, f)\n",
    "    show(new_ex)\n",
    "end"
   ]
  },
  {
   "cell_type": "code",
   "execution_count": null,
   "metadata": {},
   "outputs": [],
   "source": [
    "@wrap g 3x+2"
   ]
  },
  {
   "cell_type": "markdown",
   "metadata": {},
   "source": [
    "We can also call it as `@wrap(g, 3x+2)`:"
   ]
  },
  {
   "cell_type": "code",
   "execution_count": null,
   "metadata": {},
   "outputs": [],
   "source": [
    "@wrap(g, 3x+2)"
   ]
  },
  {
   "cell_type": "markdown",
   "metadata": {},
   "source": [
    "In fact, macros should **return an expression**. This expression will be **evaluated in the scope in which it is called**:"
   ]
  },
  {
   "cell_type": "code",
   "execution_count": null,
   "metadata": {},
   "outputs": [],
   "source": [
    "macro wrap(f, ex)\n",
    "    new_ex = wrap_literals(ex, f)\n",
    "    return new_ex\n",
    "end"
   ]
  },
  {
   "cell_type": "code",
   "execution_count": null,
   "metadata": {},
   "outputs": [],
   "source": [
    "@wrap(g, 3x+2)"
   ]
  },
  {
   "cell_type": "code",
   "execution_count": null,
   "metadata": {},
   "outputs": [],
   "source": [
    "x = 3\n",
    "g(x) = 10x"
   ]
  },
  {
   "cell_type": "code",
   "execution_count": null,
   "metadata": {},
   "outputs": [],
   "source": [
    "@wrap g 3x+2"
   ]
  },
  {
   "cell_type": "code",
   "execution_count": null,
   "metadata": {},
   "outputs": [],
   "source": [
    "g(3)*x+g(2)"
   ]
  },
  {
   "cell_type": "markdown",
   "metadata": {},
   "source": [
    "## Example of macro: @time "
   ]
  },
  {
   "cell_type": "code",
   "execution_count": 12,
   "metadata": {},
   "outputs": [
    {
     "name": "stdout",
     "output_type": "stream",
     "text": [
      "  0.000002 seconds (5 allocations: 176 bytes)\n"
     ]
    },
    {
     "data": {
      "text/plain": [
       "-0.5440211108893698"
      ]
     },
     "execution_count": 12,
     "metadata": {},
     "output_type": "execute_result"
    }
   ],
   "source": [
    "@time sin(10)"
   ]
  },
  {
   "cell_type": "code",
   "execution_count": 13,
   "metadata": {},
   "outputs": [
    {
     "data": {
      "text/plain": [
       "quote  # util.jl, line 235:\n",
       "    local #10#stats = (Base.gc_num)() # util.jl, line 236:\n",
       "    local #12#elapsedtime = (Base.time_ns)() # util.jl, line 237:\n",
       "    local #11#val = sin(10) # util.jl, line 238:\n",
       "    #12#elapsedtime = (Base.time_ns)() - #12#elapsedtime # util.jl, line 239:\n",
       "    local #13#diff = (Base.GC_Diff)((Base.gc_num)(), #10#stats) # util.jl, line 240:\n",
       "    (Base.time_print)(#12#elapsedtime, #13#diff.allocd, #13#diff.total_time, (Base.gc_alloc_count)(#13#diff)) # util.jl, line 242:\n",
       "    #11#val\n",
       "end"
      ]
     },
     "execution_count": 13,
     "metadata": {},
     "output_type": "execute_result"
    }
   ],
   "source": [
    "@macroexpand @time sin(10)"
   ]
  },
  {
   "cell_type": "code",
   "execution_count": 14,
   "metadata": {},
   "outputs": [
    {
     "name": "stderr",
     "output_type": "stream",
     "text": [
      "\u001b[1m\u001b[36mINFO: \u001b[39m\u001b[22m\u001b[36mRecompiling stale cache file /Users/dpsanders/.julia/lib/v0.6/Polynomials.ji for module Polynomials.\n",
      "\u001b[39m\u001b[1m\u001b[36mINFO: \u001b[39m\u001b[22m\u001b[36mRecompiling stale cache file /Users/dpsanders/.julia/lib/v0.6/IntervalConstraintProgramming.ji for module IntervalConstraintProgramming.\n",
      "\u001b[39m\n",
      "WARNING: deprecated syntax \"abstract Separator\" at /Users/dpsanders/.julia/v0.6/IntervalConstraintProgramming/src/separator.jl:2.\n",
      "Use \"abstract type Separator end\" instead.\n",
      "\n",
      "WARNING: deprecated syntax \"typealias SubPaving{N,T} Vector{IntervalBox{N,T}}\" at /Users/dpsanders/.julia/v0.6/IntervalConstraintProgramming/src/paving.jl:2.\n",
      "Use \"SubPaving{N,T} = Vector{IntervalBox{N,T}}\" instead.\n"
     ]
    }
   ],
   "source": [
    "using IntervalConstraintProgramming"
   ]
  },
  {
   "cell_type": "code",
   "execution_count": 15,
   "metadata": {},
   "outputs": [
    {
     "data": {
      "text/plain": [
       "Separator:\n",
       "  - variables: x, y\n",
       "  - expression: x ^ 2 + y ^ 2 ∈ [-∞, 1]"
      ]
     },
     "execution_count": 15,
     "metadata": {},
     "output_type": "execute_result"
    }
   ],
   "source": [
    "C = @constraint x^2 + y^2 <= 1"
   ]
  },
  {
   "cell_type": "code",
   "execution_count": 19,
   "metadata": {},
   "outputs": [],
   "source": [
    "using MacroTools"
   ]
  },
  {
   "cell_type": "code",
   "execution_count": 20,
   "metadata": {},
   "outputs": [
    {
     "data": {
      "text/plain": [
       "quote \n",
       "    t->begin \n",
       "            begin \n",
       "                (x, y) = t\n",
       "                begin \n",
       "                    _a = x ^ 2\n",
       "                    _b = y ^ 2\n",
       "                    _c = _a + _b\n",
       "                end\n",
       "                return (_c, (_a, _b))\n",
       "            end\n",
       "        end\n",
       "end"
      ]
     },
     "execution_count": 20,
     "metadata": {},
     "output_type": "execute_result"
    }
   ],
   "source": [
    "MacroTools.striplines(C.contractor.forward.code)"
   ]
  },
  {
   "cell_type": "code",
   "execution_count": 21,
   "metadata": {},
   "outputs": [
    {
     "data": {
      "text/plain": [
       "quote \n",
       "    (t1, t2, t3)->begin \n",
       "            begin \n",
       "                (x, y) = t1\n",
       "                (_c,) = t2\n",
       "                (_a, _b) = t3\n",
       "                begin \n",
       "                    (_c, _a, _b) = plus_rev(_c, _a, _b)\n",
       "                    (_b, y, _) = power_rev(_b, y, 2)\n",
       "                    (_a, x, _) = power_rev(_a, x, 2)\n",
       "                end\n",
       "                return (x, y)\n",
       "            end\n",
       "        end\n",
       "end"
      ]
     },
     "execution_count": 21,
     "metadata": {},
     "output_type": "execute_result"
    }
   ],
   "source": [
    "MacroTools.striplines(C.contractor.backward.code)"
   ]
  },
  {
   "cell_type": "code",
   "execution_count": 18,
   "metadata": {},
   "outputs": [
    {
     "data": {
      "text/plain": [
       "quote  # /Users/dpsanders/.julia/v0.6/IntervalConstraintProgramming/src/separator.jl, line 125:\n",
       "    _C1 = (IntervalConstraintProgramming.Contractor)(Symbol[:x, :y], Symbol[:_f], (IntervalConstraintProgramming.GeneratedFunction)(begin  # /Users/dpsanders/.julia/v0.6/IntervalConstraintProgramming/src/code_generation.jl, line 193:\n",
       "                    #40#t->begin  # /Users/dpsanders/.julia/v0.6/IntervalConstraintProgramming/src/code_generation.jl, line 193:\n",
       "                            begin  # /Users/dpsanders/.julia/v0.6/IntervalConstraintProgramming/src/code_generation.jl, line 194:\n",
       "                                (#35#x, #36#y) = #40#t # /Users/dpsanders/.julia/v0.6/IntervalConstraintProgramming/src/code_generation.jl, line 195:\n",
       "                                begin \n",
       "                                    #37#_d = #35#x ^ 2\n",
       "                                    #38#_e = #36#y ^ 2\n",
       "                                    #39#_f = #37#_d + #38#_e\n",
       "                                end # /Users/dpsanders/.julia/v0.6/IntervalConstraintProgramming/src/code_generation.jl, line 196:\n",
       "                                return (#39#_f, (#37#_d, #38#_e))\n",
       "                            end\n",
       "                        end\n",
       "                end, $(Expr(:copyast, :($(QuoteNode(quote  # /Users/dpsanders/.julia/v0.6/IntervalConstraintProgramming/src/code_generation.jl, line 193:\n",
       "    t->begin  # /Users/dpsanders/.julia/v0.6/IntervalConstraintProgramming/src/code_generation.jl, line 193:\n",
       "            begin  # /Users/dpsanders/.julia/v0.6/IntervalConstraintProgramming/src/code_generation.jl, line 194:\n",
       "                (x, y) = t # /Users/dpsanders/.julia/v0.6/IntervalConstraintProgramming/src/code_generation.jl, line 195:\n",
       "                begin \n",
       "                    _d = x ^ 2\n",
       "                    _e = y ^ 2\n",
       "                    _f = _d + _e\n",
       "                end # /Users/dpsanders/.julia/v0.6/IntervalConstraintProgramming/src/code_generation.jl, line 196:\n",
       "                return (_f, (_d, _e))\n",
       "            end\n",
       "        end\n",
       "end)))))), (IntervalConstraintProgramming.GeneratedFunction)(begin  # /Users/dpsanders/.julia/v0.6/IntervalConstraintProgramming/src/code_generation.jl, line 209:\n",
       "                    (#47#t1, #48#t2, #49#t3)->begin  # /Users/dpsanders/.julia/v0.6/IntervalConstraintProgramming/src/code_generation.jl, line 209:\n",
       "                            begin  # /Users/dpsanders/.julia/v0.6/IntervalConstraintProgramming/src/code_generation.jl, line 210:\n",
       "                                (#45#x, #43#y) = #47#t1 # /Users/dpsanders/.julia/v0.6/IntervalConstraintProgramming/src/code_generation.jl, line 211:\n",
       "                                (#41#_f,) = #48#t2 # /Users/dpsanders/.julia/v0.6/IntervalConstraintProgramming/src/code_generation.jl, line 212:\n",
       "                                (#44#_d, #42#_e) = #49#t3 # /Users/dpsanders/.julia/v0.6/IntervalConstraintProgramming/src/code_generation.jl, line 213:\n",
       "                                begin \n",
       "                                    (#41#_f, #44#_d, #42#_e) = (IntervalConstraintProgramming.plus_rev)(#41#_f, #44#_d, #42#_e)\n",
       "                                    (#42#_e, #43#y, #46#_) = (IntervalConstraintProgramming.power_rev)(#42#_e, #43#y, 2)\n",
       "                                    (#44#_d, #45#x, #46#_) = (IntervalConstraintProgramming.power_rev)(#44#_d, #45#x, 2)\n",
       "                                end # /Users/dpsanders/.julia/v0.6/IntervalConstraintProgramming/src/code_generation.jl, line 214:\n",
       "                                return (#45#x, #43#y)\n",
       "                            end\n",
       "                        end\n",
       "                end, $(Expr(:copyast, :($(QuoteNode(quote  # /Users/dpsanders/.julia/v0.6/IntervalConstraintProgramming/src/code_generation.jl, line 209:\n",
       "    (t1, t2, t3)->begin  # /Users/dpsanders/.julia/v0.6/IntervalConstraintProgramming/src/code_generation.jl, line 209:\n",
       "            begin  # /Users/dpsanders/.julia/v0.6/IntervalConstraintProgramming/src/code_generation.jl, line 210:\n",
       "                (x, y) = t1 # /Users/dpsanders/.julia/v0.6/IntervalConstraintProgramming/src/code_generation.jl, line 211:\n",
       "                (_f,) = t2 # /Users/dpsanders/.julia/v0.6/IntervalConstraintProgramming/src/code_generation.jl, line 212:\n",
       "                (_d, _e) = t3 # /Users/dpsanders/.julia/v0.6/IntervalConstraintProgramming/src/code_generation.jl, line 213:\n",
       "                begin \n",
       "                    (_f, _d, _e) = plus_rev(_f, _d, _e)\n",
       "                    (_e, y, _) = power_rev(_e, y, 2)\n",
       "                    (_d, x, _) = power_rev(_d, x, 2)\n",
       "                end # /Users/dpsanders/.julia/v0.6/IntervalConstraintProgramming/src/code_generation.jl, line 214:\n",
       "                return (x, y)\n",
       "            end\n",
       "        end\n",
       "end)))))), $(Expr(:copyast, :($(QuoteNode(:(x ^ 2 + y ^ 2)))))))\n",
       "    (IntervalConstraintProgramming.ConstraintSeparator)([-∞, 1], _C1, $(Expr(:copyast, :($(QuoteNode(:(x ^ 2 + y ^ 2 ∈ [-∞, 1])))))))\n",
       "end"
      ]
     },
     "execution_count": 18,
     "metadata": {},
     "output_type": "execute_result"
    }
   ],
   "source": [
    "@macroexpand @constraint x^2 + y^2 <= 1"
   ]
  },
  {
   "cell_type": "code",
   "execution_count": null,
   "metadata": {},
   "outputs": [],
   "source": []
  }
 ],
 "metadata": {
  "kernelspec": {
   "display_name": "Julia 0.6.2",
   "language": "julia",
   "name": "julia-0.6"
  },
  "language_info": {
   "file_extension": ".jl",
   "mimetype": "application/julia",
   "name": "julia",
   "version": "0.6.2"
  },
  "toc": {
   "colors": {
    "hover_highlight": "#DAA520",
    "running_highlight": "#FF0000",
    "selected_highlight": "#FFD700"
   },
   "moveMenuLeft": true,
   "nav_menu": {
    "height": "30px",
    "width": "252px"
   },
   "navigate_menu": true,
   "number_sections": true,
   "sideBar": true,
   "threshold": "1",
   "toc_cell": false,
   "toc_section_display": "block",
   "toc_window_display": false
  }
 },
 "nbformat": 4,
 "nbformat_minor": 1
}
