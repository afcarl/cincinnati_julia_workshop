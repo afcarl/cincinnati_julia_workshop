{
 "cells": [
  {
   "cell_type": "markdown",
   "metadata": {},
   "source": [
    "# Domain-specific languages in Julia: Generating callable objects using macros"
   ]
  },
  {
   "cell_type": "markdown",
   "metadata": {},
   "source": [
    "Since the beginning of Julia, it has been tempting to use macros to write **domain-specific languages** (DSLs), i.e. to *extend* Julia syntax to provide a simpler interface to create Julia objects with complicated behaviour. The first, and still most extensive, example is [JuMP](https://github.com/JuliaOpt/JuMP.jl).\n",
    "\n",
    "In this post, we will describe a pattern (i.e., a reusable structure) for creating DSLs with Julia 0.6 and above."
   ]
  },
  {
   "cell_type": "markdown",
   "metadata": {},
   "source": [
    "## Creating a `Model` object containing a function"
   ]
  },
  {
   "cell_type": "markdown",
   "metadata": {},
   "source": [
    "This blog post arose from a question in the JuliaCon 2017 hackathon about the [Modia modelling language](https://github.com/ModiaSim/Modia.jl), where there is a `@model` macro. Here we will describe the simplest possible version of such a macro, which will create a `Model` object that contains a function, and is itself callable."
   ]
  },
  {
   "cell_type": "markdown",
   "metadata": {},
   "source": [
    "First we define the `Model` object. It is tempting to write it like this:"
   ]
  },
  {
   "cell_type": "code",
   "execution_count": null,
   "metadata": {},
   "outputs": [],
   "source": [
    "struct NaiveModel\n",
    "    f::Function\n",
    "end"
   ]
  },
  {
   "cell_type": "markdown",
   "metadata": {},
   "source": [
    "We can then create an instance of the `NaiveModel` type (i.e. an object of that type) using the default constructor, e.g. by passing it an anonymous function:"
   ]
  },
  {
   "cell_type": "code",
   "execution_count": null,
   "metadata": {},
   "outputs": [],
   "source": [
    "m1 = NaiveModel(x->2x)"
   ]
  },
  {
   "cell_type": "markdown",
   "metadata": {},
   "source": [
    "and we can call the function using"
   ]
  },
  {
   "cell_type": "code",
   "execution_count": null,
   "metadata": {},
   "outputs": [],
   "source": [
    "m1.f(10)"
   ]
  },
  {
   "cell_type": "markdown",
   "metadata": {},
   "source": [
    "If we wish instances like `m` to themselves behave like functions, we can overload the call syntax on the `NaiveModel` object:"
   ]
  },
  {
   "cell_type": "code",
   "execution_count": null,
   "metadata": {},
   "outputs": [],
   "source": [
    "(m::NaiveModel)(x) = m.f(x)"
   ]
  },
  {
   "cell_type": "markdown",
   "metadata": {},
   "source": [
    "so that we can now just write"
   ]
  },
  {
   "cell_type": "code",
   "execution_count": null,
   "metadata": {},
   "outputs": [],
   "source": [
    "m1(10)"
   ]
  },
  {
   "cell_type": "markdown",
   "metadata": {},
   "source": [
    "## Parametrising the type"
   ]
  },
  {
   "cell_type": "markdown",
   "metadata": {},
   "source": [
    "Since `Function` is an abstract type, for performance we should *not* have a field of this type inside our object.\n",
    "Rather, we parametrise the type using the type of the function:"
   ]
  },
  {
   "cell_type": "code",
   "execution_count": null,
   "metadata": {},
   "outputs": [],
   "source": [
    "struct Model{F}\n",
    "    f::F\n",
    "end\n",
    "\n",
    "(m::Model)(x) = m.f(x)"
   ]
  },
  {
   "cell_type": "code",
   "execution_count": null,
   "metadata": {},
   "outputs": [],
   "source": [
    "m2 = Model(x->2x)"
   ]
  },
  {
   "cell_type": "code",
   "execution_count": null,
   "metadata": {},
   "outputs": [],
   "source": [
    "m2(10)"
   ]
  },
  {
   "cell_type": "markdown",
   "metadata": {},
   "source": [
    "Let's compare the performance:"
   ]
  },
  {
   "cell_type": "code",
   "execution_count": null,
   "metadata": {},
   "outputs": [],
   "source": [
    "using BenchmarkTools"
   ]
  },
  {
   "cell_type": "code",
   "execution_count": null,
   "metadata": {},
   "outputs": [],
   "source": [
    "@btime m1(10)"
   ]
  },
  {
   "cell_type": "code",
   "execution_count": null,
   "metadata": {},
   "outputs": [],
   "source": [
    "@btime m2(10)"
   ]
  },
  {
   "cell_type": "markdown",
   "metadata": {},
   "source": [
    "Indeed we have removed some overhead in the second case."
   ]
  },
  {
   "cell_type": "markdown",
   "metadata": {},
   "source": [
    "## Defining a macro to create objects"
   ]
  },
  {
   "cell_type": "markdown",
   "metadata": {},
   "source": [
    "We now wish to define a macro that will allow us to use a simple syntax (that uses standard Julia syntax but itself is not valid Julia code) to create objects. In this case, we wish to write\n",
    "\n",
    "    @model 2x\n",
    "    \n",
    "to define a `Model` object with the function `x->2x`."
   ]
  },
  {
   "cell_type": "markdown",
   "metadata": {},
   "source": [
    "We will build up to macros by first building the tools (standard Julia functions) to manipulate the expression `2x` in the correct way to build a `Model` object from it."
   ]
  },
  {
   "cell_type": "markdown",
   "metadata": {},
   "source": [
    "First, let's create a function to manipulate our expression:"
   ]
  },
  {
   "cell_type": "code",
   "execution_count": null,
   "metadata": {},
   "outputs": [],
   "source": [
    "function make_function(ex::Expr)\n",
    "    return :(x -> $ex)\n",
    "end"
   ]
  },
  {
   "cell_type": "code",
   "execution_count": null,
   "metadata": {},
   "outputs": [],
   "source": [
    "ex = :(2x)\n",
    "make_function(ex)"
   ]
  },
  {
   "cell_type": "markdown",
   "metadata": {},
   "source": [
    "This function assumes that `ex` is an expression containing the variable `x` and makes a new expression representing an\n",
    "anonymous function with the single argument `x`. (See [my JuliaCon 2017 tutorial](https://github.com/dpsanders/julia_towards_1.0/blob/master/4.%20Metaprogramming.ipynb) for an example of how to walk through the expression tree in order to extract *automatically* the variables that it contains.)"
   ]
  },
  {
   "cell_type": "markdown",
   "metadata": {},
   "source": [
    "Now let's define a function `make_model` that takes a function and wraps it and passes it into a `Model` object:"
   ]
  },
  {
   "cell_type": "code",
   "execution_count": null,
   "metadata": {},
   "outputs": [],
   "source": [
    "function make_model(ex::Expr)\n",
    "    return :(Model($ex))\n",
    "end"
   ]
  },
  {
   "cell_type": "code",
   "execution_count": null,
   "metadata": {},
   "outputs": [],
   "source": [
    "make_model(make_function(:(2x)))"
   ]
  },
  {
   "cell_type": "markdown",
   "metadata": {},
   "source": [
    "If we evaluate this \"by hand\", we see that it correctly creates a `Model` object:"
   ]
  },
  {
   "cell_type": "code",
   "execution_count": null,
   "metadata": {},
   "outputs": [],
   "source": [
    "m3 = eval(make_model(make_function(:(2x))))"
   ]
  },
  {
   "cell_type": "code",
   "execution_count": null,
   "metadata": {},
   "outputs": [],
   "source": [
    "m3(10)"
   ]
  },
  {
   "cell_type": "markdown",
   "metadata": {},
   "source": [
    "## Making a macro"
   ]
  },
  {
   "cell_type": "markdown",
   "metadata": {},
   "source": [
    "However, this is ugly and clumsy. Instead, we now wrap everything inside a **macro**."
   ]
  },
  {
   "cell_type": "markdown",
   "metadata": {},
   "source": [
    "A **macro** is a kind of \"super-function\" that manipulates code. \n",
    "\n",
    "\n",
    "A macro, in the simplest case, takes a single Julia `Expr` object (i.e. an unevaluated Julia expression) as argument. \n",
    "It manipulates this expression object to create a new expression object, and returns this new expression.\n",
    "\n",
    "The key point is that **this returned expression is *automatically* evaluated in the correct scope** when the macro returns.\n",
    "Indeed, the macro actually \"splices in\" the newly-generated code in place of the old code, before the Julia compiler kicks in."
   ]
  },
  {
   "cell_type": "markdown",
   "metadata": {},
   "source": [
    "Let's start with the simplest possible macro:"
   ]
  },
  {
   "cell_type": "code",
   "execution_count": null,
   "metadata": {},
   "outputs": [],
   "source": [
    "macro model(ex)\n",
    "    @show ex\n",
    "    @show typeof(ex)\n",
    "    return nothing\n",
    "end"
   ]
  },
  {
   "cell_type": "markdown",
   "metadata": {},
   "source": [
    "It just shows the argument that it was passed and exits, returning an empty expression."
   ]
  },
  {
   "cell_type": "code",
   "execution_count": null,
   "metadata": {},
   "outputs": [],
   "source": [
    "m4 = @model 2x"
   ]
  },
  {
   "cell_type": "markdown",
   "metadata": {},
   "source": [
    "We see that the Julia `Expr` object has been automatically created from the explicit code that we typed."
   ]
  },
  {
   "cell_type": "markdown",
   "metadata": {},
   "source": [
    "Now we can plug in our previous functions to complete the macro's functionality:"
   ]
  },
  {
   "cell_type": "code",
   "execution_count": null,
   "metadata": {},
   "outputs": [],
   "source": [
    "macro model(ex)\n",
    "    return make_model(make_function(ex))\n",
    "end"
   ]
  },
  {
   "cell_type": "code",
   "execution_count": null,
   "metadata": {},
   "outputs": [],
   "source": [
    "m5 = @model 2x"
   ]
  },
  {
   "cell_type": "code",
   "execution_count": null,
   "metadata": {},
   "outputs": [],
   "source": [
    "@macroexpand @model 2x"
   ]
  },
  {
   "cell_type": "code",
   "execution_count": null,
   "metadata": {},
   "outputs": [],
   "source": [
    "m5(10)"
   ]
  },
  {
   "cell_type": "markdown",
   "metadata": {},
   "source": [
    "To check that the macro is doing what we think it is, we can use the `@macroexpand` command, which itself is a macro (as denoted by the initial `@`):"
   ]
  },
  {
   "cell_type": "code",
   "execution_count": null,
   "metadata": {},
   "outputs": [],
   "source": [
    "@macroexpand @model 2x"
   ]
  },
  {
   "cell_type": "markdown",
   "metadata": {},
   "source": [
    "## Macro \"hygiene\""
   ]
  },
  {
   "cell_type": "markdown",
   "metadata": {},
   "source": [
    "However, our macro has an issue, called macro \"hygiene\". This has to do with where variables are defined. Let's put everything we have so far inside a module:"
   ]
  },
  {
   "cell_type": "code",
   "execution_count": null,
   "metadata": {},
   "outputs": [],
   "source": [
    "module Models\n",
    "\n",
    "export Model, @model\n",
    "\n",
    "struct Model{F}\n",
    "    f::F\n",
    "end\n",
    "\n",
    "(m::Model)(x) = m.f(x)\n",
    "\n",
    "function make_function(ex::Expr)\n",
    "    return :(x -> $ex)\n",
    "end\n",
    "\n",
    "function make_model(ex::Expr)\n",
    "    return :(Model($ex))\n",
    "end\n",
    "\n",
    "macro model(ex)\n",
    "    return make_model(make_function(ex))\n",
    "end\n",
    "\n",
    "end"
   ]
  },
  {
   "cell_type": "markdown",
   "metadata": {},
   "source": [
    "Now we import the module and use the macro:"
   ]
  },
  {
   "cell_type": "code",
   "execution_count": null,
   "metadata": {},
   "outputs": [],
   "source": [
    "using Models\n",
    "\n",
    "m6 = @model 2x\n",
    "m6(10)"
   ]
  },
  {
   "cell_type": "markdown",
   "metadata": {},
   "source": [
    "So far so good. But now let's try to include a global variable in the expression:"
   ]
  },
  {
   "cell_type": "code",
   "execution_count": null,
   "metadata": {},
   "outputs": [],
   "source": [
    "a = 2\n",
    "m7 = @model 2*a*x"
   ]
  },
  {
   "cell_type": "code",
   "execution_count": null,
   "metadata": {},
   "outputs": [],
   "source": [
    "m7(10)"
   ]
  },
  {
   "cell_type": "markdown",
   "metadata": {},
   "source": [
    "We see that it cannot find `a`. Let's see what the macro is doing:"
   ]
  },
  {
   "cell_type": "code",
   "execution_count": null,
   "metadata": {},
   "outputs": [],
   "source": [
    "@macroexpand @model 2*a*x"
   ]
  },
  {
   "cell_type": "markdown",
   "metadata": {},
   "source": [
    "We see that Julia is looking for `Models.a`, i.e. a variable `a` defined inside the `Models` module. \n",
    "\n",
    "To fix this problem, we must write a \"hygienic\" macro, by **escaping** the code. This is a mechanism telling the compiler to look for variable definitions in the scope from which the macro is called (here, the current module `Main`), rather than the scope where the macro is defined (here, the `Models` module):"
   ]
  },
  {
   "cell_type": "code",
   "execution_count": null,
   "metadata": {},
   "outputs": [],
   "source": [
    "module Models2\n",
    "\n",
    "export Model, @model\n",
    "\n",
    "struct Model{F}\n",
    "    f::F\n",
    "end\n",
    "\n",
    "(m::Model)(x) = m.f(x)\n",
    "\n",
    "function make_function(ex::Expr)\n",
    "    return :(x -> $ex)\n",
    "end\n",
    "\n",
    "function make_model(ex::Expr)\n",
    "    return :(Model($ex))\n",
    "end\n",
    "\n",
    "macro model(ex)\n",
    "    return esc(make_model(make_function(ex)))\n",
    "end\n",
    "\n",
    "end"
   ]
  },
  {
   "cell_type": "code",
   "execution_count": null,
   "metadata": {},
   "outputs": [],
   "source": [
    "using Models2\n",
    "\n",
    "a = 2\n",
    "m8 = @model 2*a*x"
   ]
  },
  {
   "cell_type": "code",
   "execution_count": null,
   "metadata": {},
   "outputs": [],
   "source": [
    "m8(10)"
   ]
  },
  {
   "cell_type": "markdown",
   "metadata": {},
   "source": [
    "This is the final, working version of the macro."
   ]
  },
  {
   "cell_type": "markdown",
   "metadata": {},
   "source": [
    "## Conclusion"
   ]
  },
  {
   "cell_type": "markdown",
   "metadata": {},
   "source": [
    "We have successfully completed our task: we have seen how to create a macro that enables a simple syntax for creating a Julia object that we can use later. \n",
    "\n",
    "This is the recommended pattern for creating DSLs in Julia."
   ]
  },
  {
   "cell_type": "markdown",
   "metadata": {
    "collapsed": true
   },
   "source": [
    "For a more in-depth discussion of metaprogramming techniques and macros, see my video tutorial *Invitation to intermediate Julia*, given at JuliaCon 2016:\n",
    "\n",
    "- Video: https://www.youtube.com/watch?v=rAxzR7lMGDM\n",
    "- Jupyter notebooks: https://github.com/dpsanders/intermediate_julia"
   ]
  },
  {
   "cell_type": "markdown",
   "metadata": {},
   "source": [
    "**Author**: [David P. Sanders](http://sistemas.fciencias.unam.mx/~dsanders/), Associate Professor, Department of Physics, Faculty of Sciences, National University of Mexico (UNAM)."
   ]
  }
 ],
 "metadata": {
  "kernelspec": {
   "display_name": "Julia 0.6.2",
   "language": "julia",
   "name": "julia-0.6"
  },
  "language_info": {
   "file_extension": ".jl",
   "mimetype": "application/julia",
   "name": "julia",
   "version": "0.6.2"
  },
  "toc": {
   "colors": {
    "hover_highlight": "#DAA520",
    "running_highlight": "#FF0000",
    "selected_highlight": "#FFD700"
   },
   "moveMenuLeft": true,
   "nav_menu": {
    "height": "12px",
    "width": "252px"
   },
   "navigate_menu": true,
   "number_sections": true,
   "sideBar": true,
   "threshold": "1",
   "toc_cell": false,
   "toc_section_display": "block",
   "toc_window_display": false
  }
 },
 "nbformat": 4,
 "nbformat_minor": 2
}
