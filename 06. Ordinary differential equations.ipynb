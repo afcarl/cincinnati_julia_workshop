{
 "cells": [
  {
   "cell_type": "markdown",
   "metadata": {},
   "source": [
    "# Ordinary differential equations"
   ]
  },
  {
   "cell_type": "markdown",
   "metadata": {},
   "source": [
    "Julia now has perhaps the best suite of ordinary differential equation solvers of *any* platform.\n",
    "It also has SDEs, and other related types of equation. There are also various efforts for solving different kinds of PDEs."
   ]
  },
  {
   "cell_type": "code",
   "execution_count": null,
   "metadata": {},
   "outputs": [],
   "source": [
    "using DifferentialEquations"
   ]
  },
  {
   "cell_type": "markdown",
   "metadata": {},
   "source": [
    "To solve an ODE of the form"
   ]
  },
  {
   "cell_type": "markdown",
   "metadata": {},
   "source": [
    "$$\\dot{\\mathbf{x}} = \\mathbf{f}_\\mathbf{\\mu}(\\mathbf{x}, t),$$\n",
    "where $\\mathbf{\\mu}$ is a vector of parameters, we do the following:"
   ]
  },
  {
   "cell_type": "code",
   "execution_count": null,
   "metadata": {},
   "outputs": [],
   "source": [
    "f = @ode_def Lorenz begin\n",
    "  dx = σ*(y-x)\n",
    "  dy = x*(ρ-z) - y\n",
    "  dz = x*y - β*z\n",
    "end σ ρ β"
   ]
  },
  {
   "cell_type": "code",
   "execution_count": null,
   "metadata": {},
   "outputs": [],
   "source": [
    "u0 = [1.0, 0.0, 0.0]\n",
    "tspan = (0.0, 20.0)\n",
    "\n",
    "p = [10.0, 28.0, 8/3]  # classical parameter values for the Lorenz attractorplot(sol,vars=(1,2,3))\n",
    "\n",
    "\n",
    "prob = ODEProblem(f, u0, tspan, p)"
   ]
  },
  {
   "cell_type": "markdown",
   "metadata": {},
   "source": [
    "Having defined an object `ODEProblem` with the data of the ODE, we now solve it:"
   ]
  },
  {
   "cell_type": "code",
   "execution_count": null,
   "metadata": {},
   "outputs": [],
   "source": [
    "soln = solve(prob)"
   ]
  },
  {
   "cell_type": "markdown",
   "metadata": {},
   "source": [
    "Here, a default numerical method was chosen based on features of the ODE. Of course, we can also specify the method to use."
   ]
  },
  {
   "cell_type": "code",
   "execution_count": null,
   "metadata": {},
   "outputs": [],
   "source": [
    "using Plots; gr()"
   ]
  },
  {
   "cell_type": "markdown",
   "metadata": {},
   "source": [
    "`DifferentialEquations.jl` exploits a unique feature of `Plots.jl`, namely **plot recipes**. \n",
    "This is a way in which a package can define *how to plot* its own objects, using facilities provided by `Plots.jl`. In this way, a package can jack into the `Plots.jl` machinery, without the need to redefine all kinds of plotting from scratch."
   ]
  },
  {
   "cell_type": "code",
   "execution_count": null,
   "metadata": {},
   "outputs": [],
   "source": [
    "plot(soln)"
   ]
  },
  {
   "cell_type": "markdown",
   "metadata": {},
   "source": [
    "By default, each variable is shown separately as a function of time.\n",
    "\n",
    "Instead, we can specify which variables to plot:"
   ]
  },
  {
   "cell_type": "code",
   "execution_count": null,
   "metadata": {},
   "outputs": [],
   "source": [
    "plotlyjs()"
   ]
  },
  {
   "cell_type": "code",
   "execution_count": null,
   "metadata": {},
   "outputs": [],
   "source": [
    "plot(soln, vars = (1, 2, 3))"
   ]
  },
  {
   "cell_type": "code",
   "execution_count": null,
   "metadata": {},
   "outputs": [],
   "source": []
  }
 ],
 "metadata": {
  "kernelspec": {
   "display_name": "Julia 0.6.2",
   "language": "julia",
   "name": "julia-0.6"
  },
  "language_info": {
   "file_extension": ".jl",
   "mimetype": "application/julia",
   "name": "julia",
   "version": "0.6.2"
  }
 },
 "nbformat": 4,
 "nbformat_minor": 2
}
